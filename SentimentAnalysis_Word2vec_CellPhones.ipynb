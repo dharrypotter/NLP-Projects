{
  "nbformat": 4,
  "nbformat_minor": 0,
  "metadata": {
    "colab": {
      "provenance": [],
      "collapsed_sections": []
    },
    "kernelspec": {
      "name": "python3",
      "display_name": "Python 3"
    }
  },
  "cells": [
    {
      "cell_type": "code",
      "metadata": {
        "id": "PEB4GEy4ohU2",
        "colab": {
          "base_uri": "https://localhost:8080/"
        },
        "outputId": "38c39699-608d-45e3-f936-3a4f77284481"
      },
      "source": [
        "from google.colab import drive\n",
        "drive.mount('/content/drive')"
      ],
      "execution_count": 1,
      "outputs": [
        {
          "output_type": "stream",
          "name": "stdout",
          "text": [
            "Mounted at /content/drive\n"
          ]
        }
      ]
    },
    {
      "cell_type": "code",
      "metadata": {
        "id": "zHpqv5geVQXf"
      },
      "source": [
        "#loading Libraries\n",
        "import numpy as np\n",
        "import pandas as pd"
      ],
      "execution_count": 2,
      "outputs": []
    },
    {
      "cell_type": "code",
      "metadata": {
        "id": "UR13yHB-XQKF"
      },
      "source": [
        "#load the preprocessed data \n",
        "with open(\"/content/drive/MyDrive/Cell_Phones_and_Accessories_5.json\", \"r\") as f:\n",
        "    data = pd.read_json(f, orient=\"records\", lines=True)\n",
        "#data=pd.read_csv('/content/drive/My Drive/preprocessed_data.csv',nrows=100000) "
      ],
      "execution_count": 3,
      "outputs": []
    },
    {
      "cell_type": "code",
      "metadata": {
        "id": "MCWnpYcAXakg",
        "colab": {
          "base_uri": "https://localhost:8080/",
          "height": 206
        },
        "outputId": "b27b5dad-d38b-440b-87c4-ecca3b5bc51d"
      },
      "source": [
        "data.head()"
      ],
      "execution_count": 4,
      "outputs": [
        {
          "output_type": "execute_result",
          "data": {
            "text/plain": [
              "       reviewerID        asin      reviewerName helpful  \\\n",
              "0  A30TL5EWN6DFXT  120401325X         christina  [0, 0]   \n",
              "1   ASY55RVNIL0UD  120401325X          emily l.  [0, 0]   \n",
              "2  A2TMXE2AFO7ONB  120401325X             Erica  [0, 0]   \n",
              "3   AWJ0WZQYMYFQ4  120401325X                JM  [4, 4]   \n",
              "4   ATX7CZYFXI1KW  120401325X  patrice m rogoza  [2, 3]   \n",
              "\n",
              "                                          reviewText  overall  \\\n",
              "0  They look good and stick good! I just don't li...        4   \n",
              "1  These stickers work like the review says they ...        5   \n",
              "2  These are awesome and make my phone look so st...        5   \n",
              "3  Item arrived in great time and was in perfect ...        4   \n",
              "4  awesome! stays on, and looks great. can be use...        5   \n",
              "\n",
              "                                     summary  unixReviewTime   reviewTime  \n",
              "0                                 Looks Good      1400630400  05 21, 2014  \n",
              "1                      Really great product.      1389657600  01 14, 2014  \n",
              "2                             LOVE LOVE LOVE      1403740800  06 26, 2014  \n",
              "3                                      Cute!      1382313600  10 21, 2013  \n",
              "4  leopard home button sticker for iphone 4s      1359849600   02 3, 2013  "
            ],
            "text/html": [
              "\n",
              "  <div id=\"df-3634f9d2-2cb6-4624-9e1e-17c214c28b3c\">\n",
              "    <div class=\"colab-df-container\">\n",
              "      <div>\n",
              "<style scoped>\n",
              "    .dataframe tbody tr th:only-of-type {\n",
              "        vertical-align: middle;\n",
              "    }\n",
              "\n",
              "    .dataframe tbody tr th {\n",
              "        vertical-align: top;\n",
              "    }\n",
              "\n",
              "    .dataframe thead th {\n",
              "        text-align: right;\n",
              "    }\n",
              "</style>\n",
              "<table border=\"1\" class=\"dataframe\">\n",
              "  <thead>\n",
              "    <tr style=\"text-align: right;\">\n",
              "      <th></th>\n",
              "      <th>reviewerID</th>\n",
              "      <th>asin</th>\n",
              "      <th>reviewerName</th>\n",
              "      <th>helpful</th>\n",
              "      <th>reviewText</th>\n",
              "      <th>overall</th>\n",
              "      <th>summary</th>\n",
              "      <th>unixReviewTime</th>\n",
              "      <th>reviewTime</th>\n",
              "    </tr>\n",
              "  </thead>\n",
              "  <tbody>\n",
              "    <tr>\n",
              "      <th>0</th>\n",
              "      <td>A30TL5EWN6DFXT</td>\n",
              "      <td>120401325X</td>\n",
              "      <td>christina</td>\n",
              "      <td>[0, 0]</td>\n",
              "      <td>They look good and stick good! I just don't li...</td>\n",
              "      <td>4</td>\n",
              "      <td>Looks Good</td>\n",
              "      <td>1400630400</td>\n",
              "      <td>05 21, 2014</td>\n",
              "    </tr>\n",
              "    <tr>\n",
              "      <th>1</th>\n",
              "      <td>ASY55RVNIL0UD</td>\n",
              "      <td>120401325X</td>\n",
              "      <td>emily l.</td>\n",
              "      <td>[0, 0]</td>\n",
              "      <td>These stickers work like the review says they ...</td>\n",
              "      <td>5</td>\n",
              "      <td>Really great product.</td>\n",
              "      <td>1389657600</td>\n",
              "      <td>01 14, 2014</td>\n",
              "    </tr>\n",
              "    <tr>\n",
              "      <th>2</th>\n",
              "      <td>A2TMXE2AFO7ONB</td>\n",
              "      <td>120401325X</td>\n",
              "      <td>Erica</td>\n",
              "      <td>[0, 0]</td>\n",
              "      <td>These are awesome and make my phone look so st...</td>\n",
              "      <td>5</td>\n",
              "      <td>LOVE LOVE LOVE</td>\n",
              "      <td>1403740800</td>\n",
              "      <td>06 26, 2014</td>\n",
              "    </tr>\n",
              "    <tr>\n",
              "      <th>3</th>\n",
              "      <td>AWJ0WZQYMYFQ4</td>\n",
              "      <td>120401325X</td>\n",
              "      <td>JM</td>\n",
              "      <td>[4, 4]</td>\n",
              "      <td>Item arrived in great time and was in perfect ...</td>\n",
              "      <td>4</td>\n",
              "      <td>Cute!</td>\n",
              "      <td>1382313600</td>\n",
              "      <td>10 21, 2013</td>\n",
              "    </tr>\n",
              "    <tr>\n",
              "      <th>4</th>\n",
              "      <td>ATX7CZYFXI1KW</td>\n",
              "      <td>120401325X</td>\n",
              "      <td>patrice m rogoza</td>\n",
              "      <td>[2, 3]</td>\n",
              "      <td>awesome! stays on, and looks great. can be use...</td>\n",
              "      <td>5</td>\n",
              "      <td>leopard home button sticker for iphone 4s</td>\n",
              "      <td>1359849600</td>\n",
              "      <td>02 3, 2013</td>\n",
              "    </tr>\n",
              "  </tbody>\n",
              "</table>\n",
              "</div>\n",
              "      <button class=\"colab-df-convert\" onclick=\"convertToInteractive('df-3634f9d2-2cb6-4624-9e1e-17c214c28b3c')\"\n",
              "              title=\"Convert this dataframe to an interactive table.\"\n",
              "              style=\"display:none;\">\n",
              "        \n",
              "  <svg xmlns=\"http://www.w3.org/2000/svg\" height=\"24px\"viewBox=\"0 0 24 24\"\n",
              "       width=\"24px\">\n",
              "    <path d=\"M0 0h24v24H0V0z\" fill=\"none\"/>\n",
              "    <path d=\"M18.56 5.44l.94 2.06.94-2.06 2.06-.94-2.06-.94-.94-2.06-.94 2.06-2.06.94zm-11 1L8.5 8.5l.94-2.06 2.06-.94-2.06-.94L8.5 2.5l-.94 2.06-2.06.94zm10 10l.94 2.06.94-2.06 2.06-.94-2.06-.94-.94-2.06-.94 2.06-2.06.94z\"/><path d=\"M17.41 7.96l-1.37-1.37c-.4-.4-.92-.59-1.43-.59-.52 0-1.04.2-1.43.59L10.3 9.45l-7.72 7.72c-.78.78-.78 2.05 0 2.83L4 21.41c.39.39.9.59 1.41.59.51 0 1.02-.2 1.41-.59l7.78-7.78 2.81-2.81c.8-.78.8-2.07 0-2.86zM5.41 20L4 18.59l7.72-7.72 1.47 1.35L5.41 20z\"/>\n",
              "  </svg>\n",
              "      </button>\n",
              "      \n",
              "  <style>\n",
              "    .colab-df-container {\n",
              "      display:flex;\n",
              "      flex-wrap:wrap;\n",
              "      gap: 12px;\n",
              "    }\n",
              "\n",
              "    .colab-df-convert {\n",
              "      background-color: #E8F0FE;\n",
              "      border: none;\n",
              "      border-radius: 50%;\n",
              "      cursor: pointer;\n",
              "      display: none;\n",
              "      fill: #1967D2;\n",
              "      height: 32px;\n",
              "      padding: 0 0 0 0;\n",
              "      width: 32px;\n",
              "    }\n",
              "\n",
              "    .colab-df-convert:hover {\n",
              "      background-color: #E2EBFA;\n",
              "      box-shadow: 0px 1px 2px rgba(60, 64, 67, 0.3), 0px 1px 3px 1px rgba(60, 64, 67, 0.15);\n",
              "      fill: #174EA6;\n",
              "    }\n",
              "\n",
              "    [theme=dark] .colab-df-convert {\n",
              "      background-color: #3B4455;\n",
              "      fill: #D2E3FC;\n",
              "    }\n",
              "\n",
              "    [theme=dark] .colab-df-convert:hover {\n",
              "      background-color: #434B5C;\n",
              "      box-shadow: 0px 1px 3px 1px rgba(0, 0, 0, 0.15);\n",
              "      filter: drop-shadow(0px 1px 2px rgba(0, 0, 0, 0.3));\n",
              "      fill: #FFFFFF;\n",
              "    }\n",
              "  </style>\n",
              "\n",
              "      <script>\n",
              "        const buttonEl =\n",
              "          document.querySelector('#df-3634f9d2-2cb6-4624-9e1e-17c214c28b3c button.colab-df-convert');\n",
              "        buttonEl.style.display =\n",
              "          google.colab.kernel.accessAllowed ? 'block' : 'none';\n",
              "\n",
              "        async function convertToInteractive(key) {\n",
              "          const element = document.querySelector('#df-3634f9d2-2cb6-4624-9e1e-17c214c28b3c');\n",
              "          const dataTable =\n",
              "            await google.colab.kernel.invokeFunction('convertToInteractive',\n",
              "                                                     [key], {});\n",
              "          if (!dataTable) return;\n",
              "\n",
              "          const docLinkHtml = 'Like what you see? Visit the ' +\n",
              "            '<a target=\"_blank\" href=https://colab.research.google.com/notebooks/data_table.ipynb>data table notebook</a>'\n",
              "            + ' to learn more about interactive tables.';\n",
              "          element.innerHTML = '';\n",
              "          dataTable['output_type'] = 'display_data';\n",
              "          await google.colab.output.renderOutput(dataTable, element);\n",
              "          const docLink = document.createElement('div');\n",
              "          docLink.innerHTML = docLinkHtml;\n",
              "          element.appendChild(docLink);\n",
              "        }\n",
              "      </script>\n",
              "    </div>\n",
              "  </div>\n",
              "  "
            ]
          },
          "metadata": {},
          "execution_count": 4
        }
      ]
    },
    {
      "cell_type": "markdown",
      "metadata": {
        "id": "RI955SltMjPu"
      },
      "source": [
        "# Featurization using Word2Vec"
      ]
    },
    {
      "cell_type": "code",
      "source": [
        "## text preprocessing modules\n",
        "from gensim.parsing.preprocessing import remove_stopwords\n",
        "from gensim.models import Word2Vec\n",
        "import re\n",
        "import nltk"
      ],
      "metadata": {
        "id": "9LwUjQVc5jvU"
      },
      "execution_count": 5,
      "outputs": []
    },
    {
      "cell_type": "code",
      "source": [
        "### Take the reviews text as a list of elements and then perform the basic preprocessing \n",
        "reviews= list(data['reviewText'])\n",
        "text=[]\n",
        "for r in reviews:\n",
        "  text.append(remove_stopwords(r))\n"
      ],
      "metadata": {
        "id": "bkbhlOqz32f9"
      },
      "execution_count": 6,
      "outputs": []
    },
    {
      "cell_type": "code",
      "source": [
        "### Basic text preprocessing where we remove special characters, any tags etc\n",
        "#### Removal of stopwords\n",
        "#### Removal of tags\n",
        "#### Removal of special characters\n",
        "#### Removal of email id\n",
        "#### Removal of numbers\n",
        "text=[]\n",
        "for r in reviews:\n",
        "  r = re.sub(r'<.*?>',\"\",r)\n",
        "  r = re.sub(r'\\S+@\\S+\\s','',r)\n",
        "  r = re.sub(r'\\d+','',r)\n",
        "  r = re.sub(r'[#$!\\*\\)\\(\\\\%:;,\\'_-]','',r)\n",
        "  text.append(remove_stopwords(r))"
      ],
      "metadata": {
        "id": "TR7nhRqM4j8s"
      },
      "execution_count": 7,
      "outputs": []
    },
    {
      "cell_type": "code",
      "source": [
        "### Tokenisation\n",
        "from tensorflow.keras.preprocessing.text import Tokenizer\n",
        "tokenizer=Tokenizer(num_words=5000,lower=True,oov_token='UNK')"
      ],
      "metadata": {
        "id": "JVHPSyh460sB"
      },
      "execution_count": 8,
      "outputs": []
    },
    {
      "cell_type": "code",
      "source": [
        "X_train= text[: int(len(text)*0.7)]\n",
        "X_test = text[int(len(text)*0.7): int(len(text)*0.9)]\n",
        "X_cv = text[int(len(text)*0.9):]\n"
      ],
      "metadata": {
        "id": "yySyNSDQ3rh6"
      },
      "execution_count": 9,
      "outputs": []
    },
    {
      "cell_type": "code",
      "source": [
        "#Y train, val y test splitting \n",
        "Y=list(data['overall'])\n",
        "y_train= Y[: int(len(text)*0.7)]\n",
        "y_test = Y[int(len(text)*0.7):int(len(text)*0.9)]\n",
        "y_cv = Y[int(len(text)*0.9):]\n",
        "\n",
        "print(len(y_train),len(y_test), len(y_cv))"
      ],
      "metadata": {
        "colab": {
          "base_uri": "https://localhost:8080/"
        },
        "id": "-xAkf9wtB-aw",
        "outputId": "39635374-a08c-4469-c832-5e278dd24fd4"
      },
      "execution_count": 10,
      "outputs": [
        {
          "output_type": "stream",
          "name": "stdout",
          "text": [
            "136107 38888 19444\n"
          ]
        }
      ]
    },
    {
      "cell_type": "code",
      "source": [
        "print(len(X_train), len(X_test), len(X_cv))"
      ],
      "metadata": {
        "colab": {
          "base_uri": "https://localhost:8080/"
        },
        "id": "pL9jyfZE7IKN",
        "outputId": "cccf1c3a-611f-4f28-e5a7-090b30e0701f"
      },
      "execution_count": 11,
      "outputs": [
        {
          "output_type": "stream",
          "name": "stdout",
          "text": [
            "136107 38888 19444\n"
          ]
        }
      ]
    },
    {
      "cell_type": "code",
      "metadata": {
        "id": "_hzhdW9jMi0C"
      },
      "source": [
        "# Train your own Word2Vec model using your own text corpus\n",
        "i=0\n",
        "train_list_of_sentance=[]\n",
        "for sentance in X_train:\n",
        "    train_list_of_sentance.append(sentance.split())"
      ],
      "execution_count": 12,
      "outputs": []
    },
    {
      "cell_type": "code",
      "metadata": {
        "id": "TaMHsvHjMp-0"
      },
      "source": [
        "# Train your own Word2Vec model using your own text corpus for cross_validation data\n",
        "i=0\n",
        "cv_list_of_sentance=[]\n",
        "for sentance in X_cv:\n",
        "    cv_list_of_sentance.append(sentance.split())"
      ],
      "execution_count": 13,
      "outputs": []
    },
    {
      "cell_type": "code",
      "metadata": {
        "id": "wtwHHVteMzjR"
      },
      "source": [
        "# Train your own Word2Vec model using your own text corpus for test data\n",
        "i=0\n",
        "test_list_of_sentance=[]\n",
        "for sentance in X_test:\n",
        "    test_list_of_sentance.append(sentance.split())"
      ],
      "execution_count": 14,
      "outputs": []
    },
    {
      "cell_type": "code",
      "metadata": {
        "id": "mM6eLuCOM7lZ",
        "colab": {
          "base_uri": "https://localhost:8080/"
        },
        "outputId": "3762583a-a4c1-441b-bb0c-430f3c2b7772"
      },
      "source": [
        "print(len(train_list_of_sentance))\n",
        "print(len(cv_list_of_sentance))\n",
        "print(len(test_list_of_sentance))"
      ],
      "execution_count": 15,
      "outputs": [
        {
          "output_type": "stream",
          "name": "stdout",
          "text": [
            "136107\n",
            "19444\n",
            "38888\n"
          ]
        }
      ]
    },
    {
      "cell_type": "markdown",
      "source": [
        "# Using google's word2vec"
      ],
      "metadata": {
        "id": "Rdz_bEkL7mSe"
      }
    },
    {
      "cell_type": "code",
      "metadata": {
        "id": "BlO8S88eNF5R"
      },
      "source": [
        "# Using Google Word2Vectors\n",
        "from gensim.models import Word2Vec\n",
        "from gensim.models import KeyedVectors\n",
        "# min_count = 5 considers only words that occured atleast 5 times\n",
        "train_w2v_model=Word2Vec(train_list_of_sentance,min_count=5,size=100, workers=4)"
      ],
      "execution_count": 16,
      "outputs": []
    },
    {
      "cell_type": "code",
      "metadata": {
        "id": "TreU3JtANNbB",
        "colab": {
          "base_uri": "https://localhost:8080/"
        },
        "outputId": "048382ba-0479-4acf-f392-6e6c782b85ab"
      },
      "source": [
        "#train_data\n",
        "train_w2v_words = list(train_w2v_model.wv.vocab)\n",
        "print(\"number of words that occured minimum 5 times \",len(train_w2v_words))\n",
        "print(\"sample words \", train_w2v_words[0:50])"
      ],
      "execution_count": 17,
      "outputs": [
        {
          "output_type": "stream",
          "name": "stdout",
          "text": [
            "number of words that occured minimum 5 times  30901\n",
            "sample words  ['They', 'look', 'good', 'stick', 'I', 'dont', 'like', 'rounded', 'shape', 'bumping', 'Siri', 'kept', 'popping', 'irritating.', 'wont', 'buy', 'product', 'These', 'stickers', 'work', 'review', 'says', 'do.', 'great', 'stay', 'phone.', 'super', 'stylish', 'share', 'sister.', 'awesome', 'phone', 'far', 'year', 'CAN', 'YOU', 'BELIEVE', 'THAT', 'ONE', 'YEAR', 'Great', 'quality', 'Item', 'arrived', 'time', 'perfect', 'condition.', 'However', 'ordered', 'buttons']\n"
          ]
        }
      ]
    },
    {
      "cell_type": "code",
      "metadata": {
        "id": "qU6p0_q2NNx_",
        "colab": {
          "base_uri": "https://localhost:8080/"
        },
        "outputId": "c45499bb-d57b-4828-a187-b5817d4f543e"
      },
      "source": [
        "#cross_validation_data\n",
        "cv_w2v_model=Word2Vec(cv_list_of_sentance,min_count=5,size=100, workers=4)\n",
        "cv_w2v_words = list(cv_w2v_model.wv.vocab)\n",
        "print(\"number of words that occured minimum 5 times \",len(cv_w2v_words))\n",
        "print(\"sample words \", cv_w2v_words[0:50])"
      ],
      "execution_count": 18,
      "outputs": [
        {
          "output_type": "stream",
          "name": "stdout",
          "text": [
            "number of words that occured minimum 5 times  13513\n",
            "sample words  ['Not', 'sure', 'protect', 'phone', 'drop', 'feels', 'nice', 'snug', 'phone.', 'I', 'bulkier', 'case', 'much.', 'This', 'better.', 'fits', 'perfectly', 'Nexus', 'room', 'all.', 'It', 'charge', 'wireless', 'charger', 'well.', 'sharp', 'edges', 'comfortable', 'hand.', 'And', 'great', 'case.', 'Better', 'nexus', 'fit', 'Love', 'products.', 'No', 'cracking', 'far', 'BUT', 'seams', 'pinky', 'encounter', 'near', 'port', 'harm', 'snag', 'annoying', 'dont']\n"
          ]
        }
      ]
    },
    {
      "cell_type": "code",
      "metadata": {
        "id": "8AntFdOgNNRX",
        "colab": {
          "base_uri": "https://localhost:8080/"
        },
        "outputId": "34e340ff-8762-4b21-93e2-a8c54fbf5174"
      },
      "source": [
        "#test_data\n",
        "test_w2v_model=Word2Vec(test_list_of_sentance,min_count=5,size=100, workers=4)  \n",
        "test_w2v_words = list(test_w2v_model.wv.vocab)\n",
        "print(\"number of words that occured minimum 5 times \",len(test_w2v_words))\n",
        "print(\"sample words \", test_w2v_words[0:50])"
      ],
      "execution_count": 19,
      "outputs": [
        {
          "output_type": "stream",
          "name": "stdout",
          "text": [
            "number of words that occured minimum 5 times  16588\n",
            "sample words  ['This', 'case', 'nice', 'dollar', 'youre', 'going', 'Do', 'expect', 'amazing', 'gold', 'brand', 'material', 'paying', 'so.', 'If', 'dont', 'want', 'like', 'high', 'prices', 'probably', 'good', 'you.', 'The', 'magnet', 'little', 'closed', 'inside', 'kind', 'soft.', 'Overall', 'bad', 'product', 'cost', 'THis', 'perfect', 'iphone', 'great', 'fit', 'looks', 'too.', 'It', 'way', 'better', 'getting', 'expensive', 'ones', 'carrier.', 'I', 'case.']\n"
          ]
        }
      ]
    },
    {
      "cell_type": "markdown",
      "metadata": {
        "id": "9ZkZ70TpgXNu"
      },
      "source": [
        "# Converting text into vectors using Avg W2V"
      ]
    },
    {
      "cell_type": "code",
      "metadata": {
        "id": "SmDuE1ScgI4V",
        "colab": {
          "base_uri": "https://localhost:8080/"
        },
        "outputId": "274d8f5e-6860-42ce-9f93-84ee2fc6d73e"
      },
      "source": [
        "# average Word2Vec (train)\n",
        "# compute average word2vec for each review.\n",
        "train_vectors = []; # the avg-w2v for each sentence/review is stored in this list\n",
        "for sent in train_list_of_sentance: # for each review/sentence\n",
        "    sent_vec = np.zeros(100) # as word vectors are of zero length 100, you might need to change this to 300 if you use google's w2v\n",
        "    cnt_words =0; # num of words with a valid vector in the sentence/review\n",
        "    for word in sent: # for each word in a review/sentence\n",
        "        if word in train_w2v_words:\n",
        "            vec = train_w2v_model.wv[word]\n",
        "            sent_vec += vec\n",
        "            cnt_words += 1\n",
        "    if cnt_words != 0:\n",
        "        sent_vec /= cnt_words\n",
        "    train_vectors.append(sent_vec)\n",
        "train_vectors = np.array(train_vectors)\n",
        "print(train_vectors.shape)\n",
        "print(train_vectors[0])"
      ],
      "execution_count": 20,
      "outputs": [
        {
          "output_type": "stream",
          "name": "stdout",
          "text": [
            "(136107, 100)\n",
            "[ 0.57097848  0.24361564  0.23096872 -0.11885987  0.408756   -0.11845835\n",
            "  0.18787493  0.44578827  0.6537884  -0.27505032 -1.06347573 -0.26731543\n",
            " -0.04897028  0.36155277  0.20636253 -0.27400332 -0.27254389  0.14585912\n",
            "  0.32762919 -0.04813974 -0.40939541  0.43081103  0.39082643 -0.89792542\n",
            " -0.36027618 -0.19892159  0.06931548 -0.05733299 -0.17057233 -0.18786373\n",
            " -0.9567457   0.6271354  -0.85650174 -0.71612391  0.76705054  0.01857592\n",
            " -0.28593277 -0.30753889  0.5394285  -0.05903247  0.10104866 -0.04702524\n",
            "  0.89047091 -0.20596848 -0.56546688  0.04375344  0.55835804 -0.31575615\n",
            "  0.51878268 -0.28976496  0.32791098  0.01166676  0.12300571 -0.22258025\n",
            "  0.62195042  0.48492294 -0.34841706  0.63148413  0.06820225 -0.26669993\n",
            " -0.37017614 -0.12358348 -0.38654213  0.11264476  0.22099719  0.03589316\n",
            "  0.29316744  0.00626232  0.36734739 -0.37041313 -0.04766933 -0.48768047\n",
            "  0.148275    0.86316781  0.69430728 -0.49254856 -0.72178579  0.20121414\n",
            " -0.11516084 -0.13969396  0.12508489  0.13918133  0.81798808  0.64365229\n",
            "  0.14335801  0.25209807 -0.46472127 -1.00833231 -0.47329503 -0.41606674\n",
            " -0.02213092 -0.16705202  0.16054459  0.05291042 -0.17652152 -0.06847118\n",
            " -0.09415932  0.86725339 -0.44469068  0.08131235]\n"
          ]
        }
      ]
    },
    {
      "cell_type": "code",
      "source": [],
      "metadata": {
        "id": "l0C8rhEo819r"
      },
      "execution_count": 20,
      "outputs": []
    },
    {
      "cell_type": "code",
      "metadata": {
        "id": "hG89qomtJC_u",
        "colab": {
          "base_uri": "https://localhost:8080/"
        },
        "outputId": "fbf65366-4497-40e7-db79-d35afc906508"
      },
      "source": [
        "# average Word2Vec (for validation data)\n",
        "# compute average word2vec for each review.\n",
        "cv_vectors = []; # the avg-w2v for each sentence/review is stored in this list\n",
        "for sent in cv_list_of_sentance: # for each review/sentence\n",
        "    sent_vec = np.zeros(100) # as word vectors are of zero length 50, you might need to change this to 300 if you use google's w2v\n",
        "    cnt_words =0; # num of words with a valid vector in the sentence/review\n",
        "    for word in sent: # for each word in a review/sentence\n",
        "        if word in cv_w2v_words:\n",
        "            vec = cv_w2v_model.wv[word]\n",
        "            sent_vec += vec\n",
        "            cnt_words += 1\n",
        "    if cnt_words != 0:\n",
        "        sent_vec /= cnt_words\n",
        "    cv_vectors.append(sent_vec)\n",
        "cv_vectors = np.array(cv_vectors)\n",
        "print(cv_vectors.shape)\n",
        "print(cv_vectors[0])"
      ],
      "execution_count": 21,
      "outputs": [
        {
          "output_type": "stream",
          "name": "stdout",
          "text": [
            "(19444, 100)\n",
            "[ 0.41713728  0.50905562  0.41746652 -0.1244351   0.35360124 -0.30348286\n",
            " -0.59427893  0.90974214 -0.27630282  0.04204035  0.07842532  0.2112373\n",
            "  0.2051717   0.38089061  0.5591423   0.43226828  0.02357326 -0.33672818\n",
            "  0.20681069  0.82463864 -0.5261638   0.56692636  0.04158936 -0.06408776\n",
            " -0.07141631  0.0889906  -0.12510539 -0.54679686 -0.33733969 -0.26645028\n",
            "  0.21769933 -0.06334062 -0.11537957 -0.21262521  0.71250436 -0.74038041\n",
            " -0.5838121   0.03596484 -0.11266859 -0.09826147  0.38498385 -0.16866102\n",
            "  0.36219312  0.31576002 -0.45493094  0.30004026 -0.51901997  0.31056083\n",
            " -0.08126357 -0.1690063   0.07017675 -0.59075461 -0.24910519 -0.5607725\n",
            " -0.21460338  0.78566102 -0.74657888  0.78417388  0.58608291 -0.68880415\n",
            " -0.80335677  0.74428119  0.18470489  0.28942793 -0.42955814  0.2387385\n",
            " -0.11341193 -0.58660254 -0.26174166 -0.06505774  0.86984989  0.36078771\n",
            " -0.19212712  0.49322365  0.01479115 -0.27584367  0.16374894 -0.17890404\n",
            "  0.47983456 -0.38616195 -0.20792042  0.10298349  0.28591516  0.73211502\n",
            "  0.48185426  0.70489376  0.7192017   0.54786558  0.85616485 -0.26679936\n",
            " -0.55893007 -0.40729352 -0.44749089  0.2884447   0.51558321 -0.0892327\n",
            " -0.41980536 -0.14389392  0.53541893 -0.56910636]\n"
          ]
        }
      ]
    },
    {
      "cell_type": "code",
      "metadata": {
        "id": "V38MlV_igmN5",
        "colab": {
          "base_uri": "https://localhost:8080/"
        },
        "outputId": "f2924dc0-ae70-4de0-8a18-f337596e2cb3"
      },
      "source": [
        "# average Word2Vec (test)\n",
        "# compute average word2vec for each review.\n",
        "test_vectors = []; # the avg-w2v for each sentence/review is stored in this list\n",
        "for sent in test_list_of_sentance: # for each review/sentence\n",
        "    sent_vec = np.zeros(100) # as word vectors are of zero length 50, you might need to change this to 300 if you use google's w2v\n",
        "    cnt_words =0; # num of words with a valid vector in the sentence/review\n",
        "    for word in sent: # for each word in a review/sentence\n",
        "        if word in test_w2v_words:\n",
        "            vec = test_w2v_model.wv[word]\n",
        "            sent_vec += vec\n",
        "            cnt_words += 1\n",
        "    if cnt_words != 0:\n",
        "        sent_vec /= cnt_words\n",
        "    test_vectors.append(sent_vec)\n",
        "test_vectors = np.array(test_vectors)\n",
        "print(test_vectors.shape)\n",
        "print(test_vectors[0])"
      ],
      "execution_count": 22,
      "outputs": [
        {
          "output_type": "stream",
          "name": "stdout",
          "text": [
            "(38888, 100)\n",
            "[ 0.003871    0.16939315  0.24115582 -0.28731937 -0.01155992 -0.29911234\n",
            "  0.10702542  0.37285543 -0.95691155  0.05670592 -0.25972376 -0.06119378\n",
            " -0.84479733  0.51935808  0.08199053 -0.19234736 -0.23693585 -0.1762489\n",
            "  0.28240125  0.53959732 -0.08013337  0.61090956  0.69607299 -0.16393586\n",
            " -0.41216821  0.26745137  0.71569414 -0.93554069 -0.733216    0.13203837\n",
            " -0.01754943  0.32060953 -0.25490542 -0.45131316  0.11151119 -0.16834358\n",
            " -0.32664638  0.00171321 -0.4720588  -0.23361284  0.41189478 -0.17534936\n",
            "  0.40374226 -0.06505203  0.12204036  0.09621765 -0.23065021  0.212929\n",
            "  0.16796    -0.08512775  0.19766052 -0.28375505  0.21533479  0.00372612\n",
            " -0.15172233  0.39014444 -0.60392491 -0.05153138 -0.33373492 -0.12865362\n",
            "  0.05347615  0.41887112 -0.21368067  0.4470589  -0.37235609  0.16001248\n",
            " -0.511536   -0.57022134  0.14424778 -0.23305538  0.41517297  0.10824225\n",
            " -0.15393791  0.59670382  0.23416406 -0.21985858  0.07444178 -0.38938865\n",
            " -0.16681788 -0.06194936  0.39478787  0.11616501  0.41966625  0.37130379\n",
            "  0.29607445  0.72175938  0.01470743 -0.15650273  0.99886562  0.21160919\n",
            " -0.24338829  0.02387733  0.21215683  0.00522834 -0.09346786 -0.21738163\n",
            " -0.36650842  0.1821205  -0.04567864 -0.19780444]\n"
          ]
        }
      ]
    },
    {
      "cell_type": "code",
      "metadata": {
        "id": "aCk1Exbpg5uK"
      },
      "source": [
        "avgw2v_train= np.array(train_vectors)\n",
        "avgw2v_cv= np.array(cv_vectors)\n",
        "avgw2v_test= np.array(test_vectors)"
      ],
      "execution_count": 23,
      "outputs": []
    },
    {
      "cell_type": "markdown",
      "source": [
        "#Model building"
      ],
      "metadata": {
        "id": "-StrDSzUBhBM"
      }
    },
    {
      "cell_type": "code",
      "source": [
        "#LOGISTIC REGRESSION \n",
        "from sklearn.linear_model import LogisticRegression\n",
        "\n",
        "lr = LogisticRegression(multi_class='multinomial')\n",
        "lr.fit(avgw2v_train, y_train)\n",
        "val_pred = lr.predict(avgw2v_cv)\n",
        "test_pred = lr.predict(avgw2v_test)"
      ],
      "metadata": {
        "colab": {
          "base_uri": "https://localhost:8080/"
        },
        "id": "GA0wg2G5Bf9h",
        "outputId": "dde27559-b7dc-4c95-a065-f6bf9012d38f"
      },
      "execution_count": 24,
      "outputs": [
        {
          "output_type": "stream",
          "name": "stderr",
          "text": [
            "/usr/local/lib/python3.7/dist-packages/sklearn/linear_model/_logistic.py:818: ConvergenceWarning: lbfgs failed to converge (status=1):\n",
            "STOP: TOTAL NO. of ITERATIONS REACHED LIMIT.\n",
            "\n",
            "Increase the number of iterations (max_iter) or scale the data as shown in:\n",
            "    https://scikit-learn.org/stable/modules/preprocessing.html\n",
            "Please also refer to the documentation for alternative solver options:\n",
            "    https://scikit-learn.org/stable/modules/linear_model.html#logistic-regression\n",
            "  extra_warning_msg=_LOGISTIC_SOLVER_CONVERGENCE_MSG,\n"
          ]
        }
      ]
    },
    {
      "cell_type": "code",
      "source": [
        "from sklearn.metrics import accuracy_score\n",
        "print(\"Validation accuracy:\", accuracy_score(val_pred,y_cv)*100)"
      ],
      "metadata": {
        "colab": {
          "base_uri": "https://localhost:8080/"
        },
        "id": "E3wuQU2YDUrZ",
        "outputId": "d8993fdc-35c2-45f0-e476-b40aec305e7a"
      },
      "execution_count": 25,
      "outputs": [
        {
          "output_type": "stream",
          "name": "stdout",
          "text": [
            "Validation accuracy: 60.08023040526641\n"
          ]
        }
      ]
    },
    {
      "cell_type": "code",
      "source": [
        "from sklearn.metrics import accuracy_score\n",
        "print(\"Test accuracy:\", accuracy_score(test_pred,y_test)*100)"
      ],
      "metadata": {
        "colab": {
          "base_uri": "https://localhost:8080/"
        },
        "id": "8w1MnlQFDkJv",
        "outputId": "981d7185-51a3-452a-d454-2b19e891cdbe"
      },
      "execution_count": 26,
      "outputs": [
        {
          "output_type": "stream",
          "name": "stdout",
          "text": [
            "Test accuracy: 56.42614688335733\n"
          ]
        }
      ]
    },
    {
      "cell_type": "markdown",
      "source": [
        "#Using GLOVE model (50D)"
      ],
      "metadata": {
        "id": "zZpYqRZqLxCn"
      }
    },
    {
      "cell_type": "code",
      "source": [
        "embeddings_index50= dict()\n",
        "glove50= open('/content/drive/MyDrive/glove.6B.200d.txt','r',encoding='utf-8')\n",
        "for line in glove50:\n",
        "  values = line.split()\n",
        "  word = values[0]\n",
        "  coefs = np.asarray(values[1:], dtype='float32')\n",
        "  embeddings_index50[word] = coefs\n",
        "\n",
        "glove50.close()"
      ],
      "metadata": {
        "id": "Ttw0C5BrL4y6"
      },
      "execution_count": 29,
      "outputs": []
    },
    {
      "cell_type": "code",
      "source": [
        "len(embeddings_index50)"
      ],
      "metadata": {
        "colab": {
          "base_uri": "https://localhost:8080/"
        },
        "id": "djiPC6DyNxCj",
        "outputId": "4d4de4cb-b223-4bed-a427-a1dbc84c2aa7"
      },
      "execution_count": 30,
      "outputs": [
        {
          "output_type": "execute_result",
          "data": {
            "text/plain": [
              "400000"
            ]
          },
          "metadata": {},
          "execution_count": 30
        }
      ]
    },
    {
      "cell_type": "code",
      "source": [
        "### Create an embedding matrix for the vocabulary created for the reviews\n",
        "vocab50= len(tokenizer.word_index)+1\n",
        "embedding_matrix50 = np.zeros((vocab50, 200)) \n",
        "for word, i in tokenizer.word_index.items():\n",
        "    embedding_vector50 = embeddings_index50.get(word)\n",
        "    if embedding_vector50 is not None:\n",
        "        embedding_matrix50[i] = embedding_vector50"
      ],
      "metadata": {
        "id": "Tz9oXs1qXEBA"
      },
      "execution_count": 68,
      "outputs": []
    },
    {
      "cell_type": "code",
      "source": [
        "#textstosequence allows to vectorize a text corpus, by turning each text into either a sequence of integers (each integer being the index of a token in a dictionary) or into a vector where the coefficient for each token could be binary, based on word count, based on tf-idf...\n",
        "train_indices50=tokenizer.texts_to_sequences(X_train)\n",
        "val_indices50=tokenizer.texts_to_sequences(X_cv)\n",
        "test_indices50=tokenizer.texts_to_sequences(X_test)"
      ],
      "metadata": {
        "id": "DyvaBR11YuKy"
      },
      "execution_count": 69,
      "outputs": []
    },
    {
      "cell_type": "code",
      "source": [
        "#Padding (limit is 100)\n",
        "from tensorflow.keras.preprocessing.sequence import pad_sequences\n",
        "max_length=100\n",
        "train_indices50=pad_sequences(train_indices50,maxlen=max_length,padding='post')\n",
        "test_indices50=pad_sequences(test_indices50,maxlen=max_length,padding='post')\n",
        "val_indices50=pad_sequences(test_indices50,maxlen=max_length,padding='post')"
      ],
      "metadata": {
        "id": "jnYOWxb7XMXG"
      },
      "execution_count": 70,
      "outputs": []
    },
    {
      "cell_type": "code",
      "source": [
        "train_50=np.asarray(train_indices50)\n",
        "train_y=np.asarray(y_train)\n",
        "val_indices50=np.asarray(val_indices50)\n",
        "val_y=np.asarray(y_cv)\n",
        "test_indices50=np.asarray(test_indices50)\n",
        "test_y=np.asarray(y_test)"
      ],
      "metadata": {
        "id": "Py33XpU9ZDWc"
      },
      "execution_count": 71,
      "outputs": []
    },
    {
      "cell_type": "code",
      "source": [
        "##########     MODEL BUILDING (LOGISTIC REGRESSION)\n",
        "lr50 = LogisticRegression(multi_class='multinomial')\n",
        "lr50.fit(train_indices50,train_y)\n",
        "val_pred_lr50 = lr50.predict(val_indices50)\n",
        "test_pred_lr50 = lr50.predict(test_indices50)"
      ],
      "metadata": {
        "colab": {
          "base_uri": "https://localhost:8080/"
        },
        "id": "O9SKhqjrZijN",
        "outputId": "1ce85620-332b-42d5-b44a-6b0bc55c8821"
      },
      "execution_count": 72,
      "outputs": [
        {
          "output_type": "stream",
          "name": "stderr",
          "text": [
            "/usr/local/lib/python3.7/dist-packages/sklearn/linear_model/_logistic.py:818: ConvergenceWarning: lbfgs failed to converge (status=1):\n",
            "STOP: TOTAL NO. of ITERATIONS REACHED LIMIT.\n",
            "\n",
            "Increase the number of iterations (max_iter) or scale the data as shown in:\n",
            "    https://scikit-learn.org/stable/modules/preprocessing.html\n",
            "Please also refer to the documentation for alternative solver options:\n",
            "    https://scikit-learn.org/stable/modules/linear_model.html#logistic-regression\n",
            "  extra_warning_msg=_LOGISTIC_SOLVER_CONVERGENCE_MSG,\n"
          ]
        }
      ]
    },
    {
      "cell_type": "code",
      "source": [
        "# Final evaluation of the model\n",
        "print(\"Test accuracy:\", accuracy_score(test_pred_lr50,y_test)*100)"
      ],
      "metadata": {
        "colab": {
          "base_uri": "https://localhost:8080/"
        },
        "id": "x3GB2tL2aPxF",
        "outputId": "504e4f9e-2841-40c3-cd00-a999fe887399"
      },
      "execution_count": 73,
      "outputs": [
        {
          "output_type": "stream",
          "name": "stdout",
          "text": [
            "Test accuracy: 57.32616745525612\n"
          ]
        }
      ]
    },
    {
      "cell_type": "markdown",
      "source": [
        "#Using GLOVE model (100D)"
      ],
      "metadata": {
        "id": "1BmldXI7EVgB"
      }
    },
    {
      "cell_type": "code",
      "source": [
        "#Tokenisation on train, test and val\n",
        "tokenizer.fit_on_texts(X_train)\n",
        "tokenizer.fit_on_texts(X_test)\n",
        "tokenizer.fit_on_texts(X_cv)"
      ],
      "metadata": {
        "id": "zaXUzrolFnRb"
      },
      "execution_count": 37,
      "outputs": []
    },
    {
      "cell_type": "code",
      "source": [
        "#### Now we need embeddings for these words  \n",
        "## Get the glove vectors\n",
        "embeddings_index= dict()\n",
        "glove= open('/content/drive/MyDrive/glove.6B.100d.txt','r',encoding='utf-8')\n",
        "for line in glove:\n",
        "  values = line.split()\n",
        "  word = values[0]\n",
        "  coefs = np.asarray(values[1:], dtype='float32')\n",
        "  embeddings_index[word] = coefs\n",
        "\n",
        "glove.close()\n"
      ],
      "metadata": {
        "id": "1_L4zY_XEcN-"
      },
      "execution_count": 40,
      "outputs": []
    },
    {
      "cell_type": "code",
      "source": [
        "word"
      ],
      "metadata": {
        "colab": {
          "base_uri": "https://localhost:8080/",
          "height": 35
        },
        "id": "CigCBqdJQgKM",
        "outputId": "4930c061-3f31-4d77-ebeb-b9d432834025"
      },
      "execution_count": 41,
      "outputs": [
        {
          "output_type": "execute_result",
          "data": {
            "text/plain": [
              "'sandberger'"
            ],
            "application/vnd.google.colaboratory.intrinsic+json": {
              "type": "string"
            }
          },
          "metadata": {},
          "execution_count": 41
        }
      ]
    },
    {
      "cell_type": "code",
      "source": [
        "tokenizer.word_index\n"
      ],
      "metadata": {
        "colab": {
          "base_uri": "https://localhost:8080/"
        },
        "id": "Ceh3jEN6G-5k",
        "outputId": "32f9dda7-5bee-4b0e-80df-4fb815b7af49"
      },
      "execution_count": 42,
      "outputs": [
        {
          "output_type": "execute_result",
          "data": {
            "text/plain": [
              "{'UNK': 1,\n",
              " 'i': 2,\n",
              " 'phone': 3,\n",
              " 'case': 4,\n",
              " 'the': 5,\n",
              " 'it': 6,\n",
              " 'like': 7,\n",
              " 'this': 8,\n",
              " 'great': 9,\n",
              " 'use': 10,\n",
              " 'screen': 11,\n",
              " 'good': 12,\n",
              " 'battery': 13,\n",
              " 'iphone': 14,\n",
              " 'charge': 15,\n",
              " 'charger': 16,\n",
              " 'product': 17,\n",
              " 'time': 18,\n",
              " 'dont': 19,\n",
              " 'works': 20,\n",
              " 's': 21,\n",
              " 'little': 22,\n",
              " 'nice': 23,\n",
              " 'price': 24,\n",
              " 'love': 25,\n",
              " 'work': 26,\n",
              " 'charging': 27,\n",
              " 'quality': 28,\n",
              " 'fit': 29,\n",
              " 'im': 30,\n",
              " 'easy': 31,\n",
              " 'usb': 32,\n",
              " 'device': 33,\n",
              " 'its': 34,\n",
              " 'protector': 35,\n",
              " 'ive': 36,\n",
              " 'power': 37,\n",
              " 'got': 38,\n",
              " 'better': 39,\n",
              " 'bought': 40,\n",
              " 'doesnt': 41,\n",
              " 'cable': 42,\n",
              " 'recommend': 43,\n",
              " 'need': 44,\n",
              " 'fits': 45,\n",
              " 'if': 46,\n",
              " 'cover': 47,\n",
              " 'looks': 48,\n",
              " 'buy': 49,\n",
              " 'protection': 50,\n",
              " 'cases': 51,\n",
              " 'new': 52,\n",
              " 'car': 53,\n",
              " 'way': 54,\n",
              " 'sound': 55,\n",
              " 'my': 56,\n",
              " 'phones': 57,\n",
              " 'you': 58,\n",
              " 'well': 59,\n",
              " 'galaxy': 60,\n",
              " 'thing': 61,\n",
              " 'bluetooth': 62,\n",
              " 'want': 63,\n",
              " 'hard': 64,\n",
              " 'but': 65,\n",
              " 'so': 66,\n",
              " 'devices': 67,\n",
              " 'a': 68,\n",
              " 'pretty': 69,\n",
              " 'long': 70,\n",
              " 'one': 71,\n",
              " 'headset': 72,\n",
              " 'samsung': 73,\n",
              " 'bit': 74,\n",
              " 'perfect': 75,\n",
              " 'didnt': 76,\n",
              " 'look': 77,\n",
              " 'plastic': 78,\n",
              " 'best': 79,\n",
              " 'feel': 80,\n",
              " 'right': 81,\n",
              " 'not': 82,\n",
              " 'button': 83,\n",
              " 'small': 84,\n",
              " 'looking': 85,\n",
              " 'lot': 86,\n",
              " 'easily': 87,\n",
              " 'think': 88,\n",
              " 'day': 89,\n",
              " 'problem': 90,\n",
              " 'came': 91,\n",
              " 'far': 92,\n",
              " 'color': 93,\n",
              " 'perfectly': 94,\n",
              " 'makes': 95,\n",
              " 'note': 96,\n",
              " 'they': 97,\n",
              " 'comes': 98,\n",
              " 'know': 99,\n",
              " 'ipad': 100,\n",
              " 'port': 101,\n",
              " 'for': 102,\n",
              " 'and': 103,\n",
              " 'there': 104,\n",
              " 'sure': 105,\n",
              " 'review': 106,\n",
              " 'on': 107,\n",
              " 'all': 108,\n",
              " 'light': 109,\n",
              " 'buttons': 110,\n",
              " 'ear': 111,\n",
              " 'in': 112,\n",
              " 'fine': 113,\n",
              " 'plug': 114,\n",
              " 'different': 115,\n",
              " 'times': 116,\n",
              " 'clear': 117,\n",
              " 'able': 118,\n",
              " 'unit': 119,\n",
              " 'cheap': 120,\n",
              " 'going': 121,\n",
              " 'design': 122,\n",
              " 'having': 123,\n",
              " 'volume': 124,\n",
              " 'charged': 125,\n",
              " 'pocket': 126,\n",
              " 'music': 127,\n",
              " 'purchased': 128,\n",
              " 'actually': 129,\n",
              " 'tried': 130,\n",
              " 'hours': 131,\n",
              " 'big': 132,\n",
              " 'life': 133,\n",
              " 'hold': 134,\n",
              " 'that': 135,\n",
              " 'happy': 136,\n",
              " 'overall': 137,\n",
              " 'size': 138,\n",
              " 'come': 139,\n",
              " 'very': 140,\n",
              " 'amazon': 141,\n",
              " 'getting': 142,\n",
              " 'item': 143,\n",
              " 'protectors': 144,\n",
              " 'thats': 145,\n",
              " 'people': 146,\n",
              " 'speaker': 147,\n",
              " 'apple': 148,\n",
              " 'days': 149,\n",
              " 'cord': 150,\n",
              " 'worth': 151,\n",
              " 'rubber': 152,\n",
              " 'worked': 153,\n",
              " 'protect': 154,\n",
              " 'black': 155,\n",
              " 'definitely': 156,\n",
              " 'when': 157,\n",
              " 'these': 158,\n",
              " 'charges': 159,\n",
              " 'touch': 160,\n",
              " 'otterbox': 161,\n",
              " 'camera': 162,\n",
              " 'feels': 163,\n",
              " 'received': 164,\n",
              " 'wont': 165,\n",
              " 'place': 166,\n",
              " 'headphones': 167,\n",
              " 'g': 168,\n",
              " 'no': 169,\n",
              " 'bad': 170,\n",
              " 'however': 171,\n",
              " 'fast': 172,\n",
              " 'off': 173,\n",
              " 'months': 174,\n",
              " 'stars': 175,\n",
              " 'issue': 176,\n",
              " 'also': 177,\n",
              " 'purchase': 178,\n",
              " 'me': 179,\n",
              " 'extra': 180,\n",
              " 'ordered': 181,\n",
              " 'money': 182,\n",
              " 'end': 183,\n",
              " 'isnt': 184,\n",
              " 'batteries': 185,\n",
              " 'stylus': 186,\n",
              " 'cell': 187,\n",
              " 'android': 188,\n",
              " 'ports': 189,\n",
              " 'now': 190,\n",
              " 'try': 191,\n",
              " 'away': 192,\n",
              " 'things': 193,\n",
              " 'took': 194,\n",
              " 'highly': 195,\n",
              " 'excellent': 196,\n",
              " 'pack': 197,\n",
              " 'set': 198,\n",
              " 'white': 199,\n",
              " 'needed': 200,\n",
              " 'home': 201,\n",
              " 'youre': 202,\n",
              " 'dropped': 203,\n",
              " 'thought': 204,\n",
              " 'problems': 205,\n",
              " 'wanted': 206,\n",
              " 'couple': 207,\n",
              " 'job': 208,\n",
              " 'hand': 209,\n",
              " 'with': 210,\n",
              " 'nexus': 211,\n",
              " 'probably': 212,\n",
              " 'blue': 213,\n",
              " 'mount': 214,\n",
              " 'as': 215,\n",
              " 'out': 216,\n",
              " 'issues': 217,\n",
              " 'id': 218,\n",
              " 'original': 219,\n",
              " 'quickly': 220,\n",
              " 'mah': 221,\n",
              " 'high': 222,\n",
              " 'reviews': 223,\n",
              " 'longer': 224,\n",
              " 'piece': 225,\n",
              " 'chargers': 226,\n",
              " 'to': 227,\n",
              " 'said': 228,\n",
              " 'adapter': 229,\n",
              " 'old': 230,\n",
              " 'drop': 231,\n",
              " 'box': 232,\n",
              " 'tablet': 233,\n",
              " 'wall': 234,\n",
              " 'at': 235,\n",
              " 'clip': 236,\n",
              " 'left': 237,\n",
              " 'after': 238,\n",
              " 'remove': 239,\n",
              " 'card': 240,\n",
              " 'bulky': 241,\n",
              " 'bubbles': 242,\n",
              " 'order': 243,\n",
              " 'cables': 244,\n",
              " 'exactly': 245,\n",
              " 'calls': 246,\n",
              " 'update': 247,\n",
              " 'fact': 248,\n",
              " 'them': 249,\n",
              " 'working': 250,\n",
              " 'turn': 251,\n",
              " 'free': 252,\n",
              " 'second': 253,\n",
              " 'slim': 254,\n",
              " 'products': 255,\n",
              " 'ones': 256,\n",
              " 'wish': 257,\n",
              " 'colors': 258,\n",
              " 'ipod': 259,\n",
              " 'deal': 260,\n",
              " 'htc': 261,\n",
              " 'protects': 262,\n",
              " 'feature': 263,\n",
              " 'simple': 264,\n",
              " 'included': 265,\n",
              " 'micro': 266,\n",
              " 'awesome': 267,\n",
              " 'just': 268,\n",
              " 'went': 269,\n",
              " 'stand': 270,\n",
              " 'fully': 271,\n",
              " 'grip': 272,\n",
              " 'inside': 273,\n",
              " 'again': 274,\n",
              " 'glass': 275,\n",
              " 'expected': 276,\n",
              " 'plus': 277,\n",
              " 'especially': 278,\n",
              " 'cute': 279,\n",
              " 'weeks': 280,\n",
              " 'carry': 281,\n",
              " 'plugged': 282,\n",
              " 'tell': 283,\n",
              " 'dust': 284,\n",
              " 'comfortable': 285,\n",
              " 'hear': 286,\n",
              " 'too': 287,\n",
              " 'voice': 288,\n",
              " 'x': 289,\n",
              " 'gets': 290,\n",
              " 'solid': 291,\n",
              " 'install': 292,\n",
              " 'wasnt': 293,\n",
              " 'ok': 294,\n",
              " 'replacement': 295,\n",
              " 'low': 296,\n",
              " 'service': 297,\n",
              " 'add': 298,\n",
              " 'covers': 299,\n",
              " 'super': 300,\n",
              " 'read': 301,\n",
              " 'sturdy': 302,\n",
              " 'year': 303,\n",
              " 'short': 304,\n",
              " 'reason': 305,\n",
              " 'buying': 306,\n",
              " 't': 307,\n",
              " 'havent': 308,\n",
              " 'edges': 309,\n",
              " 'audio': 310,\n",
              " 'durable': 311,\n",
              " 'takes': 312,\n",
              " 'app': 313,\n",
              " 'difficult': 314,\n",
              " 'up': 315,\n",
              " 'soft': 316,\n",
              " 'maybe': 317,\n",
              " 'ill': 318,\n",
              " 'instead': 319,\n",
              " 'easier': 320,\n",
              " 'week': 321,\n",
              " 'kind': 322,\n",
              " 'material': 323,\n",
              " 'bulk': 324,\n",
              " 'large': 325,\n",
              " 'protective': 326,\n",
              " 'apps': 327,\n",
              " 'years': 328,\n",
              " 'holds': 329,\n",
              " 'minutes': 330,\n",
              " 'slightly': 331,\n",
              " 'motorola': 332,\n",
              " 'real': 333,\n",
              " 'needs': 334,\n",
              " 'open': 335,\n",
              " 'completely': 336,\n",
              " 'led': 337,\n",
              " 'change': 338,\n",
              " 'scratches': 339,\n",
              " 'wife': 340,\n",
              " 'star': 341,\n",
              " 'wouldnt': 342,\n",
              " 'press': 343,\n",
              " 'month': 344,\n",
              " 'features': 345,\n",
              " 'hands': 346,\n",
              " 'cut': 347,\n",
              " 'dock': 348,\n",
              " 'is': 349,\n",
              " 'weight': 350,\n",
              " 'droid': 351,\n",
              " 'expensive': 352,\n",
              " 'holster': 353,\n",
              " 'picture': 354,\n",
              " 'let': 355,\n",
              " 'sides': 356,\n",
              " 'gave': 357,\n",
              " 'built': 358,\n",
              " 'point': 359,\n",
              " 'etc': 360,\n",
              " 'heavy': 361,\n",
              " 'cool': 362,\n",
              " 'do': 363,\n",
              " 'brand': 364,\n",
              " 'arrived': 365,\n",
              " 'wireless': 366,\n",
              " 'type': 367,\n",
              " 'stay': 368,\n",
              " 'belt': 369,\n",
              " 'version': 370,\n",
              " 'pay': 371,\n",
              " 'goes': 372,\n",
              " 'trying': 373,\n",
              " 'surface': 374,\n",
              " 'line': 375,\n",
              " 'clean': 376,\n",
              " 'provides': 377,\n",
              " 'store': 378,\n",
              " 'theres': 379,\n",
              " 'connection': 380,\n",
              " 'while': 381,\n",
              " 'wear': 382,\n",
              " 'cost': 383,\n",
              " 'shipping': 384,\n",
              " 'amazing': 385,\n",
              " 'broke': 386,\n",
              " 'what': 387,\n",
              " 'noise': 388,\n",
              " 'decent': 389,\n",
              " 'capacity': 390,\n",
              " 'allows': 391,\n",
              " 'smooth': 392,\n",
              " 'expect': 393,\n",
              " 'protected': 394,\n",
              " 'tight': 395,\n",
              " 'play': 396,\n",
              " 'fall': 397,\n",
              " 'standard': 398,\n",
              " 'simply': 399,\n",
              " 'first': 400,\n",
              " 'switch': 401,\n",
              " 'wrong': 402,\n",
              " 'loves': 403,\n",
              " 'instructions': 404,\n",
              " 'test': 405,\n",
              " 'liked': 406,\n",
              " 'available': 407,\n",
              " 'quick': 408,\n",
              " 'making': 409,\n",
              " 'pen': 410,\n",
              " 'oem': 411,\n",
              " 'handy': 412,\n",
              " 'seller': 413,\n",
              " 'loved': 414,\n",
              " 'provided': 415,\n",
              " 'external': 416,\n",
              " 'portable': 417,\n",
              " 'customer': 418,\n",
              " 'started': 419,\n",
              " 'access': 420,\n",
              " 'face': 421,\n",
              " 'gives': 422,\n",
              " 'close': 423,\n",
              " 'smartphone': 424,\n",
              " 'company': 425,\n",
              " 'back': 426,\n",
              " 'running': 427,\n",
              " 'gps': 428,\n",
              " 'replace': 429,\n",
              " 'travel': 430,\n",
              " 'designed': 431,\n",
              " 'connector': 432,\n",
              " 'provide': 433,\n",
              " 'decided': 434,\n",
              " 'extremely': 435,\n",
              " 'edge': 436,\n",
              " 'package': 437,\n",
              " 'leave': 438,\n",
              " 'help': 439,\n",
              " 'pleased': 440,\n",
              " 'guess': 441,\n",
              " 'half': 442,\n",
              " 'water': 443,\n",
              " 'video': 444,\n",
              " 'silicone': 445,\n",
              " 'run': 446,\n",
              " 'experience': 447,\n",
              " 'connect': 448,\n",
              " 'means': 449,\n",
              " 'nicely': 450,\n",
              " 'though': 451,\n",
              " 'similar': 452,\n",
              " 'pair': 453,\n",
              " 'once': 454,\n",
              " 'bright': 455,\n",
              " 'keeps': 456,\n",
              " 'recommended': 457,\n",
              " 'purse': 458,\n",
              " 'tip': 459,\n",
              " 'uses': 460,\n",
              " 'only': 461,\n",
              " 'headsets': 462,\n",
              " 'compared': 463,\n",
              " 'other': 464,\n",
              " 'have': 465,\n",
              " 'headphone': 466,\n",
              " 'taking': 467,\n",
              " 'absolutely': 468,\n",
              " 'verizon': 469,\n",
              " 'range': 470,\n",
              " 'outlet': 471,\n",
              " 'finally': 472,\n",
              " 'we': 473,\n",
              " 'extended': 474,\n",
              " 'mini': 475,\n",
              " 'kindle': 476,\n",
              " 'connected': 477,\n",
              " 'apply': 478,\n",
              " 'red': 479,\n",
              " 'break': 480,\n",
              " 'holding': 481,\n",
              " 'says': 482,\n",
              " 'air': 483,\n",
              " 'usually': 484,\n",
              " 'room': 485,\n",
              " 'bag': 486,\n",
              " 'jack': 487,\n",
              " 'output': 488,\n",
              " 'scratch': 489,\n",
              " 'packaging': 490,\n",
              " 'mobile': 491,\n",
              " 'smaller': 492,\n",
              " 'finish': 493,\n",
              " 'holder': 494,\n",
              " 'would': 495,\n",
              " 'disappointed': 496,\n",
              " 'yes': 497,\n",
              " 'model': 498,\n",
              " 'start': 499,\n",
              " 'stick': 500,\n",
              " 'data': 501,\n",
              " 'smart': 502,\n",
              " 'larger': 503,\n",
              " 'pink': 504,\n",
              " 'useful': 505,\n",
              " 'loose': 506,\n",
              " 'friends': 507,\n",
              " 'seen': 508,\n",
              " 'looked': 509,\n",
              " 'strong': 510,\n",
              " 'blackberry': 511,\n",
              " 'multiple': 512,\n",
              " 'mind': 513,\n",
              " 'night': 514,\n",
              " 'anker': 515,\n",
              " 'speakers': 516,\n",
              " 'push': 517,\n",
              " 'person': 518,\n",
              " 'youll': 519,\n",
              " 'user': 520,\n",
              " 'past': 521,\n",
              " 'v': 522,\n",
              " 'value': 523,\n",
              " 'installed': 524,\n",
              " 'much': 525,\n",
              " 'slide': 526,\n",
              " 'pictures': 527,\n",
              " 'snug': 528,\n",
              " 'even': 529,\n",
              " 'more': 530,\n",
              " 'talk': 531,\n",
              " 'iphones': 532,\n",
              " 'idea': 533,\n",
              " 'putting': 534,\n",
              " 'fairly': 535,\n",
              " 'recharge': 536,\n",
              " 'dual': 537,\n",
              " 'outside': 538,\n",
              " 'thanks': 539,\n",
              " 'head': 540,\n",
              " 'display': 541,\n",
              " 'google': 542,\n",
              " 'noticed': 543,\n",
              " 'cards': 544,\n",
              " 'ears': 545,\n",
              " 'area': 546,\n",
              " 'support': 547,\n",
              " 'does': 548,\n",
              " 'jabra': 549,\n",
              " 'return': 550,\n",
              " 'drops': 551,\n",
              " 'signal': 552,\n",
              " 'lights': 553,\n",
              " 'tested': 554,\n",
              " 'prefer': 555,\n",
              " 'sent': 556,\n",
              " 'number': 557,\n",
              " 'offers': 558,\n",
              " 'shell': 559,\n",
              " 'added': 560,\n",
              " 'control': 561,\n",
              " 'huge': 562,\n",
              " 'sleek': 563,\n",
              " 'loud': 564,\n",
              " 'difference': 565,\n",
              " 'adds': 566,\n",
              " 'watch': 567,\n",
              " 'tpu': 568,\n",
              " 'given': 569,\n",
              " 'finger': 570,\n",
              " 'paid': 571,\n",
              " 'damage': 572,\n",
              " 'style': 573,\n",
              " 'secure': 574,\n",
              " 'go': 575,\n",
              " 'hour': 576,\n",
              " 'defender': 577,\n",
              " 'convenient': 578,\n",
              " 'compact': 579,\n",
              " 'properly': 580,\n",
              " 'leather': 581,\n",
              " 'annoying': 582,\n",
              " 'lg': 583,\n",
              " 'believe': 584,\n",
              " 'option': 585,\n",
              " 'sim': 586,\n",
              " 'allow': 587,\n",
              " 'bumper': 588,\n",
              " 'complaints': 589,\n",
              " 'impressed': 590,\n",
              " 'she': 591,\n",
              " 'keyboard': 592,\n",
              " 'nokia': 593,\n",
              " 'normal': 594,\n",
              " 'cheaper': 595,\n",
              " 'course': 596,\n",
              " 'flat': 597,\n",
              " 'metal': 598,\n",
              " 'faster': 599,\n",
              " 'ago': 600,\n",
              " 'friend': 601,\n",
              " 'since': 602,\n",
              " 'worry': 603,\n",
              " 'apart': 604,\n",
              " 'turned': 605,\n",
              " 'later': 606,\n",
              " 'pros': 607,\n",
              " 'house': 608,\n",
              " 'glad': 609,\n",
              " 'previous': 610,\n",
              " 'market': 611,\n",
              " 'level': 612,\n",
              " 'favorite': 613,\n",
              " 'owned': 614,\n",
              " 'mode': 615,\n",
              " 'theyre': 616,\n",
              " 'some': 617,\n",
              " 'lost': 618,\n",
              " 'driving': 619,\n",
              " 'then': 620,\n",
              " 'ac': 621,\n",
              " 'soon': 622,\n",
              " 'plan': 623,\n",
              " 'tablets': 624,\n",
              " 'amp': 625,\n",
              " 'matte': 626,\n",
              " 'advertised': 627,\n",
              " 'regular': 628,\n",
              " 'flash': 629,\n",
              " 'evo': 630,\n",
              " 'pull': 631,\n",
              " 'listen': 632,\n",
              " 'function': 633,\n",
              " 'juice': 634,\n",
              " 'beautiful': 635,\n",
              " 'single': 636,\n",
              " 'twice': 637,\n",
              " 'backup': 638,\n",
              " 'feet': 639,\n",
              " 'tiny': 640,\n",
              " 'wifi': 641,\n",
              " 'stays': 642,\n",
              " 'build': 643,\n",
              " 'corners': 644,\n",
              " 'film': 645,\n",
              " 'down': 646,\n",
              " 'microusb': 647,\n",
              " 'complaint': 648,\n",
              " 'daughter': 649,\n",
              " 'rate': 650,\n",
              " 'kept': 651,\n",
              " 'important': 652,\n",
              " 'length': 653,\n",
              " 'coming': 654,\n",
              " 'gift': 655,\n",
              " 'will': 656,\n",
              " 'gs': 657,\n",
              " 'supposed': 658,\n",
              " 'email': 659,\n",
              " 'shows': 660,\n",
              " 'notice': 661,\n",
              " 'matter': 662,\n",
              " 'earbuds': 663,\n",
              " 'snap': 664,\n",
              " 'kickstand': 665,\n",
              " 'stock': 666,\n",
              " 'cords': 667,\n",
              " 'care': 668,\n",
              " 'unfortunately': 669,\n",
              " 'sample': 670,\n",
              " 'hope': 671,\n",
              " 'suction': 672,\n",
              " 'slot': 673,\n",
              " 'attached': 674,\n",
              " 'satisfied': 675,\n",
              " 'plantronics': 676,\n",
              " 'bank': 677,\n",
              " 'slippery': 678,\n",
              " 'be': 679,\n",
              " 'of': 680,\n",
              " 'current': 681,\n",
              " 'sounds': 682,\n",
              " 'performance': 683,\n",
              " 'rating': 684,\n",
              " 'bigger': 685,\n",
              " 'thank': 686,\n",
              " 'listening': 687,\n",
              " 'lightning': 688,\n",
              " 'pieces': 689,\n",
              " 'cause': 690,\n",
              " 'items': 691,\n",
              " 'covered': 692,\n",
              " 'controls': 693,\n",
              " 'stereo': 694,\n",
              " 'installation': 695,\n",
              " 'slip': 696,\n",
              " 'wallet': 697,\n",
              " 'stuff': 698,\n",
              " 'careful': 699,\n",
              " 'cloth': 700,\n",
              " 'answer': 701,\n",
              " 'near': 702,\n",
              " 'lose': 703,\n",
              " 'warranty': 704,\n",
              " 'hd': 705,\n",
              " 'application': 706,\n",
              " 'helps': 707,\n",
              " 'm': 708,\n",
              " 'family': 709,\n",
              " 'used': 710,\n",
              " 'higher': 711,\n",
              " 'including': 712,\n",
              " 'offer': 713,\n",
              " 'here': 714,\n",
              " 'okay': 715,\n",
              " 'plugs': 716,\n",
              " 'described': 717,\n",
              " 'surprised': 718,\n",
              " 'choice': 719,\n",
              " 'desk': 720,\n",
              " 'radio': 721,\n",
              " 'send': 722,\n",
              " 'text': 723,\n",
              " 'felt': 724,\n",
              " 'spare': 725,\n",
              " 'green': 726,\n",
              " 'ended': 727,\n",
              " 'minor': 728,\n",
              " 'cons': 729,\n",
              " 'husband': 730,\n",
              " 'beat': 731,\n",
              " 'bass': 732,\n",
              " 'barely': 733,\n",
              " 'really': 734,\n",
              " 'unlike': 735,\n",
              " 'space': 736,\n",
              " 'held': 737,\n",
              " 'had': 738,\n",
              " 'carrying': 739,\n",
              " 'reading': 740,\n",
              " 'check': 741,\n",
              " 'gb': 742,\n",
              " 'skin': 743,\n",
              " 'mp': 744,\n",
              " 'laptop': 745,\n",
              " 'w': 746,\n",
              " 'pairing': 747,\n",
              " 'considering': 748,\n",
              " 'main': 749,\n",
              " 'poor': 750,\n",
              " 'flimsy': 751,\n",
              " 'microphone': 752,\n",
              " 'keeping': 753,\n",
              " 'arent': 754,\n",
              " 'saw': 755,\n",
              " 'wait': 756,\n",
              " 'another': 757,\n",
              " 'both': 758,\n",
              " 'belkin': 759,\n",
              " 'still': 760,\n",
              " 'constantly': 761,\n",
              " 'talking': 762,\n",
              " 'usage': 763,\n",
              " 'protecting': 764,\n",
              " 'true': 765,\n",
              " 'purpose': 766,\n",
              " 'today': 767,\n",
              " 'credit': 768,\n",
              " 'immediately': 769,\n",
              " 'broken': 770,\n",
              " 'opinion': 771,\n",
              " 'solution': 772,\n",
              " 'dead': 773,\n",
              " 'options': 774,\n",
              " 'mm': 775,\n",
              " 'live': 776,\n",
              " 'office': 777,\n",
              " 'trent': 778,\n",
              " 'inexpensive': 779,\n",
              " 'totally': 780,\n",
              " 'spigen': 781,\n",
              " 'actual': 782,\n",
              " 'spend': 783,\n",
              " 'mic': 784,\n",
              " 'flip': 785,\n",
              " 'he': 786,\n",
              " 'sticky': 787,\n",
              " 'was': 788,\n",
              " 'most': 789,\n",
              " 'playing': 790,\n",
              " 'fantastic': 791,\n",
              " 'thicker': 792,\n",
              " 'placed': 793,\n",
              " 'hole': 794,\n",
              " 'either': 795,\n",
              " 'c': 796,\n",
              " 'lighter': 797,\n",
              " 'opening': 798,\n",
              " 'speed': 799,\n",
              " 'corner': 800,\n",
              " 'scratched': 801,\n",
              " 'additional': 802,\n",
              " 'windows': 803,\n",
              " 'giving': 804,\n",
              " 'did': 805,\n",
              " 'lasted': 806,\n",
              " 'trouble': 807,\n",
              " 'fingers': 808,\n",
              " 'hot': 809,\n",
              " 'although': 810,\n",
              " 'road': 811,\n",
              " 'stuck': 812,\n",
              " 'lasts': 813,\n",
              " 'lightweight': 814,\n",
              " 'seconds': 815,\n",
              " 'videos': 816,\n",
              " 'cutouts': 817,\n",
              " 'earpiece': 818,\n",
              " 'player': 819,\n",
              " 'pro': 820,\n",
              " 'certainly': 821,\n",
              " 'entire': 822,\n",
              " 'hit': 823,\n",
              " 'tape': 824,\n",
              " 'based': 825,\n",
              " 'otter': 826,\n",
              " 'base': 827,\n",
              " 'n': 828,\n",
              " 'manufacturer': 829,\n",
              " 'likely': 830,\n",
              " 'software': 831,\n",
              " 'position': 832,\n",
              " 'turns': 833,\n",
              " 'shipped': 834,\n",
              " 'arm': 835,\n",
              " 'fell': 836,\n",
              " 'possible': 837,\n",
              " 'waste': 838,\n",
              " 'replaced': 839,\n",
              " 'flashlight': 840,\n",
              " 'appears': 841,\n",
              " 'nearly': 842,\n",
              " 'dash': 843,\n",
              " 'honest': 844,\n",
              " 'outer': 845,\n",
              " 'indicator': 846,\n",
              " 'contact': 847,\n",
              " 'armor': 848,\n",
              " 'clearly': 849,\n",
              " 'paired': 850,\n",
              " 'falls': 851,\n",
              " 'securely': 852,\n",
              " 'tech': 853,\n",
              " 'trip': 854,\n",
              " 'pouch': 855,\n",
              " 'feeling': 856,\n",
              " 'removed': 857,\n",
              " 'ability': 858,\n",
              " 'stylish': 859,\n",
              " 'lip': 860,\n",
              " 'windshield': 861,\n",
              " 'cup': 862,\n",
              " 'save': 863,\n",
              " 'yet': 864,\n",
              " 'daily': 865,\n",
              " 'call': 866,\n",
              " 'pick': 867,\n",
              " 'photos': 868,\n",
              " 'addition': 869,\n",
              " 'lets': 870,\n",
              " 'flexible': 871,\n",
              " 'directly': 872,\n",
              " 'wifes': 873,\n",
              " 'somewhat': 874,\n",
              " 'gotten': 875,\n",
              " 'older': 876,\n",
              " 'tab': 877,\n",
              " 'or': 878,\n",
              " 'drive': 879,\n",
              " 'stopped': 880,\n",
              " 'dirty': 881,\n",
              " 'texture': 882,\n",
              " 'basic': 883,\n",
              " 'lower': 884,\n",
              " 'u': 885,\n",
              " 'made': 886,\n",
              " 'lots': 887,\n",
              " 'description': 888,\n",
              " 'two': 889,\n",
              " 'basically': 890,\n",
              " 'commuter': 891,\n",
              " 'thinking': 892,\n",
              " 'pin': 893,\n",
              " 'tmobile': 894,\n",
              " 'tips': 895,\n",
              " 'plenty': 896,\n",
              " 'receive': 897,\n",
              " 'fingerprints': 898,\n",
              " 'sync': 899,\n",
              " 'bucks': 900,\n",
              " 'pad': 901,\n",
              " 'recently': 902,\n",
              " 'ready': 903,\n",
              " 'business': 904,\n",
              " 'sprint': 905,\n",
              " 'compliments': 906,\n",
              " 'consider': 907,\n",
              " 'get': 908,\n",
              " 'functionality': 909,\n",
              " 'smartphones': 910,\n",
              " 'lint': 911,\n",
              " 'holes': 912,\n",
              " 'ask': 913,\n",
              " 'dropping': 914,\n",
              " 'returned': 915,\n",
              " 'functions': 916,\n",
              " 'form': 917,\n",
              " 'understand': 918,\n",
              " 'users': 919,\n",
              " 'likes': 920,\n",
              " 'shape': 921,\n",
              " 'average': 922,\n",
              " 'safe': 923,\n",
              " 'wearing': 924,\n",
              " 'mean': 925,\n",
              " 'future': 926,\n",
              " 'fix': 927,\n",
              " 'wonderful': 928,\n",
              " 'forget': 929,\n",
              " 'glove': 930,\n",
              " 'screens': 931,\n",
              " 'stop': 932,\n",
              " 'negative': 933,\n",
              " 'e': 934,\n",
              " 'internet': 935,\n",
              " 'sort': 936,\n",
              " 'parts': 937,\n",
              " 'manual': 938,\n",
              " 'son': 939,\n",
              " 'adapters': 940,\n",
              " 'ii': 941,\n",
              " 'adjust': 942,\n",
              " 'hate': 943,\n",
              " 'tough': 944,\n",
              " 'slow': 945,\n",
              " 'online': 946,\n",
              " 'before': 947,\n",
              " 'body': 948,\n",
              " 'mentioned': 949,\n",
              " 'series': 950,\n",
              " 'keys': 951,\n",
              " 'pockets': 952,\n",
              " 'magnet': 953,\n",
              " 'fan': 954,\n",
              " 'dark': 955,\n",
              " 'purchasing': 956,\n",
              " 'kids': 957,\n",
              " 'major': 958,\n",
              " 'fire': 959,\n",
              " 'amps': 960,\n",
              " 'bubble': 961,\n",
              " 'around': 962,\n",
              " 'attractive': 963,\n",
              " 'enjoy': 964,\n",
              " 'slight': 965,\n",
              " 'called': 966,\n",
              " 'thickness': 967,\n",
              " 'ease': 968,\n",
              " 'accessories': 969,\n",
              " 'peel': 970,\n",
              " 'fun': 971,\n",
              " 'complain': 972,\n",
              " 'compatible': 973,\n",
              " 'harder': 974,\n",
              " 'itself': 975,\n",
              " 'traveling': 976,\n",
              " 'buds': 977,\n",
              " 'total': 978,\n",
              " 'dirt': 979,\n",
              " 'angle': 980,\n",
              " 'razr': 981,\n",
              " 'table': 982,\n",
              " 'process': 983,\n",
              " 'builtin': 984,\n",
              " 'removing': 985,\n",
              " 'pop': 986,\n",
              " 'correctly': 987,\n",
              " 'wire': 988,\n",
              " 'band': 989,\n",
              " 'rest': 990,\n",
              " 'inch': 991,\n",
              " 'bottom': 992,\n",
              " 'remember': 993,\n",
              " 'cracked': 994,\n",
              " 'games': 995,\n",
              " 'told': 996,\n",
              " 'purple': 997,\n",
              " 'everything': 998,\n",
              " 'saying': 999,\n",
              " 'chance': 1000,\n",
              " ...}"
            ]
          },
          "metadata": {},
          "execution_count": 42
        }
      ]
    },
    {
      "cell_type": "code",
      "source": [
        "len(tokenizer.word_index)"
      ],
      "metadata": {
        "colab": {
          "base_uri": "https://localhost:8080/"
        },
        "id": "LCClWdjGHLbb",
        "outputId": "a9d7e61b-c3ee-4367-f4e9-149d9f47070b"
      },
      "execution_count": 43,
      "outputs": [
        {
          "output_type": "execute_result",
          "data": {
            "text/plain": [
              "108086"
            ]
          },
          "metadata": {},
          "execution_count": 43
        }
      ]
    },
    {
      "cell_type": "code",
      "source": [
        "len(embeddings_index)"
      ],
      "metadata": {
        "colab": {
          "base_uri": "https://localhost:8080/"
        },
        "id": "rbUXTrjdHTHO",
        "outputId": "fbe98081-4248-46a9-a4c9-6b4952c0571d"
      },
      "execution_count": 44,
      "outputs": [
        {
          "output_type": "execute_result",
          "data": {
            "text/plain": [
              "400000"
            ]
          },
          "metadata": {},
          "execution_count": 44
        }
      ]
    },
    {
      "cell_type": "code",
      "source": [
        "type(embeddings_index)"
      ],
      "metadata": {
        "colab": {
          "base_uri": "https://localhost:8080/"
        },
        "id": "Vk2siEHARyKF",
        "outputId": "45dd8b81-211e-4700-bd23-4c2f3baae35c"
      },
      "execution_count": 45,
      "outputs": [
        {
          "output_type": "execute_result",
          "data": {
            "text/plain": [
              "dict"
            ]
          },
          "metadata": {},
          "execution_count": 45
        }
      ]
    },
    {
      "cell_type": "code",
      "source": [
        "### Create an embedding matrix for the vocabulary created for the reviews \n",
        "vocab= len(tokenizer.word_index)+1\n",
        "embedding_matrix = np.zeros((vocab, )) \n",
        "for word, i in tokenizer.word_index.items():\n",
        "    embedding_vector = embeddings_index.get(word)\n",
        "    if embedding_vector is not None:\n",
        "        embedding_matrix[i] = embedding_vector"
      ],
      "metadata": {
        "id": "gBHVsuU9IOL3"
      },
      "execution_count": 46,
      "outputs": []
    },
    {
      "cell_type": "code",
      "source": [
        "embedding_matrix.shape"
      ],
      "metadata": {
        "colab": {
          "base_uri": "https://localhost:8080/"
        },
        "id": "l7H2UE-YXkYF",
        "outputId": "7ca03d72-8e95-436a-b154-0a284f06031a"
      },
      "execution_count": 47,
      "outputs": [
        {
          "output_type": "execute_result",
          "data": {
            "text/plain": [
              "(108087, 100)"
            ]
          },
          "metadata": {},
          "execution_count": 47
        }
      ]
    },
    {
      "cell_type": "code",
      "source": [
        "#textstosequence allows to vectorize a text corpus, by turning each text into either a sequence of integers (each integer being the index of a token in a dictionary) or into a vector where the coefficient for each token could be binary, based on word count, based on tf-idf...\n",
        "train_indices=tokenizer.texts_to_sequences(X_train)\n",
        "val_indices=tokenizer.texts_to_sequences(X_cv)\n",
        "test_indices=tokenizer.texts_to_sequences(X_test)"
      ],
      "metadata": {
        "id": "unD1S43CIQ_Z"
      },
      "execution_count": 48,
      "outputs": []
    },
    {
      "cell_type": "code",
      "source": [],
      "metadata": {
        "id": "YYFSznQ4OzX1"
      },
      "execution_count": null,
      "outputs": []
    },
    {
      "cell_type": "code",
      "source": [
        "## Padding (we are limiting the number of words to 64)\n",
        "from tensorflow.keras.preprocessing.sequence import pad_sequences\n",
        "max_length=64\n",
        "train_indices=pad_sequences(train_indices,maxlen=max_length,padding='post')\n",
        "test_indices=pad_sequences(test_indices,maxlen=max_length,padding='post')\n",
        "val_indices=pad_sequences(test_indices,maxlen=max_length,padding='post')"
      ],
      "metadata": {
        "id": "ZIG7BTgnInns"
      },
      "execution_count": 50,
      "outputs": []
    },
    {
      "cell_type": "code",
      "source": [
        "train_indices=np.asarray(train_indices)\n",
        "train_y=np.asarray(y_train)\n",
        "val_indices=np.asarray(val_indices)\n",
        "val_y=np.asarray(y_cv)\n",
        "test_indices=np.asarray(test_indices)\n",
        "test_y=np.asarray(y_test)\n"
      ],
      "metadata": {
        "id": "MuOj4UtzI1R5"
      },
      "execution_count": 51,
      "outputs": []
    },
    {
      "cell_type": "code",
      "source": [
        "##########     MODEL BUILDING (LOGISTIC REGRESSION)\n",
        "lr2 = LogisticRegression(multi_class='multinomial')\n",
        "lr2.fit(train_indices,train_y)\n",
        "val_pred_lr2 = lr2.predict(val_indices)\n",
        "test_pred_lr2 = lr2.predict(test_indices)\n"
      ],
      "metadata": {
        "colab": {
          "base_uri": "https://localhost:8080/"
        },
        "id": "aJ3e8apAKiPp",
        "outputId": "c8b4bed9-aa04-4562-c7b1-a8fb14fe04cd"
      },
      "execution_count": 52,
      "outputs": [
        {
          "output_type": "stream",
          "name": "stderr",
          "text": [
            "/usr/local/lib/python3.7/dist-packages/sklearn/linear_model/_logistic.py:818: ConvergenceWarning: lbfgs failed to converge (status=1):\n",
            "STOP: TOTAL NO. of ITERATIONS REACHED LIMIT.\n",
            "\n",
            "Increase the number of iterations (max_iter) or scale the data as shown in:\n",
            "    https://scikit-learn.org/stable/modules/preprocessing.html\n",
            "Please also refer to the documentation for alternative solver options:\n",
            "    https://scikit-learn.org/stable/modules/linear_model.html#logistic-regression\n",
            "  extra_warning_msg=_LOGISTIC_SOLVER_CONVERGENCE_MSG,\n"
          ]
        }
      ]
    },
    {
      "cell_type": "code",
      "source": [
        "# Final evaluation of the model\n",
        "print(\"Test accuracy:\", accuracy_score(test_pred_lr2,y_test)*100)\n"
      ],
      "metadata": {
        "colab": {
          "base_uri": "https://localhost:8080/"
        },
        "id": "UEOM5UJNLMjH",
        "outputId": "b6d00c3d-1be8-4331-cb1d-cdce5a56327d"
      },
      "execution_count": 53,
      "outputs": [
        {
          "output_type": "stream",
          "name": "stdout",
          "text": [
            "Test accuracy: 57.4444558732771\n"
          ]
        }
      ]
    },
    {
      "cell_type": "markdown",
      "source": [
        "#Using GLOVE 200D model"
      ],
      "metadata": {
        "id": "FHUxj0Uwg3D6"
      }
    },
    {
      "cell_type": "code",
      "source": [
        "embeddings_index200= dict()\n",
        "glove200= open('/content/drive/MyDrive/glove.6B.200d.txt','r',encoding='utf-8')\n",
        "for line in glove200:\n",
        "  values = line.split()\n",
        "  word = values[0]\n",
        "  coefs = np.asarray(values[1:], dtype='float32')\n",
        "  embeddings_index200[word] = coefs\n",
        "\n",
        "glove200.close()"
      ],
      "metadata": {
        "id": "E92HGPlthKJc"
      },
      "execution_count": 54,
      "outputs": []
    },
    {
      "cell_type": "code",
      "source": [
        "### Create an embedding matrix for the vocabulary created for the reviews \n",
        "vocab= len(tokenizer.word_index)+1\n",
        "embedding_matrix200 = np.zeros((vocab, 100)) \n",
        "for word, i in tokenizer.word_index.items():\n",
        "    embedding_vector200 = embeddings_index.get(word)\n",
        "    if embedding_vector200 is not None:\n",
        "        embedding_matrix200[i] = embedding_vector200"
      ],
      "metadata": {
        "id": "IXk59tbyhmpV"
      },
      "execution_count": 58,
      "outputs": []
    },
    {
      "cell_type": "code",
      "source": [
        "embedding_matrix200.shape"
      ],
      "metadata": {
        "colab": {
          "base_uri": "https://localhost:8080/"
        },
        "id": "S0QUatJHiE1n",
        "outputId": "27c98026-3f18-4e7a-9f8e-133d3fd796aa"
      },
      "execution_count": 59,
      "outputs": [
        {
          "output_type": "execute_result",
          "data": {
            "text/plain": [
              "(108087, 100)"
            ]
          },
          "metadata": {},
          "execution_count": 59
        }
      ]
    },
    {
      "cell_type": "code",
      "source": [
        "#textstosequence allows to vectorize a text corpus, by turning each text into either a sequence of integers (each integer being the index of a token in a dictionary) or into a vector where the coefficient for each token could be binary, based on word count, based on tf-idf...\n",
        "train_indices200=tokenizer.texts_to_sequences(X_train)\n",
        "val_indices200=tokenizer.texts_to_sequences(X_cv)\n",
        "test_indices200=tokenizer.texts_to_sequences(X_test)"
      ],
      "metadata": {
        "id": "mRmxXQoKiNYo"
      },
      "execution_count": 60,
      "outputs": []
    },
    {
      "cell_type": "code",
      "source": [
        "## Padding (we are limiting the number of words to 100)\n",
        "from tensorflow.keras.preprocessing.sequence import pad_sequences\n",
        "max_length=100\n",
        "train_indices200=pad_sequences(train_indices,maxlen=max_length,padding='post')\n",
        "test_indices200=pad_sequences(test_indices,maxlen=max_length,padding='post')\n",
        "val_indices200=pad_sequences(test_indices,maxlen=max_length,padding='post')"
      ],
      "metadata": {
        "id": "DznCWa4dijCP"
      },
      "execution_count": 61,
      "outputs": []
    },
    {
      "cell_type": "code",
      "source": [
        "train_indices200=np.asarray(train_indices200)\n",
        "train_y=np.asarray(y_train)\n",
        "val_indices200=np.asarray(val_indices200)\n",
        "val_y=np.asarray(y_cv)\n",
        "test_indices200=np.asarray(test_indices200)\n",
        "test_y=np.asarray(y_test)\n"
      ],
      "metadata": {
        "id": "0KJzgi6jio0x"
      },
      "execution_count": 62,
      "outputs": []
    },
    {
      "cell_type": "code",
      "source": [
        "##########     MODEL BUILDING (LOGISTIC REGRESSION)\n",
        "lr3 = LogisticRegression(multi_class='multinomial')\n",
        "lr3.fit(train_indices200,train_y)\n",
        "val_pred_lr3 = lr3.predict(val_indices200)\n",
        "test_pred_lr3 = lr3.predict(test_indices200)"
      ],
      "metadata": {
        "colab": {
          "base_uri": "https://localhost:8080/"
        },
        "id": "MVeJmn3ai62h",
        "outputId": "57aac038-3162-43f9-e3aa-a1622fd13eae"
      },
      "execution_count": 63,
      "outputs": [
        {
          "output_type": "stream",
          "name": "stderr",
          "text": [
            "/usr/local/lib/python3.7/dist-packages/sklearn/linear_model/_logistic.py:818: ConvergenceWarning: lbfgs failed to converge (status=1):\n",
            "STOP: TOTAL NO. of ITERATIONS REACHED LIMIT.\n",
            "\n",
            "Increase the number of iterations (max_iter) or scale the data as shown in:\n",
            "    https://scikit-learn.org/stable/modules/preprocessing.html\n",
            "Please also refer to the documentation for alternative solver options:\n",
            "    https://scikit-learn.org/stable/modules/linear_model.html#logistic-regression\n",
            "  extra_warning_msg=_LOGISTIC_SOLVER_CONVERGENCE_MSG,\n"
          ]
        }
      ]
    },
    {
      "cell_type": "code",
      "source": [
        "# Final evaluation of the model\n",
        "print(\"Test accuracy:\", accuracy_score(test_pred_lr3,y_test)*100)"
      ],
      "metadata": {
        "colab": {
          "base_uri": "https://localhost:8080/"
        },
        "id": "b9z5kyic0nx9",
        "outputId": "af95c48a-ed82-4265-ba66-6dce0c087b5e"
      },
      "execution_count": 64,
      "outputs": [
        {
          "output_type": "stream",
          "name": "stdout",
          "text": [
            "Test accuracy: 57.43674141123226\n"
          ]
        }
      ]
    },
    {
      "cell_type": "code",
      "source": [],
      "metadata": {
        "id": "K-EBn9QgR0n9"
      },
      "execution_count": null,
      "outputs": []
    }
  ]
}