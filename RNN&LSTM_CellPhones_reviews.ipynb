{
  "cells": [
    {
      "cell_type": "code",
      "execution_count": 1,
      "metadata": {
        "colab": {
          "base_uri": "https://localhost:8080/"
        },
        "id": "BN9KaKmFl64g",
        "outputId": "760277bc-a743-497b-b62e-fc71f5458e94"
      },
      "outputs": [
        {
          "output_type": "stream",
          "name": "stderr",
          "text": [
            "[nltk_data] Downloading package punkt to /root/nltk_data...\n",
            "[nltk_data]   Unzipping tokenizers/punkt.zip.\n"
          ]
        },
        {
          "output_type": "execute_result",
          "data": {
            "text/plain": [
              "True"
            ]
          },
          "metadata": {},
          "execution_count": 1
        }
      ],
      "source": [
        "### Load all the required libraries/modules\n",
        "import os\n",
        "import pandas as pd\n",
        "import numpy as np\n",
        "\n",
        "\n",
        "##tensorflow modules\n",
        "from tensorflow.keras.preprocessing.text import Tokenizer\n",
        "from tensorflow.keras.layers import Embedding, Dense, SimpleRNN, LSTM, Dropout, BatchNormalization\n",
        "from tensorflow.keras.models import Sequential\n",
        "\n",
        "## text preprocessing modules\n",
        "from gensim.parsing.preprocessing import remove_stopwords\n",
        "from gensim.models import Word2Vec\n",
        "import re\n",
        "import nltk\n",
        "nltk.download('punkt')\n"
      ]
    },
    {
      "cell_type": "code",
      "execution_count": 2,
      "metadata": {
        "colab": {
          "base_uri": "https://localhost:8080/"
        },
        "id": "kRsspoB0ZGIc",
        "outputId": "a64b3ed2-c599-4c19-c372-f19fc7868dab"
      },
      "outputs": [
        {
          "output_type": "stream",
          "name": "stdout",
          "text": [
            "Mounted at /content/drive\n"
          ]
        }
      ],
      "source": [
        "from google.colab import drive\n",
        "\n",
        "drive.mount(\"/content/drive\")"
      ]
    },
    {
      "cell_type": "code",
      "execution_count": 3,
      "metadata": {
        "id": "jvjJOv8po89u"
      },
      "outputs": [],
      "source": [
        "### Load the data\n",
        "with open(\"/content/drive/MyDrive/Cell_Phones_and_Accessories_5.json\", \"r\") as f:\n",
        "    data = pd.read_json(f, orient=\"records\", lines=True)"
      ]
    },
    {
      "cell_type": "code",
      "execution_count": 4,
      "metadata": {
        "colab": {
          "base_uri": "https://localhost:8080/",
          "height": 206
        },
        "id": "6gxuOrRcpR1Y",
        "outputId": "59eba1aa-6729-407c-8d42-83102d4d4e1f"
      },
      "outputs": [
        {
          "output_type": "execute_result",
          "data": {
            "text/plain": [
              "       reviewerID        asin      reviewerName helpful  \\\n",
              "0  A30TL5EWN6DFXT  120401325X         christina  [0, 0]   \n",
              "1   ASY55RVNIL0UD  120401325X          emily l.  [0, 0]   \n",
              "2  A2TMXE2AFO7ONB  120401325X             Erica  [0, 0]   \n",
              "3   AWJ0WZQYMYFQ4  120401325X                JM  [4, 4]   \n",
              "4   ATX7CZYFXI1KW  120401325X  patrice m rogoza  [2, 3]   \n",
              "\n",
              "                                          reviewText  overall  \\\n",
              "0  They look good and stick good! I just don't li...        4   \n",
              "1  These stickers work like the review says they ...        5   \n",
              "2  These are awesome and make my phone look so st...        5   \n",
              "3  Item arrived in great time and was in perfect ...        4   \n",
              "4  awesome! stays on, and looks great. can be use...        5   \n",
              "\n",
              "                                     summary  unixReviewTime   reviewTime  \n",
              "0                                 Looks Good      1400630400  05 21, 2014  \n",
              "1                      Really great product.      1389657600  01 14, 2014  \n",
              "2                             LOVE LOVE LOVE      1403740800  06 26, 2014  \n",
              "3                                      Cute!      1382313600  10 21, 2013  \n",
              "4  leopard home button sticker for iphone 4s      1359849600   02 3, 2013  "
            ],
            "text/html": [
              "\n",
              "  <div id=\"df-c8c13ec9-1188-42fa-b9ce-7c4357149321\">\n",
              "    <div class=\"colab-df-container\">\n",
              "      <div>\n",
              "<style scoped>\n",
              "    .dataframe tbody tr th:only-of-type {\n",
              "        vertical-align: middle;\n",
              "    }\n",
              "\n",
              "    .dataframe tbody tr th {\n",
              "        vertical-align: top;\n",
              "    }\n",
              "\n",
              "    .dataframe thead th {\n",
              "        text-align: right;\n",
              "    }\n",
              "</style>\n",
              "<table border=\"1\" class=\"dataframe\">\n",
              "  <thead>\n",
              "    <tr style=\"text-align: right;\">\n",
              "      <th></th>\n",
              "      <th>reviewerID</th>\n",
              "      <th>asin</th>\n",
              "      <th>reviewerName</th>\n",
              "      <th>helpful</th>\n",
              "      <th>reviewText</th>\n",
              "      <th>overall</th>\n",
              "      <th>summary</th>\n",
              "      <th>unixReviewTime</th>\n",
              "      <th>reviewTime</th>\n",
              "    </tr>\n",
              "  </thead>\n",
              "  <tbody>\n",
              "    <tr>\n",
              "      <th>0</th>\n",
              "      <td>A30TL5EWN6DFXT</td>\n",
              "      <td>120401325X</td>\n",
              "      <td>christina</td>\n",
              "      <td>[0, 0]</td>\n",
              "      <td>They look good and stick good! I just don't li...</td>\n",
              "      <td>4</td>\n",
              "      <td>Looks Good</td>\n",
              "      <td>1400630400</td>\n",
              "      <td>05 21, 2014</td>\n",
              "    </tr>\n",
              "    <tr>\n",
              "      <th>1</th>\n",
              "      <td>ASY55RVNIL0UD</td>\n",
              "      <td>120401325X</td>\n",
              "      <td>emily l.</td>\n",
              "      <td>[0, 0]</td>\n",
              "      <td>These stickers work like the review says they ...</td>\n",
              "      <td>5</td>\n",
              "      <td>Really great product.</td>\n",
              "      <td>1389657600</td>\n",
              "      <td>01 14, 2014</td>\n",
              "    </tr>\n",
              "    <tr>\n",
              "      <th>2</th>\n",
              "      <td>A2TMXE2AFO7ONB</td>\n",
              "      <td>120401325X</td>\n",
              "      <td>Erica</td>\n",
              "      <td>[0, 0]</td>\n",
              "      <td>These are awesome and make my phone look so st...</td>\n",
              "      <td>5</td>\n",
              "      <td>LOVE LOVE LOVE</td>\n",
              "      <td>1403740800</td>\n",
              "      <td>06 26, 2014</td>\n",
              "    </tr>\n",
              "    <tr>\n",
              "      <th>3</th>\n",
              "      <td>AWJ0WZQYMYFQ4</td>\n",
              "      <td>120401325X</td>\n",
              "      <td>JM</td>\n",
              "      <td>[4, 4]</td>\n",
              "      <td>Item arrived in great time and was in perfect ...</td>\n",
              "      <td>4</td>\n",
              "      <td>Cute!</td>\n",
              "      <td>1382313600</td>\n",
              "      <td>10 21, 2013</td>\n",
              "    </tr>\n",
              "    <tr>\n",
              "      <th>4</th>\n",
              "      <td>ATX7CZYFXI1KW</td>\n",
              "      <td>120401325X</td>\n",
              "      <td>patrice m rogoza</td>\n",
              "      <td>[2, 3]</td>\n",
              "      <td>awesome! stays on, and looks great. can be use...</td>\n",
              "      <td>5</td>\n",
              "      <td>leopard home button sticker for iphone 4s</td>\n",
              "      <td>1359849600</td>\n",
              "      <td>02 3, 2013</td>\n",
              "    </tr>\n",
              "  </tbody>\n",
              "</table>\n",
              "</div>\n",
              "      <button class=\"colab-df-convert\" onclick=\"convertToInteractive('df-c8c13ec9-1188-42fa-b9ce-7c4357149321')\"\n",
              "              title=\"Convert this dataframe to an interactive table.\"\n",
              "              style=\"display:none;\">\n",
              "        \n",
              "  <svg xmlns=\"http://www.w3.org/2000/svg\" height=\"24px\"viewBox=\"0 0 24 24\"\n",
              "       width=\"24px\">\n",
              "    <path d=\"M0 0h24v24H0V0z\" fill=\"none\"/>\n",
              "    <path d=\"M18.56 5.44l.94 2.06.94-2.06 2.06-.94-2.06-.94-.94-2.06-.94 2.06-2.06.94zm-11 1L8.5 8.5l.94-2.06 2.06-.94-2.06-.94L8.5 2.5l-.94 2.06-2.06.94zm10 10l.94 2.06.94-2.06 2.06-.94-2.06-.94-.94-2.06-.94 2.06-2.06.94z\"/><path d=\"M17.41 7.96l-1.37-1.37c-.4-.4-.92-.59-1.43-.59-.52 0-1.04.2-1.43.59L10.3 9.45l-7.72 7.72c-.78.78-.78 2.05 0 2.83L4 21.41c.39.39.9.59 1.41.59.51 0 1.02-.2 1.41-.59l7.78-7.78 2.81-2.81c.8-.78.8-2.07 0-2.86zM5.41 20L4 18.59l7.72-7.72 1.47 1.35L5.41 20z\"/>\n",
              "  </svg>\n",
              "      </button>\n",
              "      \n",
              "  <style>\n",
              "    .colab-df-container {\n",
              "      display:flex;\n",
              "      flex-wrap:wrap;\n",
              "      gap: 12px;\n",
              "    }\n",
              "\n",
              "    .colab-df-convert {\n",
              "      background-color: #E8F0FE;\n",
              "      border: none;\n",
              "      border-radius: 50%;\n",
              "      cursor: pointer;\n",
              "      display: none;\n",
              "      fill: #1967D2;\n",
              "      height: 32px;\n",
              "      padding: 0 0 0 0;\n",
              "      width: 32px;\n",
              "    }\n",
              "\n",
              "    .colab-df-convert:hover {\n",
              "      background-color: #E2EBFA;\n",
              "      box-shadow: 0px 1px 2px rgba(60, 64, 67, 0.3), 0px 1px 3px 1px rgba(60, 64, 67, 0.15);\n",
              "      fill: #174EA6;\n",
              "    }\n",
              "\n",
              "    [theme=dark] .colab-df-convert {\n",
              "      background-color: #3B4455;\n",
              "      fill: #D2E3FC;\n",
              "    }\n",
              "\n",
              "    [theme=dark] .colab-df-convert:hover {\n",
              "      background-color: #434B5C;\n",
              "      box-shadow: 0px 1px 3px 1px rgba(0, 0, 0, 0.15);\n",
              "      filter: drop-shadow(0px 1px 2px rgba(0, 0, 0, 0.3));\n",
              "      fill: #FFFFFF;\n",
              "    }\n",
              "  </style>\n",
              "\n",
              "      <script>\n",
              "        const buttonEl =\n",
              "          document.querySelector('#df-c8c13ec9-1188-42fa-b9ce-7c4357149321 button.colab-df-convert');\n",
              "        buttonEl.style.display =\n",
              "          google.colab.kernel.accessAllowed ? 'block' : 'none';\n",
              "\n",
              "        async function convertToInteractive(key) {\n",
              "          const element = document.querySelector('#df-c8c13ec9-1188-42fa-b9ce-7c4357149321');\n",
              "          const dataTable =\n",
              "            await google.colab.kernel.invokeFunction('convertToInteractive',\n",
              "                                                     [key], {});\n",
              "          if (!dataTable) return;\n",
              "\n",
              "          const docLinkHtml = 'Like what you see? Visit the ' +\n",
              "            '<a target=\"_blank\" href=https://colab.research.google.com/notebooks/data_table.ipynb>data table notebook</a>'\n",
              "            + ' to learn more about interactive tables.';\n",
              "          element.innerHTML = '';\n",
              "          dataTable['output_type'] = 'display_data';\n",
              "          await google.colab.output.renderOutput(dataTable, element);\n",
              "          const docLink = document.createElement('div');\n",
              "          docLink.innerHTML = docLinkHtml;\n",
              "          element.appendChild(docLink);\n",
              "        }\n",
              "      </script>\n",
              "    </div>\n",
              "  </div>\n",
              "  "
            ]
          },
          "metadata": {},
          "execution_count": 4
        }
      ],
      "source": [
        "data.head()"
      ]
    },
    {
      "cell_type": "markdown",
      "metadata": {
        "id": "SjRxxScFpg7L"
      },
      "source": [
        "- As we can see now there are two columns in the data- The review and its sentiment."
      ]
    },
    {
      "cell_type": "code",
      "execution_count": 5,
      "metadata": {
        "colab": {
          "base_uri": "https://localhost:8080/"
        },
        "id": "z5h2dEYEptdh",
        "outputId": "0b897c18-09b9-41dc-d79e-d2a618aa2149"
      },
      "outputs": [
        {
          "output_type": "execute_result",
          "data": {
            "text/plain": [
              "[\"They look good and stick good! I just don't like the rounded shape because I was always bumping it and Siri kept popping up and it was irritating. I just won't buy a product like this again\",\n",
              " 'These stickers work like the review says they do. They stick on great and they stay on the phone. They are super stylish and I can share them with my sister. :)']"
            ]
          },
          "metadata": {},
          "execution_count": 5
        }
      ],
      "source": [
        "### Take the reviews text as a list of elements and then perform the basic preprocessing \n",
        "reviews= list(data['reviewText'])\n",
        "reviews[0:2]"
      ]
    },
    {
      "cell_type": "code",
      "execution_count": 6,
      "metadata": {
        "colab": {
          "base_uri": "https://localhost:8080/"
        },
        "id": "oPVMO3DbqCwu",
        "outputId": "e5b34df7-934c-48b0-ba71-22983911d60b"
      },
      "outputs": [
        {
          "output_type": "execute_result",
          "data": {
            "text/plain": [
              "[\"They look good stick good! I don't like rounded shape I bumping Siri kept popping irritating. I won't buy product like\",\n",
              " 'These stickers work like review says do. They stick great stay phone. They super stylish I share sister. :)',\n",
              " 'These awesome phone look stylish! I far year! CAN YOU BELIEVE THAT! ONE YEAR!! Great quality!']"
            ]
          },
          "metadata": {},
          "execution_count": 6
        }
      ],
      "source": [
        "### Basic text preprocessing where we remove special characters, any tags etc\n",
        "#### Removal of stopwords\n",
        "text=[]\n",
        "for r in reviews:\n",
        "  text.append(remove_stopwords(r))\n",
        "\n",
        "text[0:3]"
      ]
    },
    {
      "cell_type": "code",
      "execution_count": 7,
      "metadata": {
        "colab": {
          "base_uri": "https://localhost:8080/"
        },
        "id": "PRIJQwvbqwfg",
        "outputId": "aa7b0f43-0d16-4026-f958-6aba84314cd3"
      },
      "outputs": [
        {
          "output_type": "execute_result",
          "data": {
            "text/plain": [
              "[\"They look good stick good! I don't like rounded shape I bumping Siri kept popping irritating. I won't buy product like\",\n",
              " 'These stickers work like review says do. They stick great stay phone. They super stylish I share sister. :)',\n",
              " 'These awesome phone look stylish! I far year! CAN YOU BELIEVE THAT! ONE YEAR!! Great quality!']"
            ]
          },
          "metadata": {},
          "execution_count": 7
        }
      ],
      "source": [
        "### Removal of tags/special characters\n",
        "\n",
        "### Basic text preprocessing where we remove special characters, any tags etc\n",
        "#### Removal of stopwords\n",
        "#### Removal of tags\n",
        "text=[]\n",
        "for r in reviews:\n",
        "  r = re.sub(r'<.*?>',\"\",r)\n",
        "  text.append(remove_stopwords(r))\n",
        "\n",
        "text[0:3]\n",
        "\n"
      ]
    },
    {
      "cell_type": "code",
      "execution_count": 8,
      "metadata": {
        "colab": {
          "base_uri": "https://localhost:8080/"
        },
        "id": "Rdob2rZStl5-",
        "outputId": "9cd15772-43e0-4dd9-8da2-978feb0ae065"
      },
      "outputs": [
        {
          "output_type": "execute_result",
          "data": {
            "text/plain": [
              "['They look good stick good I dont like rounded shape I bumping Siri kept popping irritating. I wont buy product like',\n",
              " 'These stickers work like review says do. They stick great stay phone. They super stylish I share sister.',\n",
              " 'These awesome phone look stylish I far year CAN YOU BELIEVE THAT ONE YEAR Great quality']"
            ]
          },
          "metadata": {},
          "execution_count": 8
        }
      ],
      "source": [
        "### Basic text preprocessing where we remove special characters, any tags etc\n",
        "#### Removal of stopwords\n",
        "#### Removal of tags\n",
        "#### Removal of special characters\n",
        "#### Removal of email id\n",
        "#### Removal of numbers\n",
        "text=[]\n",
        "for r in reviews:\n",
        "  r = re.sub(r'<.*?>',\"\",r)\n",
        "  r = re.sub(r'\\S+@\\S+\\s','',r)\n",
        "  r = re.sub(r'\\d+','',r)\n",
        "  r = re.sub(r'[#$!\\*\\)\\(\\\\%:;,\\'_-]','',r)\n",
        "  text.append(remove_stopwords(r))\n",
        "\n",
        "text[0:3]\n"
      ]
    },
    {
      "cell_type": "code",
      "execution_count": 9,
      "metadata": {
        "id": "gZtnjFTRvbET"
      },
      "outputs": [],
      "source": [
        "### Now the reviews are faily clean, we will tokenize the reviews and get word embeddings for these\n",
        "tokenizer=Tokenizer(num_words=5000,lower=True,oov_token='UNK')\n"
      ]
    },
    {
      "cell_type": "code",
      "execution_count": 10,
      "metadata": {
        "colab": {
          "base_uri": "https://localhost:8080/"
        },
        "id": "X5SMwVHJ9348",
        "outputId": "b74e94ff-dcb4-4c81-e960-09041b0761ae"
      },
      "outputs": [
        {
          "output_type": "execute_result",
          "data": {
            "text/plain": [
              "194439"
            ]
          },
          "metadata": {},
          "execution_count": 10
        }
      ],
      "source": [
        "len(text)"
      ]
    },
    {
      "cell_type": "code",
      "execution_count": 11,
      "metadata": {
        "colab": {
          "base_uri": "https://localhost:8080/"
        },
        "id": "nd0Zz3IWBeLO",
        "outputId": "a7e1f5db-ae18-4160-df95-a82e99e13d3d"
      },
      "outputs": [
        {
          "output_type": "execute_result",
          "data": {
            "text/plain": [
              "['They look good stick good I dont like rounded shape I bumping Siri kept popping irritating. I wont buy product like',\n",
              " 'These stickers work like review says do. They stick great stay phone. They super stylish I share sister.',\n",
              " 'These awesome phone look stylish I far year CAN YOU BELIEVE THAT ONE YEAR Great quality',\n",
              " 'Item arrived great time perfect condition. However I ordered buttons great deal included FREE screen protector. I received one. Though big deal wouldve nice claim comes one.',\n",
              " 'awesome stays looks great. multiple apple products. especially having nails helps elevated key.',\n",
              " 'These home button easy. My daughter I like them. I purchase again. Well worth price.',\n",
              " 'Came described.. It doesnt come unstuck cute People ask I got & great driving.',\n",
              " 'worked week charge phone . waste money.',\n",
              " 'Good case solid build. Protects phone good access buttons. Battery charges battery lasts day. I usually leave house return pm. Im glad lasts start end. /',\n",
              " 'This fantastic case. Very stylish protects phone. Easy access buttons features loss phone reception. But importantly double power promised. Great buy',\n",
              " 'case fits perfectly s keeps powerd day I complain a+ recommend',\n",
              " 'This battery case I Galaxy S. The S fits slim doesnt add weight Galaxy S. It doubles battery life. You charge battery phone both. There handy onoff switch leds indicate level charge.The battery case came time packaged well. Well worth price.',\n",
              " 'Performs exactly advertised . Its sturdily builtand provides lots boost . It exactly supposed .Easy insert phone . Definitely star experience. Dont know I case LOVE LOVE LOVE it.',\n",
              " 'Unlike Most Rechargeable Battery cases PowerBear Lasts days. It doesnt heat like ones I completely fascinated ultra light sleek design case. Before I Mophie case I wear like having hot brick pocket Hence I leave home.On contrary PowerBear I I tell difference. Also build super STRONG manner I dropped phone times shock resistant technology wont let single thing happen case phone. The PowerBear case extension phone I I charge night charges phone case I battery life days. I shocked hear positive compliments I hearing people job fitness center community. Everybody loving case dont know cost CHEAPER brand. This best purchase Ive internet I going buy family time Holidays. THANK YOU POWERBEAR',\n",
              " 'Just I needed. I needed phone case sons I needed new replacement batteries. Now isnt case I got one. Awesome thanks A+',\n",
              " 'When outlets chargers near Powerbear rescue Ordered husband myself. Great purchase',\n",
              " 'It works great. Doesnt heat like crazy like ones I got cheaper Its definetly best power case S thats I got wife. I wonder called power bear..',\n",
              " 'Surprisingly inexpensive version works reliably expensive variety. It working months now. No problem. Excellent value.',\n",
              " 'I tested griffin dual output unit.I checked charging current.This unit charging galaxy note battery ma.Griffin charging ma And griffin times expensive.I long. I bought cheap actually provide high current.No idea long last. I assume work fine. I much. I testing stock high current charger. This passed I stocked up.',\n",
              " 'It worked great couple weeks stopped completely.. basically small waste money.',\n",
              " 'I love ports phone ipod. Who wants putting things socket. Sleek convenient store I love it.',\n",
              " 'need I having charge phone I item charge also.',\n",
              " 'need amps charge things like ipads hp touchpads. super small compact.',\n",
              " 'They special sure nice tell powered led glows it. able charge phones car nice.',\n",
              " 'I chargers. Have vehicle I each. Nothing frustrating finding sudden quits working way recharge phone. That need most. This works products.',\n",
              " 'I bought little skeptical. After I tried I bought more. It works great far lasted months. If changes I update review.',\n",
              " 'I disappointed A didnt work iPad. Thats I buying cheap adapter.',\n",
              " 'This nice charger tell cheaply China. When charging phone car radio gets LOTS static. Not I stop charging like near power lines radio station far away.So RF shielding.I gave stars works fine listen radio consider like stars.',\n",
              " 'After week works',\n",
              " 'Yo exactly order timely fashion. And item described. Great buy ask',\n",
              " 'This terribly awesome product Subarus console. Passengers love I love emits blue glow held abuse years performs like new.',\n",
              " 'Ive bough munch different things like years. Most wouldnt stay jack days. This GREAT',\n",
              " 'Only works time. When connect cables stop working overheated burning fuses. I purchased problem. Cheap bad quality.',\n",
              " 'works great like charge thing dont wait finish charging phone',\n",
              " 'It came good looking price good believe worth time I waited come good job',\n",
              " 'Didnt long. Worked great worked cheap piece plastic crap I shouldnt expected last.',\n",
              " 'excellent product works great easy handling good quality announced. reached shown time good condition thank',\n",
              " 'Purchased car. Now charge ipad iohone together. Can use power Galaxy Note recharge USB devices. If think need counseling',\n",
              " 'great charger devices havent problems far yrs',\n",
              " 'Purchased product month ago. Pros Loved work fine Cool Blue light feature plug lighter Can plug things time....Con Top clear piece came easily overtime I clear tape TOTAL PROS CONS',\n",
              " 'I bought I use charge Tab time. My tab recognize high power port charge use power charge powered on.',\n",
              " 'I bought charge iphone tablet car. works iphone tablet. I needed stronger charge great iphoe ipod together. cheap small compact',\n",
              " 'Works great. The blue led light nice touch car. We charge Samsung Iphone outlet. Nice low profile too.',\n",
              " 'works great charges ipads tablets smartphones bluetooth speakers headsets. I recommend looking universal car charger.',\n",
              " 'I USB car charger stars worked fine months subsequently died me.ProsHas USB ports charging . amps. The slot lower presumably . amps.Fits charging socket holds tight. Ive loose charging socket.Works charge iPhone slot slot works Android phones high end ones.Has blue LED light tell ready charge.The USB sockets tightly fit cables.Pretty solid construction.It cost .ConsIt died months.I enjoyed USB charger. It rapidly charged iPhone worked charging phones family friends. The slot design makes design handy slot design charge device I remove cord. Of course charger died I slot design I before.After months I began notice LED light flickering. It week later quit working permanently. Im sure problem faulty wiring bad design I guess Ill know. I thought getting cheap I thought better it. Maybe cheap simply disposable short period time.For reason died I forced look slot design I havent price range yet.',\n",
              " 'This charger works great short unlike chargers. It great job charging phone GPS I car. Great value easy wallet.',\n",
              " 'I bought tried test ... minutes charging felt hot. Pulled product smelled burnt. Tried thing. Be careful... hazard potentially destroy electrical',\n",
              " 'This portable USB Port car charger people go. Pair extra spare cord good',\n",
              " 'I love way charge devices Seems charge quicker GPS holds battery better dying',\n",
              " 'Bought charge phones time car port. Works.',\n",
              " 'I received product I expected. It looks pretty good It works Iphone GS phone HTC Evo V D. It good deal It easy like price',\n",
              " 'I retailers anonymous Chinese factory exactly alike.Theyre great. They work deliver . . power do. They job.You wouldnt expect QC electrical product work fine.They dont forever year active daily use par suddenly die. So replacements hand. At price problem.Yes work iPhone iPad. Also USB device Ive needed charge.The LED light indicates plugged correctly helpful.These great rental cars travel. If leave hey .Im totally pleased clever little gems. No complaints. I wouldnt couple especially travel.Hope helpful. Happy trails all.',\n",
              " 'good product low price.purchased looking smaller charger I love Griffin products.Free shipping took little longer',\n",
              " 'I use car charge phone iPod needed. It works bright blue light annoying driving night. Overall good deal.',\n",
              " 'I love case Its pretty.And I love way case feels touch rubber. Very happy',\n",
              " 'The idea design sweet idea wears paint case sealant anything. It cool D effect cost paint rubbing off.It pretty though.',\n",
              " 'I worried order picture description page kept changing lessdesireable green/orange cover. But alas came day earlier expected beautiful pink product expected The \"rubberized\" cover feels little greasy like armoralld design gorgeous little D looking',\n",
              " 'Another pretty phone case I love. I I love t o change .thanks',\n",
              " 'The case white silver. Its pretty case fit phone perfectly. It took long arrive.',\n",
              " 'Defintiely worth price...You order several. Most cases especially cell phone stores. I believe mark things',\n",
              " 'This great case... It fit phone perfectly I use time time. Would recommend',\n",
              " 'Received item quickly. The design vivid expected. The cover soft rubberized durable. I received compliments. It excellent buy I recommend wanting \"good look\" phone.',\n",
              " 'cover makes old phone look feel new. I like I order covers little money snazzy phone.',\n",
              " 'I loved case I received shortly case started peel know looked case missing spots. Guess good deal good deal.would purchase.',\n",
              " 'The color dark person isnt best protection case. I lot compliments case easy on.',\n",
              " 'Simple install great way help protect phone.My wife liked ability change look phone.',\n",
              " 'The case pretty good. It dose scratches phone little. Other like it. Ive dropped phone times putting case didnt break scratch. Ive gotten complements case worth bucks I spent.',\n",
              " 'This case afordable yes peels easy thats expected dollor. I bought Electromaster. It snaps fine I drop phone phone fine case surely for. dollar hopes up. looks great protection. want phone protected extra mile outter box',\n",
              " 'This favorite cases I phone I love color lot.',\n",
              " 'It looked like It broken got paint job horrible.I',\n",
              " 'This case reason peeling isnt left orginal skin loved case pink favorite color wouldnt recommend specific anyone.',\n",
              " 'Its rubberized doesnt look like picture Its cute I love case awhile I switch cases like I shoes.',\n",
              " 'Received weeks time. Very nice actually considering cheap price was. Its pink/purple black leopard spots nice feel it. I havent tried remove hopefully wont trouble I want change covers.',\n",
              " 'This case far best case I bought phone. It stylish I received compliments',\n",
              " 'This cutest case EVER I love easy apply. I switch rubber uses wears like hem sweater stretched. This case keeps phone intact protected time...WOO HOO',\n",
              " 'daughter liked days didnt anymore phone. Use judgement one.',\n",
              " 'good charger woks fine complaints I recommend It good anymore',\n",
              " 'This product arrived promised condition promised. It genuine Blackberry charger. It brand new worked perfectly. For price I dont think ask',\n",
              " 'Great product. Use Galaxy S. At price I bought more. One work car incase I travel forget charger.',\n",
              " 'Honestly I loved specific model road worrying end losing leaving go. Though doesnt exactly meet fast charging needs high end phones works pretty need patient.',\n",
              " 'Ive charger year works perfectly. Most chargers broken now. The folding blades portable chargers come Blackberry models adapters different countries.',\n",
              " 'far problems charges fast need it. USB specified jus direct wall charger.',\n",
              " 'Great So far.I charger pretty good years fits phones Iphone Galaxy phone use right portal Judy charge bit slower. When charger goes tends loose fit firmly usb short.',\n",
              " 'Another good phone charger job affordable price afford buy it.',\n",
              " 'Works well. We use travel lives luggage year. For low price having extra USB charger works great. Charges Galaxy S Note .',\n",
              " 'I needed charger quick I didnt want spend . convenience store short crappy charger. For price charger great.Pros The cord length perfect tall bed. I dont struggle phone Im laying down.Cons The plug little blocky worry about. The connecter doesnt like stay place time. It NOT fall wiggle right disconnects charge. My phone old port little worn. That issue.If need good charger cheap price. Buy',\n",
              " 'Bought spare charger house turned main charger failed. Nice long cable held tons charges Galaxy S.',\n",
              " 'The charger lasted week ad stopped charging Samsung Galaxy S. They need start making chargers better....Ive',\n",
              " 'This Charger awesome First I wasnt expecting / / arrived /So That plus Second I kinda skeptical purchasing says Galaxy S Blackberry mean lot things I figured heck cheap I loose Well I got today decided try work Galaxy S charged minutes Yes timed cord long plus So looking fast charger long cord mention great price oneupdate sure reviewer meant saying poor quality chargers Ive little weeks going strong Love charger especially length',\n",
              " 'I purchase backup work. It charges SGS. I recommend charger Samsung Galaxy S.',\n",
              " 'This charger woks wonderfully Samsung Galaxy S. chargers phone fast price great Highly Recommended product',\n",
              " 'This great product order future. money spent If need great car charger need',\n",
              " 'goes lighter port little rough charges phone fine. I wish little reach use phone passenger seat car comfortably big problem. reach pretty far coiled section stress charge port phone people dont realize eventually break it.',\n",
              " 'I purchased chargers sister girlfriend. They Samsung Galaxy phones needed car charger OEM fanboy I I swooped couple remaining slightly skeptical actually going mail price.Im happy report I definitely received OEM Samsung car chargers mail sealed bags barcodes kind youd normally receive new/refurb phone. Cant wrong price certainly argue benefits OEM vs. generic mA output reliability list.',\n",
              " 'I bought Samsung Charge. It works perfectly built solidly Verizon charger. I highly recommend car charger thanks great price',\n",
              " 'It needs pleased. I bought cheap lame back.',\n",
              " 'Charger works great. Havent issues all. I wish retractable cord like chargers Ive I love it.',\n",
              " 'It works great far issues. The thing limited usb Connect charges t fail',\n",
              " 'The big store town carry stock. If stock cheap junk last. I got cord amazon fraction price I usually pay junk big national store. This cord works perfectly lasted months now. I bought time cheaper charger cords amazon work perfectly. Since works I fall finally goes out. This great car charger cost near junk local storenot mention Samsung brand charger verses junk.',\n",
              " 'Good lengthEasy useVery fast chargingI recommend persons use phone lot.',\n",
              " 'luving right mo beat price I got',\n",
              " 'JUNK......This product miss labeled. I Samsung S phone charge OEM charger. The lights phone says charging happens. I sure I got defective product upsetting sit car hours phone recharge. If need reliable charger DO NOT purchase product.If need car charger Samsung S I recommend Motorola Vehicle Power Adapter. It charges fast dependable.',\n",
              " 'A good car charger phones charged phone pretty quickly affordable I recommend charger.',\n",
              " 'The Samsung car charger stopped working month period. I thought fuse blown inside unit I attempted change Ive noticed doesnt come apart like vehicle chargers.',\n",
              " 'WHAT A GREAT PRICERIGHT OUT OF THE BOX PLUG N UPLOAD SUM JUICE ...DONT KNOW IF DROPPING IT REPEATEDLY ON THE FLOORBOARDOR OCCASIONALLY STUFFING IT IN CONSOLE TO HIDE CAUSED FAILURE ...BUT SOON THE GREEN LIGHT FAILED TO LIGHT AND PHONES DISPLAY SHOWEDIT WASNT CHARGING. SO EITHER SPEND SEVERAL MORE DOLLARS FOR ONE WITHA HEAVIER CORD/STRONGER SHELL OR TREAT IT AS A DELICATE FLOWER.',\n",
              " 'Sprint wanted fro item. This OEM party market. Bought two. Work great',\n",
              " 'Plugged car worked couple days. Hasnt worked since. My phone recognize plugged in.',\n",
              " 'This charger works great. I love fact LED light plugged phone. Great bargain.',\n",
              " 'Though I`m expert cell phone chargers. This thing works good fireworks hotel parties. Its charger works I guess buy it.',\n",
              " 'I charger couple months now. Its good charger. It charges phone quickly.',\n",
              " 'It Samsung brand..works Android phones..Galaxy Nexus Galaxy S S...recommend highly microUSB phone',\n",
              " 'I needed car charger affordable worksgreat The thing store times price.',\n",
              " 'good oem car charger originally bought galaxy S later week I upgrated Galaxy S works prefectly fine I recommend product',\n",
              " 'You hold certain place charge. Ill buy Verizon charger instead',\n",
              " 'This charger works perfectly. It official Samsung charger I sure work fine. I highly recommend it.',\n",
              " 'I use charger GS Straight Talk. This charger working expected charges phone fine like quality product flimsy cheap feeling like chargers I ordered past.',\n",
              " 'This thing worked actually functioned today stopped working I past day return window days take.Im guessing quality great stopped working knows.. What waste money.',\n",
              " 'Hope use soon. My worked sometimes. This light charging.',\n",
              " 'es cable para carro excelente calidad original samsung lo tengo algun tiempo sin ningun problema',\n",
              " 'I went car charges stopped working uses worked begin with.This car harder works charges phone lightening fast LOVE IT LOVE IT LOVE ITIf u debating u rest assured thing awesome.',\n",
              " 'First kind cheaplooking I try buy cheapest OEM car charger I phone thats forgiveable. The springs dont force constantly slipping V car port. The cable sturdy rubber near connector kind stiff makes charging AND operating phone bit hassle. Its held I purchased though.UPDATE Stopped charging month.',\n",
              " 'Ive months works intended. I buy again. Quality product.The cord stand little longer decent length.',\n",
              " 'Works great nice long cord. Does trick. Bought diff. rooms & work.',\n",
              " 'Good charger perfect USB connection. Also love original material works like giving quick charge need it.',\n",
              " 'I phone chargers bad weeks. I I purchased them. Most chargers cell phones cheaply made. This OK I guess.',\n",
              " 'Got replace frayed OEM cord. The cord ok plug looks like OEM stamped crap Took times longer charge unit When cord paired actual OEM plug worked fine. So need cord ok definitely OEM plug worthless. For price needing cord good value I disappointed false markings OEM certainly not.',\n",
              " 'I received product timely manner delightful I gave gift embarrassed defective item. I reimbursed product product worked time.',\n",
              " 'It worked fine days I change cord........The charger working fine point..........Rather send I bought cord sprint .',\n",
              " 'fast delivery works well. Not long.',\n",
              " 'I thought Samsung product look like cheap counterfiet. It came crushed slow charge phone.',\n",
              " 'This detachable sansung galaxy s travel charger simply good. It works perfectly. The cherry cake longer factory original l received phone.',\n",
              " 'Had marking legit samsung product cord stop working days. Im upset inexpensive maybe spend little buy better product amazon. When work worked well.',\n",
              " 'First charger works ports stay connected fine.People reviews complaining cord short feet I expecting. Instead I got foot cord bit long purpose I going use car. Now I long cord dangling everywhere. That extra length bonus I bumped rating sellers lack description and/or consistency. Also Im fairly certain product image changed I ordered different style adapter pictured... I expecting square shape USB port I got longer rectangle shape USB port end... hmm. Theres way verify now.In sum Good charger good connectivity looks acts like original Samsung. Cord length adapter style vary like seller consistent.',\n",
              " 'charger dirt cheap shipping wasnt item. I wish batteries needed phone. great',\n",
              " 'use charger cable useful. longer given phone. additional length allows phone placed plain sight instead wall receptical',\n",
              " 'This charger doesnt charge battery Samsung Galaxy S properly.When I connect S screen gets frozen cell behaves unusual abnormal way.',\n",
              " 'This charger exactly like original came phone. It definitely good buy price',\n",
              " 'works good phones better actually charger came phones initially great price',\n",
              " 'Was right time.Wall adapter I expected works dose Not Have QuickCharge As This ad states theWhole reason I chose chager horribly disappointing inconvenient ..... The micro usb useless looks acts cheaply dose fit ports end periodically stop working phone freeze turn periodically well....I know usd I tried devices adapters problems....I Will order Amazon Again Only orders come Defect Wrong ProbuctUgh',\n",
              " 'I havent problems it. It like oringal charger comes Galaxy S .',\n",
              " 'I like start saying product I ordered I complaints shipping condition product came house problem I micro usb cable comes charger. Why different companies sell chargers Amazon plug charger right micro usb cord? The cord cheap original cord comes charger. I having issue charger I ordered galaxy note . Its cord short. Maybe / foot cord? And cheaper quality charger micro usb plugs into...',\n",
              " 'thank you. disappoint. expected job I going new phone galaxy acting consistently. shutting surprise etc...',\n",
              " 'I love it. It charges phone quickly cord super long. I leave home purchase leave work.',\n",
              " 'In nutshell NOT OEM charger. Although Samsung markings doesnt seat Samsung phone. This means meant market counterfeit. With said I wouldnt buy again.~~~~~~~~~~August UpdateThe seller tried amends sending replacement chargers. After garbage. It charge phone fact drains phone. This counterfeit product. It Samsung markings charge phone. DO NOT BUY THIS PRODUCT',\n",
              " 'After weeks charger fell apart taking plug strong charger asked money wasnt worth .',\n",
              " 'I pleased purchase. The detachable cable option gives good flexibility use USB cable chargers. Good quality travel charger.',\n",
              " 'charges way. doubles battery liek promised. case protects color awesome nice',\n",
              " 'The color amazing friends jealous ask I it. They jealous I tell I paid Great case powers VERY stylish. Matches C PERFECTLY',\n",
              " 'slimmer I thought ads battery. I charged day case.',\n",
              " 'Great quality product I love case perfect sidekick dyeing phone . Now phone charged anytime thanks powerbear . Really like case stars deff',\n",
              " 'This case helps run day smoothly having worry phone dying. Plus color beautiful.',\n",
              " 'Bought wife. Acts phone protector charging case one. Hold charge day complaints.',\n",
              " 'This PowerBear case lifesaver Charges fast reliable. I love glossy texture case. Highly recommend',\n",
              " 'This built designed casewith cool attractive color. Phone dies quickly',\n",
              " 'I surprised game steps case slid phone loved it. It hard',\n",
              " 'I looking different wife case strong beautiful. Good price recommend it.',\n",
              " 'Love case I expected I love design slim protects case I thought would.',\n",
              " 'cute phone case like alot came stated',\n",
              " 'Really cute heart doesnt white iPhone . piece case & fits like glove looks cute. Shipping took weeks enjoy case. Do recommend.',\n",
              " 'This came broken The pice snaps sides main backing inlay piece. Came scuffed paint pieces click together. If broken I like it. Also wasnt click pieces',\n",
              " 'Great case phone. Protects keeps charged. easy access button sounds good too. like',\n",
              " 'Other power cases muffled speaker sound. This great sound port clear listening.',\n",
              " 'Wow What cute battery case I saw Christian sister phone That gave ne ideaI decided order sister battery casemine white phone white sisters blacksince phone blue.Anyway little guys power phone If run juice especially connect case phone POWER ON THE GO Im concerned functionality.',\n",
              " 'Great case. Doubled battery life like promised. Cant beat price. I recommend friend. A+',\n",
              " 'Great case sturdy doubles battery wont worry more. I purchased kid HAPPY.',\n",
              " 'Bought wife diff colorphone wife lol.. Firefighter work hr shift know recharge perfect plug charge day.',\n",
              " 'I obsessed changing phone cases I obsessed THIS phone case What great STARS',\n",
              " 'watch movies htc battery dying. phone great entertainment. battery better. powerbear cases great fit good kick stand teh entertainment. im sold',\n",
              " 'This product great. I like kickstand back. The power indicator convenient know charge pack status.',\n",
              " 'Not Many HTC battery cases sale pretty good price. I . stars price cheaper.',\n",
              " 'I I bought product based amazing sounding fake reviews provided shills PowerBear. If look positive reviews case verified purchases negative review course verified purchase. What means actually bought product thinks crap. Furthermore reviewers posted twice product color. Why Amazon allows point. Also look profiles positive reviewers posted multiple positive reviews PowerBear products reviews carbon copies other. Beware paid shills',\n",
              " 'This absolutely amazing doubles battery life I forget carrying charger time.For good price right deal. A++++++++',\n",
              " 'Bought case wife qualify free shipping. Came different colors match phone. Can entire hours charging I kid playing games day long. No complaints problems. Personally I wrote review wrong spot diff phones diff colors I f&',\n",
              " 'Since I phone battery life short. After purchasing battery case I longer worried running battery life.',\n",
              " 'Watchout positive reviews fake. Some reviewed twice name. What sleazy way sell item.',\n",
              " 'My brother got HTC One I promised awesome case like I S.Super sleek look fits doesnt overheated saves day Especially GPS needed',\n",
              " 'The color pops well. Clips phone charges up. I complain No cons',\n",
              " 'The raised edges protect screens falls. The battery case looks stylish charges up. This case fannnnntastic',\n",
              " 'fits phone easy use. price unbeatable product works like advertised',\n",
              " 'The S fantastic phone. However large screen phone dies quickly. With extended battery I able enjoy phones features losing power. Great buy.',\n",
              " 'Totally worth money It protects phone dangerous situations I dropped phone keeps battery going Days. BRAVO',\n",
              " 'I got case nephew claims expected. He charge case phone covered thing. This like phone replacement doesnt add weight',\n",
              " 'This great case looks feels amazing mention battery lasts hours.',\n",
              " 'I think case excellent choice bulky color nice texture good gripping extends battery life. Its life saver isnt market time phone I happy it. Bought blue black brother right got home phone store. Would recommend.',\n",
              " 'compre este Case hace varios meses y protege el celular manera excelente..ni siquiera tube que comprar protector pantalla y gracias dios mi cel este nuevo..',\n",
              " 'I looking case new Galaxy S At&t version. The store selling similar cases . I justify spending case. This case unlocked version Galaxy S. The size same. The difference I noise cancelling microphone blocked. I drilled little hole case works fine',\n",
              " 'raving friend amazon great phone cases cheap bought this. didnt fit phone right. poorly made.',\n",
              " 'nice case protective good looking nice changing texture areas. good buy price',\n",
              " 'Bought new AT&T Galaxy SII case arrived super fast fits phone perfectly snug. I issues buttons rubber smooth sort laminated finish. It stick pockets. Overall I extremely happy purchase especially cheap.And FYI This AT&T International Galaxy SII.This WILL NOT FIT Sprint TMobile AT&T Galaxy SII Skyrocket phones. Youve warned.',\n",
              " 'I liked case money paid good buy personally like stronger cases flexible looks like hard case little bit firmness wouldnt hurt.Protects VERY phone camera lens single phone touching surface table leave there. Very Good purchase.',\n",
              " 'I bought at&t samsung galaxy s seller slow getting item me. I notice product fit SGS cut outs NOT good. The cut opening small power button extra cut reason. It fit nice I gave stars bad opening phone costly.',\n",
              " 'Like reviews rubbery case smooth exterior doesnt feel like uncomfortable sticky rubber. While appearing hard shell rubber fairly soft great job protecting falls feeling bulky.',\n",
              " 'case fit phone tad small. corners case. wound buying piece case cost local store. dropped phone times case beat s damage phone. good reason buy case one.my coworker delayed getting case liked broke display screen making phone unusable. buy case rubber thing. threw away minutes arrival',\n",
              " 'This skin fits perfect SGSII phone looks great inside it.It high quality skin gives good feeling hands.I recommend product SGSII.',\n",
              " 'I prefer style case otterbox case mate I feel provides ample protection turning phone brick. Lightweight sleek.',\n",
              " 'I like case far fits ok Samsung Galaxy S I like shiny soft touch. My concern corners totally covered wont protect scratches hit I giving stars. Well price think ok.',\n",
              " 'Dont expect works reason buy.I looking cheap skin case willing pay hefty case initial period buying unlocked galaxy s II.Dint Expect buying.But work well. day shipping free good deal looking perfect tpu case protecting phone.',\n",
              " 'Great case fit samsung galaxy s great order fast shipping phone look super sexy trust need order .',\n",
              " 'I read reviews didnt read I wish I cause thing work Sprint Galaxy s. Wish I known that.',\n",
              " 'Be careful ordering cases. Not Galaxy IIs same. Mine Sprint fit pnone. It went trash wasnt worth sending back. Otherwise I sure great case.',\n",
              " 'arrive time good quality functionally recomend protect samsung galaxy S I fit exactly recomend owners smartphone .',\n",
              " 'I expecting bit higher quality product is. Ive months definitely helped I dropped phone. But point I anymore quality product good better solid.',\n",
              " 'different size/design Galaxy II carried USA whats carried Asia. Im USA I ordered cover Galaxy II bought USA cover didnt fit speaker location different phone. I copmared cover Galaxy II sold Asia design different.So bought Galaxy II USA dont buy cover outside USA',\n",
              " 'It good look cute. I like it. It cheap saw store.',\n",
              " 'I good choice whenI thought buying safe & bulky Overall satisfied customer.',\n",
              " 'Very satisfied purchase. The quality good shipping quick. The case provides friction enable good grip phone. TPU plastic material case virtually resists oil dust. I Otter box phone. The protection excellent BUT silicone attracts dust like crazy. The SStyle pattern personal taste people like not. To adds flavor plain black case. The protection sides panel looks sufficient dare slam phone floor test out?. I wish margin earphone wrap mm. Overall I feel phone secured case.',\n",
              " 'totally awesome It good quality I purchase color looks new',\n",
              " 'case better thought love feel design doen collect dust.',\n",
              " 'This product arrived quickly. It fits HTC easy I complaints.',\n",
              " 'Great Grip Great Style Gerat Durability Great PRICE Lasts long. SLIM FIT Should included HTC sensation purchase beaten iPhone Too bad HTC',\n",
              " 'A note caution owned major Blackberry model standard USB . cable dont need extra NOT need cable. All Blackberry needs data transfer STANDARD USB . cable MicroUSB connector end.There NOTHING special cable justifies artificially inflated MSRP listed it. While item sold MSRP discount probably okay purchase long reading paragraph decide need USB . cable.The items stars taken away exaggerated marketing claim professional grade custom cable inflated MSRP.NOTE Please sure buy cable MICROUSB connector Blackberry needs.',\n",
              " 'good product usb cable work perfect like oem cable. . .',\n",
              " 'Well went internet first..... known store Gloucester MA . I happy. Then course I knew Amazon come something...they . change...it arrived promptly. I Amazon realistic prices knowing people kind money pay wirefor dollars. I happy I need spending dollar it. Thank again.',\n",
              " 'I like extra cable smartphones work I purchased one. Nothing special long working is.No complain.',\n",
              " 'There difference USB cables. On computers including USB ports underpowered poor cables transmit data well. I purchased cheaper cables transmit data Blackberry Storm . This cable works great underpowered USB ports.',\n",
              " 'I bought micro usb cable cheap is. I use Nexus s g sprint charge device causes major issues screen lag able recognize kind device causing phone constantly jump car mode. So need real quick cable basic charging else...spend extra buck higher end cable.',\n",
              " 'I purchased cables cheap got good reviews. I dont know people getting cables work... I bought functioned properly Palm Pre The best I charge entire time charging complaining \"Unknown Device\" \"Could install drivers\" works beautifully original cable. The setting works \"Just Charge\" Each cables fails slightly differently makes believe different flaw Ive tried Wifes Palm Pixi different computers failed well. Look attempting purchase cable Palm device',\n",
              " 'phone cord easy use easily connected phone computer. great value price.',\n",
              " 'This cable better original. Never issues phone recognizing USB connection original plugged PC.',\n",
              " 'I bought recently expect . shipped door. For money wrong? So I transfer data plugged PC work charging. When plugged Palm Pixi prompts factory cable transfer charge. I cable x charge works great Do hesitate purchase need cable',\n",
              " 'A good inexpensive cable works like original. I purchased cable I wanted work touch stone I purchased. After reading reviews looking competing cables I deciding one. While inches shorter \" original works touch stone. I cable mainly use car.',\n",
              " 'The cable worked great pre need extra I suggest purchasing unitplug cable shipping handling gets price.',\n",
              " 'wall charger charges bluetooth perfectly. Im glad I bought it. Thank',\n",
              " 'This charger trick. The charger car doesnt work ignition wants dangling cord hanging field vision driving.Have charged T I got battery life reported hours usage days standby. I charge couple weeks. Very convenient accessory.',\n",
              " 'The Motorola T doesnt come AC charger DC charger. This makes great addition package. You charge home night.',\n",
              " 'I initially leary purchasing item extremely low price free shipping I needed wall charger Motorola includes car charger wireless car phone speakers. So I took chance low price free shipping pleasantly surprised. The charger appears market chargers I purchased previously ebook reader PDA camera etc. cost. I charged Motorola speaker problems.',\n",
              " 'bought charging cord t came car charger. t nd intended use connecting bluetooth enabled phones home stereo. cord offers convenient way charge car long periods device charge completely travelling. bringing devices able charge overnight charge. great price complaints receipt material packaging transit time.',\n",
              " 'Its true This cable outperforms original When I charge phone chargier. The data datery phone phoney general. If I wear cable neck like bolo tie people like better I run faster jump higher. If I circle dinner plate food tastes better. Basically cable makes better original. Im thinking getting nd',\n",
              " 'This clearly HTC cable Blackberry logo bulk packaging label says Blackberry...but OEM micro usb cable works perfectly micro usb device I plugged into.While I havent tested speed cables I doubt outperforms OEM cable works thats I asked it.The cable bit result stiff unmanageably so.It noted cable shown picture actual product mini usb cable appears bit longer product cable m long.',\n",
              " '\"This cable recommended device.\" That I error message. Plus short.',\n",
              " 'I trust HTC accessories HTC phones having bad luck aftermarket products cheaper cheap expensive.',\n",
              " 'Ill understand review item works exactly complains working...for EXACT phone I dont it. I decided try despite people said didnt work Im glad I did. Its exactly I expected wanted. I actually bought I leave car work. For change both...this GREAT buy I worry Incredible running battery',\n",
              " 'I impressed price excited arrived. But doesnt work like says does. At charged phone fine stopped charging I waited day charge didnt charge.',\n",
              " 'bought spare cord original cord car usb charger got tired keeping track last. cord works plugged wall. hooked pc phone wont stay connected pc transfer files anything. need cord plug wall work dont think cord want use pc.',\n",
              " 'I use cord charge phone pc work works great. Doesnt charge super fast charges less.',\n",
              " 'product great value price. works like suppose to. beat it. need extra cords.',\n",
              " 'poor manufacturing quality connector long properly fit phone. I buy this.',\n",
              " 'cable works fine verizon Galaxy S charges transmit data fine.However connector tipphone wont fit use aftermarket cases.',\n",
              " 'It is. A charging sync cord. It charges phone helps transfer data phone computer.',\n",
              " 'The cable good fit Samsung Galaxy S. It plug far hold securely.',\n",
              " 'It works good value price compared retail stores. The negative tad short.',\n",
              " 'works great. good backup cables works great replaced old one.',\n",
              " 'I purchased chargers Samsung phone amazon honestly quality them. Maybe Im hard chargers I feel like months. Spend money good quality one.',\n",
              " 'I got charge Samsung Galaxy S ALWAYS came unplugged phone phone moved falls resting flat surface eventually way phone. I buy USB cord I frustrated',\n",
              " 'Purchased USB cable connect Samsung smartphone laptop computer. Works fits needs expectations.',\n",
              " 'works great came right time chargers lol thanks',\n",
              " 'These inexpensive work like I wanted to.There problems far',\n",
              " 'It I expected works fine thought larger gauge wire?',\n",
              " 'need charge phone? need transfer data? boy oh boy cable that.',\n",
              " 'Works fine IF dont phone. If handle phone plug works way minutes. This despite relatively stiff fit. Note cord came phone plugs smoothly securely. Thats generaluse cord relegated overnight charging phone isnt used.',\n",
              " 'Disappointed cheap doubt designed newer devices. They short. Took long time ship. Specifically purchased ad saying Samsung Galaxy devices. It work S. They require good charger d newer better.',\n",
              " 'damaged charger. recieved charger short it. wiggle cord phone charge.',\n",
              " 'It Works perfect. It charges phone pretty quickly great retracts. No problems charger.',\n",
              " 'This excellent divice I order months family friends wanted mine. Love',\n",
              " 'This charger doesnt work well. When plugged shows charging minutes Im lucky battery. I use battery low I want getting lower...thats good for.',\n",
              " 'I pretty upset day stopped charging phone right middle long trip. FFFFFFUUUUUUU...',\n",
              " 'I like charger having cord hanging time necessary. Item received quickly seller stated. The cord retracts snap Im it. It pulls length I pull short way plug phone cord everywhere. I recommend',\n",
              " 'It works thats said it. It charges Galaxy fine cord retract. Mine came busted spring. Cheap I dont care worth shipping return. It charges I suppose thats matters',\n",
              " 'Looking price I ordered these.It served purpose initially. But months stopped working.thats hit rate. Though I dont whats life charger.',\n",
              " 'Initially great charger great price. However Ive tend long. For price I guess bad deal.',\n",
              " 'love moving car car. great mobile person. pack brief case backpack travel worry cord hanging wrapping.',\n",
              " 'The charger works fine. It great value considering cost stores. However doesnt retract all.',\n",
              " 'The plug fits charges Captivate felt snug. The \"retractable\"ness charger but. Plain ol doesnt work. I literally took package time I pulled cord didnt yank tug forcefully pull inches hit retract button test retracted inches it. I pulled retracted inches it. Bottom line messing feeding charger versus retracting automatically depressing retract button took minutes plug retracted inches cable hanging charger best I get. The cable automatically retract inches given length. The main reason I wanted \"retractability\" I hate having cables dangling around.Working getting refund item now.',\n",
              " 'Ive years JUST NOW broke. But I it. The button retracts got loose doesnt latch anymore.',\n",
              " 'took longer expected delivered satisfied charger. retractable cord long reach cup holder truck usually phone. ive got welps arm retracting cord careful haha.',\n",
              " 'somewhat concerned reading reviews. Price great I bought extras case. Quality great. Cord flimsy expected comments. Love having cords getting tangled car',\n",
              " 'I love retractable feature hides away nicely. I job corded device. excellent product.',\n",
              " 'This works fine recharge Captivate. With products impossible good tight connection phone USB end problem.',\n",
              " 'Item shipped arrived fast. Item perfect car & phone compact. Item advertise.',\n",
              " 'Great I gave GF loves it.',\n",
              " 'Not here. This little charger works lot expensive Sprint store.',\n",
              " 'I like long cord changer Im able reach night stand table I plug at. However Im fan long charge charge atomically &stops& charging certain times own.',\n",
              " 'This good charger travel house. I use frequently.',\n",
              " 'I pleased item I got quickly gift. However I star rating product worked.',\n",
              " 'The Phone charger works charges phone. However phone charging continually beeps battery low.It stop beeping charging battery reaches certain percentage.I think correct charger phone I have.Now I worried based reviewers battery blow phone Ill replace too.I recommend buying charger.The charger old blackberry works better.',\n",
              " 'I replace cord I purchased month ago great.',\n",
              " 'It works great. It longer cord I got phone. I recommend item.',\n",
              " 'When went charger wallit snapped half. Lesson learnedcheap things break quickly.',\n",
              " 'This power cord great replacement standard dual use cord comes phone. By dual use I mean standard cord comes phone usb data cable dc power plug end. Sometimes I phone twist tug line cable disconnect dc power supply I imagine cause data cable short time ruin battery. Phone companies got cheap decided stop sending phones power cable AND data cable separately end standard power cable...like fine...qualitywise pricewise. Yep. Oh big red light comes plug wall phone plugged nit picky sleepers needs completely dark room sleep stick small piece black electrical tape light brighter think.',\n",
              " 'weve month working great. wish cord little longer longer phone.',\n",
              " 'works works well. chargers pretty quickly im hoping hold up. far good wire far im concerned worth small',\n",
              " 'Thanks quick delivery time. And actually quality note pad Mom loves replacement gift brand company work awesome',\n",
              " 'I love longer cord It fits great phone Very pleased cheap Thanks',\n",
              " 'Paid . charger . Shipping & Handling.....Yeah I know shipping & handling expensive charger I needed charger connected fit nice snug I able charge phone sitting desk home office looking work.....which day job huh? LOL Wow I wish I write reviews living wouldnt nice? I think total price . great savings compared retailers sell mobile phones charge . MsThrifty Stay tune reviews Oh I love Amazon',\n",
              " 'Gave stars cord waaaaaaay short. Works well. Charges phone quickly also. Wouldnt buy however.',\n",
              " 'Its charger works advertised. It cam mail pretty quickly I satasfied well.',\n",
              " 'U many. Bought spare purse home work. Now I dont worry forgetting it.',\n",
              " 'Product came fast nice long cord great considering factory cord short. Worked great til day I dont know happened...at price I didnt expect perfection Sellers defenseI contacted them..it easily fault Ive busy...even review late. Sorry',\n",
              " 'Have office work little extra boost needed. Nothing fancy charger ment do.',\n",
              " 'Bought gift relative loves it.....Great job...Would highly recommend product customers.Thank',\n",
              " 'Where mainly use blue tooth need hands wheel...driving.If BT battery charge handy. I wish length cord longer....I plugin charger nearest me....',\n",
              " 'I car charger months. So far well. Nice retractable cord. It retracts push button.',\n",
              " 'wrong one.The male end fit Iphone s . Once pulled retract',\n",
              " 'I wife issue.I x headset voyage works well.',\n",
              " 'THIS IS A BAD CHARGER IT DOES NOT WORK PROPERLY AND IT HAS A REALLY BAD SHORTAGE. I HATE IT',\n",
              " 'works great powering Plantronics BT. like retractable cord doesnt long cord getting way. nice compact easy store use',\n",
              " 'good',\n",
              " 'I bit wary buying headset condition lured halfprice price tag compared new headset. I envisioned sorts shortcomings arrived I astounded excellent condition headset. It clean. No scratches. No faded labeling. It looked brand new. Oh yeah...it works great too.&',\n",
              " 'I love headset stays firmly head band firmly ear ear piece. The sound quality great ability mute mic main reason I bought this. The mute switch convenient place nice clip attach shirt. The reason I stars instead I lot people tell I sound somewhat distorted talking it. Usually I better adjusting mic volume nice feature moving mic away mouth. Overall good purchase money.',\n",
              " 'Ive years I replace new old wears out. The mic strong pick voice I complaints people able hear me. The earpad comfy I occasionally forget I on. The best adjustable amplifier I distortion sound cell phone I increase decrease output cell phone amplifier headset I usually maximize sound minimize distortion. I dont hold hand conversation through.',\n",
              " 'Love type headset. I use work day I got home too. I hate things &in& ear quality overthehead type keeps belongs I wear hours pain irritation. Comfortable lightweight. Doesnt mess hair. It includes leatherette &cup& ear speaker I usually dont use finding comfortable it. It converts &ear hook& type I dont useful. The inline volume control mute nice bit large heavy. Great sound quality',\n",
              " 'This headset works fine I expected somewhat better sound quality price. Also able work Samsung Galaxy Im guess issue . . mm plug adapter I got works fine panasonic cordless phone. Not sure allow initiate cell phone I looking headset bluetooth headset sound quality poor.',\n",
              " 'I bought durability sound quality pretty low/poor volume low too.',\n",
              " 'This decent quality headset sound quality ear piece standard Plantronics quality i.e. good. The .mm jack means wont fit mobile phones smaller standard headphone jack Blackberry great Pearl. As bonus I use XBOX controllers attached messenger keyboard online gaming. Some people observed I sound little distant headset plugged wireless XBOX controller repositioning mic close mouth possible fixes it.There adjustable mic sensitivity switch plug doesnt difference people far end conversation.Its held past years stuffed bags traveling around. Its cool wireless headsets bluetooth doesnt batteries doesnt recharged isnt subject interference. Ill buy if/when finally dies.',\n",
              " 'I love product I messed didnt know I needed . purchase adaptor. I small issue fault company outstanding customer service.',\n",
              " 'Excited based good reviews experience.Tested Nexus S cell phone person end complained static poor quality sound. I unplugged headset switched cell said problem went away unfortunately problem headset.Also FYI come retail packaged shows plastic bag instructions. Not problem makes wonder quality.',\n",
              " 'These great sound voice clear parties. The volume switch mute slider work lasted time.',\n",
              " 'Ive buying headsets years recommending friends associates Im buying gifts headset challenged. You know people literally pains neck clamping phone head shoulders.These wonderful headsets. Ive variety cordless cell phones. As long .mm socket youre business. Audio reception excellent like moderate hearing loss. And microphones simply topnotch.Ive break I crammed travel case I mean crammed. With regard ordinary daily abuse hold well.All excellent value.Jerry',\n",
              " 'Ive tried returned headsets ranging . This typical I returned low volume earpiece low quality microphone. I finally ended Panasonic TCA loud sounds great ends. Its fancy volume control mute needs accomplish thing phone. Price determine sound quality. I recommend product.',\n",
              " 'A nice change having headset doesnt slip slide fall ear buzz. My favorite feature button controls sound level recipient experiences. The time doesnt work listener wearing headset I suspect fault listeners headset mine.',\n",
              " 'The problem headset people talking trouble hearing you. This pretty important I stars. I extensively cell phone cordless phones home problem.',\n",
              " 'I dont think long. I thinking deploying center environment I dont think long. Plus cord short desktop use.',\n",
              " 'Before buying set I searched lot read lot reviews finally I chose set. The screwdrivers easy use specially iphones.I change batterry iphone Stanley screwdriver set I break iphone.Thanks making set helpful easy use.',\n",
              " 'Handy little set tinker electronic devices. This set uses otherthings also. Product described price right. I recommend having set.',\n",
              " 'I bought set fix pair eyeglasses loose screws. The smallest screwdriver kit perfect job mission accomplished. The tops screwdriver twirls independently shaft meaning finger head stabilize driver youre screwing. Sorry theres way that. The box suggests screwdrivers repairing eyeglasses cameras watches fishing reels hobbies electronics small appliances. I think set come handy.',\n",
              " 'Screwdrivers work plastic separator tool tip broke phone case I open...what drag.',\n",
              " 'I like super duty materials. Works great application I dismantling hard drive stripped. Im concerned price. Over good value',\n",
              " 'The plastic wedge broke use. Otherwise I expected. A usable set tools phones laptops.',\n",
              " 'The Torx screw drivers work wonderfully tweezers work pry tool weak ineffectual project I on.I bought kit remove cameras HTC G LTE I didnt problems removing small plastic portion rear phone. The pry tool way flimsy job Im convinced trick similar function.Id recommend kit primarily purchased Torx drivers require use pry tool well.',\n",
              " 'This comes flats philips. I believe metric sizes. I netbook. I like fact spin come plastic kit. They reasonably priced. These items high quality. Handles small hard loosen screw torqued down. I laptop jeweler so... Nice case nice color small area ... Comes card board cover well. Packaged packaged. A little there. Cant times little difficult open plastic case. Was going push down. Comes different sizes. Some flats little blade. Not bad item price. Always good set glasses/sunglasses items small screws.',\n",
              " 'I replace battery phone cause gone completely flat. Apple charging lot battery job perfectly lot cheaper came tools.',\n",
              " 'Installation easy tool kit worked plastic tools robust break tweak much. The paper foil coming battery I open package folding place worked phone issue. So far phone charges fast life better year old battery replaced. So far I recommend battery.Update weeks installing battery hours barely iPhone NO voice calls time extra heavy use internet anything. Drained charged dead times sure location services blue tooth apps closed... OFF drained. Got money bought / price works great Maybe I got defective battery.... A risk buying rd party batteries.',\n",
              " 'plastic pry tool kinda sucks tools kit handy helped fix broken screen phone saved bit cheddar there.',\n",
              " 'The tools helped greatly. I tools provided followed instruction video Youtube. Everything mins beginner like me. The battery replaced year old original works far half months. It gets charged quickly lasted long. For average user like battery + hours charge.',\n",
              " 'Wish magnetized sturdy & common pieces I need Im working smaller items electronics. Seems sturdy time tell.',\n",
              " 'bought tool kit battery upgrade cell phone. embedded battery I needed phone apart. like saying goes got right tools things lot easier time.',\n",
              " 'Used phone I repaired battery fit perfectly work fine phone percent left days I checked legit.',\n",
              " 'I havent arent quality precision tools. Like pry tool tweezers.',\n",
              " 'I agree Gary Tuscons review. For smallest flathead screwdriver . mm large screws hold links Seiko womens watchband quality I them. The case good labeled clearly. The screwdrivers decent weight handles turn smoothy.If came smaller sizes tempered tips smaller sized tools need strong I definitely consider well.If I minor nitpick colorcoding handles great help excellent value price.',\n",
              " 'These tools gets job done. Had problem I able finish hour going buy friends. great deal quality product quick fast Thanks',\n",
              " 'Very pleased tool kit. I gotten couple phones repaired kit loss kit. Would purchase necessary.',\n",
              " 'This set unique screw driver heads kind set need working cell phones household small appliances. You hard time finding them.',\n",
              " 'torx real useful tool evog. big fan use credit card instead',\n",
              " 'Seem high quality compare cost. Have thing I needed open Motorola Droid.',\n",
              " 'I shouldve ordered sets. These come handy lot things home workplace etc. And soon know need &borrow&. Keep eye Great tool lot little projects. Fair price.',\n",
              " 'These tools better expected. The handles hard plastic fit hand nicely rotating tops work well. The tweezer ends match perfectly pick small parts ease. Similarly driver tips machined accurately sized. Only plastic prying tool bit flimsy held hard prying breaking. In good deal Im ordering second set evening.',\n",
              " 'Needed Razr cellphone change internal battery. More tiny screwdrivers Ill use good quality I needed.',\n",
              " 'Seeing star reviews item fake users trash talking iphone battery sellers staring pretty messed appears seller type scammer.',\n",
              " 'After viewing youtube videos procedure I able swap battery / hour included taking pictures studying insides iPhone S.The tools good job I felt tools going fall apart. In fact Im keeping mobile phone work.The thing Id recommend esp. older folks notsogood eyesight good way magnify things youre doing. I use big magnifying glass .x reading glasses x better headlamp add light I need it.',\n",
              " 'Pros Good tool set need things apart.Cons They came plastic bag case Theyre extremely flimsy plastic makes feel like I use times theyre going break.I dont recommend recommend buy this.',\n",
              " 'Judging Ive seen reviews I received inconsistency shipped out. I received ziplock bag containing pieces. See user uploaded photo matches description Torx type drivers magnetic tip TTTTTT Orange handle blue cap Philips driver magnetic tip black handle Flat driver magnetic tip black handle point driver magnetic tip clear red handle tweezers stainless steel blister packs pry tool dark greenI purchased set work Droid X MB job I carefully use T instead T carefully screws holding screen assembly together. Ill star rating \"Its OK\"',\n",
              " 'Battery charge iPhone. iPhone shut minutes powered up. Had throw away.',\n",
              " 'bought tool repairing nephews iphone non right size buying iPhone dont buy',\n",
              " 'Does fit s sure ordering right one. You need tools I suggest tools.',\n",
              " 'I pop open Samsung Galaxy S fix tools I worked fit. These worked perfectly fit screws took apart ease. Compact easy carry around.It arrived time good shape. Thanks',\n",
              " 'worked great',\n",
              " 'I use electronics repairs. There sizes configurations meet needs. The helpful thing independently turning barrel allows apply pressure end tool easily turn barrel/screw right left. They best tools market served well.',\n",
              " 'These torx drivers flathead phillips set going Amazon today.',\n",
              " 'Nothing special here. Just screwdrivers. Seem hold well. I gshock band worked didnt strip I pleased.',\n",
              " 'I got try replace screen Im phone repair person. It I needed lacking skill needed job. I replace hard drive home add memory takes allot skill. If skill tools great complete. I video said I needed minus skill.',\n",
              " 'helpful good quality',\n",
              " 'I rate stars. Love product great price quality. Love works iphone . And comes lot tools great case misplace them.',\n",
              " 'It lot I need basic repairs phone bare bones.',\n",
              " 'Could better price wait time. drivers labeled . clearly different sizes. Also wear kinda fast working tight screws',\n",
              " 'Very fast delivery. product described useful tool. If need set good',\n",
              " 'I use electronics repair job done. Great phone repair small electronics.',\n",
              " 'I watched short video tube ordered kit. I changed battery minutes. Amazingly simple. All tools need star screw driver thing thats standard place. Just it.',\n",
              " 'You need types screwdrivers need do. Theyre great tightening eyeglass screws opening cases small electronic devices.This nice set. It comes slotted philips style variety sizes. They I suspect long time. The swivel heads allow downward pressure screwdriver turn minimize risk stripping head delicate small screws. The case labeled space screwdriver. Its typical plastic case snap hold long dont step drop it. This set nice value price.',\n",
              " 'It chinesselike world LOL price bargain.The screw drivers free rolling pressure body rellay good nice grip lobules ergonomics.The pliers good problems good finish edges like razors like othersthe prying tool need device want tear apartbesides iPad strenght pry plastics aluminun bodys smartphones.There mini screwdriver flat phillips I use electronics.Overall pretty satisfied I buy later',\n",
              " 'Really poor quality tweezer bent like screw drivers cheap plastic adhesive removing tool cheap plastic pay recommend trying perform phone surgery',\n",
              " 'Not best ive purchased came right size iphone ones yellow handles different sizes star screw fits iphone star screw. You use gadget though.',\n",
              " 'Once twice month need smaller screwdriver handy inone. This setfills nicely. When need need it. A have.',\n",
              " 'item came timely matter fit descrition thing plastic broke little easily thing good',\n",
              " 'Nothing fancy extremely useful need love tweezers big writing telling tool size. Took weeks id guess worth wait Id easily recommend them.',\n",
              " 'I received today doesnt charge. Im sure I piece broken iPhone glass contact side.',\n",
              " 'Like said screwdriver set solid good quality forever. The issue course screwdrivers true jewelers set big jewelry/watch related tasks. So looking type set isnt use.',\n",
              " 'Its I dont know Im asking much. The screw drivers work slightly magnetized. The prying tool completely junk broke I finished task guitar pick durable. The tweezers worthless. Get screwdrivers tools.',\n",
              " 'I needed new screwdriver set work laptops old ones mysteriously disappeared. At price way I going beat set Stanleys. The best far come magnetized. I use day I received happy them.',\n",
              " 'I purchased battery replace water soaked iPhone . I dont know charging unit wont turn me. The shipping prompt packaging great description accurate.',\n",
              " 'I it. I carry perfect size tool little things wrong.',\n",
              " 'kit fix bunch cell phones price right tools work great',\n",
              " 'Im sure says come pictured I disappointed.The tools helped job hold well. The plastic plying tools bent broke fairly quickly. I wasnt user error cheap.',\n",
              " 'I bought wifes year old iphone S. She said work little better old battery. Not huge improvement acceptable replacement need new battery.',\n",
              " 'This review iPhone battery tool set. I realize company selling different items listing reviews confusing accurate.Like &power users& i.e. slaves iPhones I came end usefulness iPhone s internal battery. After lamenting buy cheaper options available I went &you pay for& cliche paid extra assurance I getting cheap knockoff.The battery I received manufacturer date months I ordered piece. Who knows accurate youre taking face value I certain comfort knowing battery sitting shelf losing potential usefulness holding charge crushing candies.After successfully opening phone I confirm labeling signage match exactly original battery phone. Any copycat gives hope new battery comes manufacturers OEM battery.The tools worked fine me. I able pry glass phone tools provided kit. Do extra research properly removing battery. Use clear plastic sheet battery help lift separate adhesive. That challenging battery replacement. After months use I day heavy phone use looking charger. My life complete',\n",
              " 'This good buy wanting. I misread product info realize Torx screwdrivers.',\n",
              " 'This great deal. Easy install direct fit replacement iPhone s. Does hopefully last.',\n",
              " 'I fix phones Tab Mac computers desk laptop IPads. So having right tools important me. The price thing me. Great price',\n",
              " 'Purchased remove screws Samsung Galaxy SII smallest tool set large.',\n",
              " 'I bought set repaired android times tool set working small electronics',\n",
              " 'Great tools I use I like quality great price well.Good vendor.I buy more.',\n",
              " 'This tool set better expected. The machining finish good. If small electronics similar applications set durable.',\n",
              " 'badbut Too little things inside incomplete bad use hexagonal. But ok . thanks',\n",
              " 'This great deal set. High quality materials low price. I recommend product friend.',\n",
              " 'Tools required opening GPS iPOD cases. Nice selection sizes. The plastic wedge tool easily damaged. A star rating included case I paid extra case',\n",
              " 'Torx screwdrivers great tweesers substandard spluger cheap broke time it. For price expect high quality. job',\n",
              " 'These supper price supper strong job lot money.',\n",
              " 'For price beat little Stanley screwdriver set. This features tiny standard Phillips head screwdrivers. If need small head screwdrivers you. These useful messing eyeglasses certain electronics gadgets firearms. I revolvers pistols sight adjustments outrageously small adjustment screws. For sights little kit tools manage fit screws did. That worth Amazon price little kit permanent place range shooting bag. RJB.',\n",
              " 'This tool repair kit useful repairs laptop smartphone eyeglasses small screws.',\n",
              " 'Had mix getting item slow shipping resolved end I satisfied purchase',\n",
              " 'I needed torx driver tools fix broken Nexus plate kit worked great. Im glad case I need again.',\n",
              " 'ordered replace iphone battery deployed soldier cell phone technition',\n",
              " 'The battery worked I screwdriver plastic pieces kit replacement tips spudger bent hard use prying old battery out. Still great value DIY kit new life tired iPhone S',\n",
              " 'I tried yes batteries send crap. I finally decided spend bit hoping equate quality. Well paid times charm I guess. The battery replaced old battery perfectly. It holds charge reads correct battery percentage. The included tools bonus. I set tools replacing wifes battery back. However better. The old tools I stripping tiny screw heads. This set tools gripped screw heads perfectly. Overall Im happy.',\n",
              " 'handy tools use fix soomething small like phones docks cool stuff',\n",
              " 'nice quality set screwdrivers. sell bigger sets cheaper different company. DO NOT BUY THEM. want quality precision set drivers. company with.',\n",
              " 'tools ok Just I expected. They better ones came screen I ordered.',\n",
              " 'Got replace iphone battery useable tethered. Now holds charge ready go. Great OEM repalcement. The tools nice use too.',\n",
              " 'You pay for. They strip easily. VERY cheaply made. But I needed time use I didnt spend bunch money I complain. But need once...spend money good tools.',\n",
              " 'I bought actual set box before. Over years I cobbled odd assortment small screwdrivers. This rated inexpensive case. It I expected. It works me.',\n",
              " 'Good plan repair apart apple products kit completely useless wont worth',\n",
              " 'Was ready send Jawbone Era back. Then I ordered Jabra ear gels. Now I wear Jawbone day Aliph include Jawbone headsets. And I intend tell Jawbone Era awesome',\n",
              " 'I bought eargels bluetooth happens Samsung WEP fit perfectly. Gives great comfort perfect fit. Comes three. Comes bunch. Highly recommended product',\n",
              " 'I bought use Jawbone Era bluetooth headset. The Era comes different options ear inserts. But I felt like earpiece fall I jammed ear far uncomfortable.Enter Jabra EarGels... These huge difference. It fit perfectly ear nub goes spot ear hole. I wear day. I wouldnt wear eargels having overtheear hook attachment Era huge difference comfort bluetooth earpiece.',\n",
              " 'The eargels fit earpiece fine nice tight far actually getting ANY sizes comfortably fit FORGET IT',\n",
              " 'I got jawbone headset. Many said work great. life figure work short superglue quiet hear guess work jabra designed jawbone.',\n",
              " 'On recommendations reviewers I tried gels Jawbone headset. Unfortunately fit came time I took headset off. That bad somewhat comfortable direct sound ear louder clearer sound. However I returned poor fit. They probably work headsets. If fit headset I gels try.',\n",
              " 'When I installed new Jawbone II fantastic. They fit ear canal perfectly negating need ear loop came it. Unfotunately days started rejecting headset. The ear pieces stay Jawbone longer stay firmly ear. I tried washing drying thoroughly helped hour so. I sure fit problem turned work Jawbone II all.',\n",
              " 'advertised fit habra stone. not. dont know changed advertisement aid package habra stone got it. piece fit. threw away',\n",
              " 'I bought redirect sound ear jawbone. TO end worked like champ. issue I year started yellow. I guess common clear jelly products though.',\n",
              " 'The Jabra Eargels wonderful.. I believe comfortable user friendly are. Thank I use bluetooth.Great Merchandise..',\n",
              " 'I purchased original ear pieces jabra OK left pushing headset constantly trying ear more. Which unfortunately resulted lot accidental button pushing disconnecting calls.I saw Amazon thought worth trying. I loved basically ear gels sizes right left error.I size fit ear perfectly able use headset earband surprise.The ear gels gentle fit ear. Only reason I giving stars instead takes bit adjusting finesse gel headset. Also I enjoyed product I feel slightly priced get.But overall great product sound channelled directly ear I dont pushing headset hear. I recommend product jabra sound decent wish ear little more.',\n",
              " 'people buy headsets fit things bc essential..A headset fit',\n",
              " 'These Ear Gels Work Very Well Comfort Is The Main Reason I Bought Them Fit The Ear Very Well The Price Was Right You Will Not Go Wrong With These Ear Gels That Is Why I Gave Them Five Stars',\n",
              " 'Works great ear buds. I bought basic ear buds fit comfortable I wear longer. Great wearing car long drives.',\n",
              " 'I bought headset comfortable...These hurt ears like comes matter size use. I wouldnt recommend anyone...Dont waste money.',\n",
              " 'Purchased Jawbone bluetooth headset. It comfortable great now. Could ask better set earpieces. Great use money these.',\n",
              " 'These exact ones I looking problem. They supposed clear arrived yellowed package. It obvious new yellowed longer clear. I bought replace existing ones I yellowed extent new ones. I previous ones . I spares unhappy condition EarGels.',\n",
              " 'I like Jabra earboom I purchased far. And biggest complaint poor quality workmanship. They work dont last. Granted Im road warrior earbooms probably abuse casual user. The reason I buying audio quality fantastic fit ear solid. I spares hand times soon fails I throw away on. At price I afford it. Also Jabra customer services great. I lost windscreen boom mic email got set windscreens mailbox charge.',\n",
              " 'The gel inserts Jabra uncomfortable me. Its bit hard earbud stay ear forget jogging wearing this. Also insert comes easily friend wants borrow different size ears need sizes insert. Sound quality mediocre callees complain wind noise end. Im happy these.',\n",
              " 'Jabra makes far best handsfree devices market. This particular model EarBoom faults. However meet needs figure peculiarities.Jabra provides multiple ear gels comfort left ear right ear use. The criticism hard valid. You try putting different ways till figure out. The instructions substitute trial error I suppose.As handsfree jack phone sure . millimeter jack. That stripes plug. Unfortunately specific compatibility list hard come by. Look specs phone try.The microphone capture sound fine despite short arm. If people telling voice muffled slighly twist microphone head. I wrong angle capture sound well. The arm flexible adjusted slightly.I prefer EarWave Boom EarWrap wraparound ear attachments slightly longer solid arm. The Jabra EarWave Bud doesnt microphone arm instead small mic cable clip attach tie. Personally I dont like models. I difference sound quality EarWave Boom EarWrap easier figure out.For difficulty use microphone arm style I dont like I docked unit stars. It noted Jabras newer models microphone arm longer But good bang buck. Try higher end models demanding like I willing spend money.',\n",
              " 'best quality AWESOME price.Save . cell phone company price.',\n",
              " 'These things terrible. The &Boom& pulling ear ear I place. The cord flimsy... It bad buy. Wouldnt again.',\n",
              " 'Yeah I know warned I thought I smarter average bear so.If auto reverse tape player shut feature work. It work minutes time end frustrating switching minutes.If turn auto reverse dont solid product sounded great.For like need FM transmitter instead tape version Id suggest Soundkase FM Transmitter iPod & MPs. Weve week good results research probably best results use tape connection.',\n",
              " 'Good Item BUT.....The sound better...U u Pay For. opposed minimum CHEAP CD installed dash.Well worth couple',\n",
              " 'Not worth getting.Except limited application good way connect audio device car stereo.this item creates bunch mechanical noise addition sound quality attached device poor. It works worth listening to. As limited fm transmitters significantly better sound quality. Id return cost ship worth.',\n",
              " 'My moms car upgraded radio freaking saabs... positions didnt work. Still worked though.',\n",
              " 'Great price. Sound quality I think kids love it. I like idea going buy car different brand difference sound.',\n",
              " 'I worried having problems Auto Reverse worked time Audi A factory stereo. The sound quality isnt CD level better old FM transmitter.',\n",
              " 'I tried Sansa Clip MP player Toyota MR. The car makes lot noise case Im holding audio lab quality. However product audible low automobile speeds clickclickclick. I able tolerate that. However electronic whistle increasing frequency RPM engine. The whistle interfered excessively intended sound player. The volume Coby CA ok. I hadnt thought issue I bought comparable Maxell cassette adapter Longs replace Coby CA. The volume Maxell product weak I turn way up. The Maxell didnt clickclickclick whistled too. So Maxell Coby star me. Im trying offering Philips next...',\n",
              " 'Purchased try workplace. Dont access decent sound wanted able pipe mps clunky boom boxes available having lug CD case. I pleased sound quality excellent. Playing mps phone player sounds clear louder I tune radio station. This model best reviews site appears good unit far. I stars beat price works well.Update It couple months I thought I add unit worked great far. It gets hours use delivers clean sound. I happier purchase.',\n",
              " 'I Coby CA Cassette Adapter years use car stereo play audio DVDplayer CDplayer. Until lately car tape player kept rejecting out. I thought broken I buy product Amaonz again. While reading peoples reviews I bump R. Pennys feedback // \"skip\" mode following\"One thing mind product like car tape players \"skip\" mode. When tape players \"skip\" mode active listens silent portions tape. If detects silence seconds automatically fast forward \"hears\" sound again. If tape player \"skip\" mode sure cancel mode i.e. player \"normal\" play mode. Otherwise tape player trying \"fast forward\" silent portions audio feed.\"This exactly problem I having. By turning \"skip\" mode car tape player car tape player reject Coby Cassette Adapter anymore.Again broken I buy product again. Very good product money.',\n",
              " 'I bought cassette adapter replace old whos cord got ripped half stuck door. I better sound I I originally bought twice price.The best cassette adapter cord coiled stretched super long probably feet I checked tension applied normal use storage cord feet long. This keeps getting stuck things like car doors wrapped steering wheels getting tangled old adapter did.I pleasantly surprised adapter. I got moneys worth it.',\n",
              " 'works great honda accord adapters gimped frequency range come speaker.',\n",
              " 'Just kicks I \"local order\" Monday morning said package arrive Monday. I didnt believe I figured \"Ill pay doesnt arrive time Ill money shipping cost\" I mean come miles south me. Only hours later package come miles doorstep. That friends dedication ones time commitment. Wow.As far product goes I love The plug stretchy spiral type doesnt hang getting tangled feet Im driving. It way better stupid cheap I bought best buy cord wore months. The sound quality bad learn adjust volumes properly. Everything expect cassette adapter.In order volumes adjusted optimal sound quality white noise tape players adjust phone mobile music device volume plugged in. From point use cars volume amplify volume.Good luck',\n",
              " 'This item doestn work Chevy suburban.I tried things work chances anyways dual position thing good different players.',\n",
              " 'I cassette player car wanted able plug MP player it. This adapter looks like cassette wire coming end. It slides car player I plug mp player plays problem. I trouble written about. I went trip weeks ago hours. It worked great. The wire changed come depending way auto player oriented.',\n",
              " 'I opened didnt springs were.. If anybody pic I love u much. Good product getting reel error tape display ford expedition. It makes blackberry phone sounds great. Dislike radio help me.',\n",
              " 'OMG u tape deck need AUX use product exspensive sounds great works MP CD players phones . got awsome sound way better FM Transmitter',\n",
              " 'I FM modulator didnt like iPhone create feedback car speakers I decided switch cassette adapter. This works fantastic price. Sound quality fine expect cassette tape. The cord adjusted travel adapter horizontally vertically great depending tape deck.The negative I weeks use stopped working properly. My cars tape deck autoreverse deck I idea worked perfectly weeks shut stopped look J Cristoffersons review tons comments fix this. I instructions open cassette Carefully lifting screw lose pieces removed tape reverse assembly. Then stated review remove metal screw holds white gear black band putting screw spring single gear. Put everyhting like magic cassette works perfectly autoreverse deck.I wish came designed modifying trust opening tape fixing simple. Takes minutes I experience kind thing whatsoever I',\n",
              " 'Pros Love adjustable dual position cord. Most players need insert cassette sideways I players need insert cassette lengthwise. You wrong adapter feed cassette player ways. Does look cheap. It looks decent cassette adapters I costs The coiled cord great clutter. I cassette adapter cord long got caught seat way remove cut it. Sounds good Ipod.Cons The thing I think makes noticeable clicking sound cassette.Bought item twice already.',\n",
              " 'We Mercedes tape player oriented tape width ways. This unit input cable changed accomodate type loading tape. Sound quality great. I modify unit like purchasers mentioned. Sometimes adjustable input cable connector gets loose needs plugged tightly.',\n",
              " 'disspointed getting coby cassette tape work car / need music',\n",
              " 'Seems great first. But sound kind shaky like magnetic head making good contact. Also bad habit locking wheels makes radio think hit end tape auto reverse locked reverse again. Itll stuck infinite loop. You smack times free wheels in. Oh plug cable tape loose hell. pull device quickly itll plug right tape deck.',\n",
              " 'car old trys havent issues plays music note doesnt sound beautiful cars speakers sure.',\n",
              " 'I agree majority reviews. I purchased car. I dont MP connection tape deck. And I wasnt thrilled quality sound FM tuners brother car. There little bit clicking sound appears starts playing road nose general nose car nonissue...cant hear it. The quality sound good having direct MP connection I consider good...not sure fair compare. I use primarily audio books I happy purchase. I try fix reviewers needing pin inside cassette.I definitely recommend',\n",
              " 'I fixed issues time being. I turned bass stereo. I default volume phone. This combination worked me. I left casette in. I figured dust stuff let settle. The burn period days. Afterwards AMAZING sound clarity improved much. So dont try things. You need clear dust inside tape player Im sure cause issues.Fix eject issue[...]',\n",
              " 'But short sweet Cord contains lead handled regularly car clean hands touching thing.Sound quality quickly goes downhill crackling evident uses.Now stuck dashboard player modular adapter broke cassette fully eject. I sure husband griping entire time tries unstuck.Avoid costsI scanned past negative reviews product positive reviews lot helpful votes. Big mistake I unstick adapter cassette player try Amazon back. I bought clearance',\n",
              " 'My car doesnt iPod connector I bought product. I year I happy it. This works amazingly well.',\n",
              " 'These things confidence trick. They dont thing. They thing. If believe phone work better probably stripes cars faster too.',\n",
              " 'Come Amazon I believe selling',\n",
              " 'This thing waste paper doesnt u better reception. This total rip book',\n",
              " 'I like cheap junk cell reception.On hand I iPhone AT&T combination doesnt work it.It appears worked people different phone I going generous stars taking account unit.',\n",
              " 'I gave stars I generously sent bunch order. Otherwise I sure work well. I tried phones results inconclusive.',\n",
              " 'Want try one? They sell dollar stores. It improve signal.',\n",
              " 'I set phone desk minutes I checked Signal Strength Droid X read dBm. After putting Universal Cell Phone Antenna Booster inside batter cover I set phone exact spot minutes It read dBm closer number zero better reception. So I guess works little bit. Check picture I posted signal strength after.',\n",
              " 'DO NOT USE THIS THOUGH IF YOUR PHONE IS STILL UNDER WARRANTY CUZ US CELLULAR SAID IT VOIDED MY WARRANTY BUT US CELLULAR IS THE WORST CELL PHONE CARRIER OUT THERE. I SHOULD NOT HAVE EVEN NEEDED THIS WITH A BRAND NEW SAMSUNG GALAXY S BUT I DID...THE INSTRUCTIONS COULD HAVE BEEN A LITTLE BETTER IS MY ONLY COMPLAINT',\n",
              " 'Ive phone. Had new phone vacation service rental terrible Slapped I dont know power suggestion new phone works soooo better Love things Recommend',\n",
              " 'Didnt work It work all. I dead spot I drive work I totally lose Signal. This device help all. DO NOT WASTE money it. . worth anything.',\n",
              " 'I bought tis booster phone I needed better recepion I tryed phone come little better I buy product fact I bought family.',\n",
              " 'works tryit long time iphone didnt difference all...',\n",
              " 'It helped improved signal strength cellular phone communications improve Android phones G data signal WiFi data signal. I didnt expect I dont think design improve G/Wifi thats youre hoping forget it. If want bars... works well.',\n",
              " 'Order product work..and sure I surprise I bars reception cell I price right.',\n",
              " 'I purchased sisters phone. She continually calls dropped I got signal booster bit difference. I bought previous cell phones help. But apparently anymore.',\n",
              " 'Its simply awesome. What say?',\n",
              " 'Contrary site TMobile lead believe TMobile provide coverage home address. This stop Amazon.com selling phone TMobile transferring existing working AT&ampT number service course took weeks &gt phone calls.After receiving reception I called TMobile informed actually cover area.I called AT&ampT happily attempted restore account TMobile refused release numbers.After month essentially coverage phones happily AT&ampT belong.The bad news TMobile sent double quoted monthly rate Amazon.com refunded purchase price.Even areas I coverage phone work well. After pressing keys screen lock I needed remove battery reset it.Last warning Watch charges inbound messagesif dislike TMobile subscriber send lots text messages free sitethe subscriber pay ./message.',\n",
              " 'Ive T months Im love it. I highly recommend getting bluetooth adapter advantage customizing baby. Ive downloaded Midi files games photos web copied T FREE No SMS charges web site fees. Its I wanted new cell phone. Camera color display fully customizable. Its great. Battery life good. Standby days talk hours maybe more. The side... Color display hard bright daylight impossible frozen times internet. Internal antenna strong external I usually great reception bar showing inside bldgs. Highly recommend want look T T better color display. Go',\n",
              " 'Overall I think safe investment mobile phone. One sad thing cell phones improve quickly theres race best.Right phone best + pricetag. If youre paying arent getting good deal.Clear reception included ear piece comfortable generics come phone like R Samsung.Great display. Only downside wiping thing. Oils form skin ear easily pristine surface. Very clear pictures nice graphics.I .',\n",
              " 'Ive months Im happy aspects wonderful powerful phone. Will definitely buy SE phone future. I dont like TMobiles coverage especially service support phone star. Some teh buttons bit small wellspaced fine large hands. Voice clarity superb quality/durability great.',\n",
              " 'Now I SE T phone months Palm Zire HP IPAQ I stars following reasons The Camera great. The pictures come real clear beautiful send Email. Please dont judge quality pictures T. I admit pictures look little fuzzy T. But MB memory purpose taking pictures upload send Email others. The quality pictures improves dramatically sent viewed ones PC. The Bluetooth features phone outrageous. I paired SE T TMobiles unlimited VPN GPRS Data Service Palm Zire HP IPAQ Logitech Mobile Wireless Bluetooth Headset Performance Great. If got Bluetooth enabled Palm Pocket PC phone you. Sony Ericsson ground floor Bluetooth Revolution. I send data Pocket PC Palm SE T Bluetooth flash. Moreover web surfing faster I thought Bluetooth. I absolutely NO problem signal strength clarity voice calls NYC I primarily use phone. Where I boroughs Queens Bronx Manhatten Brooklyn Nassau County exception Garden City great.People need realize TMobile extensive network Verizon Sprint has. So looking buy phone use TMobile Network I enthusiastically recommend live NYC outside Staten Island. However need diligence check advance phone perform service provider area live.',\n",
              " 'freaking power cable quit working w/in weeks tmobile sony fix . Sony took address said showed up.Well phone rugged Its years works. It went washing machine half dryer. It submerged puddle minutes keeeps working.The blue tooth syncs w/ pc tells etc. I buy access card couple months avoid taxes. Its great little phone.',\n",
              " 'Great features phone one. Seriously Bluetooth IR good phone book features nice color display washes polarized glasses. However I weaker signals quality phone vs. previous one. If use phone strong signals fine edge phone value nonphone features working phone.',\n",
              " 'I called TMobile complaints weak battery told talk time cell phone min according Amazons specs T phone. Tmobile told talk time hours min. Who believe? I tired liars moneygobbling bstrds',\n",
              " 'Ive T + Tmobile month So word rebates phone service... Ive pretty satisfied. I pretty good reception everywhere... The phone small comfortable work hitch. The camera good cell phone... phone pleasing I got new games/themes/ringtones infrared port. The phone doesnt memory I deleted predefined themes/songs/graphics ones lets gave enough. It frozen came oldest firmware. I heard upgrading firmware resolves freezing issues increases quality/compression pictures overall makes phone useable... I things affected like I havent looked upgrade it. Unfortunately update firmware yourself... Two friends package pretty happy it. I think reviews people whove negative experiences...',\n",
              " 'Considering old phones use type battery I surprised I received battery. I little mad fact product listing said batteries new though. The battery I received holds charge day old one.Disappointing indeed.',\n",
              " 'Good product. Quick shipment provided vendor item exactly described. I Very satisfied purchase',\n",
              " 'This excellent replacement battery fit fine price amazing. Anyone needing replace old battery wont hold charge totally look getting',\n",
              " 'The item working good. My phone problem power battery neither.',\n",
              " 'If Id bought battery I bought cell phone wouldve cost more. I didnt need new phone new battery instead adding cell phone trash heap Ive recycled battery kept phone I like The phone works like new',\n",
              " 'I bought try repair POS dash cam battery great issue... It fit perfectly accepted charge should.',\n",
              " 'Works great. Ive year hold charge good OEM OEM',\n",
              " 'Bought wife use Samsung Exclaim. For dont know device clips earlobe placing speaker ear. She loves hands free now. If want hands free going bluetooth route headset. It work phone .mm jack. Most smartphones .mm like standard headphones.',\n",
              " 'I love compact design fit ear rest. You barely tell wearing thing. The mic picks great Using thing time keeping spares car bluetooth gets fussy...',\n",
              " 'This serves purpose need hands free. You pay I dont need use compatible phone easy usenot mess If need use lot want buy advanced good backup inexpensive.',\n",
              " 'This cheapest headset I purchased best small headset made. It lasts forever I bought Xbox live works great cell phones too. It says plantronics description headset says verizon Im sure deal I know works great. So youre looking nice regular headset xbox live microsoft headsets break time cell phone buy headset. I went ahead bought theyre sold out. Try buy OEM planet got stock best opinion.',\n",
              " 'I dont know Ive liked hightech loved idea bluetooth tends look like space alien contacting mother ship blathering fool notices bluetooth unit ear.But Ive gotten good reception bluetooth units batter life. Dont started static wind noise.Thats money better wired units. Theyre lightweight comfortable ample cord length. Ive ordered youd pay times price bogbox electronics store. Do favor bluetooth hand. Well worth price.',\n",
              " 'Overall great headset price. Pretty amazing actually. Youll need wired converter convert .mm .mm like oneHeadset Adapter .mm .mm Audio Adapter Converter Black NonRetail Packaging. No biggie.But curved rubber piece stiff hurts ear minutes less. Sometimes painfully.I dull voice far best headset I helps people hear clearly I actually older version headset I two. No complains hear need turn volume. Noise cancellation pretty good. Not good cheap jawbone people usually complain hear one. So stay away plan talk phone larger ears. Small ears work fine. Mine probably average males. Otherwise worth price.',\n",
              " 'It doesnt fit phone I return it. What hassle Thats I',\n",
              " 'I ordered based rave reviews I saw it. I Treo I barely hear ear piece spongy covering removed.',\n",
              " 'As Plantronics headsets I owned problem connector jack movement wire causes headset loose contact plugin jack point ready garbage bin. When new work good excellent sound quality.',\n",
              " 'Its perfect dont smartphones headphone jack. Sound quality excellent makes multitasking easier. Long wire phone pocket problem.',\n",
              " 'This actually lightweight comfortable phone headset. The problem phone rings pick takes attach ear. Also speaker covered foam picks ear wax gets dirty extremely quickly item want share someone. Once past problems sound quality good easy wear.',\n",
              " 'This didnt work phone. It cheap I ended giving away cheaply',\n",
              " 'I got sick xbox microphones breaking I decided buy work.Unfortunately didnt work well. I got sound microphone worked I got lot feedback echo. Worst supposed block outside sound didnt all.I know designed xbox I going star. I dont home phone I havent tried that.',\n",
              " 'Purchased total far.. st sound seller replaced immediately.. purchased use coworkers instead . apiece ones given verizon purchase.. Stay ear work well...',\n",
              " 'Does supposed comfortable wear. The downside slight whooshing sound ear piece caused phone.',\n",
              " 'This item useless. The plug far small fit phone despite description fit \"LG phones\". I DARE doesnt fit. The DARE uses standard jack thing . mm whatever. Who uses tiny plug? Ive NEVER seen size cell phone You pay for. This item joke.',\n",
              " 'This headset stay ear matter hard I tried. I like fact small sounds OK person line hear OK great But I figure ear holding defeats purpose having headset I ordered apiece shipping buzzy used. I recommend product. I went head headset Jensen VERY pleased',\n",
              " 'It liked broke user wanted product replacement. I ordered .',\n",
              " 'I purchased headsets years ago happy it. Well husband tried decided needed lot driving work. I happy available better price I paid way back.I love I use cordless phones cell phone. I prefer corded sets better sound quality. I love earpiece fits snuggly lobe. I wear glasses works great. I style wraps head depends handset I pick up. Highly recommend prefers corded headset.',\n",
              " 'easy product I hope buy arrive time way I waiting hurt ear',\n",
              " 'More importantly point thing goes ear cheap little foam pad wear quickly. When arrived little pieces inside plastic bag shipped in. No box packing cheap bubble wrap rubber band chucked bag. I realize super cheap month. Is now? I wish Amazon be... selective offer sale.',\n",
              " 'Not sure stay work well. I purchased headset mother complained',\n",
              " 'Sound fine headset Mic work all.Waste money worth returning.',\n",
              " 'The earpiece stamped \"Verizon\" different finish pictured. There packing slip enclosed USPS envelope came showed \"ACCSTOP\" Oxnard CA. For . I guess doesnt matter item pictured. It came little plastic baggie represented new.Cannot try .mm adapter arrived item earpiece set purchase.',\n",
              " 'I purchased different Jabra headsets comfortable easy hear poor microphone quality. I thought I try model MX Flexible Boom. Again sound quality crap. I living phone able hear important.I ended getting Ge Tl Earset Microphone Jasco worked best far.',\n",
              " 'Ive bought things shared friends & family rave them. Its comfortable fits ear sound quality especially noise cancellation mic stellar driving noisy freeway person listening know youre car.I tried Bluetooth headsets thoroughly unimpressed charge add latency add extra compression artifacts audio clips you.This headset disadvantage having wire /th price Bluetooth headset wont cancer. Ever I got large benign osteoma skull suspiciously months heavy cell phone use Im bit paranoid cell phone radiation.The jack smaller size . mm unfortunate smartphones days .mm plug headset headphones. So I got smartphone I ended buying half dozen adapters I love headset much.',\n",
              " 'I got pair Plantronicsbranded headsets Verizon OEM packaging plastic bag coming \"universal\" adapter microUSB male .mm female. The price substantially unit. But small issuethere sets pictures product represent different units. The right plastic bag clearly labeled MXxxxx identical I have. Note obvious button showing plastic mutes turns voicedials Blackberry things models. However photos headset control buttonnot different button This wonder sold MX. The issue color. Its clear black gray choice. From photo assume dealer supply gray ones I sure. This exactly item buys style points compact looks bulky face minor point good clarity.But far product goes perfectly functional purposecheap branded headset specifically complement BT set replaces charge runs out. Ive number cheap free headsets enclosed phone virtually awful raspy tinny sound. Thats I want headset . But I needed emergency headset fit bill. The sound quality far superior noname headsetson ends. Its better average Sony/Ericsson handsetI add headset Sony deliberately puts crappy speakers Ericsson phones buy headsets. When traveling NY DE state requires nohands phone essential quickly disconnect replace discharged BT headset. I qualms one.UPDATE months later I got sets friend fit phone rejected compatible. It cheap ATT/Nokia handset replace lost phone I surprised compatibility issues. But meant I got extra set. About month ago sets died phone got yanked hard probably loose contact. At I problem tossing pulling I left having spent total including shipping. So aside Nokia compatibility complaints.',\n",
              " 'The ony draw product corded. IF product wireless Exceptional. I love great sound cofortable ear plays different ringtones callers know whos callings.',\n",
              " 'Bought gift. Didnt feedback giftee. But Im sure working fine. Price good comment on.',\n",
              " 'I old style flip phone uses .mm plugs. This works clipped ear I use chat hands free.',\n",
              " 'No problems connecting preexisting phone work. Ear loops comfortable I ordered head neckband Plantronics Neckband CS/M waiting delivery. Highly recommended headset regardless',\n",
              " 'Like people I owned multiple styles headsets varying degrees success them. This Plantronics CS simply best unit I used. The unit worked desktop phone answering office. I phone day hours rough day.I got tired holding phone ear office hours feet away desk missing important I waiting for. This device solved problems. The headset unit gives answer end control fingertips volume mute control. It gave remote ring detection allowed feet away desk catch important call. It operate hours desktop control stand charged headset I meeting lunch.I Plantronics HL Handset Lifter touching button headset I answer phone remotely ease. The sound going ways excellent I issue unit. Other designs I tried clear people complain hear me. Not unit. The noise cancelling mike cushioned ear piece excellent communication comfortable wearing long hours day.The unit fast recharge time hours charge empty. The headset extremely light comfortable phone transmission digitally encrypted security privacy. This tool I buy I setting new office today. It great',\n",
              " 'Very clear transmission calls incoming outgoing. Easy integration current phone system. I buy needed.',\n",
              " 'I took start I think headsets ~ getting best deal I The plastic housing charger unit sturdier f going charge consumers prices haves items like this.That said day I hour conference work I edit review later. I impressed far. The setup super easy. I plugged VoIP phone away I went There description &USB& unit hooks phones headset port regular old telephone jacks input. There USB model. The company USB model it. I called Amazon confirm I ordered rep looked helpful.I mute feature I like beeps remind I muted. I business person end hearing I I hear said end.Overall I phone day work home like I',\n",
              " 'I purchased FIVE wireless headsets time office workers. One tried work finally gave up. She kept getting feedback sound headset call. I dont know walls making feedback problem stop went wired headset.I headset problems constantly annoying pulsing feedback.One quit working week.Problems headsets like pretty poor odds me.I try different kind time...if time.',\n",
              " 'Mine died I needed new one. Works perfect like old one. Good product recommend anyone.',\n",
              " 'Ive headset years + I remember exactly I got it. I giving stars forsimple set upgreat sound qualitysolid talk standby timecomfortable variety wearing optionsdurability serves purpose + yearsI taking away star reasonsOver course years charger gotten finicky. If I dont place headset right jiggle little sure good connection doesnt charge. Not tremeendous problem rare occassions I forget double check I charger I end dead headset.There noticeable buzz line use phone handset means MUST use headset. Ive looked set way connect wires I dont believe way avoid this. The simple solution use headset fine but......on occassions headset dead youre left great option. When happens I end having use speakerphone phone headset charged again. Not big deal I people asking \"talk speaker phone\" I explain I cant.Since model older negatives fixed recent models. Since unit sale apparently people buying I I write quick review.One thing mind.....know getting this. If typical desk phone need physically lift handset answer calls physically lower handset end calls. You remote lifter lifting Ive I comment them. Ive heard mixed reviews remote lifters research. Regardless know typical desk phone i.e. home office phone line going phone You tap talk tap end call. Somebody raise lower handset. If \"soft phone\" calls inernet office environment PBX type I comment. My experience stictly home office environment.',\n",
              " 'I bought son &This great case held phone waterproof cold weekend trip. My pack got wet case kept phone dry. I recommend needs tough waterproof case.&',\n",
              " 'I got otterbox hold valuables pool summer. It perfect size I need completely waterproof crush proof. I paper inside held water dry bone. Then I pound son stand nearly pounds crack.',\n",
              " 'durable water tight use backpack medical supplies dry clamps hold tight solid click shut',\n",
              " 'This case works great My wife I taking kayaking needed way protect phones. I samsung galaxy s blackberry bold . We phones cases immediately plunged water test sure didnt leak. They worked perfectly My wife flipped kayak true test righted checked phone dry be.I recommend wish padding came phones bang inside bit. Ill inside price I think included something.',\n",
              " 'The product okay better. The problem I latches came immediately receipt item trying open time. One easy open sticks requires extra force open. The latches apparently designed removable I able slide place hard unlatch I pulled totally occasions now. I glue place fact removable makes wonder manufacturer planning breaking eventually. Why designed easily removed?The second problem I came flying it. There pressure release valve getting hotel I attempted open case not. I use pocket knife pry open fine I ground fine I plane I allowed knife. Upon returning home flight I able case open knife easy. Since I bought battery backups long flights I dont think work needs.Edited Add So far I issues opening box plane. I problems I land need pried open air opens fine. I aware fly need tool pry open landing.',\n",
              " 'I filled charging cables dock lightning iPhones iPads car chargers wall chargers needed power mobile devices traveling... conveniently placed easy grab going knowing dont worry forgetting cannibalizing cables house. Keeps safe secure dry.',\n",
              " 'This phone amazingly small light camera phone flashlight/flash. Problems phone I real problem . The battery life worst phone Ive owned. It MAY days stand IF I dont use I use phone minutes day charge. . No voice activated dialing. I like use speaker type hands free kit car I dont look phone answer talk dial. I think phones it. . It user friendly. The menus logical confusing. . It IR doesnt sync computer. You transfer anything. I dont it. They software cable purchase let backup phone numbers enter photos syncing Outlook PDA else. . If buy ring tones wallpaper up.I love phone size weight color I easy hold talk with. The sound isnt best isnt bad either. It rings nice loud putting vibrate easy. I phone standard cell phone holder car camera button long key holder makes camera come on. I small holder grabs small area side. Ive purchased additional batteries kind charger available average use battery hours regular phone use minutes day use &quottzones&quot minute month months Ive taken total photos transferred data twice. The battery lasted days ONCE I home sick didnt use phone hour day I replace battery times completely discharged. Im use battery lasting days like phone says last.I like TMobile. Their customer service good features offer web site great prices wireless modem wireless web incredibility great national calling price plans good compared I?ve seen elsewhere. I AT&ampT bought L.A. Cellular. The customer service great years got bad I?d wait hold hours couldn?t person days.',\n",
              " 'I dont want rehash stuff thats said phone. Heres told I bought You use Infrared port phone transfer data PC. You use infrared phone wireless modem Internet connectivity works EasyGPRS software provided manage phone entries etc. work Infrared. Ive checked online support forums phone I heard actually this. When I called tech support suggest I buy data cable read shell purpose. It misleading phone IR equipped use crippled.BTW I gave phone stars sleek looking great phone.',\n",
              " 'This phone ugly heavy terrible user interface techies like myself. It drops calls like crazy Manhattan. The Moto V better phone takes better pictures gives better clarity reception smaller cheaper. Get Moto V want TMobile. Stay away ugly monster.',\n",
              " '..and Im Europe phones networks better States. I I think Samsung currently best software I huge Nokia fan. Amazingly light intuitive great audio looks great. I recommend reservations whatsoever.',\n",
              " 'I Samsung V I decided try E out. FYI people battery problems kind batteries let drain completely charge it.. kind like building battery life times improve battery life immensely. Ive TMobile customer I stay They no. customer service Great rate plans It works great I need mostNow additional features V didnt little gadget Caller ID pics.. wont able external display flip open youll persons face. The camera flash zoom. And able pictures gray black white negative sepia sketch. Also multishot lots different kind frames pictures.You download games E v. Furthermore games actually java E The flash serve flashlight. Which useful dont know youre walking light pretty bright. Voice memo.. nuf saidOtherwise usual features. It alarm calculator calendar list MMS SMS download ringtones big help ringtones sound pretty crappy games pictures. Pretty usual stuff phone.. wont bluetooth this.Another thing external display like bluegreen thing black background.. pretty cool wont press button time... lit well. Also pictures lookin external display bluishgreen color saved look color worries there.Overall I enjoyed phone problems really. Another great thing doesnt annoying external antenna way good buy.',\n",
              " 'I recently moved Phoenix Arizona thought good time new mobile phone. A friend recommended Nextel saying wed use direct connect function. Cool. So I ordered Amazon. After charging activating waiting required day I called phone number. It Palo Alto CA number? Thats miles away An hour drive state. No way close local number. Nextel understand care. &quotIts closest have.&quot &quotThere area code phone numbers left.&quot I begged maybe number local Phoenix. Nothing doing. After days calls Nextel went I called Sprint customer service stars past minutes local Phoenix number working current Sprint phone. I canceled Nextel service. They charging expected plus . taxes fees assessments &quotwe change&quot couple days I called customer service.If buy phone I hope Nextel local area code dont stuck . Amazon return. It pretty color screen . . .',\n",
              " 'And pretty worth sign plan phone . Otherwise little pricey. The gain feel good buying plan remorse there. Its difficult tell picture bigger bulky. The features little better. And course GPS nize.',\n",
              " 'Ive glanced reviews looked overall review phone think little underrated. Ive couple weeks try battery life usage days I use phone short calls times day. The phone doesnt squeak squeezed construction tight flip screen doesnt wiggle much. I saw complaints weight phone complaint metal battery panel. Its called quality quality weighs little phone makes pants fall hooked jeans buy belt. The phone employs java applications download programs fit needs nextel cost. You party sites ringtones wallpaper etc. The phone uses GPS locate approximate position free software directions location free navigational software called telenav. The quality speakers microphones phone great. The speakers loud hear different rooms house quiet barely hear them. The sound crisp direct connect. Also answer slams nextel dont listen it. The problem tech support operate / customer service good service based organization Ive worked with. This phone featured isnt exactly PDA phone software capability k color screen perform functions PDA. Great phone nextel services area wont disappointed.',\n",
              " 'Other high initial cost I got promotion duh love compact stylish phone. Its best Nextel offered theres rumor camera phone coming soon. If wait wait bit longer walkietalkie style cellular Nextel best. No delays like Verizon seconds Sprint secs. Walkietalkie actually works theres coverage. Im happy customer.',\n",
              " 'I dont phone. I cheaper Motorola Nextel i. I friends phone \"downgraded\" i.The main reason I chose signal strength. consistently gets better signal matter friends phones I compare too. All friends wireless plan Nextel I I know service definitely phones.I bars phone including little antennae icon friends phone held right bars. My phone gets signal places phones \"Out Service.\"Now maybe friend dud phone. Well I friends friends Nextel better signal compared is. The gets good signal significantly expensive too.I sure phones based hardware software drastic differences signal. The thing I think hardware added external screen interferes antennae hardware somehow.Other signal strength compared cheaper basically identical external screen pretty good phone. Lots features solid durable construction good battery life. For signal important silver case external screen like things decent phone use.',\n",
              " 'I great phone Nextel service great also.As review moron Denver You need service open mouth fool self.People review clue goes stupid people breed.I IcIcl great alarm buy clock need alarm.The screen little smaller brilliant color makes itthe sound good phones I had.As service I carrier state Colorado Nextel best thinking Verizon push talk sould push wait.If want best phone service best.',\n",
              " 'I hash things wrote reviews mainly focus problems Ive phone course year Ive it. Battery life nearly good advertised lasts hours I admit phone need swap batteries extra charger wire charger charge phone story altogether However cranky old Samsung generation prior e days extended battery greater amt use. Familiar problem phones earpiece quiet. Softwares pure crap phonebook intuitive save phone numbers different peoples names No mistake checked times spoke sales rep said occur phone. Poor reception said Samsung better reception buildings. And wasnt Sprint service Tmobile Sprint equivalently bad. Setup panful readjust setup options/ringers.Overall I dont like phone all. Very poor fundamentals looks cool useless cool camera.And judging Motorolas friends Nextel models aside I dont think I want Motorola product. Whens new Treo coming again...?',\n",
              " 'A phone got lots useful features functions.ProsVery Good reception. Works great inside buildings.Clear beautiful color screen camera. One best thereConsThe buttons kind small needs getting to.Little bulky compare Samsung flip phones. But things better Samsung.',\n",
              " 'The screen went S TMobile wanted buy phone warrenty up. From deal Im seeing wish canceled got new account thats effort.... anywho choices boiled getting E v. I chose v b/c extra gadgets mainly camera speakerphone thought rep said samsung users hard time getting Motorola OS.She wrong Navigation phone breath fresh air I preferred phone book layed better S easier use phone TZones functional Im going upgrade plan allow internet usage There better seleciton rd party applications games phone makes better usability IMHO.Reception far tell meaning signal strength. Clarity tad better S worth chosing this. If slightest background noise sound same. The S identical size E smaller... bid deal me.Bottom line If prude clarity size E. If want phone making calls v higher.',\n",
              " 'Ive phone months chance use features. Most pretty standard cell phones days things worth commenting onGreat speakerphone. Very loud clear sounding ways.Decent battery life. Almost lasts week minimal usage days heavier use.Battery meter inaccurate / charge. Seems chronic Motorola phones.Nice clear display. A bit hard brightest sunlight problems.Camera average quality best. Takes okay pictures new wallpaper thats it.Serious annoyance One buttons remain exposed phone closed controls type ring/vibrate. Its loud dont phone silent/vibrate only. Basically quickly change phone loud ring silentsay theateryou loud noise. Very short sighted. And button exposed phone closed end hitting accident bit.Overall Im pretty happy phone. I couldve chosen smaller phone better camera speakerphone speakerphone price. ... Cant beat value.',\n",
              " 'First quick confession I like TMobile. I hated lack coverage bad service.That said v good phone. I wont rehash long feature list here. What I like playing friends loud ringtones good reception despite lack GSM coverage Brooklyn great styling. This phone Motorola se Asian partner maybe explains &quotgirlish&quot styling pretty cool. Of course light weight good battery life standout.My favorite phone Sanyo VM video camera walkietalkie speakerphone cell phone Sprint PCS...',\n",
              " 'This phone purchased TMobile plan replace Nokia phone AT&ampT. I changed phones service old phone reception inside buildings. I chose V external antennae. I phone weeks I pleased. The reception bit tinny overall I problems dropped calls.I text message frequently phone offers choices writing text. The intuitive text entry method phone guesses words trying type displays screen choose. This method supposed save time I gotten hang it. The second method tried true press button letter method. My problem phone buttons shape spaced apart makes text messaging bit trickier first. Plus numbers letters written buttons light I shift angle phone order read buttons. The light text issue vision problems.Overall I recommend phone. The reason I gave stars instead I think Motorola needs darken text buttons users like text message vision problems.',\n",
              " 'I recently plug trip. I Chile Argentina worked perfectly. I recommend set.',\n",
              " 'They look cheap work great. I took trip China problems all.',\n",
              " 'UPDATEThe person actually adapters year old grandma reported Bassano Italy worked charged phone issues. So octogenarian deal speaks volumes productIn case iPhone overseas issues power converters moot. All plug US style plug adapter. Even work own. So plusThese little adaptors look like price right.i add I',\n",
              " 'Bought trip Europe Netherlands worked perfectly kinks. I pleased purchase.',\n",
              " 'I happy purchase. Just returned Europe trip I convert charge electronics Iphone Ipad impressed.I concerned fry Ipad I assured Italian gentleman electronics store fine wasSo I recommend this.',\n",
              " 'I bought set adapters specifically trip Europe. There different Europe plugs I took worked I went.I adapters primarily Denmark Norway worked great gave problems charging iPod iPhone iPad camera batteries etc.Note numbers plugs numbers correspond cardboard insert let know use plugs. It better plugs information numbers I didnt I numbers them.I undoubtedly adapters future trips Ill updated.UpdateHave Thailand worked great.',\n",
              " 'Works supposed lightweight compact economical. Covers nearly plug Ive needed Asian India.',\n",
              " 'A months ago Sabrent sent samples car inverters try I pleased far. This review honest opinion.As I mentioned previous review power inverters new years. Still mobile devices spreading like chickenpox kindergarten I seen upsurge USBcharging inverters market. This particular charger offers dual USB charging A .A ports standard power socket. Lets cut chase inverter functions excellently.Form area I issue Sabrents fault. My Subaru Outback AUX power cigarette lighter low console right shifter inverter plugged actually dangerous USB cables sticking out. If youre boat I highly suggest inverter Sabrent WHalf star taken bulkiness product half star taken I LED bright distracting nighttime driving.If space excellent converter solid price. Recommended reservations some.',\n",
              " '',\n",
              " 'Its problem charging mobile devices youre driving devices charged USB port built vehicle newer models USB chargers fit vehicles power port aka cigarette lighter. But lot small electrical appliances work AC power devices volt invehicle power inverter answer. I bought dedicated power adapters laptop computers expensive usually work particular model laptop. I tried Sabrent watt inverter Subaru worked fine providing AC USB power. I ACpowered camera battery chargers AA battery chargerCanon G battery charger wattsNikon D battery charger wattsMaha AA battery charger wattsI inverter charge HP laptop laptop. The laptop uses maximum watts running inverters limits. While inverter AC devices I recharged Android smartphone A USB charging port.One caution Every vehicles electrical maximum rated power deliver vehicles power port. For Subaru Forester owners manual says watts. Trying power device devices exceed limit likely blow fuse. I note Subaru sells watt power inverter vehicle costs Sabrent inverter small fraction amount.For need AC power vehicle Sabrent inverter good option consider. The inverter available watts Sabrent w Power Inverter .AA Dual USB Charger v DC v AC PWCU watts Sabrent w Power Inverter .AA Dual USB Charger v DC v AC PWCU.A product sample provided manufacturer review purposes.',\n",
              " 'Bought thing years ago stopped working. It little noisy seat fine. I havent recently needing it.',\n",
              " 'A nice power inverter especially price. Just aware wattage required youre trying run. I purchased intending operate coffee pot result. After research I coffee maker needs watts run.',\n",
              " 'Im standing room TV blasting feet away. Talking Hertz reservations tell voice clearest heard day b dont hear TV all. I replace unit old earphone. \"Now voice sounds muffled\" said \"and I hear TV loud clear\".I stories like this. Walking busy noisy street Etymonic makes voice clear noise traffic wind. My old earphone exaggerate background noise.I use foam ear piece comfortable stays place. I dont like hard plastic ear pieces.Nice.',\n",
              " 'I started headset days ago. Sound good. You speak normal volume level heard. I dont use outside though. The earplug sense underwater way blocks ear canal. But thats blocks noise. I think money sort volume/mute control cable. But I knew wasnt I bought it. My complaint comes case headset doesnt fit bending microphone stalk Im comfortable that. Its sensitive equipment filter earpiece I know Ill change eventually included tool shouldnt left open collect dust. Why case accomodates accessories?UPDATE // After months headset I I mildly annoying. You feel like youre hearing water thing jammed ear little bit violating.... I wouldnt recommend shopping headset. I bought hard headset compatible AT&T .',\n",
              " 'The sound headset excellent advertised. The trouble getting stay place I around. Im talking playing tennis Im talking driving car having boom slowly swing downwards away mouth. The ear plug stays place I hear boom swings downward mouth pulled gravity person Im talking hear well. The thing works regard Plantronics hooks ear lobe noisecanceling I hear wind noise gets high car. The ones hook ear hurt ones plug ear usually fall out. This better stays ear having boom pivot away mouth real problem. I tried bending hangs ear swings forward mouth center gravity tries swing lowest point Id boom twice long plan work.',\n",
              " 'As picture device merely ear canal insert microphone cord dangle. It feels little awkward youre moving stay long youve \"pulled ear back\" inserting creates clamp effect ear canal rubber insert. The earset light work way. The problem cable drags gets bumped clothing jiggles things. You clip cable collar sure optional like overtheear headsets. It comes little Yshaped adapter lets use SKYPE PCbased systems. Interestingly works fine earset little whistley electronic noise Etymotic I dont hear matter close I listen earsets I have. Its noticeable conversation starts. Overall use I dont better couple dollar overtheear earsets Radio Shack stock longer do. It reported way better wind noise I havent tried that. It comes couple fluffy black sponge wind masks mike bulb.',\n",
              " 'This far best wired wireless headset Ive dozen. It comes headset medium length cord .mm plug small large windscreen .mmline in/ line adapter PC carry case plus different sized earplugs cleaning tool. I use hrs day averageProsVery high quality speaker. Like high quality headphones phone good signal sounds great youll hear lots distortion poor signal. I use blackberry femtocell sounds good high quality landline. It didnt sound good HTC Samsung CDMA phones indicative quality phones voice circuitry.Great noise cancelling microphone windscreen use outdoors strong wind mph. Background noise muted callers usually amazed I cell.Works glasses hats unit held place friction. Its light works well. This makes great outdoor activities.Cord perfect length designed work phone belt clip pants pocket. Form factor great takes little space.Surprisingly friction holds unit place. It pretty durable sitting dropping itCheap performs better Jawbone/Plantronics bluetooth variety radiation risk outperforms high end corded headsets center sets theBoomCons.mm plug. Every modern smartphone uses .mm. Time update.Uncomfortable itchy extended hrs use. The plugs soft plastic need air ear hours discomfort',\n",
              " 'I BlueParrott I forgetting turn bluetooth paired Ive wishing wired headset noise cancelling ability long while. This it.On motorcycle hear engine windscreen good low speeds sans windshield mph smaller windscreen starts letting noise through. You hear stereo blaring. I slightly able BlueParrot boom doesnt reach corner mouth. But I problems noise coming right angle.It isolating insert blocks external noise need earplug ear noisy environments.A nitsThey cases windscreens tend squished. A stereo dual mono version welcome. The boom bit longer.Only negative dont include iPod/Blackberry/someAndroid conductor .mm adapter I several. They VoIP adapter.So maybe perfect way \"handsfree\" wired headsets I isnt expensive does.',\n",
              " 'I bought USB hubs past failed. plugging powered devices work.This USB Hub I usb powered hard drives external DVD burner plugged work problems This best Hubs I found.',\n",
              " 'This usb port sleek functional. It plug play. It come power supply case power hungry peripherals. Even works fine power supply I chose use recommended manufacturer. It comes lifetime warranty. I CyperPower UPS reliable I expect little Cyber wonder less.',\n",
              " 'Its nicelooking product. It like I liked it. But...My unit electrical problem. I connected portable external hard drives powered external hard drive printer external DVD+RW drive mouse keyboard. Then I plugged in.First I noticed mouse didnt work. So I unplugged plugged one. \"Thats strange doesnt work either\" I thought. \"Hmmm whats smell?\" Turns smell hard drive frying. Once I figured I unplugged waited.After hours I figured cooled I started testing devices. One portable external drive \"sort of\" works. I file structure copying attempts fail. The powered external hard drive worked couple days quit. One portable hard drive worked again. The optical drive works occasionally typically wont boot. Occasionally printer works. The mice worked again. And keyboard fine. Everythings tested different PC systems Linux system.The worst part? Those redundant data storage. I lost everything.',\n",
              " 'Over reviews rate theCyberPower HighSpeed Port USB Huba good excellent product adding usb devices PC Mac desktop laptop. I dont disagree. I think works promised wellbuilt reputable company backs product lifetime warranty. I like solid base layout device. Its powered AC adds ports computers plugandplay compatibility. No driver disc software mess great. Mine makes wonder I waited long swapping things instead hub.So whats wrong it? I product star rating I shut blue power light bright illuminates home office nightlight Since room doubles guest room great able shut light unplugging device.',\n",
              " 'I USB adapters I knew with. Enter cyberpower port hub... I pleased it. Im techy day user. I use hub iMAC works seamlessly issues. I bought friend pleased well. Like I said says little effort works technically challenged.',\n",
              " 'Okay little guy ROCKS When plugged outlet support HDDs external ODD printer issues. Also I misplaced power cord I called company... WOW free NEXT DAY shipped replacement. I DEF. buy use need arises.Also time purchase year works perfectly like day I got it.',\n",
              " 'use product months great job dlink kept losing connection middle transfers threw away works.i use lots usb devices TWO ONE work fantastic. copy movies personal video player network hard drives fail. ones stop sending packets middle trasfer. printers scanners video capture mouse keyboard tv external hard drives flash card readers docking sandisk mpeg player docking ipod player external game updating firmware wacom drawing board adobe cs attachments hook off. hubs works.downside ive learn tricks windows xp keeping track drive letters changing party programs tried id use disk manager myself.you need little cable management unit small volume cables attached physically push cable ties electrical easily takes care problem.',\n",
              " 'I like hub. I Acer One Netbook I use hub power cd/dvd external drive laptop cooler pad tb external hard drive. My cooler pad usb ports I memory card reader plugged that. Everything works fine. Sometimes I unplug cd/dvd drive netbook read properly. I problem hub I think drive. It works hub though.This small. The main picture makes look huge palm sized. I took vacation fit fine carryon. You dont need stand it.I like port I need plug usb drive.',\n",
              " 'I use hub Mac great. I plugged USB port MacBook Pro problem it. You optionally power device included AC Adapter lights bunch green lights brilliant blue light green lights. This blue light extremely bright size need covered sleeping room it. I plenty open slots additional devices. If device vertically stand USB slot attach flash drive effort. Everything Mac recognized ready plugged in. I highly recommend hub nice price powered.',\n",
              " 'I older ony usb ports laptop usb ports. I external drives printer devices require usb disconnect plug Works great. As far small flash drives require external power idea. hope reviewer elaborate that. In case worth money. It stays forever lit thats okay. It look funny years lights extinguished.',\n",
              " 'Great hub. plug actually plus came power larger items too. I dead usb ports.',\n",
              " 'This little hub brand blow ports. Terrific dental OPs running digital equipment. Provides local hub source cabinet located underneath. Easy access works inexpensive. Be sure use port camera port digital x ray sensor label ports.',\n",
              " 'Because proliferation USB based products USB hub neccessary ever. If multiple USB based devices printers keyboard mouse flash storage USB speakers iphone/ipod jack want consolidate devices single hub hub job well.This devices works equally Windows Vista Mac OS Leopard Snow Leopard.It half size medium sized hand.Each USB port dedicated LED light. The LED light indicators little brighter I like. It MAY bother extremely light sensitive sleeping. But cheap way alleviate problem cover LED lights tape.I device hub USB devices MacBook Pro device works flawlessly including USB speakers.',\n",
              " 'I use MacBook I connect items time including USB keyboard optical mouse iPad iPhone webcam external hard drive light o Rama controller Christmas lights. This thing works great provides plenty power devices. I havent seen slowness webcam iPad/iPhone syncing copying large movies external hard drive. This guy works great I disappointed performance. I bit disappointed design. This sit corner desk need plenty room sides allow USB cables plug in. I design like tower plugs another. That said current design offer added stability hub falling over. Overall great performer decent design.',\n",
              " 'Does meant light like looks on. Bought Magic Jack hearing echo & ID doesnt work. Echo fixed problems caller ID. I use charging PS Sony bluetooth headset & controllers.',\n",
              " 'I surprised excellent powered USB hub money I paid identicel years ago. Somehow misplaced power adapter I ordered mainly I power adapter. The older hub works fine I use adapter I run USB . Hard Drives TV Android minipc. My grandson wanted hub Playstation slim sees lot use. He uses video gaming multimedia center. He accidently damaged USB ports limited having USB port.I gave hub. He happy friends want',\n",
              " 'It reliable & works power adapter. But cables plugged tips easy & far bright bedrooms. So actual function stars. But considerations . stars. So USB faster I . stars.',\n",
              " 'I USB doubter I thought USB wouldnt catch on. Was I wrong Without hub I wouldnt USB ports plug inOver past years Ive gotten number USB hubs handle problem. I bought port CyberPower Hub vendor use work. Its lasted day day use years. One heavy use I use password manager USB thumbdrive gets plugged twice day. The CyberPower hub work doesnt mind.The hubs home USB ports motherboards loosen good grip USB thumbdrive. So home hub flaked I decided hub I know works keeps working use home.The drawback hub LEDs it. They little bright useful. However problem work home hub hidden monitor. I wouldnt want use bedroom.If youre looking reliable hub it.',\n",
              " 'I gave stars says high end doesnt promise miracles I wont stars simply theres terrible delay comes sleep mode time actually recognizes hub com ports PC average seconds. So Ill sitting waiting enter password like idiot hub finally recognized PC. And good PC brand new problems USB USB hub concerned.',\n",
              " 'I bought based good user reviews popularity. I replace older DLink USB didnt work macs PCs I DLinks. I hoped Hub actually work unlike DLink hub job greatI bought hooked PC Mac plugged devices each. Everything worked I use power sure I charge I wanted to. This hub works perfect LEDs look awesome.Very happy product buy I needed USB hub. Of course Im sure . versions soon start proliferate great USB hub priced get.',\n",
              " '. The USB ports sides spaced far apart I use slots. And great thumb drive.. The lights cool. It works great. It stands time I came office morning biggie. I righted fine day.The weighted base difference I think heavy taking away portability feature.. Did I mention works great. My laptop problem going sleep. It instantly recognized. All devices Ive recognized. I dont know reviewer meant making noise. Mine absolutely silent.. I agree need scissors knife open clamshell packaging biggie.I liked I bought second',\n",
              " 'Easy use.....you clearly function lights unit port active. Have year going strong.',\n",
              " 'Product good advertised. It works I recommend product usb access laptop desk top.',\n",
              " 'ProblemIt theres plug USB port laptop Ive long run ports plugging. In desperation I bought port hub working fine thank I ports job. And idea daisychaining practical desk overloaded.SolutionEnter CyberPower port hub. Spacesaving solution running ports. And power supply draining power laptop. Works like charmI glow light annoying easy unplug hub I finish working evening big issue me.Im happy camper I wholeheartedly recommend hub need ports small space. I commend Amazon superfast delivery. Problem solvedP.S. Mikey cat. He likes hub shows periodically knocking desk.I prefer Mikey didnt like',\n",
              " 'This excelent USB port option power . Ether pluged A/C outlet power devices nice option',\n",
              " 'A good high quality USB hub. Windows recognizes plug hub USB ports nice tight.I opinion USB . hub CyberpowerCPH quality hub chart. You plug DVD player web cam thing work perfectly. My complaint lack method securing table I suppose double sticky tape fine. The rubber base piece removable lay flat well.',\n",
              " 'This great hub good months. Highly recommend buy additional needs.',\n",
              " 'ok USB . hub . hub supports USB need. Plug count/location followsAlong left right sides It USB female type A receptacles bigger USB connector normally PCOn near th USB type A receptacle unit stand USB mini type A receptacle connect hub computerand finally left theres power input external power supply.Ive hub use year held multiple plug/unplug cycles. The blue LED unnecessary indicate power green LEDs port. Ive plugs keyboards mice HDDs thumb drives. Ive problems.Overall solid small hub recommended need USB . plugs.',\n",
              " '[Apart minor issues like stability \"weighted\" base hub consistent heavyduty performer holding price point short exactly years Ive award stars order identical model wife. But months hub behaving completely opposite expectations. It goes totally dead hard drives telling theyre drawing power hub shutting I remove them. But hub naked exception tiny flash drive remains dead dark noncommunicative. It comes life I disconnect AC power rely power supplied USB ports. Thats fine I need TB bigger hard drives showing computers desktop startup. Im rep order idea whats going theres fix Apples latest update OSX? Ill pending info.]I realized I needed port hub checked DLink Kensington Belkinthe usual suspects. Then I chanced unlikely contender looking like jukebox Amazons picture hub. I intrigued offbeat design noticed price competitive couple presently offering rebates free flylight sweeteners. Now Im looking CyberPower USB port \"in person\" I provide initial impressions. Its lot smaller picture imply. Compactness nice want hub stay allows sufficient space adjacent plugs.. Although hub designed vertical horizontal use added welcome weight detachable base makes vertical use sensible option. Otherwise youve got lightweight fairly generic loadedup plug easily dislodging USB miniplug necessary evil small cameras end USB . cable.. It handle equipment USB power supplied I breathe easier included AC power adapter. To manufacturers credit slimmer lighter wallwarts Ive seen.. The flash drive mount practical unique. Now I finally use old Sandisk thumb drive taking space USB ports.. The individual port lights time unlike hubs indicative presence absence USB device.In conclusion reliable performer convenient eyecatching deviceproviding vertical look. If I suggest design improvement \"fatten up\" tower wide permit horizontal insertion USB devices hub vertical position. Doing assure unforced accommodation USB plugs spacedevouring ones. Biggest \"gripe\" vertical design real stable. The hub easily dislodged base bounces bit. If I Id look heavy domeshaped Kensington.[Revaluation years I tried Kensington. It stable reliable. So I returned CyberPower base vertical position. I velcroed wooden surface desktop machine printer GB storage drives inputted rear USB cable USB iMac flash drive connected hub. Absolutely problems. This item continues rise popularity price good. Should fail I doubt theres hub available surpass it. Forget \"cuteness\" factor thing business.][ years later This \"off brand\" hub continues Amazon bestseller hubs like Kensington \"round mound\" fallen map proven winner. Only lately Ive difficulty getting recognize large TB hard drives. Before condemning drive I going try different cables maybe manufacturer. Otherwise step . USB hub hub dedicated switches permitting assign powerdraining devices ACpowered inputs allowing devices iPods mouse receivers flash drives printers etc. run sheerly USB power.]',\n",
              " 'For product built cheap. This means overtime ports simply stop working...why? Im sure...perhaps cheap components slight bending?Secondly support charging time. If plug apple device youll error charge sense.This . USB hub .. Many new devices require . near future. For instance new webcam hates plugged hub performance greatly drops.Lastly Mine destroyed slight drink mishap. Nothing wrong device than...it stops working time time I clean ports small water work again..just annoying. Additional Notes The Stand horrible. It wont stay especially multiple cords attached pull directions like power cable. It falls easily snap basically slightly heavy stand \"rests\" of. Useless It glows neon Blue. Why? Im sure. I like matches setup bright Id \"power\" devices.Finally This device likely support devices plugged time....I work...maybe.... given point. Eventually ports simply decided \"not work\" entirely completely stupid I rarely ports begin with. This think wrong device wasted time trouble shooting. switch ports In words...dont buy device...get cheaper hub slots . hub features.This cheap...',\n",
              " 'This nice USB . hub. It works way better port DLink replaced. The LED lights bit bright issue hub lives floor setup. I agree nice able turn bright cover strip tapeproblem solved.I impressed hub recommend it.Noteit actually smaller looks pictures.',\n",
              " 'My newLogitech G Gaming Keyboard Black/Silverdid work I plugged myDLink DUBH High Speed USB . Port Hub. After researching bit I bought CyberPower keyboard works fine. In fact lots usb things work plugged directly computer. Im happy it.',\n",
              " 'I needed self powered USB hub iMAC selected CyberPower.It works advertised comes plugin power supply. I leave Palm TX hooked charge it. The drawback thing loaded LEDs stay powered power source. If thing sleeping area light sensitive youd unplug it.',\n",
              " 'This device wonderful light weight portable works excellent. I purchased replacement USB hub use laptop like tuck easily. Great quality product.',\n",
              " 'Ive beauty nearly months I truely love it. The disappointment far battery life. Mine generally requires charege hours I dont talk much.Why phone great? Simple. It all. This phone I know large bright screen infrared bluetooth USB connector speakerphone.If looking upgrade definitely phone you.',\n",
              " 'OPERATION Its like BMWs IDrive It job unintuitive overlylayered interface. For example memory card battery. The phone shut & taken apart change memory card... turning phone takes little while. This representative entire phone operation. Not impatient.If youve advanced mobile phone assume par course simply isnt. Even instruction booklet order.APPLICATIONS It lots applications work well... eventually finally open. No matter accustomed phone time required open close applications. On hand leave applications open hide return left similar Mac. Me likes.The ameneties World phone Camera VGA/zoom/night mode/timer Video w/ audio & zoom Speaker good sound Bluetooth infrared Modem computers electronic wallet Internet access Calendar calculator converter more.The phone Mpplayer FM radio k+ color screen megapixel camera quad band PDA photo editor. Im sure phone w/ features exists yet. ...Im sure Id want spend THAT time w/ device anyhow.DEPENDABILITY Ive seen glitches. Ive problems w/ phone.STYLING/ERGONOMICS The keys small generally doesnt bother spaced I employ little Braille keys run careful attn. paid dialing.As appearance thats subjective. Few look phone know that. Its stylized Sony Samsung. Less Benz/obvious Audi/understated.Although chubby hips device isnt big. Solid squeakfree large screen.MEMORY/STORAGE Seemingly boundless. First phone houses great deal memory multiple videos sound clips photos texts etc. Secondly info sent w/o hassle USB wires. Still sure? If max phone memory sent wish memory card w/a good deal storage well. This small deal. If youre whining storage deleting games freeup memory.RECEPTION This depends locale & carrier. The TMobile true world phone mhz operate globe including New Zealand Australia available Cingular replaces w/ mhz refer . The provide better coverage remote areas The States operates countries excluding New Zealand Australia. The provide similar service developed areas The States remote areas. As uses mhz operates countries .The battery life stellar charges w/ quickness. Remember phone uses operating Symbian... featurerich w/ k colors. It films second video crying loud. The battery life long lets greedy.GAMES Java. Dont use I delete addtl space. In humble opinion games w/ flip phones belong hands teenagers.IMP Two important pieces advice Visit Nokias site. There number downloads needed/available phone & texted cost. The downloads basic advanced operations.The second piece advice Be prepared spend lot time w/ phone. If expect able pick things youre rush common sense times youll end frustrated. A Sony Ericcson phone you... good luck finding w/ features & competitive price. Keep mind nearly screen number beneath them... save choices phone memory memory card sim card.Despite critical start phone deserves stars accomplishes sets pretty lofty... most... well... dependable. Its highline Audi Cadillac suspension reasonable price.When consider expandability downloads numerous features transmission programs multiple storage devices dependability phone isnt easy outgrow.I suggest phone simpleminded... simply dont need features.',\n",
              " 'Positives Bluetooth IR port VGA Camera multiple email accounts speaker phone programs available Symbian O/S. I use Bluetooth wireless headset phone serve wireless modem.Negatives phone big voice recognition worthless low volume ear piece IR port weak TV remote control programs dont work slow menus response. Get Opera browser phone come WAP browser frustrate Opera problems phone works time. TMobile programmed backlight display turn seconds Nokia adjustable TMobile wont fix it.',\n",
              " 'Its months Ive held Nokia for. I purchased phone knowing slightly old compared newer models Nokia phones available. I thought kind steeply priced time. I add dismay/delight readers phone simply groundbreaking phone mankind held. It raised bar owing number features offers absolute ease use delight.Now Im techy like getting technical things Id brief features I liked phone.The Phone best keypad Nokia phone offer. My dad Nokia Nokia Nokia . I think keypad cell phone important thing Im constantly sending messages calling people fiddling phone. Believe I I fingered Nokia phones best keypad. The looks absolutely nonsensical. Some complain tad bulky looking. I admit best looking phone look static absolute conviction looks like phone be. The Nokia brilliant Java interface. Theres lot things phone reading book playing Java games having variety software installed. The Phone offers Mb MMC card I think certainly exciting feature. I upgraded MB MMC Card I store unlimited number messages thousand pictures videos. Capacity problem here.. The Build right. The phone sturdy. Ive dropped atleast dozen times recolletion works good ever. Its tough wanna drive car it. This isnt rugged phone gonna play aeroplane thisare you..The Camera installed phone awesome. I click pictures JPG format phone bluetooth device I extremely easy transfer pics pc forth. The display brightness phone extraordinary. The use bit colors ensures share animations icons phoneBesides mentioned Merits phone decent ear volume loudspeaker functionality. It great upgradibility. I play MP files phone simply downloading softwares freely available net. Now neat. The log functions helps track incoming outgoing calls easy ways.The handsfree provided phone useful talk phone driving. I wouldnt worth life.Anyhow demerits phoneThe phone slow processor ear volume lower best ear volume Nokia variants.The battery life phone days day excessive use. Video recording limited seconds. You upgrade theres certain level trouble involved.Overall I dont think I upgrade phone. When I purchased phone I thought I purchased popular phone thought didnt me. In case putting aside common city I dont think I anymore satisfied. This makes great phone.Did I mention note feature send notes Bluetooth?gee anyways ENJOY WHAT WORKS',\n",
              " 'I waiting finish year contract phone. bad reviews . let tell folks awesome phone. I Palmone T having good time now. neeed try sync option soon. satisfied. giving stars cause keys placed little odd. thanks nokia',\n",
              " 'This phone flashy feels good hand hold connection bluetooth devices headset handheld desktop computer. My old Siemens s hand worked beautifully above.If hunt web websites people complaining lack drivers phone cavelike silence Nokia asked help.If needs limited making phonecalls taking snapshots phone probably satisfy you. If need Bluetooth stay away.',\n",
              " 'It works OK folks said hard hear me. Not factors. The thing I like hard on. Maybe me. Im accustomed headsets havent quick way onehanded.',\n",
              " 'For money great. I use home based business years worth abuse month. That case months wire develop break normal prices I toss bad replace cheap.',\n",
              " 'Jabra makes far best handsfree devices market. The EarWave Boom good model satisfy people need handsfree functionality cell phones.Jabra gotten away molded ear gels model. I personally prefer mini ear gels unit fits fine ear ear wraparound. Its comfortable works fine.As handsfree jack phone sure . millimeter jack. That stripes plug. Calling \"Universal\" little bit overstatement little research verify model fits phone. Unfortunately specific compatibility list hard come by. Look specs phone try.The microphone capture sound fine. For experience lot interference muffling I recommend try version \"Noise Cancelling.\" Its certain models phone difference worth it.The Jabra EarWrap slightly better wraparound attachment slightly longer arm. For dont like microphone arm Jabra EarWave Bud doesnt microphone arm instead small mic cable clip attach tie shirt. Personally I dont like models.I difference sound quality different Jabra models. The differences mainly comfort style ease use. This product decently priced I think affordable.Try higher end models demanding like I willing spend money. This pretty good model definitely satisfy users.',\n",
              " 'Good I happy product. I got tired accidentally keeping bluetooth earpiece jean pockets sending wash I bought worked great I bought car bluetooth builtin.',\n",
              " 'I got I use nonBluetooth cell phone I prefer talking handsfree.PROS Confortable. Very good sound quality. Cheap. Fits ear Im able phone volume low hear fine.CONS Corded.Ive gotten Bluetooth phone case Bluetooth problems.',\n",
              " 'Used replace original old cell phone. You beat price lasted years. Thanks.',\n",
              " 'The ProsThe function design headset rate. Right box easy pair Motorola v phone.It small unobtrusiveThe battery life good standby mode lasts hours talking. issue warning tones battery runs low plus phone issues message saying \"headset signal weak switch handset?\"The combo belt clip/charger cool idea. It EVEN COOLER Jabra compatible nokia Moto Ericsson phone chargers. Now I ANOTHER power supply drag trips....Reception good long line sight unobstructed water. I pump gas car phone passenger seat wander hotel suite waving arms wildly phone sits charging stand desk. If body way aquarium signal drops attenuates dramatically. In fact marked difference putting phone opposite body earpiece carrying phone pocket. If opposite signal degrades noticeably.The ConsI unsuccessful getting pair laptop PDA HP iPaq .If bluetooth PDA use BT Activesync PC interfere headset \"connected\" Activesyncs perspective. You hear constant \"crackling\" noise sounds like person popping popcorn. It took figure out. You dont turn BT radio laptop PDA \"disconnect\" BT session temporarily talking. This hassle killer reasons instead starsMy biggest problem unit fit ears feeling insecure. The \"hanging\" design feels like flopping I lean far unit actually fall ear. There way tighten fit unit I tried different earpieces positions earpieces doesnt help. This reason I probably replace unit another. Its shame nice unit floppiness ears unacceptable.BTW I midget I weigh lbs. I fairly narrow face I think bigger issue I small earlobes. If small earlobes pendulous ones want test fit unit store buying here. I wish I had...',\n",
              " 'I received little gem Christmas I refuse speak phone itself. This BT enabled unit perfect gift cell phone.No complicated setups. As soon I turned Nokia recognized associated I speaking it.The battery life great clarity dead on.Once use product speaking phone old fashioned way.',\n",
              " 'heard good things headset tried coworkers bought didnt test reception/range. logitech mobile freedom headset year love EXCEPT fit. fits horribly.this BT shines. fits great. doesnt hurt. wear hours. ton talk time hours say...but reception plain sucks. dont know electrical devices running apartment damn feet away phone unit starts crackly me. phone feet body jabra. basically count walking phone pocket.do heed jabras warnings wireless home network interfering device microwave. electric fans...and running water...they reception horrible. think problem wireless home network. cmon people geeks use bluetooth headsets geeks wireless home networks. duh.summaryproslightweightcomfortablegot good price ebay shipped neweasy useconsrange range range huge me. phone feet time whats point?too costly geteverything interferes unit. sit room good reception.needless sale ebay',\n",
              " 'Ive Jabra headset couple weeks pleased it. I bought primarily use driving. Its comfortable wear. It performed extremely car. At times Ive home. The range headset good I static apartment. From time time I lose connection phone. I suspect problem phone headset...I wish phone come charger car I people use headset. In case I highly recommend Jabra headset.',\n",
              " 'I bought headsets girlfriend recommendation Cingular sales guy. It BT Moto HS .Not knowing Bluetooth headsets time I opted BT. Two weeks later Im giddy like kid candy store.It took figure install headset ear Im sure Bluetooth headsets share minor inconvenience. The minor inconvenience buttons dont nice feel push locations tricky.If thing I REALLY like replaceable [rechargeable] battery. Id hate buy new headset battery longer hold charge.Regardless I BT better value HS.',\n",
              " 'I owned versions unit. One Nokia apparently requires specific type compared BT phones second I currently Motorola V.This comparison cover Jabra units compare Nokia HDW Blutooth adapter Motorola HS bluetooth adapters.The jabra unit boasts better design. The sit ear feel extremely awkward. The jabra design provides better comfortable fit glasses on. flimsy ear plastic pieces feel place.I felt unit relatively easier use compared two. I NO problems teaming units . I jump hoops team V.THE important reason I wanted BT adapter place fact phone signal liviing room signal desk basement directly living room. The reception useable. I noticed I went corner I lose signal. true units.All I rate follows scale Quality jabra Nokia Motorola.Design Jabra Nokia Motorolausabaility range Jabra Nokia Motorolausability ease use Jabra Nokia MotorolaOverall Jabra Nokia MotorolaOne thing test battery life. Jabra provide good half days battery time single charge. test battery life Nokia Motorola units.',\n",
              " 'Paired nokia . Awesome headset. The battery life pretty long. It feels light ear sound excellent.Some people going deaf thing loud. I volume max I use this. And thing feels heavy ear ears size nickels. Or youre ear...i dont know.Whenever I use I forget I unit rings... makes twitch Im expecting ring blasting ear.I hatewind noise. You carry conversation youre driving windows down. walking wind blowing face.voice dialing work.it makes phone hang reset. phone problem general. feet? like . best.',\n",
              " 'I tried old Bluetrek I loved died. Actually I killed I forgot sat it. I impressed advertised battery life took plunge. Shouldnt have. While SUPPOSED work range feet I I merely phone opposite body connection gets fickle. You lots staticy noise phone feet earpiece direct line sight. Sort defeats purpose bluetooth technology doesnt it? And static NOT end girlfriend complained I heard it. So yo prepared anger party line. On plus sound nice loud th speaker. Thats it. Try like bluetrek motorola something. I trying Motorola next. This thing trash.',\n",
              " 'Ive headset month I satisfied. I like shape comfortable wear day I wear a.m. p.m. battery lasts forever. The headset loads charger like knife sheath. The charger accessory belt clip carry holster headset. The sound loud clear drive windows ear gel adjusted sound right want it. So stars?My complaint aside wearable ear headset totally NOT adjustable. Perhaps shape face and/or ear unusual earpiece keeps pulling away ear. Add fact headset wants work ear entirely lack adjustability problem me. Lest wonder Im small person ears sit stylishly flat head.I solved foregoing problems cutting heavy duty paperclip length bending appropriate shape taping headset electricians tape. Then I bent wire earpiece fits snugly ear. As bonus tape adds little extra bulk upper loop headset helps hold place. Problem solved engineer adjustibility design?Id buy problem I stars lack builtin adjustibility definite oversight.',\n",
              " 'I picked headset day Im relatively pleased it. Despite bad reviews sound quality acceptable making telephone calls dicatation sampling rate obviously low listen music it. I easily paired SonyEricsson ti \" Powerbook running Mac OS X ...My quick testing iChat AV positive usable use iSight voice portion call. I able set sound output headset currently listening music low sample rate fact isnt stereo makes novelty. Nevertheless useful real pair headphones available.The range mentioned reviews isnt amazing sufficient averagesized room worked intermittently cinder block wall.It fit fairly comfortably ear easily hide bit cumbersome first. The multiple earpieces plus. The dual charger/belt clip interesting idea poorly executed. It somewhat unstable Im sure Id actually belt. However bad riding clipped inside backpack.All bad device certainly room improvement. Id probably buy having little while.',\n",
              " 'The light works exactly expected. As long headset light indicate phone. I wish lights little brighter possibly multicolored. We individual office color blind red nice touch.Also obvious reasons handset light on. I wish lifter feature recognized handset lifted hand. But wish product defect.Overall I happy device.',\n",
              " 'Plug stick high wall tape PostIt \"ON PHONE WHEN LIT\" youre done.Nobodys bothered The nice thing lifting headset cradle activates lights I choose avoid disturbed Im phone.',\n",
              " 'If dont office and/or coworkers tendency indiscriminately interrupting pointing flashing lights effortlessly embarrass interrupting phone In case I bought light courtesy coworkers I office wear headset uncomfortable approaching I wearing it. Now question I phone not. Easy install plug lifter place greatest visibility cord feet long secure screw double stick \"squares\".',\n",
              " 'This item awesome. The drawbacks The random light patterns weird I wish I set pattern blink regularly phone engaged. Plantronics website lists compatible wireless headsets compatible CSUSB. So I moved softphone I gem.',\n",
              " 'Easy use set works reliably workplace people walk facing away door dont notice light start talking Im headset. Id like Plantronics come brighter larger LED version works advertised... darn works dont pay attention I dont know fix',\n",
              " 'Magnetic mounting joke. It guaranteed fall scratch roof generally pain buttocks.I wish antenna offered NMO mount. It nice mount securely worth trouble effort achieve good mechanical electrical connection auto roof.',\n",
              " 'This antenna works mini better. The main complaint wind whistels coil set way roof. No sound mini dual band version good reception.Update Actually mini better reception',\n",
              " 'The thing I wish cable like ft longer. It doesnt exactly reach I want extension.',\n",
              " 'I tried yagi antenna repeater got signal. I finally metal ground plane roof. bars inside phone outside place bar. Downgraded Wilson makes requires adapter plug else. Be sure right adapter.',\n",
              " 'Amazon continues ship antenna Wilson Electronics Sleek Booster right antenna. Wilson told times shipping wrong antenna continue it. This frustrating caused lot grief I able Internet week Amazons problem. I returning package Amazon Wilson Electronics able send adapter week primary reason I purchased product use Holidays place staying little reception. Not able use smartphone hot spot angry. There excuse Amazon told times Wilson Electronics sending customers wrong product.',\n",
              " 'I needed second antennae Wilson Sleek cell booster I leave vehicle weekend residence convenience. This antennae matched Sleek booster exceeded expectations strengthening weak cell signals I myself.',\n",
              " 'This definitely easy install. It removed transferred vehicle another. Adds gain work great.',\n",
              " 'Very antenna buy extra adaptor fit booster. Should bit info.',\n",
              " 'They claim works Sprint PCS I got Virgin Mobile MC wont pick signal In fact actually makes signal weaker I MC window decent signal I thought putting antenna roof better I plug MC signal strength goes I tried connecting spectrum analyzer check doesnt signals compared cellphone antenna receive. I tried emailing Wilson werent help. Another problem cheaply adapter connects proprietary FME connector antenna cable plugs MC. I try I got work. The bad threads wouldnt way second loose center pin pushed I tried connect it. The finally fit correctly signal. I dont Wilson away selling worthless junk antennas like lot consumer fraud complaints. Im sending useless antenna refund.I purchased Wilson trucker antenna mounted magnetic base CB antenna stuck roof works great. This defective.',\n",
              " 'This didnt me. Unfortunately blame. Ironically I home repeater trying couple quick fixes I thought. This upgrade combination home mobile solution I tried realizing specific product results I needed house solution. So mobile world Im sure helpful. It needs configured need includes area coverage location type usage cell frequency more. So putting home solution youd wise manufacturer putting pieces fit performance compatibility components system.',\n",
              " 'This headset piece junk right box. I problems threw away day.',\n",
              " 'I HS months now. I initially impressed small size relatively stable number different phones. The early blue tooth standard isnt \"standard\" hope However proven fragile. Within months plastic case began breaking inside hinge on/off switch. Did impact usability I didnt care. For months hard good connection witht charger colleagues having similar problems. The headset recently useless main body case cracked. I unit briefcase I dont know proving fragile has. If use similar HS assurance crushed good choice. Otherwise I suggest looking designs.',\n",
              " 'On positive battery life good.The negatives Ill split ergonomics sound RF performance.Ergonomics Its secure big ears mentioned seal marketing window dressing. There arent ear mounted devices I big ears you.Sound Received sound weak best dont good hearing isnt going work you. Transmitted sound weak apparently I accept tell me. If I want talk quietly I use phone headset forces talk loudly I heard. Noise cancelling nonexistant supposed any. The draught AC vents car cause callers complain.RF With v takes unreasonable time headset phone together. You answer phone switching headset hear ringing time connected phone voicemail. Received audio OK I headset I told I sound digitized. As communications engineer I believe people need talking bluetooth performance.All Id looking Im browsing headsets now.In years I havent \"good\" headset approaching standard military aviation headsets I use like comparing ZX GHz Dell Pentium . Perhaps I unreasonable expectations I actually headset good audio good noise cancelling Id pay couple bucks. A decent noise cancelling headset let talk normal voice standing exhausts hp tank engine.',\n",
              " 'This comfortable BlueTooth headset thereHowever Ive upset connection speeds volumeMost people hear connection speeds forever establish addition volume simply low use regularlyI use Treo Ive heard headset works excellently Moto products mileage vary.....UPDATE I tried Moto sadly better volume improvements volume simply low Treo I recommend Scala',\n",
              " 'I headset months liking headset long battery life. This headset works OK sound quality poor function conditions perfect ie. background wind noise close handset. I like feature headset turning boom mike closed thats battery savings comes from. Other I redeeming headset I believe Motorola discontinue model severe flaws.',\n",
              " 'This headset purchased replace TWO crappy jabra freespeaks. This small unlike goldlatern bluetreks Jabra hide mass sits right outside ear completely inconspicuous. With old bluetrek jabra hair hid plus I use Bluetooth headsets impress people atttention I dont want peoples attention questions.Which headsets drawback HUGE BLUE ORBLIKE LIGHT takes piece. YOU WILL ATTRACT ATTENTION headset on. It blinks standby blinks operation blinks dang time. But passed work pretty well. The sound little tinny pretty clear. And unlike bluetooth headsets headset volume operates headset doesnt link phone volume means adjustability volume level loudness good. The mic good complaints end basically. And battery life isnt TOO ugly hours. And ear anchor little rigid smaller smaller ears long jogging constantly.',\n",
              " 'This product appears genuine original equipment Blackberry car charger. It Blackberry logo it. The plate cigarette lighter plug unit states electric output volts mA milliamperes . ampere. The plate wall charger packaged new Blackberry states wall charger output volts . ampere. Thus appears car charger produces thirds electrical charge produced wall charger . vs. . amp.This car charger Blackberry performed admirably problems. It costs fraction price charged AT&T . apparently product.',\n",
              " 'Since BB battery long I plug BB car charger BB time Im car. This keeps BB charged day long. A BB owner there.',\n",
              " 'Love works great issue buy million ifi needed',\n",
              " 'It works fine. I like I problems I update you.',\n",
              " 'I Blackberry Curve years times I able run battery day. This car charger works expect youre addicted Blackberry I I fairly glued charger thumbs moving longer probably .',\n",
              " 'I bought fit inside kit creates storage space car stereo. The pad good grip ipod phone couple pens sticking smooth plastic.',\n",
              " 'These things great work lot areas car. I actually use art table items moving I use.',\n",
              " 'works great',\n",
              " 'This pad extremely unreliable stick dash poorly made. One thing I wallet phone fallen pad. Unfortunately pad moves around.',\n",
              " 'Not sticky pad great things sliding trim fit area shelf dash.',\n",
              " 'This pad good works porpuse described obvisly big round going fall movement car phone glases coints small papers etc. works easy remove replace car board. Highly recomendable.Note It looks nice black car boards.',\n",
              " 'Nice sticky pad phone glasses sliding dash I turn. How time look paper phone charger driving. Its bad habit reaching glasses car driving more.',\n",
              " 'I sticky pad cup holder cover Honda Accord . I tend ipods cellphone car moves slides falls cars floor. Using sticky pad prevents me.It easy remove decide rid altogether. You dont stick permanently car.Things dont bother noted.It doesnt stay cover well.Its like fall dust cover.Just like sticky thingie thing easily collect dust. It looks like wash though. I havent tried.UpdateYep pull wash dry properly overnight was.I bought nd I stuff dashboard now. So I use cupholder.',\n",
              " 'Item purchased spouse. Was wanted item work part.',\n",
              " 'I triable keeping phone moving sports car. I like phone close hands sticky pad allows exactly I sharp turn. The phone alway stays place. If gets bit dusty wash good new again.',\n",
              " 'Works advertised. Its tacky pad nonadhesive keeps stuff sliding dashboard. Problem iPhone S flat panel Gorilla Glass lift easily Sticky Pad. Instead tends lift Sticky Pad dashboard sticking iPhone. Im sure problem solved iPhone cover I I wouldnt need Sticky Pad all.',\n",
              " 'I star rating products like marketed slightly exaggerated way.Theres &sticky& product. The pad specific material able hold objects place youre driving. Its perfect simple task holding cellphone sunglasses loose change EZPass trick.I place camcorder film road trips stays put. Like product type offroad drive unpaved roads intentionally drive abnormally contents pad stay put.Summary Just drive normally wont problem.',\n",
              " 'I office desk home. It provides great place locate cell phone bluetooth stereo speaker. No clanging I lay items down. No strange echo vibrations hard surfaces. AND vibrating counter happened pad.',\n",
              " 'Even package description stated adhesive certainly white backing remove place dash . I felt item touch sticky all. There groves competing products faced supposed attract \"stick\" smooth. Overall I impressed.',\n",
              " 'I bought these. They worst product I used. They DO NOT work advertised. Nothing sticks',\n",
              " 'She cell door pocket missing calls & messages problem solved.Has fallen off.',\n",
              " 'I bought similar @ local store & surprised held phone sons phone & iPod. I pd & / size one. I needed & looked bigger. Wow Its bigger I a. Portable fan I loved I bought one. WARNING.... This NOTHING w/ product BUT u use phone iPod & HOT outside & u ur dashboard... DO NOT phone iPod My phone heated Thank goodness ok phone.... But u live & learn. I loose change it... Glasses... Small toys stay Enjoy',\n",
              " 'Like reviewers I Think Outside Stowaway \"collecting dust\" I bought older phone. I actually looking Amazon foldable keyboard came reviews. So I Stowaway quicker I thought I load software came instructions tell decided sync Playbook. First course I AAA batteries VOILA worked I happy camper As reviewer said surprising manufacturer continued concept folding keyboards.',\n",
              " 'I paired Hisense Sero Pro works great. Ive tried portable keyboards build quality keyboard comfort. Truly feels like real keyboard folds small. The stand holds inch tablet well. No lugging laptop. This I need.',\n",
              " 'I bought keyboard released took today test idea selling it. But installing current device Verizon XV running Windows Mobile . I decided I liked sell. I forgot I liked keyboard. Im giving stars instead annoyances. The numbers accessible function keys bit pain. I preferred row keys. It wouldnt added size weight.. When keyboard open supported middle case ends extend like wings. If slow typist fine. But Im fast typist I tend hit keys pretty hard keyboard tips I type. Really irritating. I fixed making little supports stacked cardboard glued together. I stick \"wings\" solves problem.Heres I got latest driver released device longer supported iGO[...]This driver Windows Mobile works Mobile . device. You MUST install driver MAIN MEMORY storage card. If install storage card wont work.After I installed driver configuration utility suggested I upgrade keyboards firmware. I thought wouldnt work keyboard longer supported iGO surprise firmware updated . ..The previous reviewer said use pointing stick send email. Thats didnt know keyboard shortcut Send AltS.The keyboard folds small compact lightweight big deal carry SmartPhone. No picking tiny onscreen keyboard I want send email phone',\n",
              " 'The keyboard connect iphone GS iOS reconnect automatically.I CTRL + LFT FN + RT FN keys light keyboard starts flashing. Then check bluetooth iphone discovers keyboard. Then pair iphone ask enter digit code press enter keyboard. That works perfectly.Then use keyboard iPhone GS. But close keyboard bluetooth connection broken reconnect open keyboard up. I tried pressing keys waiting. I checked bluetooth status iphone shows connected. No matter I reconnect. I manually repair keyboard phone work. That makes keyboard completely useless iPhone GS iOS. There video posted youtube person problem.If able work properly iPhone GS iOS let know able it.',\n",
              " 'The driver device completely broke Treo fortunately I Sprints insurance plan I able replacement Treo. I latest driver Thinkoutside website. If Treo device.',\n",
              " 'This great Bluetooth keyboard compact easy use. It work Android iDevices shelf device rest screen type.',\n",
              " 'The iGo Stowaway UltraSlim Bluetooth Keyboard truly portable. Running AA batteries easily carry spares around. Only gripe product lacks dedicated number row . Else perfect.',\n",
              " 'I love keyboard. Ive HTC unlocked iphone BTstack Keyboard Cydia. The issue needs extra row keys. The numbers symbols placed row letters letters QWERTYUIOP keyboard. To access number need press left function key corresponding letter. To type symbol need press right function key corresponding letter. I work finance annotations need numbers symbols like example. For takes long time. I easier type \"ten pc\" instead .Ill buy new keyboard that. But keyboard amazing. So dont need numbers symbols I recommend it.',\n",
              " 'First I product fortunate catch great bargain Since I problem I forget change batteriesI able successfully pair use keyboard originally Samsung I HTC Touch Pro Motorola Xoom tablet. I surprised I didnt download drivers worked I simply paired it.Not having number dedicated keys sacrifice I type memos emails simply work novel anytime conveniently having portable keyboard. The keyboard durable sturdy feel typing.',\n",
              " 'I purchased product send wife trip complained typing Blackberry. I thought I better install sending I guide along. No PC I tried download advertised. Result Page Not Found.Company advised discontinued item ? took support pages.This issue normally install driver PC.It principle company maintain manufacturers description web page support claim...You know manufacturer scumbag feedback/survey link gives error message back...If doubts read blackberry link review page click star reviews. A shame',\n",
              " 'It keyboard acts little like gold fish bring home plastic bag pet shop. You bag tank acclimates new surroundings. I went wanting love thing sheer coolness factor....to boxing send wouldnt sync Axim xv....to giving chance good ready work flawlessly I love again. The keyboard smaller standard useable. Its great writing longer email inputting contacts writing letter word dont want peck screen stylus endlessly. The construction feels solid opening closing snap. Pun intended. The major flaw cradle holds PDA. It removable desired use space PDA little away you. But feet clip keyboard dont want let go. The plastic doesnt especially robust I feel certain snap eventually. Also curved lower cradle holds Axim et al little developed bumped readily jettison holding. Other works ceases grin passing table Starbucks stop ask it. I previously gave star acclimated working I cradle shortcoming . I know shows star Amazon wholdnt allow edit scale.',\n",
              " 'Great sturdy design aspect. After pairing features flawless instant connection device time open it. A keeper long quality shows itll ages.I wish iGO start working supporting Windows Mobile . It perform keyboard carry core functionality I drivers device WM device manner. I currently similar ones allow device work dont allow function keys carry purpose softkey support accurate.',\n",
              " 'I infrared IR keyboards use Palm Treo Palm TX. They dont work me. I major problems lag characters I typed simply didnt screen.Taking chance I bought Stowaway Bluetooth keyboard . . . I impressed.Setup quick Stowaways setup software simple use. Reading short users manual brief Quick Start must. The learning curve isnt steep keyboard intended \"universal\" device tweaks Palm Pocket PC devices.Once set keyboard performs superbly well. Every key I struck showed immediately onscreen. I large hands I concerned I encounter typos large fingers. I neednt worried. The keys firm touch spacing wide typos miniumum. Because immediate feedback provided Bluetooth I felt tendency retype character didnt up. I idea IR keyboard lag causing much.Others commented instability ends keyboard essentially unsupported. At struck design flaw minutes easily compensated for. I little difficulty keystrokes causing keyboard rock.Some complained devices slipping minimal stand provided. I problems Treo Palm TX.Finally number people complained fifth row entry numbers. You use function key + number combination set keyboard number lock. If enter lot numeric data complaints justified. On hand people like limited need numeric entry inconvenience major one. Im happy trade fifth row numerics small size unit.Construction unit typical todays products. Its plastic metal overall feel like built like tank. On hand doesnt feel overy flimsy either. Time use tell unit stands up.Overall unit makes eminently possible use handheld devices like Treo Palm TX typing. I surprised I type rapidly keyboard I fullsized unit. The Stowaway Bluetooth keyboard slick piece work worth cost wants use smartphone PDA typing words.',\n",
              " 'Once keyboard pda / smart phone wont back. This keyboard communicates bluetooth great job turning small device productive tool wont want without. I use keyboard Palm TX fabulous job meetings small smaller notebook VERY portable reliable. entire keyboard Palm PDA fits pant pocket cargo pants / shorts. You portable that.To use invoke button key combination help initiate contact device. Once connected youll running. My Palm TX stay minute intervals thing I dont like combination I hitting key Palm doesnt shut off. This course design flaw TX reflective keyboard.',\n",
              " 'This keyboard fills left pocket \"Ultra mobile PC phone\" fills right pocket. This keyboard allows type normal speed device I pocket I astonished worked text messaging older phone Nokia NGage. If HTC phone phone supports bluetooth keyboard PDA I highly recommend product costly. Pair run TextMaker Office WindowsMobile meeting powerhouse pocket tackle best college note taking mobile manner laptop dont need bag plug waste time. I suggest pairing mouse company purpose.',\n",
              " 'I older PDA Dell Axim X keyboard works great The connection Bluetooth easy set up. It compact folded light feels fairly sturdy responsive typing.',\n",
              " 'The iGO bluetooth keyboard works great. The complaint extreme left right tips little typing.',\n",
              " 'For money great item mobile road warriors. I iGo keyboard Blackberry Curve .Like said nasty sticker covers outside cover keys completely come off. When peeling keys feels like keys rip fragile posts.Also common Bluetooth getting devices communicate tricky. I havent lot maybe I havent figured right combination button presses. But I hate things dont simply \"work.\"The keyboard fairly solid certainly easy type especially youre accustomed typing laptop. The keys marked shortcut functions launch tasks apps.This great item wants lightweight substitute traveling laptop. While sitting hotel room checking email need.',\n",
              " 'I purchased keyboard I start word processing Treo Ive absolutely pleasedFirst keyboard come Treo driver DOWNLOAD THIS DRIVER OFF OF THINK OUTSIDES websiteHowever downloading driver easy sync Treo email attachment itOnce drive installed keyboard flawlessMy biggest complaint BlueTooth keyboards lag type case Stowaway key I pressed showed INSTANTLY Treo So far worked terrificly address book calendar email VersaMailIn addition keyboard folds EXTREMELY portable I dont know carry pocket backpack briefcase feel extra weight productlastly keyboards small I wish delete key bigger I typos nonetheless Im happy certainly typing quicker phones keyboardhighly recommendedHAPPY TYPING HAPPY BUYING',\n",
              " 'Originally created use Palm devices iGo Stowaway UltraSlim Bluetooth Keyboard PDAs Handhelds best folding nearly fullsized Bluetooth keyboards available. Its metal case relatively simple folding mechanism result durable product given years reliable service. The keyboard feels great throw keys nice tactile feedback par laptop keyboards. My fingers slim easily fit keyboard. Like days Im touch typist I keyboard comfortable I particularly laptop computers. Ive owned couple wear I use I purchased nearly decade ago I useful bedside gear bag.Powered AAA batteries makes easy operate. Theres proprietary power source charging required. It sips power I lasts lasts pair NiMH rechargeable batteries.Pairing phone device simple. However Symbian phones handle authorized peripheral. I manually connect I turn keyboard start type order keyboard phone connect. I suspect deficiency Symbian OS keyboard.The folding stand useful fits variety devices roughly phonesize portrait landscape configuration.Even zippered case keyboard travels nicely durable aluminum shell.Why didnt I perfect star rating? The keypad available I think functions old Palm OS mapped keys. It doesnt undermine use keyboard operating systems distracting keys printed functions available phones operating keys actually perform function.I unfortunate socalled \"smart phones\" support mapping special functions Bluetooth keyboards. Admittedly shortcoming keyboard itself. Phone manufacturers simply interested equipping systems eyecandy games kinds productivity enhancements devices useful try rely aid work home lives.It astonishing keyboard isnt popular emulated manufacturers. It terrific ship software enable iOS Android Symbian devices map functions keys.I highly recommend keyboard looking durable reliable comfortable folding Bluetooth keyboard handheld device.',\n",
              " 'It funny watching text fly TMobile SDA smartphone aka iMate SPm HTC Tornado Stowaway keyboard. This keyboard class like laptop keyboard spring keys quality durability lovely looks boot.Entering numbers getusedtoable symbols & major pain fact use \"custom\" key commands ctrl fn fn buttons b experienced typer \"already know\" \"motion\" & youll meaning incorrect keyboardThat said entry obviously fast natural proper keyboard multipurposed keys requiring key combos.The solution FORCE it. You like got fast touchtyping.Anyhow thing gem hammering quick SMS text messages etc. I mean \"clickclickclick clackclack clickclickclickclick clackclack\" type single fourletter word. Nothing feels like lolThis thing fit EASILY purse fit mens pant pocket. I wear shorts pants etc. fits fine.The keyboard clicks silent. I use class quicly type extensive class notes I type far faster legibly I handwrite.The case durable sandblasted aluminum like old minidisc player detachable device stand sweet I use time phone little chairmounted desks class type lap. SweetAnyhow thing essential? I mean I kinda hate having notebook statistics class graphs stuff...you draw graphs thing well. However textbased notes college setting thing worth it. A smartphone keyboard THE major functions laptop having carry laptop. Just phone youd anyways flat little thing.NOTE troubles reconnecting thing use bluetooth connect phone use special driver provided Think Outside finish connection. Two process.In I college student I wish I pay unit ? end thing slightly sweeter price worth it.',\n",
              " 'I struggled trying thing work Blackberry g time. I selected downloaded driver listed Blackberry devices product web site. After lot frustration I finally got Blackberry pair keyboard recognize I tried link it. I contacted iGo product support informed \"Unfortunately driver device currently.\" So I ended wasting lot time keyboard supposedly \"for Blackberry PDA/Handhelds.\"By way carton state works Blackberry devices Smartphones. A fairly obscure barcode sticker indicate small letters works Blackberry. In case goes shame I like quality item I sure I good use it. In mean time I guess Ill looking.Lastly I agree reviewer vented stupid sticker place unit. It glued keyboard surface pain remove.',\n",
              " 'I bought work Palm T years ago. They produced good Palm drivers pretty worthless. Its sitting drawer years keys stick prised corner credit card. The keyboard syncs cleanly iPad tolerate way rocks forth type works fine.',\n",
              " 'It worries devices like sold retail party sellers able sell wholesale stated retail price. Usually reflects liquidation manufacturer. But allows try gadget able afford. And need gadget originally designed purpose want despite obsolescent. It pure speculation I believe market need requires FF keys device them.Ive considered PDA keyboards impressed flimsy junk possibly able stand rigors travel occasional use. This different I believe I little paddded bag black bag come trips weeka later shape ready I needed it. The aluminum construction solid poaaibly folding device.When I look support forums device manufacturers web site I people asking support portable windows devices. This keyboard traditional windows function keys originally FF years FF [Sidebar Why ? Because IBM special purpose mainframe terminal designers had] probably use effectively windows. I paired laptop I able use keyboard special drivers. Probably great free program called anyhotkey I simulate sending pfks extra nonmomentary shifts why? A wireless wired sized keyboard need like this.I trouble getting left blue function shifting numbers right green function shifting line punctuation I wish silk screening ivory background gunmetal grey one. While possible driver use multiple shifts simulate FF shifted keys? If shift F includes chord alt key type altF? The possible way I got pushing blue green shifts line accidentally hit cntl youd keyboard pairing mode.So I believe I write available great price intended market Palm PDAs Some Smartphones such. But having function keys limits keyboards future specifically Windows Mobile devices Bluetooth keyboard wont fully functional use device keyboard.One thing I try PS. Works great PS use FF probably perfect occasional use keyboard PS text type addresses surfing use naming things having sized keyboard wired PS sized bluetooth keyboard taking space. Nothing special I paired typed number PS gave screen.My main use keyboard formy Palm T|X. I downloaded drivers synced T|X. I went setting secure connection. The thing I like I sure I want use keyboard I open start it. I open applications start keyboard application bluetooth configuration tell connect dismiss warning keyboard paired device list cntlgreenFNblueFN chord keyboard discoverable. Then connects keyboard works I change application keyboard works.This needs I input area icon touchscreen areas allow immediately bring application start keyboard app.I believe issue way Palm OS works. Other systems dont need manual restart drivers.Once long palm need reset keyboard work soon comes long use bluetooth device. According release notes Palm Bluetooth support talk device time. If keyboard unused power couple minutes. But touch key resume communications immediately going menu. No sized keyboard compromises good feel compared sized keyboards I own.When opens keyboard thing extend palmtop support. The little arm palmtop rests spring loaded pops past stop like stop careful block rest thumb. There release open keyboard release holds keyboard open needs released want close it. Just slow.There single feedback light. Off? Keyboard connected. Fast blink? Keyboard ready connect. Slow blink? Keyboard connected. Red? Low battery.Simple easy use works well. This PC keyboard heavy stationary keyboard. For sold best breed.',\n",
              " 'I received item timely manor best thing product outstanding response I received seller. It excellent purchase experience excellent customer service. I buy seller again. I unable item work blackberry seller provided opportunity return refund life got busy time alloted return expired thats fault seller.',\n",
              " 'Use Nokia N works well.A bit bulky pocketable fits bags easy transport.Great airplanes small entire table.Some keys touchy I noticed \"E\" button press twice.All nice product',\n",
              " 'I version designed manufactured Dell Think Outside Inc. It product keys black. The keyboard works great. The keyboard folds flat \"x\" thin. It folds size keyboard opened keyboard latches wont fold typing keys great feel. Loading software Axim x configuring keyboard went smoothly I somewhat comfortable technology I \"techie\" measure. The bluetooth great need carry cables wires option worked past years.The problem I stand. The stand flimsy plastic manual says detachable I recommend extreme caution. After years extremely careful treatment stand broke.I dont know Think Outside Inc. sell plastic I plan contact Dell stock sell detachable genius wear well. After transferred departments told parts store fifth Dell customer service representative told purchase new keyboard . carry cradle around. This silly wasteful.If work location use cradle hold Pocket PC issue. But like purchased travel portability cradle problem.So great product exception. As consumer I hope manufacturers begin learn purchase like expect quality. It work hold normal use parts available easy find.Feb. Update I contacted Think Outside Inc. website. They sent replacement stands free charge. The customer service department nice I got stands business days. Great customer serviceFeb. Another Update I keyboard works great replacement stand holding I extra sent me. I purchase I wish sellers like Dell knew direct customers experienced problem I Think Outside replacement parts. They excellent customer service unlike Dell wanted purchase keyboard.Sept.',\n",
              " 'Great ideal product works perfectly advertised. I think item bag laptop traveling.',\n",
              " 'Works great Moto Q. Typing sound annoying easily turned off.I caution probably store batteries uninstalled. I brand new set Duracells dead month later use Just sitting briefcase I discovered start hour flight fortunately able cannibalize set MP player. This happened I sure keyboard sucked dry.What annoyed \"Fold unfold\" sticker sort industrial adhesive. What stupid thing use. It took minutes cleaning solvent darn thing off. Also black vinyl zippered pouch stinks like toxic chemical. If things Id rate stars',\n",
              " 'Long battery life connects quickly phone. Phone callers tell I BT headset complaints inablility hear voice call. It people wide necks stretch much. Can slide active earphones ears. Otherwise light controls easy reach distiguish. I similar LG HBS prefer ease finding buttons want prefer flexible neck LGs.',\n",
              " 'I LG years I love it. But I complaints people microphone picking extraneous noises I phone supermarket working kitchen started wear I tried one. Well....this pretty good sound BUT rigid frame \"yoke\" problem guy .\" neck. And location on/off switch annoying back. Plus LG buttons buttons sorely missed needed functions headset. I \"Equalization changed\" message I trying Siri pop up...very annoying On plus connect iPhone quickly signal pretty stable.All nice...but misses ways.Update After weeks I returned Amazon. The fit annoying. Thank Amazon great return policies',\n",
              " 'Pros Excellent clarity loudness ways Excellent listening music Fits snugly stays neck exercising unlike LG Electronics Tone+ HBS Feels better theLG Electronics Tone+ HBS contact skinCons Connectivity good LG Electronics Tone+ HBS e.g. connect devices disconnect device currently connected connects new device. The LG annoying problem. The power button located way awkward difficult power unlike theLG Electronics Tone+ HBS Does vibrate receive Does easily accessible buttons like LG Electronics Tone+ HBS Does look good LG Electronics Tone+ HBS Does announce battery level like LG The battery life good subpar LGOverall Bluetooth Headset offers excellent sound quality good LG Electronics Tone+ HBS overall poorly unintuitively designed compared LG Electronics Tone+ HBS good seamless versatile connectivityIve month LG Electronics Tone+ HBS clearly better headset overall.I returning mainly Im tired problematic connectivity unintuitive design.',\n",
              " 'I bought replace LG headset kept dropping audio phone calls. The sound quality good. It longer range LG. Overall pleased. The software runs headset advanced LG doesnt announce battery level connected device time. When announces connected devices bluetooth time dont know connected identify unit connected to.Overall I like lot. The sound quality important I wear lot I listening programs netflix daytoday phone use.',\n",
              " 'I fan LG HBS series amazingHBSand theHBSand newHBS.With SF Motorola clearly taken close look HBS series attempted improve it. Heres I compare Battery life Moto wins. This thing keeps going lasts longer amazing HBS. Too bad remaining battery life estimator inaccurate reports hours remaining charge closer Convenience durability Moto wins again. The Buds sit tight neck dont bounce. The cords fragile LGs magnets holding earbuds stronger Moto Buds. Unlike HBS Buds report power level Bluetooth host iPhone shows little bar bluetooth icon indicating battery status use LG headphones. Thats funny older SF feature. Ergonomy LG wins big time. The button layout functionality intuitive logical LG completely convoluted inconvenient Buds Buds button FF press REW presses power button LG sliding switch Buds use electronic switch makes difficult headset off. Sound quality I rate Buds lack bass presence. Range excellent outlandish ft range advertised available connected Bluetooth Class device rare featured Motorola phones far I tell. When connected Class device devices range ft like devices I think Motorola little disingenuous advertising extended range.In conclusion... Theyre bad LG series didnt exist deserve stars. However considering theyre blatant ripoff successful concept disappointing Motorola improved flaws HBS series cord durability magnet strength failed pick ergonomy button layout power switch.Which pick? opinion cheapest need connect devices case Moto Buds HBS easily irritated confused complicated controls stay away Buds.Recommended theyre LG HBSseries killer Motorola probably designed be.',\n",
              " 'I hoping blue tooth connect phone. I LG hoping Motorola better I let down. It great buy cell phone.',\n",
              " 'The headset sounds excellent. The earbuds aggravate ears in... long lengths time. I definitely recommend these.',\n",
              " 'Update Ive asked hold sweat below. No problem working sweat treadmill I stress Ive summer run. I I expect longevity nonsweatoroof product s headphones designed sweatproof nano coating. HOWEVER asked sound work excellent. They bounce running intolerable... Just ideal. BATTERY Ive day I got times days house studying day going gym. They morning night constantly connected. I forget Im wearing I turn music dont hear sound phone/tablet.Edit record Motorola site says NOT working questions product says sweatproof kept away moisture. Im going work Ill report fail.=============================================================I bought jaybird bluebuds x girlfriend Ive times comparison point.These headphones utilitarian price conscious design. They dont sound awesome bluebuds arent sleek bluebuds cord tiny ear pieces. BUT easy control light sound good. Im taking away saying dont sound good bluebuds... The bluebuds sound good Bose klipsch wired models similar cost MKBHD says amazing. The Motorola buds sound great. Id choose based sound cheaper wired sets I skull candy JVC etc.The ear pieces I worried them. They didnt look like secure I wrong. You easily work stay in. And swivel bit ear pieces time dont hear bunch thumping like inear wired sets.And taking hear world nice magnets. No flopping around.The builtin equalizer settings nice controls easy stay neck laying back.So sacrifice portability bluebuds great ease use good sound half price.And truthfully arent super stylish... People walking giant beats studio headphones on. These look way ridiculous arent bad. Dont wear job interview.',\n",
              " 'ProsUnit great range.Comfortable ears wear day.Battery life awesome.Mute function useful spends lot time conference calls.ConsLasted months turn anymore. Trying motorola fix help far.Audio books issues. The headset cut short pauses makes lose seconds story reconnects. Only certain books caused behavior.If quit I certainly recommend phone headset.',\n",
              " 'I walk away father leading doesnt fade thickest walls',\n",
              " 'Its so. Not comfortable advertised hugs neck hate. Has great sound plain. I older LG model bigger guys size.... Has control buttons different functions compared buttons Motorola has.The off/on button bad place time I lay bench lift weights I lay button shuts ...Poor design. I wouldnt buy gadget person I prefer LG I returned Motorola ordered newer LG model ..',\n",
              " 'These ear buds wonderful. Lets listen privately need participate daily activities. I highly recommend.',\n",
              " 'I bought TWO sets LG Tones broke me. I like lot. Very comparable Tones. What important battery life. I listening sports talk radio. I wired buds listening music. The complaints I item neck band kinda tight comparison Tone. Not easy off. However dont Tones. My second complaint on/off. I headset access switch. The Tones switch better setup easily accessible. All I recommend these. I hoping quality better LG Tone.',\n",
              " 'VERY COMFORTABLE CLEAR VOLUME AND GREAT FITTTING AROUND YOUR NECK. DONT TURN AROUNDYOUR NECK AS MUCH AS THE LG. GREAT',\n",
              " 'I lost yearold LG Tone HBS headset doubtless enjoying it.The Motorola cables appeared robust LG cables price point attractive compared newest LG HBS I decided chance.The good price earbud fit strong cables battery life reception button function placement pairing telephone functionThe bad looks goofy band tight fit twotone cable color illuminated sign says \"look me\"The mediocre sound quality richness frequency response simply match LG Tone HBS series equalizer effective bright treble nonexistent bassSummaryThis product inferior LG counts sound. For sufficient reason warrant return product purchase newest ridiculously expensive LG Tone HBS. I returning Motorola week I delay purchase LG price reasonable. In meantime Ill wired pair earbuds.',\n",
              " 'My LG HBS I use bike rides problem. Recently route I took lot interference near power lines tower. Music LG glitches I enjoy music anymore. I Plantronics BackBeat Go . This little bit better music glitches break area interference. My phone Samsung Galaxy S Active stored bike jersey pocket feet headset.Before I try unit I went try LG HBS user review said interference. HBS worst. It started break I enter interference area.I finally try. Wow I dont know kind power use I rides far I havent experience single glitch yet. No music break phone conversation break up. Its nice finally uninterrupted music.I problem I time I receive phone party hear me. I dont know party headset. The party calls time I press pickup button headset doesnt respond button push.The sound awesome well. I bass better HBS. The magnet stronger well. I like I tuck unit shirt I ear plug let dangles naturally falls attached magnet unit ... shirt. This earplug swinging forth I it. I dont know design accident. Either way cool.',\n",
              " 'SPOILER ALERT stupidly long review. I like provide possible I write review that&s sort thing I look reviews. Buying things online retailers great prevents getting handson information we&ve shelled money. Detailed reviews best way combat disappointment buyers& remorse. So popcorn and/or coffee skip end skip review entirely & Seriously it&s long review. Prepare yourself.This headset close ideal Im probably going headsets implanted subdermally ear music communications beamed directly brain something. It great sound features fit looks. There downsides Ill way I gushing thing. First I feel earbud cords maybe . . inches short. I wear mainly I&m work underneath collar polo shirt. The cords therefor dip edge collar trip ears. Its fine Im looking straight ahead I turn head tug outside ear I look left tugs right ear vice versa. Ive gotten somewhat removing little silicone orings intended manage earbud cords. It releases little cord length tugging noticeable there. The cords bit short taste wearing tshirt aren&t bad. The downside headset support connection devices once. I &one device time& thing improves handoff music calls easier services provided phone/device I wish I listen personal phones music collection able calls work phone. Other headsets like Sony MW handle ease. I clarify Buds PAIRED multiple devices connected device time. Currently I&ve got paired Android tablet phone iPod work iPhone. I switch manually disconnecting connecting device&s settings I don&t pairing process time I want switch & pairing Buds difficult annoying real quick.Now Ive got way I talk stuff I like Buds pretty everything. First let assure headset DOES support AptX Bluetooth connections available. AptX Bluetooth audio codec designed provide sound quality equal wired headset. Other Bluetooth audio connections compress audio making sound somewhat muddled bad. This happens regardless quality source audio file. AptX support commonly available recent Samsung including Galaxy S S S HTC phones including One M well. If you&re interested ridiculously complete .xlsx spreadsheet available jessebandersen dot com simple Google search yield results. I Jesse&s page searching &aptx enabled devices& & result list. Sadly AptX supported Apple knowing theyll come proprietary alternative works headsets bought Beats Dre week ready. I passed Buds AptX isnt listed specs reviews I saw Amazon. I Motorolas site look user manual it. I originally going LG Tone headset line supports AptX didnt like &flat loop& design & looks like great fit& robot. In opinion Buds designed better fit actual human control stalks bend gently following curve neck/shoulders/collarbones. The majority headset including small weight battery pack rests base neck control stalks rest comfortably near collarbones. The LG Tone time formed flat circle stalks aren&t angled relative neck band carry weight battery they&ll fall collarbones center section halfway neck newer ones curved like Buds expensive. I&m wearing Buds headset right hardly feel & great improvement traditional &earhugger& Bluetooth headsets. While I&m talking fit I probably mention I wear .& collar can&t stand having things touching neck throat. The Buds fit comfortably provide slightest reassuring touch sides neck. They widest gap left right control stalks measures hair inches.The Buds tidy control arrangement easy navigate. Play/pause/answer/end/trackskip commands EQ settings voice dial activation handled rocker switch left volume adjustments handled rocker switch right. The microphone underneath rocker switch left power switch underneath body center section headset charging port. Play/pause/answer/end single press forward half left rocker switch little bit texture identification/grip purposes. You activate voice dialing like Siri Samsung&s SVoice Google voice search longpressing button music playing. Trackskip forward single press half switch trackskip double press. I kind wish skip forward/back handled separate buttons it&s easy to. One thing note mic stalk answer/end button feel end button person end going hear ALL OF IT microphone right beneath it. Lots loud rustling noises. Oops. Not list fullon downside still... kind annoying. They placed mic right come think lot &busy& volume control functions. Volume achieved pressing forward half right rocker switch volume pressing half. You mute active phonecall pressing portions volume rocker reject incoming longpressing volume buttons. EQ modes changed longpress &Play/Pause& switch left. There EQ modes indication documentation effects supposed be. There voice notification &EQ mode changed& that&s it. You&re figure exactly means. My best guess modes flat treble boost bass boost. As general &audiophile& rule flat EQ response best doesn&t meddle sound balance hear artist intended. I barely tell EQ mode bass boost can&t tell difference two. And I can&t tell difference I guess doesn&t matter. I&d recommend switching modes listening general type music getting EQ setting like changing again. As obvious pictures literature earbuds held magnetically ends control stalks use. The magnets pretty strong earbuds bounce loose. In fact strong I remove earbud ear don&t attach end stalk I&ll eventually connected point I&ve moving around. Needless don&t parts close credit cards.As far sound quality goes I&m impressed. The earbuds said &Premium HD speakers& truly means sound great AptX support helps shine. I point Buds sound great nonAptX devices like Apple gadgets certainly sound good Bluetooth headsets don&t support it. As long earbuds seated properly critical inear earbuds bass response nice solid sort sparkles. Not saying &sparkle& added way music fine you&ll hear lot it. Speaking having earbuds seated properly documentation talks bit &microadjustability& translates stem earbud pivot certain central axis sort narrow cone shape angle stem relative earbud&s body change bit fit different peoples& ear structures. The earbuds stay fairly seated I sweaty. Speaking sweat I note Buds labelled &sweat proof& worry little bit. I sweat easily lot biking walking work somewhat physical too. Hopefully issue. There little rubber plug partially remove access charging port sure place securely getting sweaty. Anyways audio quality One important thing note true high quality sound delivery devices final output depends highly good source material. You know low quality sources like Kbps .mp files tracks Pandora streaming services aren&t best hear little bit badness. Other headsets mask they&re masking fine better quality files way it&s actually good thing. Call quality ends line good I&ve ask &Are Bluetooth?& I usually I use headsets. In fact I person stop midconversation ask &Didn&t going bluetooth headset?& didn&t believe I said I had. One thing audio quality & listen music app preamp gain want reduce gain level zero. I use PowerAmp Galaxy S dismayed hear ton distortion especially low end. I returned headset I rid it. I eventually preamp gain PowerAmp&s EQ settings page set capacity turning eliminated distortion completely. You rid distortion risk it? I zero sure. Doing reduced overall volume things plenty loud I don&t mind all.Usually I hate looks Bluetooth headsets obnoxious blinking blue lights giant blobs technocrud clamped peoples& ears look like extras bad &s scifi movies. I Motorola Buds practically disappear especially wearing collar polo shirt. They indicator light nestled power switch charging port it&s visible they&re worn. I I wasn&t pleased fact black headset white bits undersides flat cords silicone ear pieces forward/inside halves earbud shells. I changed mind come enjoy subtle highcontrast design. It looks nice modern looking like it&s trying hard. As I said practically disappears polo collar & white silicone ear pieces touch white cord. When you&ve got earbud inserted white flash undersides cords help little obvious you&re listening music talking phone. I &a little& people weird looks walk room I&m mid conversation. I universal &I&m lunatic I&m phone& gesture folks observant ones figure easily. I come blue makes sad don&t come red. You I sickness. A sickness defined acknowledged Science I overwhelming love like wife &unhealthy obsession& black things red trim red things black trim or& idea. If came red I&d sell pints blood black/white Buds set. Maybe day.Those main points I wanted talk about. There things don&t fit review I&ll stick here. The specs wireless range feet &Class Bluetooth device& phone probably isn&t. Realistic use feet minor barriers like walls doors. I don&t know true Class Bluetooth device ft range spec head. Battery life pretty good I try charge headset night I&ve gone far workdays mixed usage running battery. They&re rated &up hours& playback it&s anyone&s guess actually means. I talked silicone earpieces earlier forgot mention come sizes & small medium large. The Buds come small ones installed I mediums best me. The earpieces earbuds wired wireless interchangeable slightly different. The posts ear stems slightly smaller diameter standard earpieces sets bit loose. Swapping earpieces Buds result sound leakage result poorer sound quality bass response higher risk having earpieces coming stem sticking ear. Trust don&t want that. Stick sizes provided best suits you. Use biggest size stand good seal critical good sound quality. Another thing I mentioned briefly Buds& voice notifications. The Buds set preprogrammed voice notifications built you&ll hear turn headset change EQ settings maybe commands. When power headset plays short musical tune chipper female voice says &Welcome Motorola Buds& When connect phone mp player voice says &Device connected& The voice isn&t bad took to. When receive phone play tune instead mirroring phone&s ringtone. I think it&s riff notes &Ride Valkyries& I wrong. The Buds play soft &bloop& noise time play pause adjust volume. Other &bloop& noises indication unit powered up. I mention headset loses connection automatically power minutes save battery. If pick headset don&t know power state it&s hit volume button listen bloop. The headset drop Bluetooth connection headsets I&ve owned kind impressive. The thing I wanted talk yeah I list rubber strips run undersides control stalk I think serve purpose covering track wires run through. A small section strips popped week seat down. I eventually decided probably held place sort adhesive I &pop in& I placed tiniest dab Krazy Glue wiped excess held place dried. This month ago popped yet.So that&s absolutely observation Motorola Buds I&ve I got them. If you&ve read I salute you. I probably owe minutes life back. Sorry that. Now summary I promised startFor tldr crowd I wholly approve headset. It&s headset I&ve waiting time it&s finally here. Features fit sound looks pretty perfect it&s hard come list disadvantages. As I write it&s available steal. The nearest competitor LG HBS normally goes . Check & I don&t think you&ll disappointed.',\n",
              " 'An excellent device works great fits ear .... truly useful driving phone pocket. Was shipped time amazon',\n",
              " 'This bluetooth year. I called Motorola replacement. They sent model Ive years now.',\n",
              " 'It worked good months. Gradually began loosing quality. People trouble hearing now. I getting \"static\" use much. Works little better cell phone Skype. Overall I reccommend it.',\n",
              " 'When I received product worked well. After month half stopped communicating cell phone. I called Motorola told guaranteed year send them. The model I bought longer sold new now. They told replace blue tooth. It weeks I mailed I hear anything. I happy blue tooth technology. But I happy Motorola. They contacted I called prolems I having taken time email received old I know shipping receipt I got back. My blue tooth lemon Motorolas customer service be. I waiting replacement come in. In meantime I free plugin type I received I bought phone. My advice Buy Bluetooth careful makes check customer service.',\n",
              " 'I happy HS weeks. It comfortable transmission good. UNfortunately defective stopped transmitting. I giving good rating based performance stopped working.',\n",
              " 'It wont work phone. After hours I got connect wont answer I calls turn I want them. Plus obvious scuff marks device. Its cheap plastic charger oldfashioned twoprong adaptor. Im going start looking better device ... especially charges universal USB adaptor I dont carry multiple cords me.',\n",
              " 'I love bluetooth headset. It easy pair new Sidekick . I charge headset turn on. Thanks Amazon.com providing great product great price. The sound quality outstanding. People end know I talking landline phone I tell I Bluetooth wireless headset astounded. I highly recommend headset looking brilliant headset excellent price. The Motorola HS bomb',\n",
              " 'Its great deal jumped it. But truly disappointed. Ive far summed Motorola products poor. I Razar wish return But headset thinking motorola work phone no. Its belt clip phone tell bluetooth headset ft away signal weak disconnets. To thats strange. Its surprising happens randomly kinda annoying b/c anticipate it. Kinda annoying driving b/c rely headset work properly. Also static noise weird b/c shouldnt that. especially driving.',\n",
              " 'This foray BT department. I paired Moto v later RAZR v Silver Black. The shortcoming I method turn unit off. There times think headset turned reality redialed person called. The HS better designe thats \"one up\" headset. The volume fitment better . I signal related issue far away phone. Overall great buy',\n",
              " 'couple problems headset Treo . automatically connect received initiated. volume way lowcheck Jabra JX Cardo Scala Palm Treo headset great headsets settle onehappy shopping',\n",
              " 'I think reviewers older phones problems unit. Its bluetooth headset I happier.P.S. People dissin doesnt work feet phone doesnt stay head jogging? I guess Im adventurous cell phone others...',\n",
              " 'Bought second Im impressed phone vendor I think is... worst phone Ive headset comfortable works phone wifes LG faultlessly.Be aware mute button youll use phone that.Lasted / year junk longer hold charge',\n",
              " 'I impressed.I dont know reviewers smoking. This device cancel background noise. Listeners end I sound like Im tunnel. Two strikes.As pictures distance ones mouth \"pinhole\" internal microphone. There way cancel background noise lest voice considered background noise. This defect devices similar design.The earpiece suited driving walking. The \"ear attachment\" hinge flimsy plastic. As result fit isnt tight enough. I need turn head quickly driving feels like things going fly head seat. Its extremely annoying distraction dont want driving.On good I dont problems hearing volume controls convenient use.',\n",
              " 'Ive number Bluetooth headsets worst. The sound quality low especially outdoors bit static feet phone. The volume poor volume cranked I barely hear party indoors outside background noise impossible. This result earpiece resting outside ear ear earbud style. The microphone far ones mouth difficult person speaking hear you.The fitting earpiece slightly uncomfortable especially wear glasses bad Ive tried. It flop normal circumstances. I disappointed uses proprietary power connector miniUSB like older H easier charge charger Razr.I thought headset adequate price Bluetooth headset regular basis Im going recommend Jabra BT BT. Ive past better overall worth extra price.',\n",
              " 'I earpeice years ago I lost I ordered cheaper previous one.Different previous peice item came extremely cheap package sound quality worse previous one. My friends complained ECHO noise I suspect actually refurbed one. Sometimes manufacturer sell items simplized packaging.',\n",
              " 'This BT headset. The main reasons I chose low price small size/weight having seen couple people use work.ProsThe size/weight small unnoticeable. I headset comfortable extended periods time. Pricewise cheapest headset reputable brand I bought it. Battery life decent probably + days I tend charge days. Great driving time want hands free use speakerphone.ConsPeople I complained occasionally sound quality. Range great ft causes annoying \"I disconnect\" noise. Because main button easy accidentally activate voice dialing lastnumber redial etc. Initial pairing phone intuitive knew button pressed trying pair up? Finally blinking blue light temple makes look like robotRecommendationThis OK first/small/cheap BT headset. If talk lot phone look else. There headsets provide better sound quality longer range intuitive buttons controls.',\n",
              " 'The voice reception headset ok. Sometimes people trouble hearing especially driving. I tingling sensation ear mild ache outer ear everytime I use it. It design head set. Research proved connection wireless bluetooth impact nerves/brain I believe them...Its weird I tingling achy sensation I use cell phone continuously hour bluetooth I sensation minutes. So try I I wear prolonged periods time. After I headset months died I charge week left charger long periods till blue light went finished charging. I reviewers warned overcharging. However headset died...after months. I called Motorola agreed replace it. It takes days time send new one. Im waiting replacement come back. Who knows long',\n",
              " 'It \"greatest\" The sounds works fine calls. good overseas. people dont hear well. However I satisfied it.',\n",
              " 'This headset actually bad deal great deal either. The design unit lend easy longterm usage. It constantly falls ear power hog. I got hours usage device remains record battery life Oddly takes hours charge battery empty. I surprised Motorola better battery usage charge.The upside sound quality great hear people line volume doesnt high. Its onepush button operation answer hang calls great. Though little slow register calls I received complaints takes long answer phone.Overall I like idea bluetooth I havent great headset yet. I recommend shopping dont price range like buy beware limitations.There upside I accidentally charger came wifes Motorola V phone charge headset. When I compared chargers identical.',\n",
              " 'Excellent sound quality easy pair. Looked ad said shipping right money.',\n",
              " 'Im Jabra A nonbluetooth phone adapter works fine. Ive office cellphone handsfree allows type talk wires I use car gives great movement wires. Very small clips ear dont realize there. Very pleased unit. I charge overnight works day till pm constantly receiving calls. Ive week Ill leave weekend long running gas. Im pleased quality Microphone Earpiece. Cant believe mic works. I shout whisper volume constant. This bluetooth earpiece Im happy Some calls slight distortion calls crystal clear I believe cellphone connection earpiece.',\n",
              " 'This headset works fine. It fits perfectly ear. Volume isgreat connects quickly. No echooo. Maybe nay sayers need abetter cell phone. Ive tried bluetooth devices HS isfar superior rest.',\n",
              " 'I bought headset probably reason people price. For bucks reliable company wrong. I got I paid for. The sound quality mic quality decent isnt obsessive crystal clear reception is. It tendency drop connection apparent reason annoying times common.About month use stopped working explicit reason. I sent got replacement Motorola. However month I misplaced pretty thought lost.Today month half later I dryer. Apparently pocket jeans I hadnt washed went wash dry cycle. Happy I I gave work again. I gave shot lo behold start charging. So hour I tried pairing phone voila IT STILL WORKS I stunned. Not bluetooth headset abuse function like new headset relatively cheap outdatedSo based experience piece electronic equipment survive wash dry HAS stars book. Reliable saved shelling money expensive replacement. It gets job done.',\n",
              " 'im fairly disappointed bought little gem cingular kiosk mall thinking going days summary considering bluetooth improvements NOT worth period. device worked flawlessly worth best.here gripes says range feet. hmmm...not really. headset motorola phone Vand feet away best audio quality goes south. biggest deal world. close phone interferance \"crackling\" distortion. usually mild though. like microwave interferes cooking doesnt fit snugly ear. kind \"hangs\" there. doesnt kind mechanism adjustment heres hoping fits ear. headset lying hard device doesnt want stay put. drops bluetooth connection close range.the \"good\" looks cool battery life pretty good. small lightweighti going look options. simply waste money.',\n",
              " 'Since rubber \"gasket\" ear noisy environments hard hear. i.e. car.',\n",
              " 'I thought obnoxious leave headset time know people it. One forget kind pain neck setup. This particular product pretty good pairs RAZR saying yes questions works well. The complaint I louder serves purpose.',\n",
              " 'The audio soft headset. I use hand push ear time I want use it. Also checking sure connected phone beeps seconds.',\n",
              " 'I love headset. Its light good voice quality louder earpiece volume phone Mot V battery outlasts phone. A previous reviewer mentioned having carry chargers. Motorola makes Y adapter charge phone headset charger. I think I paid dont quote me. I love headset Im airport picks background noise loudly voice. If noise canceling gotten stars. One note My phone doesnt ring connected headset headset know incoming call. This complaint phone headset.Update I bought HS I getting complaints background noise louder voice. I like better better incoming sound quality. But I like better. The flip open design especially nice. Search HS complete review.Update My Motorola V went dunk months ago I buy new one. The new software allows phone ring headset connected. Much better.',\n",
              " 'I got Christmas present brother absoultely loves it. When talking sounds clear static. It better Jabra headset cost nearly twice price.',\n",
              " 'I bought Amazon. I linked quickly worked advertised. I button modes difficult track real problem time.My biggest complaint device quiet maximum volume. Obviously Motorola test design car road noise. I adequate quiet room. I suspect fact speaker long way ear canal. I wondering ear type better long run.Save money plan use car. It fine sitting quiet room.',\n",
              " 'This thing doesnt work Treo . doesnt automatically connect comes initiated. volume way lowthe comfort good price BETTER headsets consider Cardo Scala Jabra JX Palm Treo headset best betshappy shopping',\n",
              " 'Lasted months lucky I twocharge units hours use hardly good day jobs.Like fit These items need day.',\n",
              " 'I impressed.I dont know reviewers smoking. This device cancel background noise. Listeners end I sound like Im tunnel. Two strikes.As pictures distance ones mouth \"pinhole\" internal microphone. There way cancel background noise lest voice considered background noise. This design defect devices similar design.The earpiece suited driving walking. The \"ear attachment\" hinge flimsy loose plastic. As result fit isnt tight enough. I need turn head quickly driving feels like things going fly head seat. Its extremely annoying distraction dont want driving.On good I dont problems hearing volume controls convenient use.',\n",
              " 'At I bit leary buying I heard loud quiet place. NOT TRUE I Ive turn volume Now dont context great product. I live Texas drive loud truck Ive able use product driving road I definitely recommend product. A great purchase money.',\n",
              " 'This headset work fine audio quality write home person end line sound soft like talking speakerphone. They hear lot background noise. I happier Cardo Scala Bluetooth headset. It better audio quality comes stuff price.And need wireless bluetooth headset use wired use speakerphone. But I admit sort cool totally wirelessyou phone pocket purse totally unencumbered wires feels bit safer freer especially driving work hands talk time example.A note batterydo store unit phone hot car Heat damages batteries shortens lifespan.',\n",
              " 'Problems Ive got unit. Too short range shorter stated m. Lost signal lost connection cellphone frequently I imagined. When I headset friends Tmobile customer reps usually complained barely heard voice. Maybe voice collected headset weak',\n",
              " 'This great cable I love car.I connect smartphone listen radio app I traveling town.Once I lose range favorite radio station I plug continue listening favorite radio station app. .Great deal',\n",
              " 'I bought connect walkman type gadgets car stereo. It worked wiring quickly started having problems. The sound cut Id need mess cable position wires inside touching correctly again. After months wire completely detached plug ends. Maybe heat car played role breakdown cable thats youre planning use dont surprised starts shorting too.',\n",
              " 'Dont purchase plan use car. The walls lays power source Sirus Radio case youll electrical whine cars rpms increase decrease. You pay for.',\n",
              " 'It supposed to. Hook cell phone car I listen mp. Im audio geek/master I dont know good decibel crisp bass tremble songs play well.',\n",
              " 'Received plugged didnt work. Tried jostling cable plug work. Cant recommend it.',\n",
              " 'I bought dad use occasionally tested couple songs issues like maybe Im long. It cheaper feeling expensive ones. I update things change.',\n",
              " 'We bought item replace broken . mm cable use connect FM modulator iPhone s. We needed piece rubber plug didnt catch aftermarket case iPhones. product worked great price excellent.',\n",
              " 'Bought linein cable indash stereo cell phone. The cable work. I sound stereo fully plugged in. In order hear stereo need hold cable spring click. Unfortunately doesnt suit needs car.',\n",
              " 'The price good cable works great. It made. There isnt product.',\n",
              " 'This basic cable. It works cheap. There it.',\n",
              " 'The concept phone terrific. I use way pager work instead carting cell phone bulky pager I small item. And I didnt think Id use Bluetooth functionality definitely sold me. I use wireless headset connect internet transfer sound files forth well.The software phone bit buggy unfortunately. When I lock keypad I hear tones keypad pressed display lights up. The menus slow respond delaying seconds doesnt sound like irritating.Overall Id buy phone hesitation Im early adopter. If youre willing occassional buggy behavior Id definitely recommend phone.',\n",
              " 'If large hands like keyboard difficult use. I particular difficulty way directional button. No matter carefully I button I ended hitting adjacent buttons too. I problems camera feature tiny size. However disclosure I bit klutz. I displeased units limited memory real web browsing impossible. Also appears Bluetooth compatibility Macs. It sync use data cable separate purchase required I think shame spend extra bucks Bluetooth limited use.What decide return phone I signal weaker cell I owned. We live little valley compromises signal cell phone A establish solid connection.Its great looking device feels built. The screen small provides sharp image. I strongly expect nimble fingered PC user phones features tons fun.',\n",
              " 'The A groundbreaking handset design Motorola. It showcases ingenuity American engineering QWERTY keyboard hidden underneath lightweight oz. cell phone. Its stylish great reception TMobile coverage all. Compared Sidekick II TMobile phones A best signalkeeping capability TMobile sucks big time live right sporadic cell towers. Worse GPRS data network slow congested. While surfing web A cool network accessible day network slow inaccessible. We need govt step mandate cell companies upgrade networks charging consumers arm leg data services.',\n",
              " 'worst cell phone I date. phone second delay buttons pressed. slow button key I kept unding key lock/unlock times actually anyone.. battery life hrs standby defintly minutes phones spec says.. phonebook pretty messedup. phone book displys half line allows enter lines.. on/off button times takes second try.. straight forward save work/home/mobile... name.. phone charger connection flimsy certain position wont charge. design pretty messed up.. /\" color lcd screen dying month useage.. signal poor. Im sure lot Tmobile.Basically slow unintuitive phone.Bright Tmobile contact year.',\n",
              " 'Wife loved \"Razr\" phone craze took over. Flip phone keypad nice. Used years problems.',\n",
              " 'This phone good price want good mobile email solution Sidekick II.PositiveThe A good sound quality absolutely fantastic sound quality use bluetooth headset. TZones service inexpensive way gain access POP email accounts. It keyboard. You download pictures bluetooth connection I Mac.NegativeThe builtin email software poorly designed. It sloooo[...] It requires way key clicks accomplish common tasks. The common email commands buried menus common commands occupy prime spots. Someone didnt think enough. It takes clicks delete message thats much. They dont advantage keyboard The keyboard Delete key use delete message. Thats waste. Likewise scroll emails one...line...at...a...time. Why use space bar quick scroller like Outlook? To issue command use menu arrow keys. They assigned letter number keys menu command navigate quickly single keypresses. My old SonyEricsson phone featureThe case pretty perfectly symmetrical tell end feel alone. The keyboard slick dial feel need look. These safety issues. headset dial voiceSo far battery doesnt day belowaverage use.The A best people want bluetooth primarily talk text use POP occasionally all.',\n",
              " 'Pros. Compact Size. eyeballabsorber design. Good bluetooth connection w/ HS headset. Convinient input keyboard. The screen clear vivid pictureCons. battery toooooo weak. A charged battery day normal incoming outgoing calls devices connected. A lot shorter claimed description days waiting mode. A little bulky compared tp camera phoneslike samsung. The phonebook little different brands. System freezed I input phone numbers bluetooth device connected. I reset taking battery out. No zoom function buildin camera Cant observe picture small screen taking photos phone closed. No software Just Java game come unit. No choiceother purchasing line.',\n",
              " 'great product great price',\n",
              " 'I placed phones came s. I know big difference older phones physical antennae&s needed pulled phone. Since phone antennae&s changed I haven&t able notice significant improvements installed them. I install I got free probably worth. The level improved reception noticeable loss cash I paid free signal boosters.',\n",
              " 'This item enhance signal phone I followed instructions applied antenna stated change signal strength. I guess thats reason theyre selling cheap. Do waste time product.',\n",
              " 'Forgot I phone I got request review it. But phone working exceptionally lately...because boosters I Blackberry Torch. You sticky little piece film battery viola way better reception Seems trick. Recommend And great price boost phones antenna.',\n",
              " 'Didnt work Galaxy S SPHL case phone Galaxy S Verison AT&T TMobile doesnt matter. It wont work.',\n",
              " 'This work all. And hard took off. Never',\n",
              " 'I PUT THIS PRODUCT IN MY PHONE AND HAVE NOT SEEN ANY DIFFERENCE IN MY SIGNAL STRENGTH AT ALL. I BOUGHT SOME BEFORE AND THEY ACTUALLY HELPED BUT THESE DID NOT.',\n",
              " 'So far working intended. Im satisfied price right. Easy instruction install booster inside cell phone.',\n",
              " 'I reception added bar me. These Magic Bullet bad reception edge.I old phones lost easily I forget remove changing batteries. So good repurchase me.',\n",
              " 'It gives bars before. Such perfect item. Made bf happy well. So perfect item.',\n",
              " 'things ajoke phone price fun thing try. worth dime',\n",
              " 'pack fooled upset came liked tricked like',\n",
              " 'Weve Sidekick II months. Although yearold likes buttons Gee Whiz value I awkward use phone. It doesnt normal keyboard flip screen press keys flip screen listen talk. When voicemail situation flipping screen \"press English\" etc. Very annoying.You pay additional month want browse Internet use Instant Messaging Download Fun. Otherwise phone calls text messaging extra. Even nonsidekick phones let TZones Instant Messaging . option.Another gripe phone falling apart months rough usage. The screen longer slips place flipped open letter \"A\" fallen out. It occasionally freezes reason. The phone I received froze day replaced.The battery built phone let phone reset itself. No thing having extra battery trip example.Internet browsing cool slow think stopped working. I think fault slow connection fault phone long time actually build web page trying display.Oh yeah. Another problem TMobile expects pay . set album web site cents photo upload it.The phone large heavy poor quality voice reproduction. You use wallpaper ring tones sound terrible.Although looks good paper isnt ready prime time.',\n",
              " 'First let bash phove TMobile STOP You review phone service. How phones fault? Its service shouldnt phones fault.Pros/FeaturesQwerty Keyboard makes easy send text messagesWeb BrowserAOL Instant MessangerYahoo MessengerEmail fingertipsCamera Phone Room photosOrganizer/Calender/CalculatorNifty Design reminds minilaptopConsBulky Looks like minilaptop wont fir easily pocket...Case/Belt Clip MUSTButton Size Could small big fingersWeb Browser Slow beacause sites cached gets tad faster. Dont expect cable speed This . speed.No background wallpaper Because deaktop icons background image isnt availableOverall...Positive Outweigh tiny Negatives ton. If internet.IM junkie fall love phone. The reception area fine. However reception varies area area.',\n",
              " 'Sidekick II meant onestopshop wireless gadget emailing webbrowsing IM chatting go. You download limited content. You sync Outlook calendar addressbook pay extra thirdparty utiltiy program. Compared original Sidekick SK II thinner bit longer. I think uglier esp. new thumb keyboard keyboard useable. Battery life terrible couple weeks requiring carry charger time.The problem TMobile data service poor quality TMobiles GPRS coverage. TMobile infamous sporadic GSM voice coverage U.S. When comes GPRS data worse slightest degradation reception cause Sidekick kaputt. And happens SK tendency fail reestablish data connection signal strength returns. This makes frustrating user experience esp. need Internet access e.g. want log amazon.com compareshop big Sharp Aquos LCD TV looking inside Best Buy store. Unfortunately TMobile improved coverage download speed SK prepared slow speed lost connections. Once novelty factor wears SK experience stressful one.Of course currently device Treo portable form factor useable keyboard SK II. If absolutely Internet junkie youll probably TMobiles abysmal coverage tolerable SKs true wireless Internet access appealing.',\n",
              " 'I enjoy devicebeing able check email blogs send IMs nice. However kinda huge compared regular cellphone I bit drag. My service agreement kind pricey coverage poor I signal kitchen I live middle big city country end Ive shelved phone smaller cheaper monthly fee.',\n",
              " 'I started sidekick color switched short time Blackberry t came sidekick II. I So love phone. There phone market compares areas.Pros Super easy use.Best messaging therebest screen therecrazy good data servicegood downloads ringtones games appsGreat signal I rural Kentucky got signalVery reliableBest Data/Voice plan Tmobile I Tmobile years tried services time. No service provided better phone signal features lower competitive price.ConsIn order service remain good periodically reset phone. Dont know I fixes reception problems. TMobile techs said good idea.Thats normal great phone.Unless need corporate email dont bother blackberry. It worst phone I used.',\n",
              " 'Ive SKII fo little month good fit needs. I business user Snoop Dog groupie VERY cool device.Coverage area Austin TX goodand I traveled away IH corridor I good voice data coverage way TX/OK stateline far north I went. For /month eat data screaming deal. I dont web surfing useful speed like kbps dialup connection email superior Blackberry I number years ago. The interface phone email address book great. Far better Nokia phone I used. The intellisync software allows create use separate address book Outlook I sync SKII button push. Very simple means abreviated address book concerned having infor resident TMO/Dangers servers. I agree reviewier better info NOT resident thats concern limit leave server.Drawbacks bluetooth resident memory email pictures removable memory stick easy way create use ringtones.Great things great keyboard nicer/bigger Crackberry intuitive interface/software screen size/clarity. Camera nice feature easy email pics anywhere. A cool functional device need phone email. The web stuff \"OK\" TMO data network faster WAP coded websites content relevent big reason buy/use device.I purchased Dangers website total cost instant discount rebates. Worth years contract TMO book. Paying /mo regional anytime minuets /mo eat data email text messaging EVERYTHING DATA included.I recommend needs email occaisional web service addition phone service. Not smallest/best coolest phone best convergent communication device market right IMHO.',\n",
              " 'ProsVery easy use.Qwerty keyboardOTA Over The Air software upgrades add usability twice year.Full buddy list loading AIM YIM.Synchs Windows Mac computers.Large clear screen.Allow export web bookmarks.Use Pop Imap email addresses it.ConsNo external memory.limited camera memory.no Bluetooth.no spell checker emailNo Microsoft Exchange email support corporate email Pop allows login web.Overall excellent device.',\n",
              " 'I stars despite technical problemsYou send receive vcfs email attachments file receive them. They rendered material manually. This varies long filename ends .vcf mime type text/xvcard text/directory formatted correctly taken. But applications example evolution great Linux email application file meaningless filename sidekick file evolutions vcards export file resend right mime type.Rather picking vcard import vcards formatting sidekick uses filename. This mean simply pass garbage vcf interface careful.You URLs SMS messages URLs click them. You click URLs AIM browser copy text mail click URLs mail pulls makes clickable end.The documentation says phone WAP browser. You \"With regular browser I care WAP browser?\" The answer bandwidth want look phone number WAP faster. And cool wap games. But real answer according TMobile Tech supervisor WAP browser vaporware work. Maybe someday. There sites browse javascript working wap analogues like microsofts sms generation site. So browse phone.That it. Most rest great. I moved Nextel data exporting data Nextel site openoffice I rearranged column names match exported Outlook Express imported. Oh yes I built names formula. Saved comma file like Outlook poof minute couple phone numbers addresses names migrated merged appeared phone. I mailed vcfs contacts I didnt work.Ive resisted games I want MINESWEEPER yes I know lame. I drop solitare.I drop terminal program helpful terminal program wonderful tiny device. I check servers connecting raw mode port. I ssh securely server. There lots disconnects related stop typing think couple minutes program available Linux called \"screen\" allows save programs running background reconnect output status stuff. I IRC character mode IRC client.Someone called fix weekend I fixed minutes real terminal took tiny terminal. In ways emacs work better vi character mode work.One secret log windows box ssh character mode free products cygwin SFU Microsoft pro. Command line sorry.To echo comments AIM client utterly reliable vs. yahoo client drops reconnects time probably worthwhile.The documentation suggests surf graphics speed. But buttons graphical unlike character graphics browser simply displays alt text \"[IMAGE]\" button completely goes away means access button points to. This essentially means leave graphics surf.Occasionally web sites misrepresented eBay example extra entry bubble generated search text bubble putton push enter text right place searches dont work.Despite niggling problems tmobiles hapless tech support I giving device stars. The astounding thing poker playing dog wags tail good hand tell good hand all.The difference getting text directions able pull map area drive road wonderful javascript stops able pull turn turn map need it.I expect hand allow log ssh browse pull mapquest maps.',\n",
              " 'The Sidekick better form factor competitors Treo / Blackberry offerings. It better comfortable keyboard. Its like mini phone I like. It fully multitask unlike Palm. You download webpage check email chat AIM time unlike Palm interrupt process leave application. Further Sidekick II AIM Yahoo Messenger.I like built camera I I dont miss having Palm especially use Intellisync Sidekick sync contact/calendar information desktop computer. I liked stylus input Palm keyboard Sidekick lot better. The Blackberry units nice I Sidekick cool easier use better instant messaging capabilities.My slight complaint Sidekick replaceble battery. I prefer able swap battery.',\n",
              " 'I lot screen protectors iphone best. Im happy finally clear screen cover works. For past years I wouldnt try antiglare covers. Then I tired antiglare covers opinion detracted attractiveness screen.This cover looks great look real close realize cover wasnt case previous clear covers I used. Boxwave sent cleaning supplies covers easy apply getting dust caught between. And finally finger prints readily cover.Nice screen cover. Highly recommended.',\n",
              " 'The order delivered time clear touch nice fit Galaxy S. I ordered anti glare version easy apply w/o air bubbles. The protector works nice sun light. Also finger prints marks visible. Would definitely recommencement.',\n",
              " 'Absolutely love screen protector. It came time product expected. I love comes equipped need install it. A wetnap dry nap cleaning cloth flattening clip use protector on. It looked professional Galaxy S Screen looks SUPER vibrant clean. You tell theres screen protector. I recommend screen protector value surpasses price. Afforable efficient.',\n",
              " 'Ive loyal BoxWave customer years. The quality price value dust free installation unbeatable. These shields great job protecting ALL electronics hold scratches I dont need replace them. Could happier.',\n",
              " 'Just recived screen protectors amazing. They came packaged well. They come thivk cleaning cloth wet dry cleaning wipes. Once I protector clear problems great feeling protector cut well. Will defenetly buy I need wont protector boxwave.. satisfied',\n",
              " 'Oh crystal clear... stands name. ..absolutely easy directions follow... No lint. . screen looks like protector it. I careful device I know handle items scratching screen fingerprints..I received quickly I didnt pay shipping plus I bought item received packet free. It comes screen protectors. If follow directions need other. I purchased followed directions end lint underneath... YES I recommend item. ..It phone. ..',\n",
              " 'Im lover gadgets \"coolest\" cell phone time. This phone great past + months Ive owned I blue version. Ive ONE problem shouldnt i.e. randomly powering antenna problems etc. I cell phone Ive owned. LG makes great cell phone different models I think best Ive seen far. My brother exact model loves too.The phone beautiful color screen easy navigate menus nice camera video function OUTSTANDING battery life. The complaint I echo nice times speakerphone. Other cell phone best Ive including LG models friends family own.',\n",
              " 'I years working great. Battery lasts long. Phone durable solid.',\n",
              " 'I regret buying phone big verizon service isnt great phone. For reason verizon phones like bars bar im getting service. That said phone beautiful inner LCD outer LCD pretty bad. You play settings. It loads features like alarms calanders think of. The camera terrible pretty true cell phones thats non unique gripe. The phone moderately fruity like recieve calls outer LED start blinking purple blue pink makes look like teenage girl menus kind childish. That said phone bars calls drop pretty easy set phone. Im sure options verizon cell phones recently switched tmobile im sure better phone good luck.',\n",
              " 'like camera phones believe phone dont usb cable upload pics..i pay . sending pics..Viewing camera phones pretty nice..Its got flash got different types resolutions..It zooms expected..Other camera contact list gives save s pic ringtones person..I think thats good..i guess thats im gonna say..Overall phone decent.For viewers wanna buy buy dont wait cause updated phones come soon',\n",
              " 'Ok I Motorola T worst phones Motorola Timeport One best phones made. I needed new phone ventured local Verizon Wireless store. I happen LG VX think...this thing huge I dont need camera phone...but I pick play it. Its pretty comfortable hold. The screen nice bright clear. I wind purchasing VZW online phone arrives I test.This phone far terrific The phone tad larger T much...the main LCD nice bright TFT screen. Included wallpapers \"real\" picsA Sunset scene island scene group people scene Verizon Logo wallpaper \"doodle type\" cartoony pics. You change settings display easily UI LG better old Moto. The LCD nice enough...you set wallpaper use pic taken camera use picture ID person calls.Ringtones...kinda forgettable I beginning think cell phone providers tell phone makers pretty useless ringers download decent ones. You record sound surprisingly good internal mic download Verizons Get It Now Brew service. You use MPs ringtones little trick. One think I like...this phone loud I hear ringing crowded shopping mall even. The vibrate feature works activated quickly requires flip open phone.The camera located \"hinge\" flip rotates snap pic contorting face arms face lens. You change pic settings like black white sepia tones etc. The camera decent VGA cell phone camera. There flash useless close pics. The camera lets sec video clips save email friends. While I figured Id use feature I twice already. The advantages having camera/video carry nice...its fine candid moments friends know camera phone wont probably guess youre video recording them. DThe quality niceloud clear...much better old cell phone. Battery life approx. days light usage charges little hrs. Mind old \"blue versions\" phone charging plug near data port...the new \"black face\" ones charge straight data port.The holster came black vx great...solid cheapy like phones are. Notice face phone flashes colored leds near \"flash\" receieve making one...some like dont.I like phone size deceptive. Tonight I showed friend said \"that thing huge\"..then compared Panasonic camera phone noticed...hers bigger lol. This Verizons best cell phones right now...highly recommended.',\n",
              " 'GuysI friends bluetooth headsets motorolas jabras decided I didnt want one. Then I Mobile Freedom read reviews. I know Logitech lot stuff good results I tried it. IT DOES EVERYTHING YOU HAVE READ Its quiet wind battery lasts days easy use easy pair sound quality awesome Nobody tell I headset. It takes bit ear clip problems. It bit heavier larger little tiny ones look chic TERRIBLE reviews TERRIBLE performance Try wont regret it.',\n",
              " 'I significant transmission static headset Imate Spi I point phone directly headset feed away. It static I phone shirt pocket Since I havent baseline test phone bluetooth headsets I headset phone way buy problem sure return return period.Another problem plastic ear holder holds headset ear. This bad design honestly way thing properly confortably fit ear. The way wear half ear lobe hanging result lot pain min so. Avoid headset want wear headset extended periods time.A final note The wind blocking technology works expense high quality sound transmission recipent. Ive asked technogeekfriends Im talking headset sound quality missing dynamic range.Good luck',\n",
              " 'I bought Logitech reading numerous reviews brands. I use device Motorola V phone Cingular. It works geat It charges quickly charger folds compact fashion use electrical prongs fold recess charger. The unit holds charge long time. I left drawer month pulled ready goI use device couple times month business driving etc. The windscreen outstanding cuts noise driving window open. people complain ear piece. It fine adjust easily mind headset annoyance wear one. Then second nature.the sound great phone detects device quickly fairly comfortable. All performs like device twice price',\n",
              " 'I Motorola Razr phone I absolutely hate low hearing volume bad reception resulting missed calls. I seriously planning returning/selling I got Freedom headsetIt makes huge difference Very lightweight comfortable No problems range battery life. A little bulky though. Just got day buy especially rebate =',\n",
              " 'Its bluetooth headset Ive I dont compare with. Has ipaq usable phone. Sound quality good people I sound far away Im experimenting gain ipaq helps. It little tight big ears I able bend goes ear little better now. Great battery life.Would nice external ringer I hear ringing vibrate I away phone. Good range .',\n",
              " 'bought motorola HS . motorola V at&t. motorola worked pretty thought bluetooth headset way much. returned motorola picked logitech instead / cost happy.it fits little awkwardly ear motorola thinking ears problem. clarity voice recognition good. battery life good. weight ear good. overall pretty impressedi wish way adjust tightness earpiece feels kind loose ear. nice \"on\" button wasnt small covered finger turned making hard flashing blue light.whenever use microwave makes bluetooth connection drop. warning ya.',\n",
              " 'Ive headset months pleased battery life. It recently problems keeping hour Skype sessionIt capable pairing multiple devices instance use home cell phone road having redo pairing time cheap brandX headsets dont do.Logitech kind supply tiny charger perfect headset road. For international trips problem handle volts Hz translation technologically challenged use world cheap prong adapterOn negative possible jam connector headset wrong way youre careful. Of course battery wont charge light wont dead giveaway. It caused damage headset connector design better.I headset comfortable wear extended periods time. The volume loud sound quality clear. People liked sound quality well.There negative points cost excellent headset star minutes inactivity goes lowpower mode \"sleep\". When phone paired rings rings wake start ringing. If press answer button headset starts ringing lose call. If want answer right away answer phone pressing answer button headset transfer headset like Sony Ericsson HBH headset hang up. To transfer headset use appropriate menu phone instead. The ring headset irritating nonmodifiable melody. It nice options The headset fairly large dorkylooking.Despite drawbacks dont forget capable reliable headset bargain basement price best there. If live looks super deal.',\n",
              " '\"behind ear\" thing broke...I baby stuff treat VERY lightly piece junk fell apartVery dissapointedI additions review long ago Logitech cam headset huge way They immediately sent replacement headset replacement replacement Then told broken I able fix Krazy GlueReally incredible customer support...I hesitate buy branded Logitech nameBTW stars earpiece repaired glue.',\n",
              " 'Im great believer spending little possible glitzbells whistles generally performance practicality. Sound quality features fine price. But unit difficult wear boom wide boxy weight unbalanced well. I comfortable fit. My ear normal range size shape bent shape headset.On positive wind noise lost connections common criticisms BT headsets problem here. If dont care medium long term fit comfort aesthetics walking large unit hanging ear happy headset. I wasnt returning it. Im going Cardo Scala try good Ill probably Jabra spend bit money.',\n",
              " 'Ive year. It works great. Great quality static. Battery life real good. The bad looks like males anatomy I dont want head. Otherwise great buy.',\n",
              " 'Let thingsBuy THIS device. Here reasons Hours talk time True feet range Wind filter clear talking Small comfortable doesnt intrude ear Crazy price huge quality Warranty reliability LogitechIve Sony Ericsson Jabra BT I Jabra better Sony Ericsson Logitech blows away. Its faster Logitech range better. The microphone clear crisp speaker volume loud sufficient.For I Jabra A bluetooth adapter Sprint Sanyo phone w/.mm headset jack. It gave BT phone I use headset. The autoanswer hang depends phone normally headset not. Works great meIf considering headset one. Its bluetooth technology like. Its great Amazon sold out... nice. It . go???',\n",
              " 'I bit skeptical I saw price read reviews I thought hey Logitech good. I right headset comfortable compared headset I bought. The ear speaker loud point I dont highest setting. The mic thing I worried I called friends cell phone talked I pleasantly surprised sound volume clarity. Also I havent complaints friends Ive talked headset. It experience Logitech makes best wireless devices buck didnt let second Logitech wireless devices month I bought xbox controller definitely worth buy.',\n",
              " 'The sound quality excellent earpiece flimsy irreplacable terrific electrical engineering poor mechanical engineering.I loved wasnt broken. Even wind didnt bother headset much. The voice quality great transmission reception. But earpiece incredibly flimsy replaced. I got new headset time warranty. The second time broke I gotten free replacement I didnt want hassle. I Scala Ive months Im happy sound windimmunity doesnt measure Logitech.',\n",
              " 'I weeks RAZR V I satisfied works advertised. It easy pair headset phone. The sound good noisy environments. The headset light confortable fits well.My complaint smart button turn on/off answer dial pair. The button LED indicator. The LED flashes diferently different colors intervals modes difficult LED pushing holding button. After days I got I know long hold button switch on/off pair use voice dial.At good deal.',\n",
              " 'cheap excellent value. problem uselessness confronted windy conditions better job most. v simple instructinos lacks ability switch easily headset & phone & back.nevertheless brilliant value.',\n",
              " 'Pros Price Ease pairing Sound quality theirs Battery lifeCons Painful extended time mins Hard tell',\n",
              " 'I bought Logitech Mobile Freedom Headset use VoIP HP zt Windows XP SP notebook. I wanted use wireless headset VoIP international calls hotel rooms. This headset work box situation. The Logitech support website great. It said upgrade notebooks bluetooth software. The HP site excellent. I downloaded bluetooth newer drivers. Once installed headset immediately worked docuemented. The newer drivers solved weird hibernation problems Ive experiencing too. Im Skype VoIP service. Skype setup option bluetooth headset Skype normal audio devices used. All installation bit upgrade work competently supported. I VoIP connected wireless headset allows mobile freedom. Due usage I comment audio quality useability mobile phones. The device apparently work majority PocketPCs lack bluetooth software. Thus I gave stars. However HP sell stereo headphones microphone IPaq models.Update March Am able pair Axim xv PocketPc. Has considerable static. Skype apps nearly unusable. Continues work XP well. Suggest Plantronics MXI Stereo Headset Skype PPC.',\n",
              " 'Got headset replace Jabra incompatable Nokia . Fit comfort extremely subjective I Jabra far comfortable I actually forget I wearing said unit uncomfortable couple hours nearly AS comfortable securely fitting.Very complaints far performance. It easy pair phone wifes Motorola V laptop. Sound quality clear parties recipients occasionally complained pinging noise Jabra noise reduction actually works eliminate wind noise. Battery life excellent. The single function little aggrevating especially trying turn hold long time. The weird rare quirk occassionally calls interrupted strange sound sounds like dropping manhole cover spins pavement strange annoying fortunately rare.Overall performance notch comfort acceptable value difficult beat.',\n",
              " 'I month.PROSIt good value. It works lasts long time charge. The WindStop feature works well. People able hear driving playing volleyball. It stays ear uncomfortable.CONSThe unit looks okay attractive hightech units market. coworkers commented looks like I wearing phallic symbol ear look I like achieve.',\n",
              " 'Because I spent lot time phone I particular BT headsets. I tried brand BT headset imagine I mean EVERY brand. I frustrated point I ready wired headset I ran little guy. This far best hands down. My miserable experence Jabra Motorola. I lot connection audio quality issues brands.BT headset designers favor visual appeal performance. I dont understand headsets market short stubby microphone right ear instead month. Having microphone far away results having turn microphone sensitivity cause headset pick including background noise. Lack effective noisefiltering Logitech headset end wind noise car noise AC noise kind noise voice. In additional close promixity speak microphone creates feedback loop nice serving constant echoing. I lost count occasions friends coworkers end phone tell \"get crappy Jabra BT headset\" \"take Motorola BT headset\". I amazed people end easily tell Jabra BT headset horrid sound quality.Onto gem sound quality amazing far best bunch. The WindStop work. Together farther extending microphone unit produce best sound incoming outgoing. I know users complaining fit fault user. As reviewer pointed \"correct\" way wear I think provides excellent fit comfort.I speak I personally dont wear BT headset fashion statement. I use mean convenience safety sound quality fit factors consideration. On note clear winner. I wish product managers designers Motorola particularly Jabra note that. Jabra v models worst ear design heavytrigger button lousy product terms usability sound quality. I sure customers raved Jabra rank unit world',\n",
              " 'Good reception. It fits OK ear perfectly. It sturdy. Price better most. The wind doesnt bother either.',\n",
              " 'We bought Plantronics HL Handset Lifter ourPlantronics CS Dect . Digital Wireless Office Headsetand pleased devices. Using handset lifter ability answer calls directly wireless headset good spend lot time away physical phone headset unit connected.Setup amazingly easy following directions allowed installed minutes inexpensive noname speaker phone.Like Plantronics Headset passed test time I buy new failed today.Highly RecommendedCFH',\n",
              " 'This device allows answer incoming calls NEC phone I roam office Plantronics wireless headset place. This headset wireless range cover half floor building ability answer phone distance extremely useful bunch situations. A couple key featuresWhen comes Intercom external line chime ear alerts call. I press single button headset receiver lifted allowing receive call.When I press single button receiver hangs up.Its simple conceivably possible.The install instructions perfect. To work properly I unplug phone base handset Plantronics unit. The handset plugged Plantronics unit. This explicitly stated install instructions. It took minutes figure trick. Once worked perfect.The thing I easily pick parked calls function select line. I live shortcoming.',\n",
              " 'First I start saying I little surprised little mechanical device necessary technological advances days. The HL kind \"throw seventies\" terms jerry rigging function. Having said this... Plantronics builds quality stuff I sure good reason it. The device exactly supposed adjust individual phone. I little concern fit phone include plenty adjustment options care setup. I Plantronics CSN headset I love professional wireless function. I tested HL picking up/hanging headset times sucession lifter raised lowered receiver successfully time. That good me. Definitely worth wireless headset roam house/office talking phone.',\n",
              " 'There isnt here. For phone I needed enable remote functions PlantronicsCS Convertible Wireless Headset. It aestheticallypleasing Im sure designed wide variety phones need remote lifter I suppose complain.Mounting unit tricky. You need certain work properly use sticky tape mount place. So wind holding hand working headset activate/deactivate times sure youve right spot it.Comes special headset adapter phones shapes offset lifter bar.',\n",
              " 'I phone lifter combination Plantronics CS Wireless Office Headset. It powerful combination allowed answer phone feet away office. This lifter fits phone base lifts receiver press button remote headset. You answer phone hangup completed touching receiver.The lifter came plug minimicrophone ring detector attached base phone allowed base station notify phone ringing. The setup quick easy device took space desk attached phone.I spent thousands hours year phone device remote wireless headset saved lot neck stress phone holding hours day. This useful tool modern office I recommend you.',\n",
              " 'This device takes signal wireless headset like CS lifts receiver base phone unit. Depending phones angle conformation receiver work not. My phone Toshiba digital phone I able work angling phone horizontally makes look stupid desk makes hard read LCD caller ID.Installing bit twitchy temporarily mount phone play sit angled correctly. Thats stickum adhesive pretty permanent decide optimum placement attach it. I resort duct tape step.Im going frank I lovehate maybe hate relationship Plantronics equipment. I headsets lately like nobodys business. My lasted years That excellent. But lasted minutes M lasted long I tap danced I threw trash. The latest CS I review I doesnt arrive DOA. Thats right dead box. I got overnight shipped diagnose bad cable receiver amplifier week replaced. Nice Overnight emergency turns tech job plus weeks wait. I stuff review Im sure Plantronics deserves spot telephone headset accessories. Were pretty stuck I quality going years. This lifter case point swiftest design imaginable. The little extender rod/gripper lastditch method receiver hang kludge opinion. Perhaps youve better results I thing perfect.',\n",
              " 'It looks strange stuck phone older Starpluss STS needs handset lifted wireless headset work properly. This item easy set up. It took minutes unpack install.',\n",
              " 'Our office phones lifters stopped working I decided chance lifters instead having order new headset glad I did. They work great',\n",
              " 'This handset lifter great. It works exactly I expected to. It arrived I expected to.',\n",
              " 'The vender phone wanted charge hundreds dollars mechenism interface wireless headset system. The Plantronics HL expensive works flawlessly easy install.',\n",
              " 'HL Handset lifter works great fast pick away phone base I buy again.',\n",
              " 'Works Great useful accessory wireless headset Amazon price right compared Plantronics wants',\n",
              " 'Plantronics HL Handset Lifter promised delivered time. I got boss like it.',\n",
              " 'great product order wrong size intend pass forward need it. purchase price great.make sure know size adapter making selection.',\n",
              " 'My wife uses work year works. I normally buy months breaks them. This lasted months.',\n",
              " 'These exactly mother needed old Nokia . She goes quickly I got two.',\n",
              " 'They r good price works win win situation. People problem hearing I .',\n",
              " 'It says compatible Motorola handsets... It doesnt work Motorola/Giant Talkabout FRS/GMRS/CB way radios having .mm jacks. Very disappointing.',\n",
              " 'bought work works great. sound clear microphone located convenient location. clip great addition headset.',\n",
              " 'I bought husband. He likes works jut fine him. He vehicle drives',\n",
              " 'I teach online WebEx class. Normally I provided phone bridge. However time wanted utilize VOIP only. I didnt want use normal head set cord tien feet computer. I needed hours talk time Im instructor. This fit bill. I let charge night ready day. I charger lunch break. The reason I didnt star ear hurt end day. The piece goes head unit ear pressure ear. I try ear adapters.',\n",
              " 'I impressed. I highly skeptical I buying bluetooth headsets like crazy trying worked theyre pretty junk. This thing worked way sidewalk likely thats far I went. The quality end clear. The manual plain stupid looks like half way putting released Mac manual course needed plug worked driver install nonsense Windows requires. BTW I primarily Skype.OK I add review. Theres fatal flaw device. A flaw makes device near worthless now. If USB cable unplugged earpiece left clipped holder/charger battery runs hours. Obviously simple diode prevented device close useless.Update May th . So years later device seriously failing. electronics device dying. I having constantly remove battery headset work cutting middle calls. It refuses charge discharges use base connected USB. Its pity failing I came looking new version none. Should I buy again?',\n",
              " 'This usb wireless headset. plug mac pc sees sound device drivers needed xp os x I tested Skype mac teamspeak pc . It comes sound api windows skype allow buttons phone pickup hangup calls I try I like use apps special add ons ...The range great skype dont want tied pc plug bad boy free walk house goes teamspeak gamers there.It pleasing work box change I tried hours thing bluetooth mess... This thing works',\n",
              " 'Set worked great little hours base unit failed connect laptop. Returned purchased different item. Didnt want business risk replacing thing. Cant afford offline long replaced.To fair I Plantronics headsets great... time favorite + years old compatible Google Voice work great Cisco IP phone. I bluetooth Plantronics Voyager headset iPhone good.',\n",
              " 'I use product skype calls. I high quality expensive wireless headset VOIP uses. I use Windows Vista Windows . The headset lasts long time day charging I outside house half way street I clear calls. The ear piece comfortable Id like wear I think head adjusts shape.Software install easy setup pretty nobrainer. It functionality adjustments I use learn about.I use brand regular phone headset work phone absolutely love it. Ive high quality calls battery life Plantronics device Ive used.',\n",
              " 'My previous PalmOS phones Kyocera Samsung i. Had I needed Bluetooth work new Toyota Prius Id stuck i. In fact Samsung/Sprint released SD memory slot faster etc. I considered Treo . So lets talk positives Camera w/movies nice. Memory card slot nice. Its fast. Bluetooth sync Mac Powerbook awesome plugging cables HotSync Handfree Prius works great. Having PalmOS based machine gives powerful web browser view sites. Higher rez screen nice.On downside lack graffiti okay keyboard good old Motorola PageWriter instead small requiring shiftkeys slashes @ symbols numbers etc. A real hassel I blaze PageWriter Ive reduced half speed keyboard extra work. Having softwaregraffiti nice thirdparty addon \"write screen\" apps okay accurate had.No voice recognition program awesome doesnt trained. \"Call \" does. \"Call Bob Tompson Mobile\" matches address book training numbers. VERY NICE.Battery life soso. You charge day use net much. poor better this. The I use week charging analog modes digital only.So okay Im okay crashes/reboots randomly time ... theres option Sprint.I taken flip phone huge brick phone heartbeat... But said Treo okay. More steps steps forward choiuce.',\n",
              " 'I got Treo preorder day Treo year replacements ... s kept breaking. It dramatic improvement I love it.The screen high res looks incredibly clear Bluetooth works wonderfully wireless Jabra headset. When comes simply hit answer phone comes headset. I dont particularly like comfort fit Jabra ear I probably looking alternatives well.The camera actually good snapshots keep. Almost good low end digital cameras. A critical buttons placed intuitively.Initial setup went pretty smoothly far seamlessly upgraded old Treo software imported contacts calendar applications. The Sprint phone rep activated phone actually knowledgable.The real CON Treo Hotsync cable connector big clunky compared . IMHO backward step replacing sleek original Treo connector Tungsten design connector. It requires separate power supply charge. I charging Treo single USB hotsync cable laptop. This extra power connection messy annoyance. The upside battery removable I spare charging elsewhere.Overall opinion I wouldnt consider returning buying Treo Treo available.',\n",
              " 'I picky comes PDA phone I outlook calendar appointment contact store Im happy But I wish Treo betterI Treo year upgraded Treo soon PalmOne asked thats Parts prayer answered A better screen resolution touch screen sensitive I use finger instead stylus camera lot clearer zoom works great removable battery handy use fully charged spare time favorite bluetooth builtin. And little keyboard lites bright blue white easy read. Thanks faster processor program loads lot faster.However I looking builtin WiFi bluetooth voice command reboot easy Treo . I notice boot slow I rarely to. However I notice takes internal memory available ram MB time I turned on. Palm flash upgrade fix I heard. With SD card I bunch application fixed. And I able MB available internally.I like new Treo handheld gadgets I bought fitted case protect it. If like want perfectly nice looking condition I recommad case screen protector. Remember hefty investment comparable PC Treo home phone sure wellprotected.',\n",
              " 'I phone weeks days. At weeks middle row keys stopped working s d f g etc. I told Palm India I told keys covered warranty.I truly wish I making I loved Palm. This fourth Palm device likely last. I run small real estate company works wireless telecom providers nation. My hope device I stop carrying devices cell phone Palm T laptop. And guys stop carrying devices around.Of course I took phone Sprint said Palms responsibility repair. When I raised stink looked blank eyes do. Sprint like business trying run customers off.I called India raised stink said time \"free return repair\" meaning I phone business days. They gave option paying additional refurbished replacement complete day warranty I know means nothing. These people honestly acted like biggest favor offering repair.I effectively called liar Palm / India I reemphasize keys dont work I needed immediately. I dont understand I feel like criminal I deal people I feel like theyre favor standing product. I customer Doesnt mean anymore?I sure I understand customer service general bad Amazons remains good. When person spends phone device work longer weeks. But stop working company sold stand product instead looking ways squirrel responsibility. Subsequent occurrence friends / colleagues told problems Treo s well.There issues phone. Out box power/sync cord work. I returned Sprint got tremendous hassle trying replaced. I ended buying Seidio charger/cradle works fine. The sound pretty bad I constantly having adjust volume. Every phone resets figure all. Also calls CallWaiting disconnect active disconnecting incoming words accept CallWaiting automatically means calls run simultaneously party hangs up. This plays heck monthly minutes.Also limited nonintuitive ways power phone. And dont phone camera cell phone cameras good placing pictures cell phone.Otherwise Palm applications work past number years. Expect new different Palm OS Treo.All I firm opinion I Palm device. My company stop Palm going slowly migrate away Sprint contracts start expire.My apologies rant simply companies bigger customers. Excuse I let me.Are companies provide good customer service anymore? I know tries business.',\n",
              " 'I purchased phone months ago truly best investments I I doubts comfortable Id lugging big phone like short lived hands. I use phone phone PDA capabilites. I organized things. The thing freezes connects Bluetooth minor complaint easily overlooked I look phone helped me.',\n",
              " 'Ive owned Palm type seven years cell phone slightly time. Ive resisted buying combined device I thought \"they arent ready yet.\" When came time replace PDA I decided Treo ready. I concerns size screen integrating PDA cell phone functions. Overall nervousness groundless. I pleased phone far.Good pointsWorks phoneBetter signal Nokia phone replacesScreen readable smaller traditional PDAPalm functionality fine. The interface redesigned bit seldom need stylus. Most entries rocker switch center screen keypad. You truly functions onehanded. But managed losing feel Palm arent having relearn zero.The memory nonvolatileIn English means batteries dead dont lose data till resynch Palm.Bad pointsThose complain slight delay dialing number Palm contacts list right. Its problem annoying couple second delay.If read books Palms Im sure screen prolonged reading.Battery life fair. I able days medium use bit life left battery. Not like days monochrome Palms youd week rechargesIts soso web browser.The price hideously high.Keyboard cramped good expect small device. It definitely useable. My instinct use right thumb I believe people claim use hands thumbs youll faster.From Ive seen Treo I believe upgrade worth currently . If waiting jump combined PDA/phone I believe thhis good point it.',\n",
              " 'I love phoneFirst Palm functionality wonderful The address book calendar work excellently crossfunctions greatImprovements include SMS messaging faster includes hyperlinks phone numbers web addresses unlike Treo The web faster screen crisperHowever BlueTooth BEST new feature wireless data transfer usually quick wireless headphones greatLastly complained phone slow functions unstable software updated . phone quicker stableOrdering new phone today come . software built alreadyI Treo user wonderful upgrade worth penny considering bluetooth software improvementsso buy wont sorryPS Cardo Scala bluetooth earpiece best earpiece phone',\n",
              " 'I purchased Scala BT headset I regret it. The company slow respond email messages support box dont write.While sound quality unit good issues unit. First fit particular ear horrible... feeling like going fall off. I trusted walking airports didnt feel secure.Second unit literally fell apart hands months. The portion protrudes gently ear came loose broke off. I note metioned thing. It wasnt constructed. Bummer Ive replaced lowcost unit Plantronics I miss sound quality Cardo I disappointed slow support poor quality.',\n",
              " 'Solid bluetooth headset particularly considering price. I like fact rests lightly ear inside. Its extremely lightweightSolid bluetooth headset particularly considering price. I like fact rests lightly ear inside. Its extremely lightweight worn hours end discomfort. Ive days far battery life great well.',\n",
              " 'I headset originally lost it. After I lost original I figured Id motorolla try purchased expensive motorolla market H.Using treo I COULD NOT HEAR ANYTHING people saying got constant complaints people I talking hear well. The volume terrible sound quality.This headset SO LOUD rd highest setting. The clarity great People think Im talking land line. For bucks I bought new chucked motorolla garbage.IM SO HAPPY TO HAVE MY SCALA BACK',\n",
              " 'Let I ordered Amazon reading glowing reviews Ive fairly disappointed performance Ive experienced. My experience specific Scala Sprints LGPM.First audio quality good. If phone lying piece furniture feet headset I usually passable quality occassionally clear reception. Any scenario resulted garbled audio. When headset phone phone pocket audible unacceptable barely discernable. And hearing.Second theres shiny blue light. When I read comments flashing blue LED I didnt think it. But dark thing strobe light. At night headset left countertop downstairs I upstairs I flash blue reflected second story ceiling. Thats A. Part B flash results slight audible clicking unlike camera flash goes off. Which means use thing night lying silence prepared constant audible visible reminder youre wearing Scala.Battery life good. Pairing excellent. The piece stayed head pretty comfortably making answering calls straightforward.Ive returned problems.',\n",
              " 'Probably biggest compliment headset youll forget youre it. The Scala incredibly lightweight adjusted properly ear comfortable.Im impressed controls. Both main button volume wheel accessible responsive. With Sony HBH headset I constantly dropping calls unresponsive controls. This happens Scala . Additionally volume easily regulated.Pairing Motorola MPX phone quick easy. Additionally reconnect quick reliable following disconnect powering units going range. Range way good comparable HBH headset.You hear party clearly crisply. Transmission voice I good. Though theres infrequent interferrence static voice transmission Ive complain difficulty hearing/understanding me. Theres NO annoying \"bluetooth echo.\"To sum upPlusses Price size weight comfort pairing controls sound quality range responsive customer service.Negatives Requires charging cradle thing haul youre traveling fuel guage indicate battery life red flash comes close dying',\n",
              " 'Works wind. Cant listen music SLVR expected. I I dont use though.I set shortcut SLVR quickly enabling bluetooth I wearing headset. If I bluetooth headset active refuses play music builtin speaker cable. But fault SLVR.Update I dropped outside got rained days I it. Thoroughly dried turned on. Still works',\n",
              " 'This bluetooth device. Read reviews considered headsets costing . Based reviews value got one. Have days.It works came good set accessories. My complaint tone voices end sounds bit like tin phone. Intelligibility problem sound bit disconcerting. Most people I talk sounds fine end complained \"tunnel sound.\"But good value. It synched TMobile Wing right away. I think dropped couple calls certain blame lies. I walked away phone I came reconnected immediately.Other comments The eyeglasses clip great idea Ill modify work wire frames. The ear clip fine. The supplied neck cord good idea Im it. The belt clip bit vulnerable sticks pretty far.Mine missing manual return? online PDF easy find.Overall I expect slightly better performance satisfied value general function headset.',\n",
              " 'I lucky headsetI use Treo I tried variety headsets including Motos Scala clearly BEST Treo likely others. The volume good louder headset I Treo . The connection times usually fast headsets awhile establish connection usually takes second course automatically picks outbound inbound calls. people I talk hear loudly clearly rarely I barrel effect going headset produce. The windnoisecancelling technology real I talked couple times outside blizzards thing quality loud clear ends despite high windsHowever I reconnect pairing device maybe weeks Im happyPretty good talk time battery course volume greatCheck new colors clear blue redLastly price beathighly recommended HAPPY TALKING',\n",
              " 'I specifically ordered headset eye glass clip. When I received order clip fit glasses appeared extreme poor contstruction type expect Craker Jack box.The headset required pressing button answer times actually pick call.The product process returned Amazon.com.',\n",
              " 'Let begin review stating lot people device successfully. As main problems. First I sound level low. While easy turn volume problem lies microphone close causes major echo person end. The second problem I I able transfer device phone. I tried use model couple weeks sure time I decided send looking.',\n",
              " 'Compared Motorola Bluetooth headsets Cardo rocks. It better mic speaker sound quality volume Motorola. The Motorola makes sound like Im talking speakerphone Cardo bit better regard.That said mic far away mouth sound distant bit muffled. With Cardo callers complain Im car outside windy day lot background wind noise.I ended going wired headset came Motorola RAZR phone better audio quality cumbersome setup Bluetooth headset.',\n",
              " 'I device Polycom landline phone.Trying settings I decent connection end separate Bluetooth earpiece I hear party fine little noise echo.But far end landline landline annoying whine echo matter setting. This isnt good I prefer use corded headset.I returning product Amazon.',\n",
              " 'I use nextel jabra adapter fits perfectly velcro. adapter approx / The adapter tiny setting adapt different phones I setting work fine motorola HS wireless earpiece. This adapter works Nextels direct connect regular phone calls adapter direct connect. So far I adapter earpiece hrs charge receiving phone calls direct calls hours. Cant wait till Nextel comes bluetooth phone till way',\n",
              " 'I bought exchanged returned unit. Both units delivered turn on. When I charged supplied adaptor red charging light came hours later unit supposedly fully charged. However I attempted turn unit pressing power button happened. The unit came paired worked. I returned them. I understand unit bad units shipped weeks apart shouldnt be.When I called technical support I waited hold gave up.',\n",
              " 'I bought item @ local retailer happy cause got sale probobly clearance worked days wire going unit self static touched I receipt emailed jabra & acting like isnt issue wanting know phones tried tried headset etc.... prolly accept return S&H Charges stupid & worth replacement Just nice wired headset spent & headache',\n",
              " 'Ok. I bought adapter today PDA cellphone. The product integrates My Laptop sony vaio cellphone siemens sx panasonic cordless home phone panasonic ppl complain voice faint. But issue I hear static crackling noises Im call. As soon bluetooth headset connected adapter produces faintmedium crackling noise. The noise exactly like produces range. But happens feet distance. I initially confused producing this. The battery fully charged adapter. The bluetooth headset issue connects laptop integrated bluetooth. Then I figured I adapter phone closer inches away ear headset works well. Otherwise distance feet starts crackling. I switched modes adapter issue. Although works upto feet crackling starts distance feet. I turned wireless networks test this. Also exchanged new item specific issue. But nd having problem. The manual says interference. I think . Ghz cause inteference. Alhtough I turned wireles devices caused issue car slightly better totally gone.But case dont hear crackling integrates everything. The crackling heard person side. So probably live it. There bluetooth adapters available there.Note Many reviewers complain adpater working home phones. First read manual designed work home phones works home phones youre lucky. It designed work primarily mobile phones only.',\n",
              " 'Perfect Contour Roam GPS camera. I got powered spares portable charger charges USB I charging charged',\n",
              " 'I bought Amazon alternate batters GPS logger gets job done. Its cheap worth price...',\n",
              " 'I bought battery replace dash cam. charged like instructions said wow. use dash cam long time plugging power point truck.the price battery good service receive it.if need new battery these.',\n",
              " 'After searching searching battery baby monitor Levana BABYVIEW I uses Nokia battery. I nervous buy type product seller Amazon. I works fits perfectly.',\n",
              " 'I NOT charge. Did sent cost ship I paid it. I ask help got where. But I order Nokia BLC works great.',\n",
              " 'It I longer obtain good quality BLCs I finally gave Nokia phone.I think battery I tried actually worse performance battery I year trying replace.These phonies China old chemically inert I afraid I recommend these.',\n",
              " 'After months use battery performance well. I tell battery genuine not.',\n",
              " 'No issues battery order. Its OEM Nokia BLC battery advertised. Nothing exciting performance new battery. Price excellent compared retail I satisfied purchase.',\n",
              " 'I purchased fatherinlaw. His battery wear welcome. It arrived ahead scheduled date problem it.',\n",
              " 'Got timely mannor phone chatged + hours Never worked Annoyed I ordered time hospital ce section wouldnt charge phone considering bending painfull. A lot good me.',\n",
              " 'I recently purchased batteries fouryearold Nokia cell phones. Based months trial batteries hold charge reasonable time... better old batteries. Seem good choice especially money.',\n",
              " 'The nice thing battery case came fully charged ready use. It fit perfectly phone I expected. Its excellent buy compared sources.',\n",
              " 'I purchased battery premium boldly proclaimed &LiIon&. That purchase I noted inexpensive batteries LiIon types OEM. My fault paying attention. Be advised better prices exact item Amazon looking.This having said item shipped quickly arrived fast I duck. I issues seller good job.',\n",
              " 'Works. Good quality battery. What I battery? It fits. It charges. It powers. Its battery reasonable price.',\n",
              " 'I bought gift brother. He loves It works perfectly iPhone works Siri.',\n",
              " 'Loving it. Clearly sound calls long live battery comfort ear hock. I trust Motorola Bluetooth Headset.',\n",
              " 'Overall OK headset versus H trades better inbound voice quality outbound quality. Given low price great value I RAZR PEBL boxes include free. My report cardDesign A nice simple design. Buttons easy use main button bit sensitive. Singletap poweron welcome feature. USB charging real plus.Aesthetics A attractive minimalist aesthetic. Color options cool. And shop elsewhereBuild quality A solid unit good materials.Comfort B+ lightweight decent ear clip. Unfortunately earclip loose headset combined light weight \"floppy\" fit.Compatibility A problems pairing. Connects quickly turned on. Headset handsfree functionality easy use.Outbound sound quality B callers hear fairly complained pronounced \"speakerphone\" effect requiring selfrepeating. OK noise cancellation.Inbound sound quality B+ volume adequate tad bit louder noisy environments. Incoming voices clear use bass. Minimal static.PS A previous reviewer believed like HS folding mic boom on/off connection switch need turn H receiving headset connect quickly phone pick call. THIS IS FALSE. You leave H turned actively connected phone order use like headset.',\n",
              " 'I bought Bluetooth backup pretty pink Motorola H. Therefore I placed drawer I needed replacement night needed it. I plugged couple hours tried pair new phone work. I charged overnight tried pair indicator light. I plugged bluetooth charger steady blue light tried pairing phone charger worked unfortunately walk charger outlet attached head. Consequently lemon months passed internet purchase unable return exchange.Therefore moral story test purchase internet. I learned valuable lesson.',\n",
              " 'The device description. It looked dropped vehicle hit road skidded way down. I VERY disappointed opening b/c thing I seen damage.I email seller told nice refunded I returned product them.',\n",
              " 'unhappy didnt work time got husband haven heard',\n",
              " 'This probably isnt sold I enjoyed time it. It lasted years Compared new ones bulky sound quality isnt good. But fact remained tact working condition especially rechargeable battery remarkable.',\n",
              " 'This bluetooth basically ok holding ear flimsey tends want fall u bend u securing ear annoying I lost times realizing longer ear...so huge drawback me. It work ok tho I sound problem present I listen straight phone it...its garbled. So product cute average fuction.',\n",
              " 'I paired unlocked RAZR far worked great months.It fits ears big voice quality good. I price amazon competitive',\n",
              " 'I STILL USE IT TILL THIS DAY. IT HAS NEVER LET ME DOWN. I LOVE IT. HEADPHONES CANT EVEN TOUCH THIS',\n",
              " 'While doesnt range Nokia bluetooth headset tried vastly comfortable. Ive Samsung t issues couple days review. Range feet supposed signal fading rapid. Very light easy use fortunately mid range signal tones.',\n",
              " 'The Motorola H good unit. It excellent sound quality easy operate. The negative thing hurt ear wearing awhile.',\n",
              " 'Bought yesterday. Pink lady grey me.Voice quality incoming outgoing excellent. So light wear hours w.o. problem forget there. Volume definitely loud adjusted want.We w. SE rm phones generation \"years\" ago BT builtin.I bought Cardo \"Allways\" head set /. It cumbersome it. It uncomfortable.I Ill day. I heavy cel phone user min./mo. day time.I strange reading reviews items model good feature eg. volume model unacceptable. Since people size OR shape ears probably headset tried fit purchase like pair shoes....mt',\n",
              " 'The price bluetooth devices gone dramatically I able justify buying The H works fine LG Shine. Although need talk little louder person clearly understand Well bad really.It easy setup. The device looks fine dorky opinion. It nice blue LED light. Available colors choice.Why stars? The volume control hardly palpable. It hard adjust volume use. Your fingers tend slipped trying adjust. Even button difficult press.I like ear hook flipped left right ear. It heavy worn comfortable ear.',\n",
              " 'I bought H years ago came out. It plagued low volume poor connection. After nokia bluetooth year I got cell phone laws California July st.This headset plenty loud Sony Ericsson Ti I havent drop bluetooth connection yet. The volume sits little half I hear perfectly car. Battery life rocks voice clarity lot better I remembered H. stars ear clip flimsy doesnt allow H sit tightly ear. So youre planning running intense walk dont count it.Definitely recommend great bluetooth device. Cant wrong price',\n",
              " 'I bought these. One fits ear perfectly second unit takes little time secure ear hook kind loose. Theyre plenty loud clear reception good range phone rooms away people tell I headset.Great performance considering price paid.',\n",
              " 'This Bluetooth sucks. Plain simple... I mean I paid thing wasnt expecting best working quality. I buy Motorola H H upwards I lose them. Always It curse I figured I rinkydink cheap I wouldnt corner losing day&s worth work pissed distraught losing th Bluetooth. But EVERY ONE unbearable static end mentioned it. Hell recorded lady voicemail like thing sucks So yeah spend extra cash grades lost cause.',\n",
              " 'Very pleased purchase excellent sound quality speaking listening. Also plug charger sturdy good fit headset.',\n",
              " 'I needed BT headset longest time.....since I getting worried I busted day. I saw Gold Box ordered immediately ....how wrong?It intended use primarily Blackberry Javelin . It paired quickly held charge . days far lightmoderate usage. My opinion price point I expecting miracle.If looking BT set loads noise canceling voice detection..then you. Look Jawbone Aliph...The H model long time perfect needs. I wish bit louder I giving /.Great value great item.',\n",
              " 'This bluetooth headset I dont compare far pretty good. Its small lightweight comfortable. Its hard judge comfort device try everyones ear head different.Im Motorola Razr Vm Verizon. It paired easily quickly. The connection little crackly right phone surprised bad takes away conversation. Naturally phone reception deteriorates. Volume clarity fine sound like holding phone ear.Overall good headset fine purposes. Only drawbacks volume buttons little hard manipulate nice unit held tighter head.',\n",
              " 'Right I comes cell service phones inherent contracts pay ways buyer beware I research ad nauseum getting new contract bed new cell provider. Ive Nextel subscriber years i. Both lovely phones service professional Nextel coverage features I expected. But like I said I researched death I bought phones service. Got phones Amazon.I taken looks RAZR wife saw one. But good looked worth worth switching carriers for? For Nextel wasnt making easy stay got bed Sprint I Sprint years nightmares customer service. Plus price \"upgrade phone\" Nextel unacceptable point view. Everyone knows cheaper phone new contactI got RAZRs local retailer sorry Amazon rebates Cingular arent worth effort paid best price anywhere. I got family plan par Verizons saves bunch money Nextel. A bunch money. Two words rollover minutes.I spent hour charging phone reading manual configuring phone function better great phone noticed similarities function quality Sony Motorola Nokia phones friends have. I repeat I read manual people avoid.For complaining phone/ address book shame you. I worried address book based reviews minutes manual phone I got RAZR nifty some. There ways configure address book silly. You assign create \"categories\" numbers addresses phone display certain categories flip numbers want flip thru.As complaints battery life RAZR sixplus hour talk time better half phones market today. I cos I feel like Ive researched half phones market ... Do plug phone sleep night. I guarantee fully charged morning.Fragile phone? How clumsy you? Ive beaten lots phones years expect brick break drop it. Half material RAZR lousier belt clip boot allowed fall ground way times. Im happy material expected durability. Stop throwing delicate expensive microelectronic device like teflon. Be careful.I cameraphone bandwagon primarily required merge unlike technologies nature usually expensive difficult. A good example ROKR socalled iTunes phone. I iPod phone come close actually blending best wireless world abilities iTunes iPodI bought came far short cos blending ideas like isnt easiest thing pull ... The RAZR expensive great camera large memory stick capture fullmotion video zip dorm room buddies blink eye. Its expensive slick looking phone makes phones shelf selfconscious. Most professional reviews phone gave low marks camera abilities dont surprised that. Want good camera phone Cingular? The Sony s got great reveiws good luck getting twice RAZR costs. Thats difference.Last thing I got phone knowing I days send thing working me. So theres little consumerfriendly cushion time fully evaulate phone. Still I research wouldnt surprises I got phone.Hope helps.',\n",
              " 'The phone ok. I didnt difference RAZR Motorolla V I earlier. All features same.Razr big huge color screen bluetooth enabled capture videos. But improvement calling features.So getting phone free rebates buy worth .',\n",
              " 'Ill start bad given phone generated. The Phonebook application little...wonky. Some people said add piece contact info contact NOT true. You nearly hidden underneath \"MORE\" function editing contact. However convenient add additional email addresses phone numbers contacts Phone Tools app...which annoying TMobile charges hardware/software bundle.a It takes forever scroll Phonebook contacts. I thought MIGHT caused having SIM contacts I transfered phone memory. No dice. The scroll speed untenable. Even wifes Moto V quicker. What gives? I create voice prompt contact list. Even blast volume isnt loud enough. Plus \"audio sweet spot\" speaker hard ear. If planning Bluetooth headset use exclusively shouldnt getting phone. Compared Samsung V Sony Ericsson Pi Motorolas V RAZR gets poorer reception. The previous phones mentioned bars house. The RAZR gets . This calling TMobile tech support help. Their advice? \"Keep turning phone hopefully tower.\" TMobile offers NO games phone yet. Given high profile form factor I level support somewhat poor. I know dont buy phone games. But lacking TMobiles support is...the RAZR includes demo BeJeweled. After short demo asks want buy it. Clicking link brings webpage says \"Sorry dont offer games phone yet\". My wifes V similar issue. Shes months services like TMobile STILL offer games phone. Again I know shouldnt buy phone based number games offered feature whittle away time waiting DMV. Camera phone x. Decent pics resolution given cheaper phones market I didnt phone free higher pixel values moderate oversight Motos Phone response fairly poor well. Example going contacts pressing keys going Q R S...so slow. You think phone responded mash button point responds TWO button presses start again. The Phone Tools application little user unfriendly totally geared people mess Outlook CSVs daily basis. Ive managed work work.Alright good. This phone veritable conversation piece. Oohs ahhs around...if care sort thing. I usually dont. I want functional phone gets good battery life gets decent signal withstand beating Im klutz. But care conversationworthyness cell phone spades. Great battery power. Ive days moderate usage Ive got bars left. This sturdy phone. My kid dropped cement twice Ive seen NO scratches all. Maybe Im lucky reviewer mentioned poor build quality piece. Ive issues. The phone rock solid. The usual ringtones wallpapers....all amazingly expensive. Why cost bucks hifi ringtone lasting seconds I buy song iTunes dollar? The PhoneTools software allows create OWN ringtones. I havent played software Im going guess abilities import MPs CDaudio truncated degree. Excellent Bluetooth performance. Havent opportunity test file transfers RAZRs connection Moto BT headset great. Doesnt matter body situated. Decent sound quality feet unobstructed space. Did I mention phone attractve? Ringtones loud degrading ringtone sound quality. I wish speaker loud.This phone shortcomings important poor performance Phonebook app poor signal quality low speaker volume. Ordinarily Id bringing phone like tomorrow. But design phone excellent BT performance makes want hang it.Hopefully Moto learns mistakes releases RAZR V better earpiece volume snappier response times.',\n",
              " 'The reason buy phone slim form factor. Lets face guys dont like phone belt like pager pants suit pocket option. This phone far away best regard. I forget lot time. It built EXTREMELY solidly NOT scratch easily SCREEN scratches easily.However battery life terrible. I literally charge night hours talking bluetooth. You MUST car charger immediately. Even I bought internet I wait phone kept dying I raced local cingular store intermediate car cord.The Motorola HS BT headset great occassionally loses connection w/the phone frustrating.The reason I kept phone size.',\n",
              " 'This great phone sleek light small thin. Motorola got form exactly right slightly larger credit card half inch thick. The screen excellent.Motorola missed big time including Motorola Phone Tools USB cable purchase cheap that. I spent money super exclusive cool phone buy software ? Thats actually kind crazy.They messed phone book. Outlook contacts spawned core contacts cell phone business email home entry individual separate entry. Way way unwieldy. They need update error big time. Theyve missed priority numbers know identify people lot head list. Im problems wow miss part.The camera oh takes pictures. They look decent cell phone forget more. The shutter speed slow hold phone solid blurry pictures viewed screen size phone look great.Overall nits truely nits heck great phone. If youre price sensitive buy V series. If want cool one.By way Im long time ATT customer trouble read took minutes buy activate phone Cingular. In fact service better. I wish port voice mail.',\n",
              " 'I bought becasue I happy phone metal case again. I use nokia phones day break month me. Bought Moto v blown away. The best phone I had. Then I upgraded color phones tried Motos. Really big disapointment. Moto phones cheap fall apart like nokia. When came I jumped it. Finally Moto going quality phones.PROSSome sturdy case. The metal parts solid. No marks month.The battery life little tiny bit higher average phone. I charge night half life left it. I talk hours day.Camera ok best far worst.Slim form factor. And yes wider normal flip good size. Other phones skinny me.CONSNot metal. The plastic cheap plastic. It creaks push it. I think antenna SAR rating . I think ear I wonder jaw getting. Rather jaw cancer brain right?The vol joke low. At highest normal phone middle setting. I turn people cell I struggling hear sometimes.The keypad looks nice pain butt. The donut thing middle scracthed finger nail. The rest keypad protected marks.A pain clean. The keypad shiny gets crap it. When clean rubber lining keys grabs cloth gets looking worse.Phone book. Good god man. The fact phone book shows dont lot effort phone total mess up. Either way true shame.Good luck support warranty Moto. Past experiences poor. You send phone fixed month later didnt read problem \"fix\" send broken.The reason phones cheap plastic opinion months phone looks like dropped stairs dozen times. You buy another. Strong durable plastic time. For crying loud Glad uses time. I happy pay dollars quality money same. This phone close meeting expectations I thought I dollar \"basic\" cell phone. I high standards dollar I want best. Moto seeing offering good rebates now. Amazon now. Well worth price.To reviewer Verizon. They use CDMA phone GSM. I doubt CDMA version. But course I real clue. Call Motorola.Also sorry spelling mistakes all. It time review I wrote. I getting paid wont waste time. Good luck I think happy phone all.',\n",
              " 'I Nextel user years Motorola products including i. The v best Motorola product Blows water makes look like yesterdays news. Superior striking good looks solidly built look cheap previous reviewer stated. I live GA Cingular reception good. Paired v Bluetrek G bluetooth headsetreceived rave reviews cheap pick ebay I wonder took long board. I fear Cingulars merger AT&T I AT&T years ago reception terrible.Ill Nextel appreciate customers Motorola products Bluetooth Blackberry. Plus wants carry brick pocket? Im woman typically carry v purse convenience I want jean pocket. And I forget there...This v superior browser technology email text messaging good camera great voice record. Yes address book different it. Anyways I important people I frequently address book problem me. I primarily lots calls like check news send text messages. A+++++++',\n",
              " 'Sexy form... CHECK. Innovative construction... CHECK. Exclusive price tag... CHECK. In sea flip phones candy bar phones look alike RAZR V Ferrari mobile phones stands such. If youre looking feature rich phone V V provide features far less. But want highquality constructed phone screams &look Im sexy btch& V alley.Actually better analogy The Acura NSX mobile phones. Like NSX I feel V marketing tool Motorola. Its way saying &Were known inexpensive phones look build stylish wellcrafted highend phones too&Unless wireless technology improves GSM V phone I definitely years. The styling design construction good I upgraded trusty reliable mediocre Nokia TDMA phone.Theres debate construction V best explanation Ive heard backside battery cover lower plastic antenna. It certainly makes perfect sense metal frame IS antenna areas cold touch weather areas usually room temperature. Furthermore misrepresentation Motorolas advertise such. Regardless phone flimsy solid comparison w/ old Nokia girlfriends V.Mikeys likeys The miniUSB port. This great singlepoint access data charging simple mobile phone standard The Bluetooth connectivity. Coming wired handsfree setup Bluetooth headset Jabra BT godsend. I leave V charging home office connected living room. SIDE NOTE stay away DLink Bluetooth USB adapter PC connectivity Belkin FT adapter read review DLink details Quad band. Doubtful Ill use feature/benefit words certainly impress you. The speakerphone. Ive nonbeliever mobile phone speakerphones Ive got admit Vs speaker phone bomb. Its loud clear loud car. My girlfriend tells I sound better w/ V speakerphone w/ old Nokia wired headset setup. When I dont Bluetooth headset Im spoiled w/ speakerphone. The internal display. Going V Nokia leap spacial proportions couple weeks I spoiled w/ large internal display. And V ATI IMAGEON graphics accelerator All phones excluding PDA phones pale comparison regard.Mikeys nolikeys No memory expansion. I dont MB internal memory SD/MMC card expansion slot nice. Maybe Motorola somebody maybe come w/ miniUSB adapter purpose. Poorly written owners manual. I owners manual like reference manual leaves figuring things own. It explain use common features owners especially ones new Motorola phones use. Instead lists features expects together. Its like &C++ Reference& vs &Learn How Program C++ Days.& Maybe Motorolas technical writers technical? Drops dings. Like &Ferrari& Ill probably weeklong mourning time I drop ding phone. Im hoping [good] cases available protect V juggles w/ keys pocket. SIDE NOTE I heard Cingular / Lockline insuring phone Cingular sales guy hesitant sell phone I bought insurance No EDGE. My girlfriends Motorola v EDGE. Shame shame shame Motorola. Bad Motorola. Bad bad bad. Alas akin buying k Ferrari Modena having cheap factory stereo paying k Acura NSX hp. Internal display colors. I hyped hear k colors Motorolas specs detective footwork k colors k colors MPEG video playback. Very sneaky misleading indeed.Wishlist I wished PocketPC smart phone version phone. PocketPC + V form factor = perfection.Regarding multiple numbers review set phonebook display primary numbers setting primary number names multiple numbers dont number set address book view &Primary Contacts& Phonebook Menu &&& Phonebook Setup &&& View voila primary numbers displayed.The way Motorola implemented intuitive Nokias implementation refer owners manual dislike I Motorolas implementation little robust.UPDATE Its nearly weeks Ive bought phone buyers remorse.',\n",
              " 'Ive phone heres I think.The User Interface bad rap people yes intuitive Nokias interface pros. You customize button including arrows left right soft keys. I left soft key programmed \"Shortcuts\" I function I need right there. And course use interface.The volume phone decent. I problems hearing people problems hearing me. Speakerphone works great too. My boyfriend says longers feels like hes talking tunnel I use speakerphone calls. The volume problem I highest volume slightly hard hear phone ring. One thing phone way cool ringtones.The address book issue If use SIM card store addresses able multiple entries person. But use phones memory store numbers numbers stored entry. I numbers stored Powerbooks address book Im worried having SIM card. And MAC iSync works wonders syncing numbers/calendars RAZR....now THATS coolThe screen large clear. I problems seeing dark bright light. I problems reception Cingular far. In fact I stronger signal places previous phone Nokia Overall I pleased design functions asthetics phone.',\n",
              " 'Bought phoneActually black v real difference video support additional memory BB replacing v basically \"chic factor\". Initally I happy excited purchase couple weeks novelty wore shortcomings apparent. The biggest issue I able hear earpiece. Unless ear EXACTLY random \"sweet spot good luck hearing anyhintg quietest environments. I removed little \"M\" circle little help. The second shortcoming screen. While colors available v resolution NOT look nearly good. And viewing blacks looking directly wierd greyblack thing going eye. Kind hard explain phone. Much dismay screen actually WORSE v. The camera. I rarely use phone cam times I needed pictures looked well...horrible. And reception. The reception good makes be. The v actually better reception. My new LG CE actually MUCH better reception generally better phone. This phone GOOD phone. Nothing less.',\n",
              " 'I origanally purchased phone thinking voice dialing similar motorola v. Unfortunately uses old style voice dial train voice phonebook entry. The v require utilizes true speech recognition software. Since important feature I returning razr exchanging v. To bad razr superior categories importand me. If true nex technology voice recogition I it.',\n",
              " 'Bought phone Cingular service. I needed phone hurry. I checked order day weird message\"Order RevisionOrder placed October PM PDTOpen order order revision requiredhas approved phone service plan packages. Please cancel necessary phone service plan packages order. We proceed order action part. Please aware action item DAYS cancelled order.Cancel necessary phone service plan packages\"I idea cryptic message meant essentially requiring cancel order. I cell phones family perfect credit earthly reason I wouldnt approved cell phone account message explanation. Of course Amazon explanation. I dont know form missing information mistyped idea happened. I think Amazon going cancel order need explain me.I bought Amazon usually good service awful.I think Amazon heads cell phone business.From comments sounds like Amazon fully honest transparent cell phone ads.',\n",
              " 'If look carefully called \"bad reviews\" notice dont know use phone OR received faulty phone happens EVERY manufacturer EVERY brand EVERY type phone.Now wife & I days far problems whatsoever ordered I got Black got silver one. Got BOTH FREE btw.Just word like want \"shared plan\" Cingular BUT Amazon offer plans order I ordered phone cheapest single plan Amazon sends conformation order shipped \"Cell phone Numbers\" right email.I simply called Cingular gave phone numbers phone told deal service changed \"single rollover mins shared plan\" got phones hands problems respect. Once got phones I called check yes person Cingular asked I checked phone \"My Account\" Main Menu page phone goes online checks account minutes plan sure supposed be.As far signal strength excellent area I house upstairs downstairs stays bars I dont recall seeing bars town far phone gets great signal Cingular \"in area\" puts great signal.My wife came business trip miles away \"With NO ROAMING charges\" btw cell phone service \"Alltel\" roaming miles.Anyway got hotel called perfect signal strength phone \"Speaker Phone\" mode laid phone closed position night stand unpacked suitcases I night stand talked hour problems FREE \"Mobile Mobile\".We sent couple text messages worked problem.She phone Alarm clock morning worked perfectly.Now reviewers said battery life likely gotten .Ive phone days charged times let point says \"needs\" charging average days charge like manual states appears battery life getting bit better charges So Im easily going days charge thats lot fiddling new hours talk time.Some mentioned dropped phone hinge broke. I drop phone way I suggest getting Krusell cover I delivered insurance . month Cingular covers life phone problem solved.Someone mentioned \"address book slow\" sure means I numbers far comes virtually instantly maybe ++ numbers couple seconds? dunno.As searching phone book mentioned new entry number person NO dont option numbers way wish \"Name\" \"Speed dial \" \"Voice name\" \"Email\" picture person.Someone said took seconds open address book dial number I secs mention set \"Voice command\" takes sec.Want faster easier lot names/entries? set \"list only\" \"no picture\" \"primary number only\" simple. You separate numbers putting \"Categories\" \"Business/Personal/General/VIPs\"Bring Category number way s Names & s thins category.When \"primary number only\" listed need numbers & Email listing Name \"Highlight use left right Navigation button numbers\" simple easy use. I Phone book excellent & fast. mentioned \"ear piece volume low\" ear piece volume fine sure \"volume\" turned good cell phone I sure ear right \"top edge phone\" low volume sound low. Someone mentioned little blue cover NOT ear piece volume speaker holes edge phone sure center ear holes volume loud phone used.Now I phone overall excellent gets great signal way features works intended purpose \"PHONE\" nice size looks great nice screen sharp image & colors.I ONE complaint far......The screen looks outstanding inside indoor lighting especially dark screen outdoors \"sunlight\" virtually unreadable. So gripe.I come update changes right FREE hardly wrong phone.UPDATE //My wife I phones single problem getting close years everyday use phones cell phone service land line.The slight problem / years finally change battery went cheap battery places close good original battery fault phone.These phones preformed flawlessly use hell them.',\n",
              " 'I live area Cingular service good I experienced virtually dropped calls. The phone I picked researched extensively. My son tossed old phone wash thanks insurance I previously purchased I got phone replacement. It longer wider old Motorola phone thinner. I concerned thickness durability. This phone metal I feel confident I previous Motorola phone.My old accessories dont fit manufacturer silly do?I purchased Motorola Phonetools . Avanquest previous phone. I plugged new phone program automatically updated . prompted add profile current phone. With program I ring tones manage address book sync Outlook I dont worry saving settings sim chip. I favorite picture phone dunker brother phones memory I use wallpaper.My Bluetooth accessories work better phone previous Motorola. On phone connection earpiece phone suddenly stop functioning. I hear earpiece phone function I power phone time I Bluetooth headset annoying.The Razr Jabra work together. It works great voice dialing experience I answer cell drive I rarely I people actually like unreachable sometimes.So I happy phone fairness reviewers I specific expectations I acquired phone.',\n",
              " 'I Samsung X awful. Dropped calls poor reception wouldnt hold charge. This phone changed opinion completely. It I need camera/video bonus. The downside difference & stars behave Jabra EarWrapthe remote button workand speakerphone joke. But speakerphone I needed reliability function.Really far step forwardI recommend needing reliable phone.',\n",
              " 'My wife I purchased Vs migration Cingular months ago. In time phone dropped bumped Ive replaced phone twice once. The problems weve include random \"white screen death\" Bluetooth connectivity problems isolated phones dropped calls perfect reception areas random battery indications infamous \"Unable Charge\" problemAdd Motorolas lousy phonebook UI retarded Bluetooth handling e.g. BT device connected Moto default ring sounds regardless sound profile callerspecific ringtones overpriced overhyped oversize paperweight.Im fortunate Cingular offers companys employees discounts new phones I Sony Ericsson. My old T gave years perfect service having dropped twice. Its nd owner months problemfree.',\n",
              " 'I bought phone Editors choice leading magazine. I preferred Motorola V Razor far expensive I phone basically Razor stylish.Plus points phone include A beautiful screen. It large bright excellent resolution. good pictures camera. I believe . megapixels... course wont able blow posters like viewing occasional x print pictures good. excellent sound quality speaker ringtones speakerphone sound great. nice construction easy grip rubberized metal trim back. button layout nice dedicated button taking pictures volume buttons side. Also note buttons user programable. phone voice dialing picture caller id pictures small appear external display bluetooth easy set use true Quad band phone worldwide unlocked first. excellent battery life. I believe reviews needs charged day... I charging phone days moderate use. Of course I screen saver turned I sure bluetooth disabled I maybe I great stanby talk times. Also place I purchased phone told charge hours use condition Li battery maybe helped increase battery life.The Negative points phone include blue external display looks cool I think visible typical backlit black white LCD like motorola v instruction manual like Motorola manuals good job explaining features play phone little bit fully use phone do. Even pictures camera excellent video quality good. Of course cell phone video camera I guess expect. Also flash camera unlike camera phones low light pictures great. USB port phone want buy motorola cable way transfer pictures mps phone bluetooth. HINT bluetooth adapter bucks dont waste money buying motorola cable. Also bluetooth adapter wont need special software transfer pictures mp... use software bluetooth adapter. connector charger typical motorola design occasionally jiggle fit right sure PRESS button connector removing damage contacts... users having problems charging phones phone comes blue look cool motorola phones like v razorAll best phone I owned. Users complain drops bad signals complaining carrier phone. Personally I noticed Cingular AT&T merger signal quality quality declined. A Cingular rep told temporary able better integrate networks... makes sense I problem I switched SIM card new Cingular SIM makes use networks.',\n",
              " 'Ive phone months I havent single technical problem couple typical drops paved surfaces. I charge night Ive Bluetooth radio makes significant difference battery life spur complaints shorter battery life V BT capability one. It possible turn BT radio dont need accessories connections. My charge lasts days I this. I dont feel inconvenienced charging daily leaving BT though.In general phone great screen quality compared directly friends Vs great speakerphone polyphonic ringtone capability great sound quality ends great voice dialing performance useful headset Im entirely satisfied camera considering IS cellphone camera.Ill admit interface bit cumbersome VERY customizable changeable function keys shortcuts menu orders. I efficient Ive tweaked suit tastes usage.Additionally contrary previous reviews I successfully transferred information phone book etc. media pictures ringtones etc. phone Bluetooth adapter PC Cingulars services. I trouble getting work initially I firewall getting way remember Bluetooth IS network connection.I suppose complaint conspicuous absence games comes Bejeweled demo end doesnt bother me. I buy game I wanted one.Overall I phone featurerich high quality efficient use customized rugged average cellphone.',\n",
              " 'My chief complaint phone Ringtone selector accessible outside phone causes changed simply handling fiddling pocket. There numerous times missed calls inadverdantly set silent pulled pocket The rest complaints poor confusing Motorola software menu structure. This phone bit rarely access features months ownership owned Motorola phones before. I talking buried inscrutable set menus trying like activate bluetooth number phonebook The software slow unresponsive compared Nokia Samsung gives lazy inexact feel. Some pluses rubberized finish easy grip support bluetooth bluetooth sucks battery power borderline useless nice large lit keys crisp screen.The phone overall feeling solidity heavy clumsy feeling. I gotten drops phone cingular dont know service phone. Overall want like phone im searching frustrations arent worth it.',\n",
              " 'Bottom LineStrongly recommended. This phone replaced highlyrated NEC assessment largely comparison it. Based research V virtually features expensive Razr Valthough largely plastic brushed aluminum. From online reviews Ive read early versions V problems lockups dropped calls. I havent seen types comments lately Im assuming Motorola worked kinks out.ProsVery good reception sound quality. Gets bars office I stand window use NECIts nice looking body plastic appears solidly NEC plug ugly. Nice raised number keys.Calls rings loud good I carry pocket briefcase car sunroof open music blaringDecent quality pictures phone cameraBluetoothMP ringtones extensive selection built ringtones aimed young users professionals.Good speaker phone functionEDGE makes fast web browsingExcellent procedure downloading saving data WAPmuch easier NECI access Hotmail I NECNice looking screenITAP text entry works better similar function NECGood voice dialing voice tags NEC simply took phone book entry didnt actually dial Moto doesAbility change ring volume method include useful vibrate ring method external keys handy ring volume loudButtons functions highly customizableVery good date bookQuad band Ive NEC Siemens replaced dozen countries including IraqNice price AT&TConsOrganization phone book common complaint I figured fine. You store numbers email entry. You save entries phone SIM organize primary listing. Its bestthe NEC allowed multiple emails plus informationbut works.Battery life complaint I following Motos recommendationscompletely discharge recharge timesits fine. Now I days charges normal use. As reviewer noted battery life short days I improved dramatically.Physically V bit compared NEC previous Motosa Star Tac V. But fit suit jacket pocketSpeaker phone function turned beforeMaximum time screen turns power saving seconds. You touch key come on. This interfere things like downloadsScreen icons small fuzzy users manual doesnt explain areSmall navigation keys thats price pay relatively small phoneOf builtin skins glaringly bright tacky. As ringtones Moto clearly focused young users professionalsWhen Bluetooth headset V use cheesy stock ringtonepersonal ones workYou recognition routine Bluetooth device time use takes seconds.Works great Moto Bluetooth headset Ive luck linking nonMoto Bluetooth adapter computerLousy users manualLousy users manualDid I mention lousy users manual? inexcusableVoice dialing universal. In words \"learns\" voice responding saying correct word phrase.Stubby antenna tradeoff I better reception internal antenna NECI happy pay extra fifty cents cost real metal instead plastic look like metal.The synchronization software Motorola Mobile Phone Toolsand cable cost extra. I able function. Motorolas support utterly worthlessI asked help online told them. Two attempts led disconnects minutes hold getting actual tech person. The software developerBVRPis trying help able fix problem. I seek refund online vendor look alternative sync software.',\n",
              " 'I didnt like husband think works great uses often.',\n",
              " 'Doesnt stay figure on. The ear plug piece big bulky hear. The mouth piece way short hear talk car road noise. The cord short volume control cord inconvenient. Get Bluetooth wire.',\n",
              " 'I owned months started fall apart. It Best Buy. I havent replaced lot.? Im buying more. I moving mph bicycle talking problems. It far better sound quality backup Jabra boom. The ear volume adjustable phone Im wondering phones reviewers wont let adjust volume?',\n",
              " 'This fell apart use person I called hear wasnt broken pieces. VERY disappointed',\n",
              " 'This model C Jabra headsets I ordered. I continued try different Jabra models ear piece far comfortable best sound quality I Jabras poor microphone quality. With persons end hear me. Disappointed. I worked cell phone cordless phone.',\n",
              " 'The downside headset I owned broke years use. First ear \"hook\" piece broke off. Then .mm jack broke plug Im glad adapter phone time ruined phone.I bought works fine. Hopefully broken .mm jack onetime thing. Otherwise sound quality fit great. The reviewer says ear piece snug use smaller ear piece different sizes come headset ear.',\n",
              " 'I screwed shouldnt ordered use me. Since real price hidden \"shipping handling\" pointless return Ill write \"educational expense\".I actually bought use cordless handset \"hands free\" .mm jack. Siemens cordless phone system. The owners manual says \"...any . mm headset\" thats I bought. I dont know thing anymore I little bag forgot it.I tried handsets plug simply captures line makes loud \"screeching\" sound... ...playing plug I tenuous position quarter way I hear audio phone moment I let slip goes screeching.I work including wifes Samsung Intensity .mm headset jack results I dont access PalmEvery I stupid buying occasions.',\n",
              " 'These work day I got them.The right earbud sound.I got replacement situation.I sure Im Nokia Ex dont work properly.',\n",
              " 'Theres problem design headset. The jack short. Its EXTREMELY sensitive movement. If dont plugged ALL THE WAY youll loose connection. I dont know designed way...',\n",
              " 'I purchased headset BTO Inc fit thePalm Centrosmartphone /\" /\" headphone jack. This headset fits works perfectly.If familiar mono headset shipped older Palm Handspring Treo phones headset stereo version. The buds hard plastic intheear type cushion install tearing. The microphone left bud held close mouth left wire shorter right side. The mic answer/hang button. And set terminated /\" conductor plug.The build sound quality set good. The plug strain relief wiring rugged expected. The buds bass ports mic capsule reasonable size. The Centro microSD card storing MP tracks headset good job reproducing dynamic range classical music.There better headsets available. But want headset fit stereo Treo mic answer button decent sound hard costs less. Four stars instead bud cushions tear easy.',\n",
              " 'Great sound I use phone music gym I moving I problems. To cheaper steal',\n",
              " 'I doesnt hold charge long expected inexpensive battery. You pay dont you?',\n",
              " 'Great price Motorola branded batteries. Works great long original battery new.',\n",
              " 'The battery received lost charge overnight..the vendor replaced look alike working better.Not totally happy quality vendor responsive important discount item transactions like this.',\n",
              " 'Oem battery works great received days Love razr original battery died bought aftermarket lasted months OEM.',\n",
              " 'I lost charge Motorola RAZR V I cheap surprisingly works great asked frds lost charger buy eforcity',\n",
              " 'I read reviews Ive bought battery decided try luck bucks Im tell works nice I month I + hours talking days stand Isnt great? Of Course Im glad Ive tried I thinking wont power hours talking Ill need AT&T store original old going kept power half years. Will long leave.',\n",
              " 'Anywhere battery costs minimum times more. Even shipping steal. Grab backup.A service A Accessories.',\n",
              " 'I leary purchasing battery cost little. But I called vendor asked new battery reconditioned. The vendor assured new battery. It performed far.',\n",
              " 'I bought thinking I walking bad deal. However great battery. I price I extremely pleased.',\n",
              " 'This rd \"OEM\" battery I bought Amazon Marketplace terrible. I ordered form OEM shop BR. They sent BR supposed better hours talk time. It minutes complete overnight charge. Nowhere long battery I trying replace lasts hour instead original / hours.OEM sent counterfeit fake battery OEM. How tell? Because Motorola OEM batteries Japan. These clearly china. I problem returned battery Wireless Phone Accessories BatteriesLess.AMAZON screening sellers addressing issues. There ton posts single Motorola Razr battery listing got bad counterfeit batteries.Theses companies money selling junk counting Amazon customer feel worth hassle return it. For I return I lose hour time. My time worth th I ripped for. But I b/c hopefully point AMAZON going responsibility conduct market sellers. AMAZONs new logo customer centric company earth. Well AMAZON start Bargain Cell worst offenders Wireless Phone Accessories OEM Shop joke clearly KNOW selling counterfeit batteries.I paid batteriesless hoping real deal I got exact batter I got OEM shop exact counterfeit. So price paid. Just dishonest online sellers.',\n",
              " 'I clarify review title saying battery pricey compared nonMotorola batteries received negative reviews. I know bought good experience. However I decided pay Motorola replacement. It works well. If lasts long original Motorola battery . year Ill satisfied.',\n",
              " 'Replacement batteries working great. They charge hold seemingly long original new.',\n",
              " 'I doubts product priced cheaply performed given phone noticeable life. I highly recommend product.',\n",
              " 'Product arrived time. I charged battery fully works intended problems phone.',\n",
              " 'They probably old batteries sitting shelf time got them. Not better old ones I replacing.',\n",
              " 'I purchased batteries day standby making calls went dead. I thought I problem RAZR VM I took informed batteries milliamps required RAZR. They replaced correct battery I year problem.',\n",
              " 'I agree reviews... people talk hear horrible echo mic picking earspeakers sound... I set earspeaker lowest volume. Im glad came free phone Id payed this... Id pretty mad.',\n",
              " 'Cant wrong . I bought Ive happy. I replaced Jabra headset I lost it. I think actually comfortable. Ive issues described here. Its clear end complained able understand me. Maybe I talk louder else.',\n",
              " 'Battery powered charging. Item delivered time described. It works perfectly true sound easy pair phone.',\n",
              " 'This second bluetooth headset I able compare previous Plantronics M. Overall bad headset flaws. Plus points include uses single AAA battery need lug charger traveling. This reason people consider headset others. Great battery life. I dont understand user complained getting hour standby time. Normally I days standby hours talk time AAA rechargeable somewhat depleted. A fully charged AAA AAA alkaline far better fits snugly ear relatively low profile...although users right occasionally feels like fall ear snug. Great price Motorola dot com. I got bucks leather pocket clip including shipping. No internal battery wont throw away battery dies plantronics non replaceable internal rechargeable battery dies years buy headset. Negative Points Include The multifunction button easy press accidentally occasionally I end redialing call. The plastic little lightweight drop scratched. Switching ears straightforward Plantronics headset. You remove earpiece clip reprogram volume buttons. It doesnt long hassle compared Plantronics requires rotate rubber ear insert. The volume definately high plantronics headset adequate people situations. The light clue status battery. The Plantronics start flashing red light battery gets weak motorola starts beeping. Great ear good sitting desk leather pocket clip. The motorola lower range plantronics. I sure battery fully charged I able use Plantronics downstairs phone upstairs Motorola lose connection soon I base stairs.Overall Motoroal HS great headset time bluetooth users travels lot talks lot want lug power adapter want lot latest features look elsewhere.',\n",
              " 'The battery life unit great. I use daily hour day single AAA weeks. It appears reviews vary lot.I use headset Treo phone Apple PowerBook G. On Apple I use generic output device. Im sure goes headsets. The signal strong Apple use feet away Treo signal nearly good.The sound OK. Its best. If noisy e.g. like driving hotel room air conditioner fan blowing fullblast OR person end talking loudly hard hear.Itll drop audio i.e. goes cell phone battery getting low. You milk longer thats clue battery.The earpiece OK secure Id hope. If youre outside gust want hang it.Also people end tell Im headset mention I sound little staticky.This bluetooth headset rating higher nifty gadget. But battery life winner workmates rechargeable headsets like theyre having charge them. I use rechargeable NiMH AAAs long time unit.',\n",
              " 'Summary Stay away product sports poor design...Pro+ low price+ small lightweight+ relatively easy use+ pair BT phonesCon morsecode like feedback signal try accomplish tasks single beep/tone. short beep short beeps short beeps long beep beeps beeps down. like reviewer said read manual nearyby able understand beeping means. echos matter volume set partly thing loud insanely difficult open battery door. I got frustrated I throw thing window. For product use regular batteries battery door difficult open. Once opened need pair tweazers pull battery out. The battery compartment deep extremely snug. This sick joke Motorola. Forget changing battery need sit tools lot patience. record breaking point return unit installing battery time turnoff sound quality mediocre best',\n",
              " 'I bought different BoxWave Patent Leather Clutch magnetic closure impressed functionality. BoxWave changed style snap closure I didnt realize I received it.Im taking stars away mistake usual problem I snap closures. I spend extra time trying snap doesnt close like magnet.The case marks inside stitches shows mark patent leather soon I run slightly it. I case maybe twice return magnetic BoxWave leather clutch instead.',\n",
              " 'Its shiny pretty makes fingerprint magnet. Its okay. I buy lot cases phones I like switch lot. This nice times want dressier case. For everyday I think I stick real leather cases Zenus. They cost lot wear IF buy real leather cases. The case cover creases accidentally run fingernail it. Its permanent crease. Its bulky protects makes phone big. I love BoxWave little disappointing. Why buy cheap case phone.',\n",
              " 'This nice case resembles wallet holds credit cards papers keeping Galaxy Note II protected.',\n",
              " 'Quality value item fine WHOA smells SO BAD Just like bug spray I returned promptly.',\n",
              " 'Samsung Note lets face large phone... Howeva I putting nice cases. This case hits stars. Has credit/ID slots money slot Love I dont carry purse. Plus strap nice wrist phone know crazy people days running snatching phones extra secure. Best parts phone secure case holder flip case open. There appropriate hole case Spen removal. Also phone button closes versus magnetic closure cases here.Only No Speaker hole close case talking phone.Howeva regardless highly recommend. Might color.',\n",
              " 'Bought girlfriends s loved it. Having wrist lanyard helpful nice looking case phone. Fitment perfect. Also slick outer sheen pretty easy clean stuff gets somewhat easy leave indent marks/scratches left purse pens sharp.One thing I hadnt noticed sellers page case held snap. It like added picture kind side. This problem holds magnet nice.The real drawbacks cover closed leave small horizontal smudge marks phone card pockets. Also extended use phone case cause heat faster cases Ive tried. Both mildly annoying arent big problem.',\n",
              " 'The product OK material cheap looking leather. I expecting natural feel shining look.',\n",
              " 'I tried putting Galaxy S case kept popping out. It like plastic casing small phone. Very disappointed.',\n",
              " 'I LIKED THE CASE VERY MUCH = BUT I NO LONGER HAVE THE PHONE = SO THE NEW BUYER THAT BOUGHT IT FROM ME AND THE CASE.',\n",
              " 'This perfect case phone. Even having big phone case makes feel small easy handle.It gives great protection drop slip hand. I love case black patent leather makes stylish case.',\n",
              " 'Its cheap wristlet like little thread sturdy all. You clip uncased phone plastic backing attached o purse. Money needs length pack cash in. Id like better cash compartment thing I wanted purchase. Id purchase cheaper product like this. Id wristlet breaks im positive product pointless. Buyer aware. Update. I stopped this. The day I got phone kind stuck thinking I madly pulling it. Needless note went flying cracked screen pieces. Just careful handling phone privides protection tough disengage phone.',\n",
              " 'Will away product. For personal taste bit bulkier I prefer. Quality good complaints otherwise.',\n",
              " 'This case looks fantastic functional convenient carry necessities credit card id cash etc. smelled like plastic minutes I opened didnt bother all. Overall case awesome. Its cute sturdy made. Buy',\n",
              " 'case perfect shiny black girlfreind looking looks sturdy forever mini pockets inside cover verry nice thanks',\n",
              " 'I actually like case lot. I worried price TPU all. I I feeling going lot longer Spigen NeoHybrid I owned months broke. And better I fit charging headphone devices perfectly unlike Spigen. It doesnt case bulky look. It actually feels nice hands. Overall I like case. If happens change eventually I absolutely rereview',\n",
              " 'like style wrist band good close clip credit cards hard close. phone stays ok dropped phone pop out.',\n",
              " 'Its patent easy scratch. However case cute. Seems fit phone slid multiple occasions case.',\n",
              " 'Bought present mom match purse loves She likes better &signature& case becasue quality',\n",
              " 'Looks feels like plastic. Like snap instead magnet. Looks better picture person. Holding great couple weeks. .',\n",
              " 'It nice case. Well GREAT color........ But I bought wrong size. Had send back.',\n",
              " 'Not pleased cover ordered Samsung Galaxy Note wife loving BoxWave. She loves compartments ID credit card money. The fit good problems taking pictures talking. She likes carrying strap cases flexibility.',\n",
              " 'I bought daughter use vacation cruise. The magnetic clasp erased room card credit card. Kind defeats purpose clutch. It ok drivers license phone cash people dont carry cash credit bank card reissued problematic.',\n",
              " 'The BoxWave provides good protection Samsung Galaxy Note doesnt provide near bulk LiviTech Defender Double Layer Hybrid Hard Case. I recommend Samsung OEM Case all.',\n",
              " 'This great case Note . I undecided use cover belt holster Ive used. I wound ordering REIKO case. They work good separately together. If try use impossible remove Note REIKO stuck tight fit. I decided use BoxWave exclusively dissatisified decision. I simply slide Note pocket. And phone isnt big pants pocket.The pros case makes Note look stylish rubbery feel makes phone feel stable hand rubbery feel doesnt interfere going pocket. If I come BoxWave Tuxedo Suitup case glossiness shows fingerprints However wipe easily.In summary I definitely order cases again.',\n",
              " 'I received item Dec. Been then. Wanted sure I liked job. It light weight add bulk phone protecting it. Well worth money. I thinking ordering different colors.',\n",
              " 'My favorite TPU case. Offers protection grip easily slip right on. I slip couple cards bills phone case need be.',\n",
              " 'Adds bulk phone I purchased different case. Also unlike pictures site buttons phone covered. The areas case power button volume rocker located covered plastic. Not good opinion. Makes harder press buttons. Might preferred looking good protection phone.',\n",
              " 'This case little thicker old TPU slim case I expected like firmness material used. No gaps flimsy rubber this. This everyday case now. Fit finish great feels good hand.',\n",
              " 'Case nice great solid fit. The feel nice minimal size. The buttons bit hard press volume on/off probably need feel. Nice case good build solid fit. Slides pocket issue.',\n",
              " 'This case tackle touch makes nice carry. Not worried dropping phone.Fits works fine thank much. .',\n",
              " 'Fits offers decent protection gives phone good grip good price. I order case again.',\n",
              " 'This thing sweet. I far best case I tried Box Wave. It slipped snug harder off. Although impossible difficult good thing book. This case comfortable hand feels right. All controls easily accessed Galaxy Note worked fine case it. The thing I didnt like come holster. I like use holsters carry phone belt. Well I manage holster earlier purchases phone fit Box Wave like glove. It piece rubber hard plastic cases Amazon sells .. I remember soon I I update review order case holster combo holster. I chance locate case holster \"Rhino\" brand. The ones I \"Black Rhino\". I hated cases holster perfect fit Box Wave case.',\n",
              " 'Bought replace I bought wife year ago great. Not heavy stand work way fits like glove. Gives grate stability slippery phone allows handed function.',\n",
              " 'I bought cases different cellphones case compelled write review. This far THE best case I had. It fits perfectly youd think meant second skin phone. fact doesnt add lot bulk feels like protect makes better. This case worth double triple price. I wish exact case phone. It goto case. Please HTC ONE',\n",
              " 'First Im huge fan TPU cases hate silicone ones. Theres huge difference case reader doesnt know. TPU better... LIGHT YEARS betterBut lot notsogood TPU cases theres wrong TPU. Rather theyre cheaply cut precisely accurately... sort thing.This particular case epitome precision cut. Its perfect. Every hole centered reveals beneath... camera lens flash speaker mic holes earphone jack course stylus. Note theres holes power button volume rocker......and TRUST ME way SHOULD So TPU cases cutouts power button volume rockers thats huge mistake. If youve cleaned oldstyle mouse know ones hard rubber ball partially hanging centerhold youve open cleaned youve seen dark kinda fuzzy weird stuff scratch rollers whatnot. That stuff body oil mixed skin cells mixed dust hair mixed lint mouse pad mixed godknows else. It gets virtually humans touch......including inside hardware buttons smartphone And stuff gets buttons stick phones wont turn screens awakened properly... common ones people dont realize caused sticking power button boot loopsHaving TPU cover covers power button volume rocker helps eliminate problem. Of course theres electromechanical HOME key thats uncovered look YouTube examples phones owners mistakenly believe broken HOME keys cause weird behavior fact thats wrong time HOME key gotten gunkedup aforementioned body oil mixed dust hair mixed with... well... picture.Theres lot HOME key problem hardware electromechanical opposed simple capacitive glass sure crap power buttons volume rockers TPU cases cover them......and does... magnificently. It nicelymolded buttons opposed cheap TPU cases sort bulge little bit texture added it. This case simply molded beautifullyThis case special reason people Ill bet dont know thats precisely sides wrap face phone bezel glass screen. Its nice different TPU cases it.Remember Note II kinda unique edges glass screen arent like phone. Most phones perfectly flat piece glass screens theres metal bezel case comes contact glasss edge allround bezel eversoslightly elevated flat plane glass screen place phone glass screen table glass actually touching table bezel edge holding millimeter tables surface.Well Note IIs glass actually higher lying bezel edge case fact edge Note IIs glass seesm roll cases bezel. As lay Note II face glass glass actually touches table. This makes bit nightmarishness regard screen protectors maker REALOOK manufactures dryapply versions Note II sits flat Note IIs screen leaves widerthannormal uncovered glass edge screen protector actual glass edge REALOOK \"D\" screen protector Note II thats molded actually wrap rounded edge Note IIs glass \"hang\" speak protectors edge come closer cases bezel causing COMPLETELY cover glass rounded edge.With TPU cases TPU sides wrap face glass totally flat screen protectors leave half millimeter screen protector edge bezel thats fine. The TPU case actually endsup covering edge look like screen protector covering entire glass. But REALOOK \"D\" style screen protector wraps edge kind common kind TPU case cause edges corners D screen protector curl pull up.This BoxWave Tuxedo SuitUp case magnificently shaped edge glass protrudes higher plane glass phone laid face glass sreen glass doesnt touch held millimeter table desk. But gets better That edge \"respects\" rounded edge Note IIs glass doesnt try wrap cover it. Therefore REALOOK D screen protectors edges corners remain intact look beautiful.This special TPU case... different others... kind actually use wet dryapply screen protector edges way edge Note IIs glass.Seriously thing PRECISION... REALLY took moment figure best cover unusual Note II... got PERFECTThe thing I wish matte finish wouldnt fingerprints. The TPU cases called \"sstyle\" \"sseries\" TPU cases matte finish \"s\" shape cases shiny finish like case \"s\" shape cases back. The entire BoxWave Tuxedo SuitUp kind matte finish thats \"s\" cases opinion option way.Sadly \"s\" series style cases type wrap way touching glass Note II doesnt work screen protectors. Plus \"s\" style series cases uncovered power volume rocker buttons. Most leave phone uncovered camera flash... problems BoxWave Tuxedo SuitUp worth endure shiny fingerprintshowing surface.Great case Bestofbreed cases dont cause edges corners screen protectors curlup pullup. If \"D\" type screen protector REALOOK REALOOKs screen protector attaches flat Note IIs screen TPU cases Note II fine long cover power volume rocker buttons thing nicely one. Seriously well... precise. I love itGregg L. DesElmsNapa California USAgregg greggdeselms dot com',\n",
              " 'returned came dented. I like wish it. They said got one.',\n",
              " 'Nice looks good & durable quality & price wise well. Really works described...for samsung note . I buy accessories online now...more way cheaper & difference whats store expensive.',\n",
              " 'Does needs excellent price. Fits rigid prevent damage kickstand nice touch. I dont know kickstand hold time works well. The ridge allows phone face touching table. The case pretty compact fits Smart Dock prevents HDMI registering. So charges goes dock mode doesnt sit far engage HDMI.',\n",
              " 'Bought daughter phone loves it. Solid case easily cleaned soap water.',\n",
              " 'A little protects kickstand stronger cases Ive tried.The thicker corners harder slide car dock.',\n",
              " 'The Boxwave case I bought Note II Bodysuit disappeared Amazon. This case uniform glossy texture. I Boxwave case Note I great. This new case better. It thinner streamlined buttons work better. This doesnt cutouts buttons instead welldesigned buttons molded case push phones buttons. I like buttons work protected time crud/damage. Cutouts ports/mics/camera/stylus placed perfectly sized appropriately. Lastly case TPU best case material opinion. Its firmer stays phone better soft silicone cases pick lint stick pocket offering cushion drop it.',\n",
              " 'I got product fast looks feels great phone. However interfere cellular signal brought bars none. I started dropping calls people line said I fading I able talk someone. I took cover Note bars popped I problems phone calls anymore. I tried sure cover sure thing before. I partner try kind phone thing Note . So I return case refund. It disappointing great looking case.',\n",
              " 'Fits perfect nice clean look I going buy leave inside car case.',\n",
              " 'I love way case looks feels. But I wish buttons little tactile hugged phone bit more. Otherwise I feel confident protection kickstand.',\n",
              " 'This regular case fit I believe pretty bulky protection intermediate .',\n",
              " 'This cover nice looks expensive. built built last. I recommend cover. Get',\n",
              " 'The cover fits properly leaving necessary openings available easy access. It keeps screen lifted surface phone face down. Overall I need do. Operating power volume buttons little awkward hard buttons feel. I recommend product looking basic protection.',\n",
              " 'Not case thought better quaility hard tell looking site.',\n",
              " 'Ive bought hard cases note favorite. Its easy figure out. I dont drop phone usually I drop covers sides. piece hard case I like.',\n",
              " 'Im pleased case. One piece slips fairly easily. Its real grippy like grab hold it. Goes holder pocket easy enough. The stand works great When stand closed flush case lays flat. Some cases stands hinges parts sick out. The blue nice true line image. I like it. The price amazing',\n",
              " 'Flawless fit materials looks. Mixing clear frosted materials looks cool. Adds width thickness weight. Volume buttons little hit miss youre looking phone trying raise/lower volume. Would flawless clickable volume power buttons.',\n",
              " 'Nice looking case. Very inexpensive fit well. Excellent value feels good hand. A little softer I like likely prone losing shape/tightness time.',\n",
              " 'This good inexpensive case. I use case phone slippery I wont drop decent job.',\n",
              " 'I searched online case new Samsung Galaxy Note II decided product cool design. It provided sufficient protection I especially like gripability sides.',\n",
              " 'I buy BoxWave cases phones practical comfortable good looking. This time I disappointed cuts camera flash Spen speaker microphones big looks ugly. Plus Spen corner phone cut big doesnt provide good protection corner. What phone falls corner?',\n",
              " 'Great design protected phone droppings. My year old dropped time problem. But big problem stained. I dont know I phone purse jeans pockets got blueish note',\n",
              " ...]"
            ]
          },
          "metadata": {},
          "execution_count": 11
        }
      ],
      "source": [
        "text "
      ]
    },
    {
      "cell_type": "code",
      "execution_count": 12,
      "metadata": {
        "colab": {
          "base_uri": "https://localhost:8080/"
        },
        "id": "m_LblFU-_W8k",
        "outputId": "d6c1cabf-7cb6-48f7-b5ae-4939c0346e19"
      },
      "outputs": [
        {
          "output_type": "execute_result",
          "data": {
            "text/plain": [
              "list"
            ]
          },
          "metadata": {},
          "execution_count": 12
        }
      ],
      "source": [
        "type(text)"
      ]
    },
    {
      "cell_type": "markdown",
      "metadata": {
        "id": "mKskidB6en57"
      },
      "source": []
    },
    {
      "cell_type": "markdown",
      "metadata": {
        "id": "qoQd-sKPen-B"
      },
      "source": [
        "# Train Validation Test Splitting"
      ]
    },
    {
      "cell_type": "code",
      "execution_count": 13,
      "metadata": {
        "id": "Whlwmku0x8LV"
      },
      "outputs": [],
      "source": [
        "## Before applying the tokenizer, lets split the data into train test\n",
        "train_text= text[: int(len(text)*0.7)]\n",
        "test_text = text[int(len(text)*0.7): int(len(text)*0.9)]\n",
        "val_text = text[int(len(text)*0.9):]\n",
        "\n"
      ]
    },
    {
      "cell_type": "code",
      "execution_count": 14,
      "metadata": {
        "colab": {
          "base_uri": "https://localhost:8080/"
        },
        "id": "9_JwguGWD-n9",
        "outputId": "470dbfdb-8a7b-4393-df4f-15e6848ee736"
      },
      "outputs": [
        {
          "output_type": "stream",
          "name": "stdout",
          "text": [
            "136107 38888 19444\n"
          ]
        }
      ],
      "source": [
        "Y=list(data['overall'])\n",
        "train_y= Y[: int(len(text)*0.7)]\n",
        "test_y = Y[int(len(text)*0.7):int(len(text)*0.9)]\n",
        "val_y = Y[int(len(text)*0.9):]\n",
        "\n",
        "print(len(train_y),len(test_y), len(val_y))"
      ]
    },
    {
      "cell_type": "code",
      "execution_count": 15,
      "metadata": {
        "colab": {
          "base_uri": "https://localhost:8080/"
        },
        "id": "FJWN0fskeHVz",
        "outputId": "13956b86-e046-4311-fba2-bf59487528db"
      },
      "outputs": [
        {
          "output_type": "execute_result",
          "data": {
            "text/plain": [
              "19444"
            ]
          },
          "metadata": {},
          "execution_count": 15
        }
      ],
      "source": [
        "len(val_text)"
      ]
    },
    {
      "cell_type": "code",
      "execution_count": 16,
      "metadata": {
        "colab": {
          "base_uri": "https://localhost:8080/"
        },
        "id": "8ztFjpWXDO4d",
        "outputId": "488c1055-6c37-492a-ac0c-d2d628a4ea89"
      },
      "outputs": [
        {
          "output_type": "execute_result",
          "data": {
            "text/plain": [
              "38888"
            ]
          },
          "metadata": {},
          "execution_count": 16
        }
      ],
      "source": [
        "len(test_text)"
      ]
    },
    {
      "cell_type": "code",
      "execution_count": 17,
      "metadata": {
        "colab": {
          "base_uri": "https://localhost:8080/"
        },
        "id": "6cfx568SZrks",
        "outputId": "1a19ac37-4163-4717-d2ad-b53de55030f7"
      },
      "outputs": [
        {
          "output_type": "execute_result",
          "data": {
            "text/plain": [
              "136107"
            ]
          },
          "metadata": {},
          "execution_count": 17
        }
      ],
      "source": [
        "len(train_text)"
      ]
    },
    {
      "cell_type": "code",
      "execution_count": 18,
      "metadata": {
        "id": "-mW7_XY8ygJM"
      },
      "outputs": [],
      "source": [
        "### Now lets tokenize the reviews\n",
        "tokenizer.fit_on_texts(train_text)\n",
        "tokenizer.fit_on_texts(test_text)\n",
        "tokenizer.fit_on_texts(val_text)\n"
      ]
    },
    {
      "cell_type": "code",
      "execution_count": 19,
      "metadata": {
        "colab": {
          "base_uri": "https://localhost:8080/"
        },
        "id": "jb9aMIqDzJOb",
        "outputId": "3c315719-f0c6-482c-8acc-d49e9527370a"
      },
      "outputs": [
        {
          "output_type": "execute_result",
          "data": {
            "text/plain": [
              "{'UNK': 1,\n",
              " 'i': 2,\n",
              " 'phone': 3,\n",
              " 'case': 4,\n",
              " 'the': 5,\n",
              " 'it': 6,\n",
              " 'like': 7,\n",
              " 'this': 8,\n",
              " 'great': 9,\n",
              " 'use': 10,\n",
              " 'screen': 11,\n",
              " 'good': 12,\n",
              " 'battery': 13,\n",
              " 'iphone': 14,\n",
              " 'charge': 15,\n",
              " 'charger': 16,\n",
              " 'product': 17,\n",
              " 'time': 18,\n",
              " 'dont': 19,\n",
              " 'works': 20,\n",
              " 's': 21,\n",
              " 'little': 22,\n",
              " 'nice': 23,\n",
              " 'price': 24,\n",
              " 'love': 25,\n",
              " 'work': 26,\n",
              " 'charging': 27,\n",
              " 'quality': 28,\n",
              " 'fit': 29,\n",
              " 'im': 30,\n",
              " 'easy': 31,\n",
              " 'usb': 32,\n",
              " 'device': 33,\n",
              " 'its': 34,\n",
              " 'protector': 35,\n",
              " 'ive': 36,\n",
              " 'power': 37,\n",
              " 'got': 38,\n",
              " 'better': 39,\n",
              " 'bought': 40,\n",
              " 'doesnt': 41,\n",
              " 'cable': 42,\n",
              " 'recommend': 43,\n",
              " 'need': 44,\n",
              " 'fits': 45,\n",
              " 'if': 46,\n",
              " 'cover': 47,\n",
              " 'looks': 48,\n",
              " 'buy': 49,\n",
              " 'protection': 50,\n",
              " 'cases': 51,\n",
              " 'new': 52,\n",
              " 'car': 53,\n",
              " 'way': 54,\n",
              " 'sound': 55,\n",
              " 'my': 56,\n",
              " 'phones': 57,\n",
              " 'you': 58,\n",
              " 'well': 59,\n",
              " 'galaxy': 60,\n",
              " 'thing': 61,\n",
              " 'bluetooth': 62,\n",
              " 'want': 63,\n",
              " 'hard': 64,\n",
              " 'but': 65,\n",
              " 'so': 66,\n",
              " 'devices': 67,\n",
              " 'a': 68,\n",
              " 'pretty': 69,\n",
              " 'long': 70,\n",
              " 'one': 71,\n",
              " 'headset': 72,\n",
              " 'samsung': 73,\n",
              " 'bit': 74,\n",
              " 'perfect': 75,\n",
              " 'didnt': 76,\n",
              " 'look': 77,\n",
              " 'plastic': 78,\n",
              " 'best': 79,\n",
              " 'feel': 80,\n",
              " 'right': 81,\n",
              " 'not': 82,\n",
              " 'button': 83,\n",
              " 'small': 84,\n",
              " 'looking': 85,\n",
              " 'lot': 86,\n",
              " 'easily': 87,\n",
              " 'think': 88,\n",
              " 'day': 89,\n",
              " 'problem': 90,\n",
              " 'came': 91,\n",
              " 'far': 92,\n",
              " 'color': 93,\n",
              " 'perfectly': 94,\n",
              " 'makes': 95,\n",
              " 'note': 96,\n",
              " 'they': 97,\n",
              " 'comes': 98,\n",
              " 'know': 99,\n",
              " 'ipad': 100,\n",
              " 'port': 101,\n",
              " 'for': 102,\n",
              " 'and': 103,\n",
              " 'there': 104,\n",
              " 'sure': 105,\n",
              " 'review': 106,\n",
              " 'on': 107,\n",
              " 'all': 108,\n",
              " 'light': 109,\n",
              " 'buttons': 110,\n",
              " 'ear': 111,\n",
              " 'in': 112,\n",
              " 'fine': 113,\n",
              " 'plug': 114,\n",
              " 'different': 115,\n",
              " 'times': 116,\n",
              " 'clear': 117,\n",
              " 'able': 118,\n",
              " 'unit': 119,\n",
              " 'cheap': 120,\n",
              " 'going': 121,\n",
              " 'design': 122,\n",
              " 'having': 123,\n",
              " 'volume': 124,\n",
              " 'charged': 125,\n",
              " 'pocket': 126,\n",
              " 'music': 127,\n",
              " 'purchased': 128,\n",
              " 'actually': 129,\n",
              " 'tried': 130,\n",
              " 'hours': 131,\n",
              " 'big': 132,\n",
              " 'life': 133,\n",
              " 'hold': 134,\n",
              " 'that': 135,\n",
              " 'happy': 136,\n",
              " 'overall': 137,\n",
              " 'size': 138,\n",
              " 'come': 139,\n",
              " 'very': 140,\n",
              " 'amazon': 141,\n",
              " 'getting': 142,\n",
              " 'item': 143,\n",
              " 'protectors': 144,\n",
              " 'thats': 145,\n",
              " 'people': 146,\n",
              " 'speaker': 147,\n",
              " 'apple': 148,\n",
              " 'days': 149,\n",
              " 'cord': 150,\n",
              " 'worth': 151,\n",
              " 'rubber': 152,\n",
              " 'worked': 153,\n",
              " 'protect': 154,\n",
              " 'black': 155,\n",
              " 'definitely': 156,\n",
              " 'when': 157,\n",
              " 'these': 158,\n",
              " 'charges': 159,\n",
              " 'touch': 160,\n",
              " 'otterbox': 161,\n",
              " 'camera': 162,\n",
              " 'feels': 163,\n",
              " 'received': 164,\n",
              " 'wont': 165,\n",
              " 'place': 166,\n",
              " 'headphones': 167,\n",
              " 'g': 168,\n",
              " 'no': 169,\n",
              " 'bad': 170,\n",
              " 'however': 171,\n",
              " 'fast': 172,\n",
              " 'off': 173,\n",
              " 'months': 174,\n",
              " 'stars': 175,\n",
              " 'issue': 176,\n",
              " 'also': 177,\n",
              " 'purchase': 178,\n",
              " 'me': 179,\n",
              " 'extra': 180,\n",
              " 'ordered': 181,\n",
              " 'money': 182,\n",
              " 'end': 183,\n",
              " 'isnt': 184,\n",
              " 'batteries': 185,\n",
              " 'stylus': 186,\n",
              " 'cell': 187,\n",
              " 'android': 188,\n",
              " 'ports': 189,\n",
              " 'now': 190,\n",
              " 'try': 191,\n",
              " 'away': 192,\n",
              " 'things': 193,\n",
              " 'took': 194,\n",
              " 'highly': 195,\n",
              " 'excellent': 196,\n",
              " 'pack': 197,\n",
              " 'set': 198,\n",
              " 'white': 199,\n",
              " 'needed': 200,\n",
              " 'home': 201,\n",
              " 'youre': 202,\n",
              " 'dropped': 203,\n",
              " 'thought': 204,\n",
              " 'problems': 205,\n",
              " 'wanted': 206,\n",
              " 'couple': 207,\n",
              " 'job': 208,\n",
              " 'hand': 209,\n",
              " 'with': 210,\n",
              " 'nexus': 211,\n",
              " 'probably': 212,\n",
              " 'blue': 213,\n",
              " 'mount': 214,\n",
              " 'as': 215,\n",
              " 'out': 216,\n",
              " 'issues': 217,\n",
              " 'id': 218,\n",
              " 'original': 219,\n",
              " 'quickly': 220,\n",
              " 'mah': 221,\n",
              " 'high': 222,\n",
              " 'reviews': 223,\n",
              " 'longer': 224,\n",
              " 'piece': 225,\n",
              " 'chargers': 226,\n",
              " 'to': 227,\n",
              " 'said': 228,\n",
              " 'adapter': 229,\n",
              " 'old': 230,\n",
              " 'drop': 231,\n",
              " 'box': 232,\n",
              " 'tablet': 233,\n",
              " 'wall': 234,\n",
              " 'at': 235,\n",
              " 'clip': 236,\n",
              " 'left': 237,\n",
              " 'after': 238,\n",
              " 'remove': 239,\n",
              " 'card': 240,\n",
              " 'bulky': 241,\n",
              " 'bubbles': 242,\n",
              " 'order': 243,\n",
              " 'cables': 244,\n",
              " 'exactly': 245,\n",
              " 'calls': 246,\n",
              " 'update': 247,\n",
              " 'fact': 248,\n",
              " 'them': 249,\n",
              " 'working': 250,\n",
              " 'turn': 251,\n",
              " 'free': 252,\n",
              " 'second': 253,\n",
              " 'slim': 254,\n",
              " 'products': 255,\n",
              " 'ones': 256,\n",
              " 'wish': 257,\n",
              " 'colors': 258,\n",
              " 'ipod': 259,\n",
              " 'deal': 260,\n",
              " 'htc': 261,\n",
              " 'protects': 262,\n",
              " 'feature': 263,\n",
              " 'simple': 264,\n",
              " 'included': 265,\n",
              " 'micro': 266,\n",
              " 'awesome': 267,\n",
              " 'just': 268,\n",
              " 'went': 269,\n",
              " 'stand': 270,\n",
              " 'fully': 271,\n",
              " 'grip': 272,\n",
              " 'inside': 273,\n",
              " 'again': 274,\n",
              " 'glass': 275,\n",
              " 'expected': 276,\n",
              " 'plus': 277,\n",
              " 'especially': 278,\n",
              " 'cute': 279,\n",
              " 'weeks': 280,\n",
              " 'carry': 281,\n",
              " 'plugged': 282,\n",
              " 'tell': 283,\n",
              " 'dust': 284,\n",
              " 'comfortable': 285,\n",
              " 'hear': 286,\n",
              " 'too': 287,\n",
              " 'voice': 288,\n",
              " 'x': 289,\n",
              " 'gets': 290,\n",
              " 'solid': 291,\n",
              " 'install': 292,\n",
              " 'wasnt': 293,\n",
              " 'ok': 294,\n",
              " 'replacement': 295,\n",
              " 'low': 296,\n",
              " 'service': 297,\n",
              " 'add': 298,\n",
              " 'covers': 299,\n",
              " 'super': 300,\n",
              " 'read': 301,\n",
              " 'sturdy': 302,\n",
              " 'year': 303,\n",
              " 'short': 304,\n",
              " 'reason': 305,\n",
              " 'buying': 306,\n",
              " 't': 307,\n",
              " 'havent': 308,\n",
              " 'edges': 309,\n",
              " 'audio': 310,\n",
              " 'durable': 311,\n",
              " 'takes': 312,\n",
              " 'app': 313,\n",
              " 'difficult': 314,\n",
              " 'up': 315,\n",
              " 'soft': 316,\n",
              " 'maybe': 317,\n",
              " 'ill': 318,\n",
              " 'instead': 319,\n",
              " 'easier': 320,\n",
              " 'week': 321,\n",
              " 'kind': 322,\n",
              " 'material': 323,\n",
              " 'bulk': 324,\n",
              " 'large': 325,\n",
              " 'protective': 326,\n",
              " 'apps': 327,\n",
              " 'years': 328,\n",
              " 'holds': 329,\n",
              " 'minutes': 330,\n",
              " 'slightly': 331,\n",
              " 'motorola': 332,\n",
              " 'real': 333,\n",
              " 'needs': 334,\n",
              " 'open': 335,\n",
              " 'completely': 336,\n",
              " 'led': 337,\n",
              " 'change': 338,\n",
              " 'scratches': 339,\n",
              " 'wife': 340,\n",
              " 'star': 341,\n",
              " 'wouldnt': 342,\n",
              " 'press': 343,\n",
              " 'month': 344,\n",
              " 'features': 345,\n",
              " 'hands': 346,\n",
              " 'cut': 347,\n",
              " 'dock': 348,\n",
              " 'is': 349,\n",
              " 'weight': 350,\n",
              " 'droid': 351,\n",
              " 'expensive': 352,\n",
              " 'holster': 353,\n",
              " 'picture': 354,\n",
              " 'let': 355,\n",
              " 'sides': 356,\n",
              " 'gave': 357,\n",
              " 'built': 358,\n",
              " 'point': 359,\n",
              " 'etc': 360,\n",
              " 'heavy': 361,\n",
              " 'cool': 362,\n",
              " 'do': 363,\n",
              " 'brand': 364,\n",
              " 'arrived': 365,\n",
              " 'wireless': 366,\n",
              " 'type': 367,\n",
              " 'stay': 368,\n",
              " 'belt': 369,\n",
              " 'version': 370,\n",
              " 'pay': 371,\n",
              " 'goes': 372,\n",
              " 'trying': 373,\n",
              " 'surface': 374,\n",
              " 'line': 375,\n",
              " 'clean': 376,\n",
              " 'provides': 377,\n",
              " 'store': 378,\n",
              " 'theres': 379,\n",
              " 'connection': 380,\n",
              " 'while': 381,\n",
              " 'wear': 382,\n",
              " 'cost': 383,\n",
              " 'shipping': 384,\n",
              " 'amazing': 385,\n",
              " 'broke': 386,\n",
              " 'what': 387,\n",
              " 'noise': 388,\n",
              " 'decent': 389,\n",
              " 'capacity': 390,\n",
              " 'allows': 391,\n",
              " 'smooth': 392,\n",
              " 'expect': 393,\n",
              " 'protected': 394,\n",
              " 'tight': 395,\n",
              " 'play': 396,\n",
              " 'fall': 397,\n",
              " 'standard': 398,\n",
              " 'simply': 399,\n",
              " 'first': 400,\n",
              " 'switch': 401,\n",
              " 'wrong': 402,\n",
              " 'loves': 403,\n",
              " 'instructions': 404,\n",
              " 'test': 405,\n",
              " 'liked': 406,\n",
              " 'available': 407,\n",
              " 'quick': 408,\n",
              " 'making': 409,\n",
              " 'pen': 410,\n",
              " 'oem': 411,\n",
              " 'handy': 412,\n",
              " 'seller': 413,\n",
              " 'loved': 414,\n",
              " 'provided': 415,\n",
              " 'external': 416,\n",
              " 'portable': 417,\n",
              " 'customer': 418,\n",
              " 'started': 419,\n",
              " 'access': 420,\n",
              " 'face': 421,\n",
              " 'gives': 422,\n",
              " 'close': 423,\n",
              " 'smartphone': 424,\n",
              " 'company': 425,\n",
              " 'back': 426,\n",
              " 'running': 427,\n",
              " 'gps': 428,\n",
              " 'replace': 429,\n",
              " 'travel': 430,\n",
              " 'designed': 431,\n",
              " 'connector': 432,\n",
              " 'provide': 433,\n",
              " 'decided': 434,\n",
              " 'extremely': 435,\n",
              " 'edge': 436,\n",
              " 'package': 437,\n",
              " 'leave': 438,\n",
              " 'help': 439,\n",
              " 'pleased': 440,\n",
              " 'guess': 441,\n",
              " 'half': 442,\n",
              " 'water': 443,\n",
              " 'video': 444,\n",
              " 'silicone': 445,\n",
              " 'run': 446,\n",
              " 'experience': 447,\n",
              " 'connect': 448,\n",
              " 'means': 449,\n",
              " 'nicely': 450,\n",
              " 'though': 451,\n",
              " 'similar': 452,\n",
              " 'pair': 453,\n",
              " 'once': 454,\n",
              " 'bright': 455,\n",
              " 'keeps': 456,\n",
              " 'recommended': 457,\n",
              " 'purse': 458,\n",
              " 'tip': 459,\n",
              " 'uses': 460,\n",
              " 'only': 461,\n",
              " 'headsets': 462,\n",
              " 'compared': 463,\n",
              " 'other': 464,\n",
              " 'have': 465,\n",
              " 'headphone': 466,\n",
              " 'taking': 467,\n",
              " 'absolutely': 468,\n",
              " 'verizon': 469,\n",
              " 'range': 470,\n",
              " 'outlet': 471,\n",
              " 'finally': 472,\n",
              " 'we': 473,\n",
              " 'extended': 474,\n",
              " 'mini': 475,\n",
              " 'kindle': 476,\n",
              " 'connected': 477,\n",
              " 'apply': 478,\n",
              " 'red': 479,\n",
              " 'break': 480,\n",
              " 'holding': 481,\n",
              " 'says': 482,\n",
              " 'air': 483,\n",
              " 'usually': 484,\n",
              " 'room': 485,\n",
              " 'bag': 486,\n",
              " 'jack': 487,\n",
              " 'output': 488,\n",
              " 'scratch': 489,\n",
              " 'packaging': 490,\n",
              " 'mobile': 491,\n",
              " 'smaller': 492,\n",
              " 'finish': 493,\n",
              " 'holder': 494,\n",
              " 'would': 495,\n",
              " 'disappointed': 496,\n",
              " 'yes': 497,\n",
              " 'model': 498,\n",
              " 'start': 499,\n",
              " 'stick': 500,\n",
              " 'data': 501,\n",
              " 'smart': 502,\n",
              " 'larger': 503,\n",
              " 'pink': 504,\n",
              " 'useful': 505,\n",
              " 'loose': 506,\n",
              " 'friends': 507,\n",
              " 'seen': 508,\n",
              " 'looked': 509,\n",
              " 'strong': 510,\n",
              " 'blackberry': 511,\n",
              " 'multiple': 512,\n",
              " 'mind': 513,\n",
              " 'night': 514,\n",
              " 'anker': 515,\n",
              " 'speakers': 516,\n",
              " 'push': 517,\n",
              " 'person': 518,\n",
              " 'youll': 519,\n",
              " 'user': 520,\n",
              " 'past': 521,\n",
              " 'v': 522,\n",
              " 'value': 523,\n",
              " 'installed': 524,\n",
              " 'much': 525,\n",
              " 'slide': 526,\n",
              " 'pictures': 527,\n",
              " 'snug': 528,\n",
              " 'even': 529,\n",
              " 'more': 530,\n",
              " 'talk': 531,\n",
              " 'iphones': 532,\n",
              " 'idea': 533,\n",
              " 'putting': 534,\n",
              " 'fairly': 535,\n",
              " 'recharge': 536,\n",
              " 'dual': 537,\n",
              " 'outside': 538,\n",
              " 'thanks': 539,\n",
              " 'head': 540,\n",
              " 'display': 541,\n",
              " 'google': 542,\n",
              " 'noticed': 543,\n",
              " 'cards': 544,\n",
              " 'ears': 545,\n",
              " 'area': 546,\n",
              " 'support': 547,\n",
              " 'does': 548,\n",
              " 'jabra': 549,\n",
              " 'return': 550,\n",
              " 'drops': 551,\n",
              " 'signal': 552,\n",
              " 'lights': 553,\n",
              " 'tested': 554,\n",
              " 'prefer': 555,\n",
              " 'sent': 556,\n",
              " 'number': 557,\n",
              " 'offers': 558,\n",
              " 'shell': 559,\n",
              " 'added': 560,\n",
              " 'control': 561,\n",
              " 'huge': 562,\n",
              " 'sleek': 563,\n",
              " 'loud': 564,\n",
              " 'difference': 565,\n",
              " 'adds': 566,\n",
              " 'watch': 567,\n",
              " 'tpu': 568,\n",
              " 'given': 569,\n",
              " 'finger': 570,\n",
              " 'paid': 571,\n",
              " 'damage': 572,\n",
              " 'style': 573,\n",
              " 'secure': 574,\n",
              " 'go': 575,\n",
              " 'hour': 576,\n",
              " 'defender': 577,\n",
              " 'convenient': 578,\n",
              " 'compact': 579,\n",
              " 'properly': 580,\n",
              " 'leather': 581,\n",
              " 'annoying': 582,\n",
              " 'lg': 583,\n",
              " 'believe': 584,\n",
              " 'option': 585,\n",
              " 'sim': 586,\n",
              " 'allow': 587,\n",
              " 'bumper': 588,\n",
              " 'complaints': 589,\n",
              " 'impressed': 590,\n",
              " 'she': 591,\n",
              " 'keyboard': 592,\n",
              " 'nokia': 593,\n",
              " 'normal': 594,\n",
              " 'cheaper': 595,\n",
              " 'course': 596,\n",
              " 'flat': 597,\n",
              " 'metal': 598,\n",
              " 'faster': 599,\n",
              " 'ago': 600,\n",
              " 'friend': 601,\n",
              " 'since': 602,\n",
              " 'worry': 603,\n",
              " 'apart': 604,\n",
              " 'turned': 605,\n",
              " 'later': 606,\n",
              " 'pros': 607,\n",
              " 'house': 608,\n",
              " 'glad': 609,\n",
              " 'previous': 610,\n",
              " 'market': 611,\n",
              " 'level': 612,\n",
              " 'favorite': 613,\n",
              " 'owned': 614,\n",
              " 'mode': 615,\n",
              " 'theyre': 616,\n",
              " 'some': 617,\n",
              " 'lost': 618,\n",
              " 'driving': 619,\n",
              " 'then': 620,\n",
              " 'ac': 621,\n",
              " 'soon': 622,\n",
              " 'plan': 623,\n",
              " 'tablets': 624,\n",
              " 'amp': 625,\n",
              " 'matte': 626,\n",
              " 'advertised': 627,\n",
              " 'regular': 628,\n",
              " 'flash': 629,\n",
              " 'evo': 630,\n",
              " 'pull': 631,\n",
              " 'listen': 632,\n",
              " 'function': 633,\n",
              " 'juice': 634,\n",
              " 'beautiful': 635,\n",
              " 'single': 636,\n",
              " 'twice': 637,\n",
              " 'backup': 638,\n",
              " 'feet': 639,\n",
              " 'tiny': 640,\n",
              " 'wifi': 641,\n",
              " 'stays': 642,\n",
              " 'build': 643,\n",
              " 'corners': 644,\n",
              " 'film': 645,\n",
              " 'down': 646,\n",
              " 'microusb': 647,\n",
              " 'complaint': 648,\n",
              " 'daughter': 649,\n",
              " 'rate': 650,\n",
              " 'kept': 651,\n",
              " 'important': 652,\n",
              " 'length': 653,\n",
              " 'coming': 654,\n",
              " 'gift': 655,\n",
              " 'will': 656,\n",
              " 'gs': 657,\n",
              " 'supposed': 658,\n",
              " 'email': 659,\n",
              " 'shows': 660,\n",
              " 'notice': 661,\n",
              " 'matter': 662,\n",
              " 'earbuds': 663,\n",
              " 'snap': 664,\n",
              " 'kickstand': 665,\n",
              " 'stock': 666,\n",
              " 'cords': 667,\n",
              " 'care': 668,\n",
              " 'unfortunately': 669,\n",
              " 'sample': 670,\n",
              " 'hope': 671,\n",
              " 'suction': 672,\n",
              " 'slot': 673,\n",
              " 'attached': 674,\n",
              " 'satisfied': 675,\n",
              " 'plantronics': 676,\n",
              " 'bank': 677,\n",
              " 'slippery': 678,\n",
              " 'be': 679,\n",
              " 'of': 680,\n",
              " 'current': 681,\n",
              " 'sounds': 682,\n",
              " 'performance': 683,\n",
              " 'rating': 684,\n",
              " 'bigger': 685,\n",
              " 'thank': 686,\n",
              " 'listening': 687,\n",
              " 'lightning': 688,\n",
              " 'pieces': 689,\n",
              " 'cause': 690,\n",
              " 'items': 691,\n",
              " 'covered': 692,\n",
              " 'controls': 693,\n",
              " 'stereo': 694,\n",
              " 'installation': 695,\n",
              " 'slip': 696,\n",
              " 'wallet': 697,\n",
              " 'stuff': 698,\n",
              " 'careful': 699,\n",
              " 'cloth': 700,\n",
              " 'answer': 701,\n",
              " 'near': 702,\n",
              " 'lose': 703,\n",
              " 'warranty': 704,\n",
              " 'hd': 705,\n",
              " 'application': 706,\n",
              " 'helps': 707,\n",
              " 'm': 708,\n",
              " 'family': 709,\n",
              " 'used': 710,\n",
              " 'higher': 711,\n",
              " 'including': 712,\n",
              " 'offer': 713,\n",
              " 'here': 714,\n",
              " 'okay': 715,\n",
              " 'plugs': 716,\n",
              " 'described': 717,\n",
              " 'surprised': 718,\n",
              " 'choice': 719,\n",
              " 'desk': 720,\n",
              " 'radio': 721,\n",
              " 'send': 722,\n",
              " 'text': 723,\n",
              " 'felt': 724,\n",
              " 'spare': 725,\n",
              " 'green': 726,\n",
              " 'ended': 727,\n",
              " 'minor': 728,\n",
              " 'cons': 729,\n",
              " 'husband': 730,\n",
              " 'beat': 731,\n",
              " 'bass': 732,\n",
              " 'barely': 733,\n",
              " 'really': 734,\n",
              " 'unlike': 735,\n",
              " 'space': 736,\n",
              " 'held': 737,\n",
              " 'had': 738,\n",
              " 'carrying': 739,\n",
              " 'reading': 740,\n",
              " 'check': 741,\n",
              " 'gb': 742,\n",
              " 'skin': 743,\n",
              " 'mp': 744,\n",
              " 'laptop': 745,\n",
              " 'w': 746,\n",
              " 'pairing': 747,\n",
              " 'considering': 748,\n",
              " 'main': 749,\n",
              " 'poor': 750,\n",
              " 'flimsy': 751,\n",
              " 'microphone': 752,\n",
              " 'keeping': 753,\n",
              " 'arent': 754,\n",
              " 'saw': 755,\n",
              " 'wait': 756,\n",
              " 'another': 757,\n",
              " 'both': 758,\n",
              " 'belkin': 759,\n",
              " 'still': 760,\n",
              " 'constantly': 761,\n",
              " 'talking': 762,\n",
              " 'usage': 763,\n",
              " 'protecting': 764,\n",
              " 'true': 765,\n",
              " 'purpose': 766,\n",
              " 'today': 767,\n",
              " 'credit': 768,\n",
              " 'immediately': 769,\n",
              " 'broken': 770,\n",
              " 'opinion': 771,\n",
              " 'solution': 772,\n",
              " 'dead': 773,\n",
              " 'options': 774,\n",
              " 'mm': 775,\n",
              " 'live': 776,\n",
              " 'office': 777,\n",
              " 'trent': 778,\n",
              " 'inexpensive': 779,\n",
              " 'totally': 780,\n",
              " 'spigen': 781,\n",
              " 'actual': 782,\n",
              " 'spend': 783,\n",
              " 'mic': 784,\n",
              " 'flip': 785,\n",
              " 'he': 786,\n",
              " 'sticky': 787,\n",
              " 'was': 788,\n",
              " 'most': 789,\n",
              " 'playing': 790,\n",
              " 'fantastic': 791,\n",
              " 'thicker': 792,\n",
              " 'placed': 793,\n",
              " 'hole': 794,\n",
              " 'either': 795,\n",
              " 'c': 796,\n",
              " 'lighter': 797,\n",
              " 'opening': 798,\n",
              " 'speed': 799,\n",
              " 'corner': 800,\n",
              " 'scratched': 801,\n",
              " 'additional': 802,\n",
              " 'windows': 803,\n",
              " 'giving': 804,\n",
              " 'did': 805,\n",
              " 'lasted': 806,\n",
              " 'trouble': 807,\n",
              " 'fingers': 808,\n",
              " 'hot': 809,\n",
              " 'although': 810,\n",
              " 'road': 811,\n",
              " 'stuck': 812,\n",
              " 'lasts': 813,\n",
              " 'lightweight': 814,\n",
              " 'seconds': 815,\n",
              " 'videos': 816,\n",
              " 'cutouts': 817,\n",
              " 'earpiece': 818,\n",
              " 'player': 819,\n",
              " 'pro': 820,\n",
              " 'certainly': 821,\n",
              " 'entire': 822,\n",
              " 'hit': 823,\n",
              " 'tape': 824,\n",
              " 'based': 825,\n",
              " 'otter': 826,\n",
              " 'base': 827,\n",
              " 'n': 828,\n",
              " 'manufacturer': 829,\n",
              " 'likely': 830,\n",
              " 'software': 831,\n",
              " 'position': 832,\n",
              " 'turns': 833,\n",
              " 'shipped': 834,\n",
              " 'arm': 835,\n",
              " 'fell': 836,\n",
              " 'possible': 837,\n",
              " 'waste': 838,\n",
              " 'replaced': 839,\n",
              " 'flashlight': 840,\n",
              " 'appears': 841,\n",
              " 'nearly': 842,\n",
              " 'dash': 843,\n",
              " 'honest': 844,\n",
              " 'outer': 845,\n",
              " 'indicator': 846,\n",
              " 'contact': 847,\n",
              " 'armor': 848,\n",
              " 'clearly': 849,\n",
              " 'paired': 850,\n",
              " 'falls': 851,\n",
              " 'securely': 852,\n",
              " 'tech': 853,\n",
              " 'trip': 854,\n",
              " 'pouch': 855,\n",
              " 'feeling': 856,\n",
              " 'removed': 857,\n",
              " 'ability': 858,\n",
              " 'stylish': 859,\n",
              " 'lip': 860,\n",
              " 'windshield': 861,\n",
              " 'cup': 862,\n",
              " 'save': 863,\n",
              " 'yet': 864,\n",
              " 'daily': 865,\n",
              " 'call': 866,\n",
              " 'pick': 867,\n",
              " 'photos': 868,\n",
              " 'addition': 869,\n",
              " 'lets': 870,\n",
              " 'flexible': 871,\n",
              " 'directly': 872,\n",
              " 'wifes': 873,\n",
              " 'somewhat': 874,\n",
              " 'gotten': 875,\n",
              " 'older': 876,\n",
              " 'tab': 877,\n",
              " 'or': 878,\n",
              " 'drive': 879,\n",
              " 'stopped': 880,\n",
              " 'dirty': 881,\n",
              " 'texture': 882,\n",
              " 'basic': 883,\n",
              " 'lower': 884,\n",
              " 'u': 885,\n",
              " 'made': 886,\n",
              " 'lots': 887,\n",
              " 'description': 888,\n",
              " 'two': 889,\n",
              " 'basically': 890,\n",
              " 'commuter': 891,\n",
              " 'thinking': 892,\n",
              " 'pin': 893,\n",
              " 'tmobile': 894,\n",
              " 'tips': 895,\n",
              " 'plenty': 896,\n",
              " 'receive': 897,\n",
              " 'fingerprints': 898,\n",
              " 'sync': 899,\n",
              " 'bucks': 900,\n",
              " 'pad': 901,\n",
              " 'recently': 902,\n",
              " 'ready': 903,\n",
              " 'business': 904,\n",
              " 'sprint': 905,\n",
              " 'compliments': 906,\n",
              " 'consider': 907,\n",
              " 'get': 908,\n",
              " 'functionality': 909,\n",
              " 'smartphones': 910,\n",
              " 'lint': 911,\n",
              " 'holes': 912,\n",
              " 'ask': 913,\n",
              " 'dropping': 914,\n",
              " 'returned': 915,\n",
              " 'functions': 916,\n",
              " 'form': 917,\n",
              " 'understand': 918,\n",
              " 'users': 919,\n",
              " 'likes': 920,\n",
              " 'shape': 921,\n",
              " 'average': 922,\n",
              " 'safe': 923,\n",
              " 'wearing': 924,\n",
              " 'mean': 925,\n",
              " 'future': 926,\n",
              " 'fix': 927,\n",
              " 'wonderful': 928,\n",
              " 'forget': 929,\n",
              " 'glove': 930,\n",
              " 'screens': 931,\n",
              " 'stop': 932,\n",
              " 'negative': 933,\n",
              " 'e': 934,\n",
              " 'internet': 935,\n",
              " 'sort': 936,\n",
              " 'parts': 937,\n",
              " 'manual': 938,\n",
              " 'son': 939,\n",
              " 'adapters': 940,\n",
              " 'ii': 941,\n",
              " 'adjust': 942,\n",
              " 'hate': 943,\n",
              " 'tough': 944,\n",
              " 'slow': 945,\n",
              " 'online': 946,\n",
              " 'before': 947,\n",
              " 'body': 948,\n",
              " 'mentioned': 949,\n",
              " 'series': 950,\n",
              " 'keys': 951,\n",
              " 'pockets': 952,\n",
              " 'magnet': 953,\n",
              " 'fan': 954,\n",
              " 'dark': 955,\n",
              " 'purchasing': 956,\n",
              " 'kids': 957,\n",
              " 'major': 958,\n",
              " 'fire': 959,\n",
              " 'amps': 960,\n",
              " 'bubble': 961,\n",
              " 'around': 962,\n",
              " 'attractive': 963,\n",
              " 'enjoy': 964,\n",
              " 'slight': 965,\n",
              " 'called': 966,\n",
              " 'thickness': 967,\n",
              " 'ease': 968,\n",
              " 'accessories': 969,\n",
              " 'peel': 970,\n",
              " 'fun': 971,\n",
              " 'complain': 972,\n",
              " 'compatible': 973,\n",
              " 'harder': 974,\n",
              " 'itself': 975,\n",
              " 'traveling': 976,\n",
              " 'buds': 977,\n",
              " 'total': 978,\n",
              " 'dirt': 979,\n",
              " 'angle': 980,\n",
              " 'razr': 981,\n",
              " 'table': 982,\n",
              " 'process': 983,\n",
              " 'builtin': 984,\n",
              " 'removing': 985,\n",
              " 'pop': 986,\n",
              " 'correctly': 987,\n",
              " 'wire': 988,\n",
              " 'band': 989,\n",
              " 'rest': 990,\n",
              " 'inch': 991,\n",
              " 'bottom': 992,\n",
              " 'remember': 993,\n",
              " 'cracked': 994,\n",
              " 'games': 995,\n",
              " 'told': 996,\n",
              " 'purple': 997,\n",
              " 'everything': 998,\n",
              " 'saying': 999,\n",
              " 'chance': 1000,\n",
              " ...}"
            ]
          },
          "metadata": {},
          "execution_count": 19
        }
      ],
      "source": [
        "tokenizer.word_index"
      ]
    },
    {
      "cell_type": "code",
      "execution_count": 20,
      "metadata": {
        "colab": {
          "base_uri": "https://localhost:8080/"
        },
        "id": "ry9aJBiM1d4X",
        "outputId": "05cf71f5-4551-4062-e883-4fe7e50e6ad8"
      },
      "outputs": [
        {
          "output_type": "execute_result",
          "data": {
            "text/plain": [
              "108086"
            ]
          },
          "metadata": {},
          "execution_count": 20
        }
      ],
      "source": [
        "len(tokenizer.word_index)"
      ]
    },
    {
      "cell_type": "code",
      "execution_count": 22,
      "metadata": {
        "id": "xMpytM-szXe3"
      },
      "outputs": [],
      "source": [
        "\n",
        "#### Now we need embeddings for these words  \n",
        "## Get the glove vectors\n",
        "embeddings_index= dict()\n",
        "glove= open('/content/drive/MyDrive/glove.6B.200d.txt','r',encoding='utf-8')\n",
        "for line in glove:\n",
        "  values = line.split()\n",
        "  word = values[0]\n",
        "  coefs = np.asarray(values[1:], dtype='float32')\n",
        "  embeddings_index[word] = coefs\n",
        "\n",
        "glove.close()\n"
      ]
    },
    {
      "cell_type": "code",
      "execution_count": 23,
      "metadata": {
        "colab": {
          "base_uri": "https://localhost:8080/"
        },
        "id": "mnvLW3vd21gJ",
        "outputId": "1c389109-7019-4701-b4e6-b78880494918"
      },
      "outputs": [
        {
          "output_type": "execute_result",
          "data": {
            "text/plain": [
              "400000"
            ]
          },
          "metadata": {},
          "execution_count": 23
        }
      ],
      "source": [
        "len(embeddings_index)"
      ]
    },
    {
      "cell_type": "code",
      "execution_count": 25,
      "metadata": {
        "id": "_DYnrh0y08dN"
      },
      "outputs": [],
      "source": [
        "### Create an embedding matrix for the vocabulary created for the reviews \n",
        "vocab= len(tokenizer.word_index)+1\n",
        "embedding_matrix = np.zeros((vocab, 200)) \n",
        "for word, i in tokenizer.word_index.items():\n",
        "    embedding_vector = embeddings_index.get(word)\n",
        "    if embedding_vector is not None:\n",
        "        embedding_matrix[i] = embedding_vector"
      ]
    },
    {
      "cell_type": "code",
      "execution_count": 26,
      "metadata": {
        "colab": {
          "base_uri": "https://localhost:8080/"
        },
        "id": "YvRFMsp72uXW",
        "outputId": "179c9f52-cde7-4c44-97fc-3a9414f7bbd3"
      },
      "outputs": [
        {
          "output_type": "execute_result",
          "data": {
            "text/plain": [
              "(108087, 200)"
            ]
          },
          "metadata": {},
          "execution_count": 26
        }
      ],
      "source": [
        "embedding_matrix.shape"
      ]
    },
    {
      "cell_type": "code",
      "execution_count": 27,
      "metadata": {
        "id": "58JWrHYK6Q2z"
      },
      "outputs": [],
      "source": [
        "train_indices=tokenizer.texts_to_sequences(train_text)"
      ]
    },
    {
      "cell_type": "code",
      "execution_count": 28,
      "metadata": {
        "colab": {
          "base_uri": "https://localhost:8080/"
        },
        "id": "EuLlqgvy6lt7",
        "outputId": "3b6823c8-8f78-4cbb-f424-d1c653c19e86"
      },
      "outputs": [
        {
          "output_type": "execute_result",
          "data": {
            "text/plain": [
              "[[97,\n",
              "  77,\n",
              "  12,\n",
              "  500,\n",
              "  12,\n",
              "  2,\n",
              "  19,\n",
              "  7,\n",
              "  1956,\n",
              "  921,\n",
              "  2,\n",
              "  1,\n",
              "  2009,\n",
              "  651,\n",
              "  2763,\n",
              "  3466,\n",
              "  2,\n",
              "  165,\n",
              "  49,\n",
              "  17,\n",
              "  7],\n",
              " [158,\n",
              "  1813,\n",
              "  26,\n",
              "  7,\n",
              "  106,\n",
              "  482,\n",
              "  363,\n",
              "  97,\n",
              "  500,\n",
              "  9,\n",
              "  368,\n",
              "  3,\n",
              "  97,\n",
              "  300,\n",
              "  859,\n",
              "  2,\n",
              "  1665,\n",
              "  1667],\n",
              " [158, 267, 3, 77, 859, 2, 92, 303, 1071, 58, 584, 135, 71, 303, 9, 28]]"
            ]
          },
          "metadata": {},
          "execution_count": 28
        }
      ],
      "source": [
        "train_indices[0:3]"
      ]
    },
    {
      "cell_type": "code",
      "execution_count": 29,
      "metadata": {
        "id": "qvEM-uCp6ukX"
      },
      "outputs": [],
      "source": [
        "## As mentioned we are limiting the number of words say 64\n",
        "from tensorflow.keras.preprocessing.sequence import pad_sequences\n",
        "max_length=64\n"
      ]
    },
    {
      "cell_type": "code",
      "execution_count": 30,
      "metadata": {
        "id": "buq5PpBkG2A4"
      },
      "outputs": [],
      "source": [
        "train_indices=pad_sequences(train_indices,maxlen=max_length,padding='post')\n",
        "train_indices=np.asarray(train_indices)\n",
        "train_y=np.asarray(train_y)"
      ]
    },
    {
      "cell_type": "code",
      "execution_count": 30,
      "metadata": {
        "id": "gpMLM9kDI2Pl"
      },
      "outputs": [],
      "source": []
    },
    {
      "cell_type": "code",
      "execution_count": 31,
      "metadata": {
        "id": "HUuxlY0CH8Io"
      },
      "outputs": [],
      "source": [
        "test_indices=tokenizer.texts_to_sequences(test_text)\n",
        "test_indices=pad_sequences(test_indices,maxlen=max_length,padding='post')\n",
        "\n",
        "\n",
        "\n",
        "test_indices=np.asarray(test_indices)\n",
        "test_y=np.asarray(test_y)\n",
        "\n",
        "val_indices=tokenizer.texts_to_sequences(val_text)\n",
        "val_indices=pad_sequences(val_indices,maxlen=max_length,padding='post')\n",
        "\n",
        "val_indices=np.asarray(val_indices)\n",
        "val_y=np.asarray(val_y)"
      ]
    },
    {
      "cell_type": "code",
      "execution_count": null,
      "metadata": {
        "id": "xTPTrUVtkvy4"
      },
      "outputs": [],
      "source": []
    },
    {
      "cell_type": "markdown",
      "metadata": {
        "id": "KKyST2tekwV6"
      },
      "source": [
        "#RNN "
      ]
    },
    {
      "cell_type": "code",
      "execution_count": null,
      "metadata": {
        "colab": {
          "base_uri": "https://localhost:8080/"
        },
        "id": "fmATVSvIaxKT",
        "outputId": "eea35983-bf42-47a4-b484-39960c696593"
      },
      "outputs": [
        {
          "name": "stdout",
          "output_type": "stream",
          "text": [
            "Model: \"sequential\"\n",
            "_________________________________________________________________\n",
            " Layer (type)                Output Shape              Param #   \n",
            "=================================================================\n",
            " embedding (Embedding)       (None, 64, 100)           10808700  \n",
            "                                                                 \n",
            " simple_rnn (SimpleRNN)      (None, 20)                2420      \n",
            "                                                                 \n",
            " dense (Dense)               (None, 6)                 126       \n",
            "                                                                 \n",
            "=================================================================\n",
            "Total params: 10,811,246\n",
            "Trainable params: 10,811,246\n",
            "Non-trainable params: 0\n",
            "_________________________________________________________________\n",
            "None\n"
          ]
        }
      ],
      "source": [
        "#####   RNN with 1 layer, 20 neurons\n",
        "from keras.layers import RNN\n",
        "model10=Sequential()\n",
        "model10.add(Embedding(input_dim=vocab,output_dim=100,input_length=max_length,weights=[embedding_matrix]))\n",
        "model10.add(SimpleRNN(20))\n",
        "model10.add(Dense(6,activation='softmax'))\n",
        "model10.compile(loss='sparse_categorical_crossentropy',optimizer='adam',metrics=['accuracy'])\n",
        "print(model10.summary())"
      ]
    },
    {
      "cell_type": "code",
      "execution_count": null,
      "metadata": {
        "colab": {
          "base_uri": "https://localhost:8080/"
        },
        "id": "F6tDj1MWa-TO",
        "outputId": "f93c4e6f-5a3c-4050-b1a7-01157f95cc80"
      },
      "outputs": [
        {
          "name": "stdout",
          "output_type": "stream",
          "text": [
            "Epoch 1/10\n",
            "4254/4254 [==============================] - 635s 149ms/step - loss: 1.2718 - accuracy: 0.5424\n",
            "Epoch 2/10\n",
            "4254/4254 [==============================] - 643s 151ms/step - loss: 1.2526 - accuracy: 0.5458\n",
            "Epoch 3/10\n",
            "4254/4254 [==============================] - 678s 159ms/step - loss: 1.2355 - accuracy: 0.5532\n",
            "Epoch 4/10\n",
            "4254/4254 [==============================] - 615s 145ms/step - loss: 1.2341 - accuracy: 0.5531\n",
            "Epoch 5/10\n",
            "4254/4254 [==============================] - 633s 149ms/step - loss: 1.1960 - accuracy: 0.5571\n",
            "Epoch 6/10\n",
            "4254/4254 [==============================] - 630s 148ms/step - loss: 1.1842 - accuracy: 0.5632\n",
            "Epoch 7/10\n",
            "4254/4254 [==============================] - 631s 148ms/step - loss: 1.1574 - accuracy: 0.5732\n",
            "Epoch 8/10\n",
            "4254/4254 [==============================] - 614s 144ms/step - loss: 1.1369 - accuracy: 0.5784\n",
            "Epoch 9/10\n",
            "4254/4254 [==============================] - 590s 139ms/step - loss: 1.1708 - accuracy: 0.5750\n",
            "Epoch 10/10\n",
            "4254/4254 [==============================] - 592s 139ms/step - loss: 1.1968 - accuracy: 0.5718\n",
            "Test Accuracy: 56.81%\n"
          ]
        }
      ],
      "source": [
        "model10.fit(train_indices,train_y,batch_size=32,epochs=10)\n",
        "# Final evaluation of the model\n",
        "scores = model10.evaluate(test_indices, test_y, verbose=0)\n",
        "print(\"Test Accuracy: %.2f%%\" % (scores[1]*100))"
      ]
    },
    {
      "cell_type": "code",
      "execution_count": null,
      "metadata": {
        "colab": {
          "base_uri": "https://localhost:8080/"
        },
        "id": "Y-B_iIiNxJiY",
        "outputId": "49462638-cfcc-4889-80fe-90966c832102"
      },
      "outputs": [
        {
          "name": "stdout",
          "output_type": "stream",
          "text": [
            "Model: \"sequential_1\"\n",
            "_________________________________________________________________\n",
            " Layer (type)                Output Shape              Param #   \n",
            "=================================================================\n",
            " embedding_1 (Embedding)     (None, 64, 100)           10808700  \n",
            "                                                                 \n",
            " simple_rnn_1 (SimpleRNN)    (None, 50)                7550      \n",
            "                                                                 \n",
            " dense_1 (Dense)             (None, 6)                 306       \n",
            "                                                                 \n",
            "=================================================================\n",
            "Total params: 10,816,556\n",
            "Trainable params: 7,856\n",
            "Non-trainable params: 10,808,700\n",
            "_________________________________________________________________\n",
            "None\n"
          ]
        }
      ],
      "source": [
        "#####   RNN with 1 layer, 50 neurons\n",
        "from keras.layers import RNN\n",
        "model11=Sequential()\n",
        "model11.add(Embedding(input_dim=vocab,output_dim=100,input_length=max_length,weights=[embedding_matrix],trainable = False))\n",
        "model11.add(SimpleRNN(50))\n",
        "model11.add(Dense(6,activation='softmax'))\n",
        "model11.compile(loss='sparse_categorical_crossentropy',optimizer='adam',metrics=['accuracy'])\n",
        "print(model11.summary())"
      ]
    },
    {
      "cell_type": "code",
      "execution_count": null,
      "metadata": {
        "colab": {
          "base_uri": "https://localhost:8080/"
        },
        "id": "oPBtFrAoxg74",
        "outputId": "06773698-8ee6-4734-9919-91bb8a9a0734"
      },
      "outputs": [
        {
          "name": "stdout",
          "output_type": "stream",
          "text": [
            "Epoch 1/10\n",
            "4254/4254 [==============================] - 67s 16ms/step - loss: 1.2659 - accuracy: 0.5427\n",
            "Epoch 2/10\n",
            "4254/4254 [==============================] - 67s 16ms/step - loss: 1.2606 - accuracy: 0.5435\n",
            "Epoch 3/10\n",
            "4254/4254 [==============================] - 67s 16ms/step - loss: 1.2560 - accuracy: 0.5439\n",
            "Epoch 4/10\n",
            "4254/4254 [==============================] - 66s 15ms/step - loss: 1.2547 - accuracy: 0.5448\n",
            "Epoch 5/10\n",
            "4254/4254 [==============================] - 68s 16ms/step - loss: 1.2534 - accuracy: 0.5459\n",
            "Epoch 6/10\n",
            "4254/4254 [==============================] - 66s 16ms/step - loss: 1.2635 - accuracy: 0.5437\n",
            "Epoch 7/10\n",
            "4254/4254 [==============================] - 66s 16ms/step - loss: 1.2621 - accuracy: 0.5437\n",
            "Epoch 8/10\n",
            "4254/4254 [==============================] - 67s 16ms/step - loss: 1.2578 - accuracy: 0.5439\n",
            "Epoch 9/10\n",
            "4254/4254 [==============================] - 66s 15ms/step - loss: 1.2613 - accuracy: 0.5432\n",
            "Epoch 10/10\n",
            "4254/4254 [==============================] - 65s 15ms/step - loss: 1.2546 - accuracy: 0.5454\n"
          ]
        },
        {
          "data": {
            "text/plain": [
              "<keras.callbacks.History at 0x7f7c7233bcd0>"
            ]
          },
          "execution_count": 34,
          "metadata": {},
          "output_type": "execute_result"
        }
      ],
      "source": [
        "model11.fit(train_indices,train_y,batch_size=32,epochs=10)"
      ]
    },
    {
      "cell_type": "code",
      "execution_count": null,
      "metadata": {
        "colab": {
          "base_uri": "https://localhost:8080/"
        },
        "id": "7Bsa-YXAxzTx",
        "outputId": "6e7347b9-3e06-4384-ca92-8c24b283e11b"
      },
      "outputs": [
        {
          "name": "stdout",
          "output_type": "stream",
          "text": [
            "Test Accuracy: 57.02%\n"
          ]
        }
      ],
      "source": [
        "# Final evaluation of the model\n",
        "scores = model11.evaluate(test_indices, test_y, verbose=0)\n",
        "print(\"Test Accuracy: %.2f%%\" % (scores[1]*100))"
      ]
    },
    {
      "cell_type": "code",
      "execution_count": null,
      "metadata": {
        "colab": {
          "base_uri": "https://localhost:8080/"
        },
        "id": "ACWG0-W3kzrX",
        "outputId": "6cd2f368-a8f6-47a1-ede2-f8997a78bafe"
      },
      "outputs": [
        {
          "name": "stdout",
          "output_type": "stream",
          "text": [
            "Model: \"sequential_2\"\n",
            "_________________________________________________________________\n",
            " Layer (type)                Output Shape              Param #   \n",
            "=================================================================\n",
            " embedding_2 (Embedding)     (None, 64, 100)           10808700  \n",
            "                                                                 \n",
            " simple_rnn_2 (SimpleRNN)    (None, 100)               20100     \n",
            "                                                                 \n",
            " dropout (Dropout)           (None, 100)               0         \n",
            "                                                                 \n",
            " dense_2 (Dense)             (None, 6)                 606       \n",
            "                                                                 \n",
            "=================================================================\n",
            "Total params: 10,829,406\n",
            "Trainable params: 20,706\n",
            "Non-trainable params: 10,808,700\n",
            "_________________________________________________________________\n",
            "None\n"
          ]
        }
      ],
      "source": [
        "#####   RNN with 1 layer, 100 neurons\n",
        "from keras.layers import RNN\n",
        "model12=Sequential()\n",
        "model12.add(Embedding(input_dim=vocab,output_dim=100,input_length=max_length,weights=[embedding_matrix], trainable = False))\n",
        "model12.add(SimpleRNN(100))\n",
        "model12.add(Dropout(0.3))\n",
        "model12.add(Dense(6,activation='softmax'))\n",
        "model12.compile(loss='sparse_categorical_crossentropy',optimizer='adam',metrics=['accuracy'])\n",
        "print(model12.summary())"
      ]
    },
    {
      "cell_type": "code",
      "execution_count": null,
      "metadata": {
        "colab": {
          "base_uri": "https://localhost:8080/"
        },
        "id": "WuVr5V_ss0ip",
        "outputId": "63c42d9e-879d-42dd-c7ac-7f4a3c4d5ad1"
      },
      "outputs": [
        {
          "name": "stdout",
          "output_type": "stream",
          "text": [
            "Epoch 1/10\n",
            "4254/4254 [==============================] - 280s 66ms/step - loss: 1.2824 - accuracy: 0.5389\n",
            "Epoch 2/10\n",
            "4254/4254 [==============================] - 277s 65ms/step - loss: 1.2710 - accuracy: 0.5431\n",
            "Epoch 3/10\n",
            "4254/4254 [==============================] - 275s 65ms/step - loss: 1.2627 - accuracy: 0.5446\n",
            "Epoch 4/10\n",
            "4254/4254 [==============================] - 292s 69ms/step - loss: 1.2530 - accuracy: 0.5480\n",
            "Epoch 5/10\n",
            "4254/4254 [==============================] - 281s 66ms/step - loss: 1.2558 - accuracy: 0.5484\n",
            "Epoch 6/10\n",
            "4254/4254 [==============================] - 276s 65ms/step - loss: 1.2612 - accuracy: 0.5468\n",
            "Epoch 7/10\n",
            "4254/4254 [==============================] - 279s 66ms/step - loss: 1.2556 - accuracy: 0.5453\n",
            "Epoch 8/10\n",
            "4254/4254 [==============================] - 274s 64ms/step - loss: 1.2604 - accuracy: 0.5467\n",
            "Epoch 9/10\n",
            "4254/4254 [==============================] - 275s 65ms/step - loss: 1.2359 - accuracy: 0.5471\n",
            "Epoch 10/10\n",
            "4254/4254 [==============================] - 274s 64ms/step - loss: 1.2197 - accuracy: 0.5464\n"
          ]
        },
        {
          "data": {
            "text/plain": [
              "<keras.callbacks.History at 0x7f577ff6b590>"
            ]
          },
          "execution_count": 55,
          "metadata": {},
          "output_type": "execute_result"
        }
      ],
      "source": [
        "model12.fit(train_indices,train_y,batch_size=32,epochs=10)"
      ]
    },
    {
      "cell_type": "code",
      "execution_count": null,
      "metadata": {
        "id": "86yBXSRCbVlo"
      },
      "outputs": [],
      "source": []
    },
    {
      "cell_type": "code",
      "execution_count": null,
      "metadata": {
        "id": "By8J27Z7svEH"
      },
      "outputs": [],
      "source": [
        "# Final evaluation of the model\n",
        "scores12 = model12.evaluate(test_indices, test_y, verbose=0)\n",
        "print(\"Test Accuracy: %.2f%%\" % (scores[1]*100))"
      ]
    },
    {
      "cell_type": "code",
      "execution_count": null,
      "metadata": {
        "colab": {
          "base_uri": "https://localhost:8080/"
        },
        "id": "sXhq7NqdbXuo",
        "outputId": "2354e092-d20d-4fde-a347-118575607cd5"
      },
      "outputs": [
        {
          "name": "stdout",
          "output_type": "stream",
          "text": [
            "Model: \"sequential_4\"\n",
            "_________________________________________________________________\n",
            " Layer (type)                Output Shape              Param #   \n",
            "=================================================================\n",
            " embedding_4 (Embedding)     (None, 64, 100)           10808700  \n",
            "                                                                 \n",
            " simple_rnn_4 (SimpleRNN)    (None, 200)               60200     \n",
            "                                                                 \n",
            " dropout_1 (Dropout)         (None, 200)               0         \n",
            "                                                                 \n",
            " batch_normalization (BatchN  (None, 200)              800       \n",
            " ormalization)                                                   \n",
            "                                                                 \n",
            " dense_4 (Dense)             (None, 6)                 1206      \n",
            "                                                                 \n",
            "=================================================================\n",
            "Total params: 10,870,906\n",
            "Trainable params: 61,806\n",
            "Non-trainable params: 10,809,100\n",
            "_________________________________________________________________\n",
            "None\n"
          ]
        }
      ],
      "source": [
        "#####   RNN with 1 layer, 200 neurons (dropout)\n",
        "from keras.layers import RNN\n",
        "model13=Sequential()\n",
        "model13.add(Embedding(input_dim=vocab,output_dim=100,input_length=max_length,weights=[embedding_matrix], trainable= False))\n",
        "model13.add(SimpleRNN(200))\n",
        "model13.add(Dropout(0.3))\n",
        "model13.add(BatchNormalization())\n",
        "model13.add(Dense(6,activation='softmax'))\n",
        "model13.compile(loss='sparse_categorical_crossentropy',optimizer='adam',metrics=['accuracy'])\n",
        "print(model13.summary())"
      ]
    },
    {
      "cell_type": "code",
      "execution_count": null,
      "metadata": {
        "colab": {
          "base_uri": "https://localhost:8080/"
        },
        "id": "hdvv3GB1booD",
        "outputId": "7d1af2f0-605a-4698-bb3d-06f9ad28bdf4"
      },
      "outputs": [
        {
          "name": "stdout",
          "output_type": "stream",
          "text": [
            "Epoch 1/10\n",
            "4254/4254 [==============================] - 175s 41ms/step - loss: 1.3248 - accuracy: 0.5283\n",
            "Epoch 2/10\n",
            "4254/4254 [==============================] - 171s 40ms/step - loss: 1.2787 - accuracy: 0.5426\n",
            "Epoch 3/10\n",
            "4254/4254 [==============================] - 170s 40ms/step - loss: 1.2736 - accuracy: 0.5429\n",
            "Epoch 4/10\n",
            "4254/4254 [==============================] - 171s 40ms/step - loss: 1.2717 - accuracy: 0.5431\n",
            "Epoch 5/10\n",
            "4254/4254 [==============================] - 169s 40ms/step - loss: 1.2702 - accuracy: 0.5433\n",
            "Epoch 6/10\n",
            "4254/4254 [==============================] - 173s 41ms/step - loss: 1.2702 - accuracy: 0.5433\n",
            "Epoch 7/10\n",
            "4254/4254 [==============================] - 172s 41ms/step - loss: 1.2690 - accuracy: 0.5433\n",
            "Epoch 8/10\n",
            "4254/4254 [==============================] - 172s 40ms/step - loss: 1.2681 - accuracy: 0.5432\n",
            "Epoch 9/10\n",
            "4254/4254 [==============================] - 178s 42ms/step - loss: 1.2662 - accuracy: 0.5432\n",
            "Epoch 10/10\n",
            "4254/4254 [==============================] - 175s 41ms/step - loss: 1.2646 - accuracy: 0.5433\n"
          ]
        },
        {
          "data": {
            "text/plain": [
              "<keras.callbacks.History at 0x7f7c7228d550>"
            ]
          },
          "execution_count": 39,
          "metadata": {},
          "output_type": "execute_result"
        }
      ],
      "source": [
        "model13.fit(train_indices,train_y,batch_size=32,epochs=10)"
      ]
    },
    {
      "cell_type": "code",
      "execution_count": null,
      "metadata": {
        "colab": {
          "base_uri": "https://localhost:8080/"
        },
        "id": "00Ac25HCcCze",
        "outputId": "340698dc-e6c6-460e-8f1d-d9d534c3489a"
      },
      "outputs": [
        {
          "name": "stdout",
          "output_type": "stream",
          "text": [
            "Test Accuracy: 57.02%\n"
          ]
        }
      ],
      "source": [
        "# Final evaluation of the model\n",
        "scores13 = model13.evaluate(test_indices, test_y, verbose=0)\n",
        "print(\"Test Accuracy: %.2f%%\" % (scores[1]*100))"
      ]
    },
    {
      "cell_type": "code",
      "execution_count": null,
      "metadata": {
        "colab": {
          "base_uri": "https://localhost:8080/"
        },
        "id": "AUsdKYllilet",
        "outputId": "a0b38206-7b49-41b9-87ec-905da3167d84"
      },
      "outputs": [
        {
          "name": "stdout",
          "output_type": "stream",
          "text": [
            "Model: \"sequential_8\"\n",
            "_________________________________________________________________\n",
            " Layer (type)                Output Shape              Param #   \n",
            "=================================================================\n",
            " embedding_8 (Embedding)     (None, 64, 100)           10808700  \n",
            "                                                                 \n",
            " simple_rnn_10 (SimpleRNN)   (None, 64, 20)            2420      \n",
            "                                                                 \n",
            " simple_rnn_11 (SimpleRNN)   (None, 20)                820       \n",
            "                                                                 \n",
            " dense_5 (Dense)             (None, 6)                 126       \n",
            "                                                                 \n",
            "=================================================================\n",
            "Total params: 10,812,066\n",
            "Trainable params: 3,366\n",
            "Non-trainable params: 10,808,700\n",
            "_________________________________________________________________\n",
            "None\n",
            "Epoch 1/5\n",
            "4254/4254 [==============================] - 121s 28ms/step - loss: 1.2724 - accuracy: 0.5412\n",
            "Epoch 2/5\n",
            "4254/4254 [==============================] - 115s 27ms/step - loss: 1.2696 - accuracy: 0.5417\n",
            "Epoch 3/5\n",
            "4254/4254 [==============================] - 121s 28ms/step - loss: 1.2591 - accuracy: 0.5433\n",
            "Epoch 4/5\n",
            "4254/4254 [==============================] - 118s 28ms/step - loss: 1.2506 - accuracy: 0.5433\n",
            "Epoch 5/5\n",
            "4254/4254 [==============================] - 114s 27ms/step - loss: 1.2540 - accuracy: 0.5436\n",
            "Test Accuracy: 57.02%\n"
          ]
        }
      ],
      "source": [
        "#####   RNN with 2 layers, 20 neurons each\n",
        "from keras.layers import RNN\n",
        "model14=Sequential()\n",
        "model14.add(Embedding(input_dim=vocab,output_dim=100,input_length=max_length,weights=[embedding_matrix], trainable = False))\n",
        "model14.add(SimpleRNN(20, return_sequences = True))\n",
        "model14.add(SimpleRNN(20, return_sequences = False))\n",
        "model14.add(Dense(6,activation='softmax'))\n",
        "model14.compile(loss='sparse_categorical_crossentropy',optimizer='adam',metrics=['accuracy'])\n",
        "print(model14.summary())\n",
        "model14.fit(train_indices,train_y,batch_size=32,epochs=5)\n",
        "\n",
        "scores14 = model14.evaluate(test_indices, test_y, verbose=0)\n",
        "print(\"Test Accuracy: %.2f%%\" % (scores[1]*100))"
      ]
    },
    {
      "cell_type": "code",
      "execution_count": null,
      "metadata": {
        "colab": {
          "background_save": true,
          "base_uri": "https://localhost:8080/"
        },
        "id": "1WzoUEWfjkqV",
        "outputId": "1b0d4a3d-5e9d-492d-89f1-759aa817ae0b"
      },
      "outputs": [
        {
          "name": "stdout",
          "output_type": "stream",
          "text": [
            "Model: \"sequential_11\"\n",
            "_________________________________________________________________\n",
            " Layer (type)                Output Shape              Param #   \n",
            "=================================================================\n",
            " embedding_11 (Embedding)    (None, 64, 100)           10808700  \n",
            "                                                                 \n",
            " simple_rnn_16 (SimpleRNN)   (None, 64, 50)            7550      \n",
            "                                                                 \n",
            " simple_rnn_17 (SimpleRNN)   (None, 50)                5050      \n",
            "                                                                 \n",
            " dense_8 (Dense)             (None, 6)                 306       \n",
            "                                                                 \n",
            "=================================================================\n",
            "Total params: 10,821,606\n",
            "Trainable params: 12,906\n",
            "Non-trainable params: 10,808,700\n",
            "_________________________________________________________________\n",
            "None\n",
            "Epoch 1/10\n",
            "4254/4254 [==============================] - 142s 33ms/step - loss: 1.2737 - accuracy: 0.5415\n",
            "Epoch 2/10\n",
            "4254/4254 [==============================] - 125s 29ms/step - loss: 1.2643 - accuracy: 0.5428\n",
            "Epoch 3/10\n",
            "4254/4254 [==============================] - 124s 29ms/step - loss: 1.2616 - accuracy: 0.5434\n",
            "Epoch 4/10\n",
            "4254/4254 [==============================] - 126s 30ms/step - loss: 1.2624 - accuracy: 0.5430\n",
            "Epoch 5/10\n",
            "4254/4254 [==============================] - 127s 30ms/step - loss: 1.2590 - accuracy: 0.5430\n",
            "Epoch 6/10\n",
            "4254/4254 [==============================] - 125s 29ms/step - loss: 1.2671 - accuracy: 0.5410\n",
            "Epoch 7/10\n",
            "4254/4254 [==============================] - 124s 29ms/step - loss: 1.2654 - accuracy: 0.5430\n",
            "Epoch 8/10\n",
            "4254/4254 [==============================] - 129s 30ms/step - loss: 1.2618 - accuracy: 0.5433\n",
            "Epoch 9/10\n",
            "4254/4254 [==============================] - 130s 31ms/step - loss: 1.2657 - accuracy: 0.5428\n",
            "Epoch 10/10\n",
            "4254/4254 [==============================] - 130s 30ms/step - loss: 1.2624 - accuracy: 0.5430\n",
            "Test Accuracy: 57.02%\n"
          ]
        }
      ],
      "source": [
        "#####   RNN with 2 layers, 50 neurons each\n",
        "from keras.layers import RNN\n",
        "model15=Sequential()\n",
        "model15.add(Embedding(input_dim=vocab,output_dim=100,input_length=max_length,weights=[embedding_matrix],trainable= False))\n",
        "model15.add(SimpleRNN(50,return_sequences = True))\n",
        "model15.add(SimpleRNN(50,return_sequences = False))\n",
        "model15.add(Dense(6,activation='softmax'))\n",
        "model15.compile(loss='sparse_categorical_crossentropy',optimizer='adam',metrics=['accuracy'])\n",
        "print(model15.summary())\n",
        "model15.fit(train_indices,train_y,batch_size=32,epochs=10)\n",
        "scores15 = model15.evaluate(test_indices, test_y, verbose=0)\n",
        "print(\"Test Accuracy: %.2f%%\" % (scores[1]*100))\n"
      ]
    },
    {
      "cell_type": "code",
      "execution_count": null,
      "metadata": {
        "id": "-4_jZ-yukEyq",
        "colab": {
          "base_uri": "https://localhost:8080/",
          "height": 686
        },
        "outputId": "e1e236f8-4a6d-4548-dcda-c26852133cd5"
      },
      "outputs": [
        {
          "output_type": "stream",
          "name": "stdout",
          "text": [
            "Model: \"sequential\"\n",
            "_________________________________________________________________\n",
            " Layer (type)                Output Shape              Param #   \n",
            "=================================================================\n",
            " embedding (Embedding)       (None, 64, 100)           10808700  \n",
            "                                                                 \n",
            " simple_rnn (SimpleRNN)      (None, 64, 100)           20100     \n",
            "                                                                 \n",
            " simple_rnn_1 (SimpleRNN)    (None, 100)               20100     \n",
            "                                                                 \n",
            " dense (Dense)               (None, 6)                 606       \n",
            "                                                                 \n",
            "=================================================================\n",
            "Total params: 10,849,506\n",
            "Trainable params: 40,806\n",
            "Non-trainable params: 10,808,700\n",
            "_________________________________________________________________\n",
            "None\n",
            "Epoch 1/5\n",
            "4254/4254 [==============================] - 193s 45ms/step - loss: 1.2779 - accuracy: 0.5424\n",
            "Epoch 2/5\n",
            "4254/4254 [==============================] - 189s 44ms/step - loss: 1.2915 - accuracy: 0.5353\n",
            "Epoch 3/5\n",
            "4254/4254 [==============================] - 188s 44ms/step - loss: 1.2738 - accuracy: 0.5431\n",
            "Epoch 4/5\n",
            "4254/4254 [==============================] - 190s 45ms/step - loss: 1.2743 - accuracy: 0.5431\n",
            "Epoch 5/5\n",
            "4254/4254 [==============================] - 187s 44ms/step - loss: 1.2753 - accuracy: 0.5432\n"
          ]
        },
        {
          "output_type": "error",
          "ename": "NameError",
          "evalue": "ignored",
          "traceback": [
            "\u001b[0;31m---------------------------------------------------------------------------\u001b[0m",
            "\u001b[0;31mNameError\u001b[0m                                 Traceback (most recent call last)",
            "\u001b[0;32m<ipython-input-31-3bfa06d9c2dc>\u001b[0m in \u001b[0;36m<module>\u001b[0;34m\u001b[0m\n\u001b[1;32m     10\u001b[0m \u001b[0mmodel16\u001b[0m\u001b[0;34m.\u001b[0m\u001b[0mfit\u001b[0m\u001b[0;34m(\u001b[0m\u001b[0mtrain_indices\u001b[0m\u001b[0;34m,\u001b[0m\u001b[0mtrain_y\u001b[0m\u001b[0;34m,\u001b[0m\u001b[0mbatch_size\u001b[0m\u001b[0;34m=\u001b[0m\u001b[0;36m32\u001b[0m\u001b[0;34m,\u001b[0m\u001b[0mepochs\u001b[0m\u001b[0;34m=\u001b[0m\u001b[0;36m5\u001b[0m\u001b[0;34m)\u001b[0m\u001b[0;34m\u001b[0m\u001b[0;34m\u001b[0m\u001b[0m\n\u001b[1;32m     11\u001b[0m \u001b[0mscores16\u001b[0m \u001b[0;34m=\u001b[0m \u001b[0mmodel16\u001b[0m\u001b[0;34m.\u001b[0m\u001b[0mevaluate\u001b[0m\u001b[0;34m(\u001b[0m\u001b[0mtest_indices\u001b[0m\u001b[0;34m,\u001b[0m \u001b[0mtest_y\u001b[0m\u001b[0;34m,\u001b[0m \u001b[0mverbose\u001b[0m\u001b[0;34m=\u001b[0m\u001b[0;36m0\u001b[0m\u001b[0;34m)\u001b[0m\u001b[0;34m\u001b[0m\u001b[0;34m\u001b[0m\u001b[0m\n\u001b[0;32m---> 12\u001b[0;31m \u001b[0mprint\u001b[0m\u001b[0;34m(\u001b[0m\u001b[0;34m\"Test Accuracy: %.2f%%\"\u001b[0m \u001b[0;34m%\u001b[0m \u001b[0;34m(\u001b[0m\u001b[0mscores\u001b[0m\u001b[0;34m[\u001b[0m\u001b[0;36m1\u001b[0m\u001b[0;34m]\u001b[0m\u001b[0;34m*\u001b[0m\u001b[0;36m100\u001b[0m\u001b[0;34m)\u001b[0m\u001b[0;34m)\u001b[0m\u001b[0;34m\u001b[0m\u001b[0;34m\u001b[0m\u001b[0m\n\u001b[0m",
            "\u001b[0;31mNameError\u001b[0m: name 'scores' is not defined"
          ]
        }
      ],
      "source": [
        "#####   RNN with 2 layers, 100 neurons each\n",
        "from keras.layers import RNN\n",
        "model16=Sequential()\n",
        "model16.add(Embedding(input_dim=vocab,output_dim=100,input_length=max_length,weights=[embedding_matrix],trainable= False))\n",
        "model16.add(SimpleRNN(100,return_sequences = True))\n",
        "model16.add(SimpleRNN(100,return_sequences = False))\n",
        "model16.add(Dense(6,activation='softmax'))\n",
        "model16.compile(loss='sparse_categorical_crossentropy',optimizer='adam',metrics=['accuracy'])\n",
        "print(model16.summary())\n",
        "model16.fit(train_indices,train_y,batch_size=32,epochs=5)\n"
      ]
    },
    {
      "cell_type": "code",
      "source": [
        "scores16 = model16.evaluate(test_indices, test_y, verbose=0)\n",
        "print(\"Test Accuracy: %.2f%%\" % (scores16[1]*100))"
      ],
      "metadata": {
        "colab": {
          "base_uri": "https://localhost:8080/"
        },
        "id": "gEpY2lZ07zKd",
        "outputId": "8195de99-2611-4379-c1d7-25aae4e5f79a"
      },
      "execution_count": null,
      "outputs": [
        {
          "output_type": "stream",
          "name": "stdout",
          "text": [
            "Test Accuracy: 57.72%\n"
          ]
        }
      ]
    },
    {
      "cell_type": "code",
      "execution_count": null,
      "metadata": {
        "id": "bKPn7uHrkUMx",
        "colab": {
          "base_uri": "https://localhost:8080/"
        },
        "outputId": "affa1bfe-6925-4fd7-b826-b2d352e2ccd6"
      },
      "outputs": [
        {
          "output_type": "stream",
          "name": "stdout",
          "text": [
            "Model: \"sequential_1\"\n",
            "_________________________________________________________________\n",
            " Layer (type)                Output Shape              Param #   \n",
            "=================================================================\n",
            " embedding_1 (Embedding)     (None, 64, 100)           10808700  \n",
            "                                                                 \n",
            " simple_rnn_2 (SimpleRNN)    (None, 64, 200)           60200     \n",
            "                                                                 \n",
            " simple_rnn_3 (SimpleRNN)    (None, 200)               80200     \n",
            "                                                                 \n",
            " dense_1 (Dense)             (None, 6)                 1206      \n",
            "                                                                 \n",
            "=================================================================\n",
            "Total params: 10,950,306\n",
            "Trainable params: 141,606\n",
            "Non-trainable params: 10,808,700\n",
            "_________________________________________________________________\n",
            "None\n",
            "Epoch 1/5\n",
            "4254/4254 [==============================] - 383s 90ms/step - loss: 1.2844 - accuracy: 0.5424\n",
            "Epoch 2/5\n",
            "4254/4254 [==============================] - 372s 87ms/step - loss: 1.2844 - accuracy: 0.5418\n",
            "Epoch 3/5\n",
            "4254/4254 [==============================] - 375s 88ms/step - loss: 1.2827 - accuracy: 0.5411\n",
            "Epoch 4/5\n",
            "4254/4254 [==============================] - 371s 87ms/step - loss: 1.2825 - accuracy: 0.5406\n",
            "Epoch 5/5\n",
            "4254/4254 [==============================] - 373s 88ms/step - loss: 1.2819 - accuracy: 0.5429\n",
            "Test Accuracy: 57.72%\n"
          ]
        }
      ],
      "source": [
        "#####   RNN with 2 layers, 200 neurons each\n",
        "from keras.layers import RNN\n",
        "model17=Sequential()\n",
        "model17.add(Embedding(input_dim=vocab,output_dim=100,input_length=max_length,weights=[embedding_matrix],trainable= False))\n",
        "model17.add(SimpleRNN(200,return_sequences = True))\n",
        "model17.add(SimpleRNN(200,return_sequences = False))\n",
        "model17.add(Dense(6,activation='softmax'))\n",
        "model17.compile(loss='sparse_categorical_crossentropy',optimizer='adam',metrics=['accuracy'])\n",
        "print(model17.summary())\n",
        "model17.fit(train_indices,train_y,batch_size=32,epochs=5)\n",
        "scores17 = model17.evaluate(test_indices, test_y, verbose=0)\n",
        "print(\"Test Accuracy: %.2f%%\" % (scores17[1]*100))"
      ]
    },
    {
      "cell_type": "markdown",
      "metadata": {
        "id": "uogx7AW2zInn"
      },
      "source": [
        "# LSTM "
      ]
    },
    {
      "cell_type": "code",
      "execution_count": null,
      "metadata": {
        "colab": {
          "base_uri": "https://localhost:8080/"
        },
        "id": "oALOMSYH4AFU",
        "outputId": "4da1c378-038e-4303-ba40-21b2c9ead10a"
      },
      "outputs": [
        {
          "name": "stdout",
          "output_type": "stream",
          "text": [
            "Model: \"sequential\"\n",
            "_________________________________________________________________\n",
            " Layer (type)                Output Shape              Param #   \n",
            "=================================================================\n",
            " embedding (Embedding)       (None, 64, 100)           10808700  \n",
            "                                                                 \n",
            " lstm (LSTM)                 (None, 64, 100)           80400     \n",
            "                                                                 \n",
            " lstm_1 (LSTM)               (None, 100)               80400     \n",
            "                                                                 \n",
            " dense (Dense)               (None, 100)               10100     \n",
            "                                                                 \n",
            " dense_1 (Dense)             (None, 6)                 606       \n",
            "                                                                 \n",
            "=================================================================\n",
            "Total params: 10,980,206\n",
            "Trainable params: 171,506\n",
            "Non-trainable params: 10,808,700\n",
            "_________________________________________________________________\n",
            "None\n"
          ]
        }
      ],
      "source": [
        "from keras.layers import LSTM\n",
        "from keras.layers.embeddings import Embedding\n",
        "#########                MODEL 1 (LSTM with 2 hidden layers and 100 neurons)\n",
        "model= Sequential()\n",
        "model.add(Embedding(input_dim=vocab,output_dim=100,input_length=max_length,weights=[embedding_matrix],trainable=False))\n",
        "#adding a LSTM layer of dim 1--\n",
        "model.add(LSTM(100, return_sequences=True));\n",
        "model.add(LSTM(100, return_sequences=False));\n",
        "#adding a dense layer with activation function of relu\n",
        "model.add(Dense(100, activation='relu'));#best 50,relu\n",
        "#adding the final output activation with activation function of softmax\n",
        "model.add(Dense(6, activation='softmax'));\n",
        "#model.add(LSTM(32))\n",
        "#model.add(Dense(6, activation='softmax'))\n",
        "model.compile(loss='sparse_categorical_crossentropy', optimizer='adam', metrics=['accuracy'])\n",
        "print(model.summary())\n"
      ]
    },
    {
      "cell_type": "code",
      "execution_count": null,
      "metadata": {
        "colab": {
          "base_uri": "https://localhost:8080/"
        },
        "id": "gKwBlfn8Rh_j",
        "outputId": "f51815c9-9086-4532-8e95-c344faf52223"
      },
      "outputs": [
        {
          "data": {
            "text/plain": [
              "Index(['reviewerID', 'asin', 'reviewerName', 'helpful', 'reviewText',\n",
              "       'overall', 'summary', 'unixReviewTime', 'reviewTime'],\n",
              "      dtype='object')"
            ]
          },
          "execution_count": 34,
          "metadata": {},
          "output_type": "execute_result"
        }
      ],
      "source": [
        "data.columns"
      ]
    },
    {
      "cell_type": "code",
      "execution_count": null,
      "metadata": {
        "colab": {
          "base_uri": "https://localhost:8080/"
        },
        "id": "vyX3D9gyEJiy",
        "outputId": "a8383e8b-c3a1-49f3-d4b1-aae6d17f6c51"
      },
      "outputs": [
        {
          "data": {
            "text/plain": [
              "5    108664\n",
              "4     39993\n",
              "3     21439\n",
              "1     13279\n",
              "2     11064\n",
              "Name: overall, dtype: int64"
            ]
          },
          "execution_count": 35,
          "metadata": {},
          "output_type": "execute_result"
        }
      ],
      "source": [
        "data['overall'].value_counts()"
      ]
    },
    {
      "cell_type": "code",
      "execution_count": null,
      "metadata": {
        "colab": {
          "base_uri": "https://localhost:8080/"
        },
        "id": "aNZGtH6n9bb2",
        "outputId": "3d56aa89-3718-4f36-ec59-e616d1c794f5"
      },
      "outputs": [
        {
          "name": "stdout",
          "output_type": "stream",
          "text": [
            "Epoch 1/10\n",
            "4254/4254 [==============================] - 44s 9ms/step - loss: 1.1768 - accuracy: 0.5542\n",
            "Epoch 2/10\n",
            "4254/4254 [==============================] - 39s 9ms/step - loss: 1.0060 - accuracy: 0.5951\n",
            "Epoch 3/10\n",
            "4254/4254 [==============================] - 39s 9ms/step - loss: 0.9516 - accuracy: 0.6168\n",
            "Epoch 4/10\n",
            "4254/4254 [==============================] - 40s 9ms/step - loss: 0.9168 - accuracy: 0.6309\n",
            "Epoch 5/10\n",
            "4254/4254 [==============================] - 49s 11ms/step - loss: 0.8925 - accuracy: 0.6399\n",
            "Epoch 6/10\n",
            "4254/4254 [==============================] - 40s 9ms/step - loss: 0.8681 - accuracy: 0.6490\n",
            "Epoch 7/10\n",
            "4254/4254 [==============================] - 40s 10ms/step - loss: 0.8454 - accuracy: 0.6578\n",
            "Epoch 8/10\n",
            "4254/4254 [==============================] - 39s 9ms/step - loss: 0.8222 - accuracy: 0.6671\n",
            "Epoch 9/10\n",
            "4254/4254 [==============================] - 40s 9ms/step - loss: 0.7990 - accuracy: 0.6756\n",
            "Epoch 10/10\n",
            "4254/4254 [==============================] - 40s 9ms/step - loss: 0.7748 - accuracy: 0.6852\n"
          ]
        },
        {
          "data": {
            "text/plain": [
              "<keras.callbacks.History at 0x7f5780d73210>"
            ]
          },
          "execution_count": 37,
          "metadata": {},
          "output_type": "execute_result"
        }
      ],
      "source": [
        "model.fit(train_indices,train_y,batch_size=32,epochs=10)"
      ]
    },
    {
      "cell_type": "code",
      "execution_count": null,
      "metadata": {
        "colab": {
          "base_uri": "https://localhost:8080/"
        },
        "id": "tVviTTdkGPVZ",
        "outputId": "13dd804f-4d25-425a-8064-294ebc64c786"
      },
      "outputs": [
        {
          "name": "stdout",
          "output_type": "stream",
          "text": [
            "Accuracy: 64.83%\n"
          ]
        }
      ],
      "source": [
        "# Final evaluation of the model\n",
        "scores = model.evaluate(test_indices, test_y, verbose=0)\n",
        "print(\"Accuracy: %.2f%%\" % (scores[1]*100))"
      ]
    },
    {
      "cell_type": "code",
      "execution_count": null,
      "metadata": {
        "colab": {
          "base_uri": "https://localhost:8080/"
        },
        "id": "OyHcFCvpJxoy",
        "outputId": "be91c1cc-255d-4e5c-a15a-0ec5fe735a46"
      },
      "outputs": [
        {
          "data": {
            "text/plain": [
              "[0.9088448882102966, 0.6483491063117981]"
            ]
          },
          "execution_count": 40,
          "metadata": {},
          "output_type": "execute_result"
        }
      ],
      "source": [
        "scores"
      ]
    },
    {
      "cell_type": "code",
      "execution_count": null,
      "metadata": {
        "colab": {
          "base_uri": "https://localhost:8080/"
        },
        "id": "l6Pzy7i2eV3B",
        "outputId": "68623694-605c-43d9-c798-bdde0ba16408"
      },
      "outputs": [
        {
          "name": "stdout",
          "output_type": "stream",
          "text": [
            "Model: \"sequential_1\"\n",
            "_________________________________________________________________\n",
            " Layer (type)                Output Shape              Param #   \n",
            "=================================================================\n",
            " embedding_1 (Embedding)     (None, 64, 100)           10808700  \n",
            "                                                                 \n",
            " lstm_2 (LSTM)               (None, 64, 200)           240800    \n",
            "                                                                 \n",
            " lstm_3 (LSTM)               (None, 200)               320800    \n",
            "                                                                 \n",
            " dense_2 (Dense)             (None, 200)               40200     \n",
            "                                                                 \n",
            " dense_3 (Dense)             (None, 6)                 1206      \n",
            "                                                                 \n",
            "=================================================================\n",
            "Total params: 11,411,706\n",
            "Trainable params: 603,006\n",
            "Non-trainable params: 10,808,700\n",
            "_________________________________________________________________\n",
            "None\n"
          ]
        }
      ],
      "source": [
        "#####        MODEL 2 : LSTM with 2 layers, 200 neurons\n",
        "model2= Sequential()\n",
        "model2.add(Embedding(input_dim=vocab,output_dim=100,input_length=max_length,weights=[embedding_matrix],trainable=False))\n",
        "#adding a LSTM layer of dim 1--\n",
        "model2.add(LSTM(200, return_sequences=True));\n",
        "model2.add(LSTM(200, return_sequences=False));\n",
        "#adding a dense layer with activation function of relu\n",
        "model2.add(Dense(200, activation='relu'));#best 50,relu\n",
        "#adding the final output activation with activation function of softmax\n",
        "model2.add(Dense(6, activation='softmax'));\n",
        "#model.add(LSTM(32))\n",
        "#model.add(Dense(6, activation='softmax'))\n",
        "model2.compile(loss='sparse_categorical_crossentropy', optimizer='adam', metrics=['accuracy'])\n",
        "print(model2.summary())\n"
      ]
    },
    {
      "cell_type": "code",
      "execution_count": null,
      "metadata": {
        "colab": {
          "base_uri": "https://localhost:8080/"
        },
        "id": "48TpijeFe1uv",
        "outputId": "041562bf-9d1c-4a96-cd4f-a4e390996f66"
      },
      "outputs": [
        {
          "name": "stdout",
          "output_type": "stream",
          "text": [
            "Epoch 1/10\n",
            "4254/4254 [==============================] - 50s 11ms/step - loss: 1.1425 - accuracy: 0.5634\n",
            "Epoch 2/10\n",
            "4254/4254 [==============================] - 47s 11ms/step - loss: 0.9553 - accuracy: 0.6164\n",
            "Epoch 3/10\n",
            "4254/4254 [==============================] - 59s 14ms/step - loss: 0.8992 - accuracy: 0.6388\n",
            "Epoch 4/10\n",
            "4254/4254 [==============================] - 47s 11ms/step - loss: 0.8582 - accuracy: 0.6545\n",
            "Epoch 5/10\n",
            "4254/4254 [==============================] - 48s 11ms/step - loss: 0.8159 - accuracy: 0.6698\n",
            "Epoch 6/10\n",
            "4254/4254 [==============================] - 46s 11ms/step - loss: 0.7689 - accuracy: 0.6889\n",
            "Epoch 7/10\n",
            "4254/4254 [==============================] - 48s 11ms/step - loss: 0.7162 - accuracy: 0.7104\n",
            "Epoch 8/10\n",
            "4254/4254 [==============================] - 47s 11ms/step - loss: 0.6556 - accuracy: 0.7360\n",
            "Epoch 9/10\n",
            "4254/4254 [==============================] - 46s 11ms/step - loss: 0.5926 - accuracy: 0.7627\n",
            "Epoch 10/10\n",
            "4254/4254 [==============================] - 47s 11ms/step - loss: 0.5311 - accuracy: 0.7889\n"
          ]
        },
        {
          "data": {
            "text/plain": [
              "<keras.callbacks.History at 0x7f578061d610>"
            ]
          },
          "execution_count": 42,
          "metadata": {},
          "output_type": "execute_result"
        }
      ],
      "source": [
        "model2.fit(train_indices,train_y,batch_size=32,epochs=10)"
      ]
    },
    {
      "cell_type": "code",
      "execution_count": null,
      "metadata": {
        "colab": {
          "base_uri": "https://localhost:8080/"
        },
        "id": "RkukMyBRmAaN",
        "outputId": "0411e4f9-30e6-467e-8834-9f2e319e88cd"
      },
      "outputs": [
        {
          "name": "stdout",
          "output_type": "stream",
          "text": [
            "Test Accuracy: 64.83%\n"
          ]
        }
      ],
      "source": [
        "# Final evaluation of the model\n",
        "scores_test = model2.evaluate(test_indices, test_y, verbose=0)\n",
        "print(\"Test Accuracy: %.2f%%\" % (scores[1]*100))\n",
        "\n",
        "#scores = model2.evaluate(val_indices, val_y, verbose=0)\n",
        "#print(\"Validation Accuracy: %.2f%%\" % (scores[1]*100))"
      ]
    },
    {
      "cell_type": "code",
      "source": [
        "#####        MODEL 3 : LSTM with 2 layers, 50 neurons\n",
        "model8= Sequential()\n",
        "model8.add(Embedding(input_dim=vocab,output_dim=200,input_length=max_length,weights=[embedding_matrix],trainable=False))\n",
        "#adding a LSTM layer of dim 1--\n",
        "model8.add(LSTM(50, return_sequences=True));\n",
        "model8.add(LSTM(50, return_sequences=False));\n",
        "#adding a dense layer with activation function of relu\n",
        "model8.add(Dense(50, activation='relu'));#best 50,relu\n",
        "#adding the final output activation with activation function of softmax\n",
        "model8.add(Dense(6, activation='softmax'));\n",
        "#model.add(LSTM(32))\n",
        "#model.add(Dense(6, activation='softmax'))\n",
        "model8.compile(loss='sparse_categorical_crossentropy', optimizer='adam', metrics=['accuracy'])\n",
        "print(model8.summary())"
      ],
      "metadata": {
        "colab": {
          "base_uri": "https://localhost:8080/"
        },
        "id": "h0io8ObFGgO3",
        "outputId": "517f03c6-40c2-4138-f5e1-ae3c5d25bd6b"
      },
      "execution_count": 33,
      "outputs": [
        {
          "output_type": "stream",
          "name": "stdout",
          "text": [
            "Model: \"sequential_1\"\n",
            "_________________________________________________________________\n",
            " Layer (type)                Output Shape              Param #   \n",
            "=================================================================\n",
            " embedding_1 (Embedding)     (None, 64, 200)           21617400  \n",
            "                                                                 \n",
            " lstm (LSTM)                 (None, 64, 50)            50200     \n",
            "                                                                 \n",
            " lstm_1 (LSTM)               (None, 50)                20200     \n",
            "                                                                 \n",
            " dense (Dense)               (None, 50)                2550      \n",
            "                                                                 \n",
            " dense_1 (Dense)             (None, 6)                 306       \n",
            "                                                                 \n",
            "=================================================================\n",
            "Total params: 21,690,656\n",
            "Trainable params: 73,256\n",
            "Non-trainable params: 21,617,400\n",
            "_________________________________________________________________\n",
            "None\n"
          ]
        }
      ]
    },
    {
      "cell_type": "code",
      "source": [
        "model8.fit(train_indices,train_y,batch_size=32,epochs=5)"
      ],
      "metadata": {
        "colab": {
          "base_uri": "https://localhost:8080/"
        },
        "id": "B9SZanCCGyjQ",
        "outputId": "30e7a6af-ffb4-473e-c967-5f65f0a16d72"
      },
      "execution_count": 34,
      "outputs": [
        {
          "output_type": "stream",
          "name": "stdout",
          "text": [
            "Epoch 1/5\n",
            "4254/4254 [==============================] - 41s 8ms/step - loss: 1.2052 - accuracy: 0.5488\n",
            "Epoch 2/5\n",
            "4254/4254 [==============================] - 34s 8ms/step - loss: 1.0249 - accuracy: 0.5884\n",
            "Epoch 3/5\n",
            "4254/4254 [==============================] - 34s 8ms/step - loss: 0.9559 - accuracy: 0.6166\n",
            "Epoch 4/5\n",
            "4254/4254 [==============================] - 33s 8ms/step - loss: 0.9209 - accuracy: 0.6303\n",
            "Epoch 5/5\n",
            "4254/4254 [==============================] - 40s 9ms/step - loss: 0.8989 - accuracy: 0.6375\n"
          ]
        },
        {
          "output_type": "execute_result",
          "data": {
            "text/plain": [
              "<keras.callbacks.History at 0x7f400cbad7d0>"
            ]
          },
          "metadata": {},
          "execution_count": 34
        }
      ]
    },
    {
      "cell_type": "code",
      "source": [
        "# Final evaluation of the model\n",
        "scores_test8 = model8.evaluate(test_indices, test_y, verbose=0)\n",
        "print(\"Test Accuracy: %.2f%%\" % (scores_test8[1]*100))\n",
        "\n"
      ],
      "metadata": {
        "colab": {
          "base_uri": "https://localhost:8080/"
        },
        "id": "X6gvWusLHlBg",
        "outputId": "f60bd7f4-2a4a-4fad-fda4-a914d25cdb0f"
      },
      "execution_count": 37,
      "outputs": [
        {
          "output_type": "stream",
          "name": "stdout",
          "text": [
            "Test Accuracy: 64.99%\n"
          ]
        }
      ]
    },
    {
      "cell_type": "code",
      "source": [
        "#####        MODEL 4 : LSTM with 2 layers, 20 neurons\n",
        "model9= Sequential()\n",
        "model9.add(Embedding(input_dim=vocab,output_dim=200,input_length=max_length,weights=[embedding_matrix],trainable=False))\n",
        "#adding a LSTM layer of dim 1--\n",
        "model9.add(LSTM(20, return_sequences=True));\n",
        "model9.add(LSTM(20, return_sequences=False));\n",
        "#adding a dense layer with activation function of relu\n",
        "model9.add(Dense(50, activation='relu'));#best 50,relu\n",
        "#adding the final output activation with activation function of softmax\n",
        "model9.add(Dense(6, activation='softmax'));\n",
        "#model.add(LSTM(32))\n",
        "#model.add(Dense(6, activation='softmax'))\n",
        "model9.compile(loss='sparse_categorical_crossentropy', optimizer='adam', metrics=['accuracy'])\n",
        "print(model9.summary())"
      ],
      "metadata": {
        "colab": {
          "base_uri": "https://localhost:8080/"
        },
        "id": "2DAdS-uQIREB",
        "outputId": "235fce0a-af3d-4c49-f72b-e161f96b3635"
      },
      "execution_count": 39,
      "outputs": [
        {
          "output_type": "stream",
          "name": "stdout",
          "text": [
            "Model: \"sequential_3\"\n",
            "_________________________________________________________________\n",
            " Layer (type)                Output Shape              Param #   \n",
            "=================================================================\n",
            " embedding_3 (Embedding)     (None, 64, 200)           21617400  \n",
            "                                                                 \n",
            " lstm_5 (LSTM)               (None, 64, 20)            17680     \n",
            "                                                                 \n",
            " lstm_6 (LSTM)               (None, 20)                3280      \n",
            "                                                                 \n",
            " dense_2 (Dense)             (None, 50)                1050      \n",
            "                                                                 \n",
            " dense_3 (Dense)             (None, 6)                 306       \n",
            "                                                                 \n",
            "=================================================================\n",
            "Total params: 21,639,716\n",
            "Trainable params: 22,316\n",
            "Non-trainable params: 21,617,400\n",
            "_________________________________________________________________\n",
            "None\n"
          ]
        }
      ]
    },
    {
      "cell_type": "code",
      "source": [
        "model9.fit(train_indices,train_y,batch_size=32,epochs=10)"
      ],
      "metadata": {
        "colab": {
          "base_uri": "https://localhost:8080/"
        },
        "id": "ajfWrUHgIrlk",
        "outputId": "425d1a89-9e0c-4c01-e247-d0e216476921"
      },
      "execution_count": 40,
      "outputs": [
        {
          "output_type": "stream",
          "name": "stdout",
          "text": [
            "Epoch 1/10\n",
            "4254/4254 [==============================] - 36s 8ms/step - loss: 1.1120 - accuracy: 0.5681\n",
            "Epoch 2/10\n",
            "4254/4254 [==============================] - 33s 8ms/step - loss: 0.9876 - accuracy: 0.6011\n",
            "Epoch 3/10\n",
            "4254/4254 [==============================] - 38s 9ms/step - loss: 0.9528 - accuracy: 0.6175\n",
            "Epoch 4/10\n",
            "4254/4254 [==============================] - 32s 8ms/step - loss: 0.9308 - accuracy: 0.6263\n",
            "Epoch 5/10\n",
            "4254/4254 [==============================] - 32s 8ms/step - loss: 0.9173 - accuracy: 0.6303\n",
            "Epoch 6/10\n",
            "4254/4254 [==============================] - 34s 8ms/step - loss: 0.9075 - accuracy: 0.6338\n",
            "Epoch 7/10\n",
            "4254/4254 [==============================] - 36s 8ms/step - loss: 0.8983 - accuracy: 0.6377\n",
            "Epoch 8/10\n",
            "4254/4254 [==============================] - 33s 8ms/step - loss: 0.8924 - accuracy: 0.6404\n",
            "Epoch 9/10\n",
            "4254/4254 [==============================] - 37s 9ms/step - loss: 0.8861 - accuracy: 0.6435\n",
            "Epoch 10/10\n",
            "4254/4254 [==============================] - 33s 8ms/step - loss: 0.8794 - accuracy: 0.6453\n"
          ]
        },
        {
          "output_type": "execute_result",
          "data": {
            "text/plain": [
              "<keras.callbacks.History at 0x7f400c363350>"
            ]
          },
          "metadata": {},
          "execution_count": 40
        }
      ]
    },
    {
      "cell_type": "code",
      "source": [
        "# Final evaluation of the model\n",
        "scores_test9 = model9.evaluate(test_indices, test_y, verbose=0)\n",
        "print(\"Test Accuracy: %.2f%%\" % (scores_test9[1]*100))"
      ],
      "metadata": {
        "colab": {
          "base_uri": "https://localhost:8080/"
        },
        "id": "DY-cpDjvI_3d",
        "outputId": "2c11069a-6d58-4449-d5ae-a895884a7621"
      },
      "execution_count": 41,
      "outputs": [
        {
          "output_type": "stream",
          "name": "stdout",
          "text": [
            "Test Accuracy: 64.92%\n"
          ]
        }
      ]
    },
    {
      "cell_type": "markdown",
      "metadata": {
        "id": "bgEf-u0f0lz5"
      },
      "source": [
        "# Bidirectional LSTM"
      ]
    },
    {
      "cell_type": "code",
      "execution_count": null,
      "metadata": {
        "colab": {
          "base_uri": "https://localhost:8080/"
        },
        "id": "57Zme9a8iXWC",
        "outputId": "c6a2ed58-d40d-410f-8b34-d97053a462f6"
      },
      "outputs": [
        {
          "name": "stdout",
          "output_type": "stream",
          "text": [
            "Model: \"sequential_2\"\n",
            "_________________________________________________________________\n",
            " Layer (type)                Output Shape              Param #   \n",
            "=================================================================\n",
            " embedding_2 (Embedding)     (None, 64, 100)           10808700  \n",
            "                                                                 \n",
            " bidirectional (Bidirectiona  (None, 64, 100)          60400     \n",
            " l)                                                              \n",
            "                                                                 \n",
            " bidirectional_1 (Bidirectio  (None, 100)              60400     \n",
            " nal)                                                            \n",
            "                                                                 \n",
            " dense_4 (Dense)             (None, 50)                5050      \n",
            "                                                                 \n",
            " batch_normalization (BatchN  (None, 50)               200       \n",
            " ormalization)                                                   \n",
            "                                                                 \n",
            " dense_5 (Dense)             (None, 6)                 306       \n",
            "                                                                 \n",
            "=================================================================\n",
            "Total params: 10,935,056\n",
            "Trainable params: 126,256\n",
            "Non-trainable params: 10,808,800\n",
            "_________________________________________________________________\n",
            "None\n"
          ]
        }
      ],
      "source": [
        "#######        MODEL -1 Bidirectional LSTM with 50 neurons\n",
        "from keras.preprocessing import sequence\n",
        "from keras.models import Sequential\n",
        "from keras.layers import Dense, Dropout, Embedding, LSTM, Bidirectional\n",
        "\n",
        "model3= Sequential()\n",
        "model3.add(Embedding(input_dim=vocab,output_dim=100,input_length=max_length,weights=[embedding_matrix],trainable=False))\n",
        "#adding a LSTM layer of dim 1--\n",
        "model3.add(Bidirectional(LSTM(50, return_sequences=True)))\n",
        "model3.add(Bidirectional(LSTM(50, return_sequences=False)))\n",
        "#adding a dense layer with activation function of relu\n",
        "model3.add(Dense(50, activation='relu'))\n",
        "model3.add(BatchNormalization())\n",
        "#adding the final output activation with activation function of softmax\n",
        "model3.add(Dense(6, activation='softmax'))\n",
        "#model.add(LSTM(32))\n",
        "#model.add(Dense(6, activation='softmax'))\n",
        "model3.compile(loss='sparse_categorical_crossentropy', optimizer='adam', metrics=['accuracy'])\n",
        "print(model3.summary())"
      ]
    },
    {
      "cell_type": "code",
      "execution_count": null,
      "metadata": {
        "colab": {
          "base_uri": "https://localhost:8080/"
        },
        "id": "F4nG6jRDkf-7",
        "outputId": "8314d689-597a-4327-8b7c-e44ad7ecc470"
      },
      "outputs": [
        {
          "name": "stdout",
          "output_type": "stream",
          "text": [
            "Epoch 1/5\n",
            "4254/4254 [==============================] - 77s 18ms/step - loss: 0.8419 - accuracy: 0.6613\n",
            "Epoch 2/5\n",
            "4254/4254 [==============================] - 72s 17ms/step - loss: 0.8197 - accuracy: 0.6707\n",
            "Epoch 3/5\n",
            "4254/4254 [==============================] - 71s 17ms/step - loss: 0.7959 - accuracy: 0.6809\n",
            "Epoch 4/5\n",
            "4254/4254 [==============================] - 72s 17ms/step - loss: 0.7736 - accuracy: 0.6899\n",
            "Epoch 5/5\n",
            "4254/4254 [==============================] - 70s 17ms/step - loss: 0.7488 - accuracy: 0.6995\n"
          ]
        },
        {
          "data": {
            "text/plain": [
              "<keras.callbacks.History at 0x7f577f2a5350>"
            ]
          },
          "execution_count": 48,
          "metadata": {},
          "output_type": "execute_result"
        }
      ],
      "source": [
        "model3.fit(train_indices,train_y,batch_size=32,epochs=5)"
      ]
    },
    {
      "cell_type": "code",
      "execution_count": null,
      "metadata": {
        "colab": {
          "base_uri": "https://localhost:8080/"
        },
        "id": "0T-bWO0pJDsM",
        "outputId": "8e64bcf0-aa9f-471e-ea6f-5361dc1307fd"
      },
      "outputs": [
        {
          "name": "stdout",
          "output_type": "stream",
          "text": [
            "Test Accuracy: 64.69%\n"
          ]
        }
      ],
      "source": [
        "# Final evaluation of the model\n",
        "scores_test = model3.evaluate(test_indices, test_y, verbose=0)\n",
        "#scores_val = model3.evaluate(val_indices, val_y, verbose=0)\n",
        "print(\"Test Accuracy: %.2f%%\" % (scores_test[1]*100))\n",
        "#rint(\"Val Accuracy: %.2f%%\" % (scores_val[1]*100))"
      ]
    },
    {
      "cell_type": "code",
      "source": [
        "#######        MODEL -2 Bidirectional LSTM with 200 neurons\n",
        "from keras.preprocessing import sequence\n",
        "from keras.models import Sequential\n",
        "from keras.layers import Dense, Dropout, Embedding, LSTM, Bidirectional\n",
        "\n",
        "model5= Sequential()\n",
        "model5.add(Embedding(input_dim=vocab,output_dim=200,input_length=max_length,weights=[embedding_matrix],trainable=False))\n",
        "#adding a LSTM layer of dim 1--\n",
        "model5.add(Bidirectional(LSTM(200, return_sequences=True)))\n",
        "model5.add(Bidirectional(LSTM(200, return_sequences=False)))\n",
        "#adding a dense layer with activation function of relu\n",
        "model5.add(Dense(50, activation='relu'))\n",
        "model5.add(BatchNormalization())\n",
        "#adding the final output activation with activation function of softmax\n",
        "model5.add(Dense(6, activation='softmax'))\n",
        "model5.compile(loss='sparse_categorical_crossentropy', optimizer='adam', metrics=['accuracy'])\n",
        "print(model5.summary())"
      ],
      "metadata": {
        "colab": {
          "base_uri": "https://localhost:8080/"
        },
        "id": "YiECUkmtJpD5",
        "outputId": "78cea560-c525-47ef-96a4-fe2ade4989ba"
      },
      "execution_count": 43,
      "outputs": [
        {
          "output_type": "stream",
          "name": "stdout",
          "text": [
            "Model: \"sequential_5\"\n",
            "_________________________________________________________________\n",
            " Layer (type)                Output Shape              Param #   \n",
            "=================================================================\n",
            " embedding_5 (Embedding)     (None, 64, 200)           21617400  \n",
            "                                                                 \n",
            " bidirectional (Bidirectiona  (None, 64, 400)          641600    \n",
            " l)                                                              \n",
            "                                                                 \n",
            " bidirectional_1 (Bidirectio  (None, 400)              961600    \n",
            " nal)                                                            \n",
            "                                                                 \n",
            " dense_4 (Dense)             (None, 50)                20050     \n",
            "                                                                 \n",
            " batch_normalization (BatchN  (None, 50)               200       \n",
            " ormalization)                                                   \n",
            "                                                                 \n",
            " dense_5 (Dense)             (None, 6)                 306       \n",
            "                                                                 \n",
            "=================================================================\n",
            "Total params: 23,241,156\n",
            "Trainable params: 1,623,656\n",
            "Non-trainable params: 21,617,500\n",
            "_________________________________________________________________\n",
            "None\n"
          ]
        }
      ]
    },
    {
      "cell_type": "code",
      "source": [
        "model5.fit(train_indices,train_y,batch_size=32,epochs=5)\n",
        "# Final evaluation of the model\n",
        "scores_test5 = model5.evaluate(test_indices, test_y, verbose=0)\n",
        "print(\"Test Accuracy: %.2f%%\" % (scores_test5[1]*100))"
      ],
      "metadata": {
        "colab": {
          "base_uri": "https://localhost:8080/"
        },
        "id": "jmSBYpW_KkEb",
        "outputId": "20d9e506-0e61-458f-dacb-bf044371a9e6"
      },
      "execution_count": 44,
      "outputs": [
        {
          "output_type": "stream",
          "name": "stdout",
          "text": [
            "Epoch 1/5\n",
            "4254/4254 [==============================] - 88s 19ms/step - loss: 1.0355 - accuracy: 0.5907\n",
            "Epoch 2/5\n",
            "4254/4254 [==============================] - 82s 19ms/step - loss: 0.9241 - accuracy: 0.6296\n",
            "Epoch 3/5\n",
            "4254/4254 [==============================] - 82s 19ms/step - loss: 0.8786 - accuracy: 0.6476\n",
            "Epoch 4/5\n",
            "4254/4254 [==============================] - 81s 19ms/step - loss: 0.8324 - accuracy: 0.6653\n",
            "Epoch 5/5\n",
            "4254/4254 [==============================] - 83s 19ms/step - loss: 0.7770 - accuracy: 0.6870\n",
            "Test Accuracy: 65.83%\n"
          ]
        }
      ]
    },
    {
      "cell_type": "code",
      "source": [],
      "metadata": {
        "id": "SU_5PhbvKoHJ"
      },
      "execution_count": null,
      "outputs": []
    }
  ],
  "metadata": {
    "accelerator": "GPU",
    "colab": {
      "collapsed_sections": [],
      "provenance": []
    },
    "kernelspec": {
      "display_name": "Python 3",
      "name": "python3"
    },
    "language_info": {
      "name": "python"
    }
  },
  "nbformat": 4,
  "nbformat_minor": 0
}